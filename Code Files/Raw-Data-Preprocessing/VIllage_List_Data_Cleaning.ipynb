{
 "cells": [
  {
   "cell_type": "code",
   "execution_count": 1,
   "metadata": {},
   "outputs": [],
   "source": [
    "import pandas as pd\n",
    "import pathlib"
   ]
  },
  {
   "cell_type": "code",
   "execution_count": 2,
   "metadata": {},
   "outputs": [
    {
     "name": "stdout",
     "output_type": "stream",
     "text": [
      "/home/inductive-anks/yield-prediction/Yield-Prediction/Code Files/Raw-Data-Preprocessing\n"
     ]
    }
   ],
   "source": [
    "curr_dir = pathlib.Path().resolve()\n",
    "print(curr_dir)"
   ]
  },
  {
   "cell_type": "code",
   "execution_count": 3,
   "metadata": {},
   "outputs": [],
   "source": [
    "home_dir = curr_dir.parent.parent"
   ]
  },
  {
   "cell_type": "code",
   "execution_count": 4,
   "metadata": {},
   "outputs": [],
   "source": [
    "df_village_list = pd.read_csv(home_dir.as_posix() + '/data/Final Data/Final-Merged-Data(2008-2011 to 2017-2020).csv')"
   ]
  },
  {
   "cell_type": "code",
   "execution_count": 5,
   "metadata": {},
   "outputs": [
    {
     "data": {
      "text/plain": [
       "(4113, 7)"
      ]
     },
     "execution_count": 5,
     "metadata": {},
     "output_type": "execute_result"
    }
   ],
   "source": [
    "df_village_list.shape"
   ]
  },
  {
   "cell_type": "code",
   "execution_count": 6,
   "metadata": {},
   "outputs": [
    {
     "data": {
      "text/plain": [
       "3943"
      ]
     },
     "execution_count": 6,
     "metadata": {},
     "output_type": "execute_result"
    }
   ],
   "source": [
    "len(df_village_list['Village Name'].unique())"
   ]
  },
  {
   "cell_type": "code",
   "execution_count": 7,
   "metadata": {},
   "outputs": [
    {
     "data": {
      "text/html": [
       "<div>\n",
       "<style scoped>\n",
       "    .dataframe tbody tr th:only-of-type {\n",
       "        vertical-align: middle;\n",
       "    }\n",
       "\n",
       "    .dataframe tbody tr th {\n",
       "        vertical-align: top;\n",
       "    }\n",
       "\n",
       "    .dataframe thead th {\n",
       "        text-align: right;\n",
       "    }\n",
       "</style>\n",
       "<table border=\"1\" class=\"dataframe\">\n",
       "  <thead>\n",
       "    <tr style=\"text-align: right;\">\n",
       "      <th></th>\n",
       "      <th>Zone No</th>\n",
       "      <th>Tehsil Code</th>\n",
       "      <th>Tehsil Name</th>\n",
       "      <th>District Name</th>\n",
       "      <th>Village Name</th>\n",
       "      <th>State Name</th>\n",
       "      <th>Year</th>\n",
       "    </tr>\n",
       "  </thead>\n",
       "  <tbody>\n",
       "    <tr>\n",
       "      <th>0</th>\n",
       "      <td>IV</td>\n",
       "      <td>40</td>\n",
       "      <td>Puduru</td>\n",
       "      <td>Ranga Reddy</td>\n",
       "      <td>pedhaumethala</td>\n",
       "      <td>Andhra Pradesh</td>\n",
       "      <td>2008-2011</td>\n",
       "    </tr>\n",
       "    <tr>\n",
       "      <th>1</th>\n",
       "      <td>V</td>\n",
       "      <td>49</td>\n",
       "      <td>Sadasivpet</td>\n",
       "      <td>Medak</td>\n",
       "      <td>nandi kandi</td>\n",
       "      <td>Andhra Pradesh</td>\n",
       "      <td>2008-2011</td>\n",
       "    </tr>\n",
       "    <tr>\n",
       "      <th>2</th>\n",
       "      <td>V</td>\n",
       "      <td>50</td>\n",
       "      <td>Zaiheerabad</td>\n",
       "      <td>Medak</td>\n",
       "      <td>huggelly</td>\n",
       "      <td>Andhra Pradesh</td>\n",
       "      <td>2008-2011</td>\n",
       "    </tr>\n",
       "    <tr>\n",
       "      <th>3</th>\n",
       "      <td>I</td>\n",
       "      <td>1</td>\n",
       "      <td>Etheria</td>\n",
       "      <td>Srikakulam</td>\n",
       "      <td>ponnada</td>\n",
       "      <td>Andhra Pradesh</td>\n",
       "      <td>2008-2011</td>\n",
       "    </tr>\n",
       "    <tr>\n",
       "      <th>4</th>\n",
       "      <td>I</td>\n",
       "      <td>2</td>\n",
       "      <td>Tekkali</td>\n",
       "      <td>Srikakulam</td>\n",
       "      <td>tirlangi</td>\n",
       "      <td>Andhra Pradesh</td>\n",
       "      <td>2008-2011</td>\n",
       "    </tr>\n",
       "  </tbody>\n",
       "</table>\n",
       "</div>"
      ],
      "text/plain": [
       "  Zone No Tehsil Code  Tehsil Name District Name   Village Name  \\\n",
       "0      IV          40       Puduru   Ranga Reddy  pedhaumethala   \n",
       "1       V          49   Sadasivpet         Medak    nandi kandi   \n",
       "2       V          50  Zaiheerabad         Medak       huggelly   \n",
       "3       I           1      Etheria    Srikakulam        ponnada   \n",
       "4       I           2      Tekkali    Srikakulam       tirlangi   \n",
       "\n",
       "       State Name       Year  \n",
       "0  Andhra Pradesh  2008-2011  \n",
       "1  Andhra Pradesh  2008-2011  \n",
       "2  Andhra Pradesh  2008-2011  \n",
       "3  Andhra Pradesh  2008-2011  \n",
       "4  Andhra Pradesh  2008-2011  "
      ]
     },
     "execution_count": 7,
     "metadata": {},
     "output_type": "execute_result"
    }
   ],
   "source": [
    "df_village_list.head()"
   ]
  },
  {
   "cell_type": "code",
   "execution_count": 8,
   "metadata": {},
   "outputs": [],
   "source": [
    "def remove_leading_numbers(village_name):\n",
    "    parts = village_name.split('. ', 1)\n",
    "    if len(parts) == 2 and parts[0].isdigit():\n",
    "        return parts[1]\n",
    "    return village_name\n",
    "\n",
    "\n",
    "df_village_list['Village Name'] = df_village_list['Village Name'].apply(remove_leading_numbers)"
   ]
  },
  {
   "cell_type": "code",
   "execution_count": 9,
   "metadata": {},
   "outputs": [],
   "source": [
    "def remove_text_before_dot(village_name):\n",
    "    return village_name.split('.', 1)[-1] \n",
    "\n",
    "df_village_list['Village Name'] = df_village_list['Village Name'].apply(remove_text_before_dot)"
   ]
  },
  {
   "cell_type": "code",
   "execution_count": 10,
   "metadata": {},
   "outputs": [],
   "source": [
    "df_village_list['Village Name'] = df_village_list['Village Name'].str.replace(r'\\(.*?\\)', '', regex=True).str.strip()"
   ]
  },
  {
   "cell_type": "code",
   "execution_count": 11,
   "metadata": {},
   "outputs": [],
   "source": [
    "df_village_list['Village Name'] = df_village_list['Village Name'].str.strip()"
   ]
  },
  {
   "cell_type": "code",
   "execution_count": 12,
   "metadata": {},
   "outputs": [
    {
     "data": {
      "text/plain": [
       "array(['Andhra Pradesh', 'Assam', 'Bihar', 'Chhattisgarh', 'Gujrat',\n",
       "       'Haryana', 'Jharkhand', 'Kerala', 'Maharastra', 'Madhya Pradesh',\n",
       "       'Orissa', 'Punjab', 'Rajasthan', 'Tamil Nadu', 'West Bengal',\n",
       "       'Uttar Pradesh', 'Himachal Pradesh', 'Karnataka', 'Gujarat',\n",
       "       'Odisha', 'Chattisgarh', 'Maharashtra', 'Uttarakhand', 'Haryana ',\n",
       "       'Andhra Pradesh & Telangana '], dtype=object)"
      ]
     },
     "execution_count": 12,
     "metadata": {},
     "output_type": "execute_result"
    }
   ],
   "source": [
    "df_village_list['State Name'].unique()"
   ]
  },
  {
   "cell_type": "code",
   "execution_count": 13,
   "metadata": {},
   "outputs": [],
   "source": [
    "df_village_list.to_csv(home_dir.as_posix() + '/data/Final Data/Final-Merged-Data(2008-2011 to 2017-2020).csv', index=False)"
   ]
  },
  {
   "cell_type": "markdown",
   "metadata": {},
   "source": [
    "###"
   ]
  },
  {
   "cell_type": "code",
   "execution_count": null,
   "metadata": {},
   "outputs": [],
   "source": []
  }
 ],
 "metadata": {
  "kernelspec": {
   "display_name": "Python 3",
   "language": "python",
   "name": "python3"
  },
  "language_info": {
   "codemirror_mode": {
    "name": "ipython",
    "version": 3
   },
   "file_extension": ".py",
   "mimetype": "text/x-python",
   "name": "python",
   "nbconvert_exporter": "python",
   "pygments_lexer": "ipython3",
   "version": "3.10.12"
  }
 },
 "nbformat": 4,
 "nbformat_minor": 2
}
