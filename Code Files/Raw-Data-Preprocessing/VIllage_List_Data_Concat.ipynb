{
 "cells": [
  {
   "cell_type": "code",
   "execution_count": 2,
   "metadata": {},
   "outputs": [],
   "source": [
    "import pandas as pd\n",
    "import pathlib"
   ]
  },
  {
   "cell_type": "code",
   "execution_count": 3,
   "metadata": {},
   "outputs": [
    {
     "name": "stdout",
     "output_type": "stream",
     "text": [
      "/home/inductive-anks/yield-prediction/Yield-Prediction/Code Files/Raw-Data-Preprocessing\n"
     ]
    }
   ],
   "source": [
    "curr_dir = pathlib.Path().resolve()\n",
    "print(curr_dir)"
   ]
  },
  {
   "cell_type": "code",
   "execution_count": 4,
   "metadata": {},
   "outputs": [],
   "source": [
    "home_dir = curr_dir.parent.parent"
   ]
  },
  {
   "cell_type": "code",
   "execution_count": 5,
   "metadata": {},
   "outputs": [],
   "source": [
    "df_village_2008 = pd.read_csv(home_dir.as_posix() + '/data/Final Data/2008-2011-clean.csv')"
   ]
  },
  {
   "cell_type": "code",
   "execution_count": 6,
   "metadata": {},
   "outputs": [],
   "source": [
    "df_village_2011 = pd.read_csv(home_dir.as_posix() + '/data/Final Data/2011-2014-clean.csv')"
   ]
  },
  {
   "cell_type": "code",
   "execution_count": 7,
   "metadata": {},
   "outputs": [],
   "source": [
    "df_village_2014 = pd.read_csv(home_dir.as_posix() + '/data/Final Data/2014-2017-clean.csv')"
   ]
  },
  {
   "cell_type": "code",
   "execution_count": 8,
   "metadata": {},
   "outputs": [],
   "source": [
    "df_village_2017 = pd.read_csv(home_dir.as_posix() + '/data/Final Data/2017-2020-clean.csv')"
   ]
  },
  {
   "cell_type": "code",
   "execution_count": 9,
   "metadata": {},
   "outputs": [
    {
     "data": {
      "text/html": [
       "<div>\n",
       "<style scoped>\n",
       "    .dataframe tbody tr th:only-of-type {\n",
       "        vertical-align: middle;\n",
       "    }\n",
       "\n",
       "    .dataframe tbody tr th {\n",
       "        vertical-align: top;\n",
       "    }\n",
       "\n",
       "    .dataframe thead th {\n",
       "        text-align: right;\n",
       "    }\n",
       "</style>\n",
       "<table border=\"1\" class=\"dataframe\">\n",
       "  <thead>\n",
       "    <tr style=\"text-align: right;\">\n",
       "      <th></th>\n",
       "      <th>Zone No</th>\n",
       "      <th>Tehsil Code</th>\n",
       "      <th>Tehsil Name</th>\n",
       "      <th>District Name</th>\n",
       "      <th>Village Name</th>\n",
       "      <th>State Name</th>\n",
       "      <th>Year</th>\n",
       "    </tr>\n",
       "  </thead>\n",
       "  <tbody>\n",
       "    <tr>\n",
       "      <th>0</th>\n",
       "      <td>IV</td>\n",
       "      <td>40</td>\n",
       "      <td>Puduru</td>\n",
       "      <td>Ranga Reddy</td>\n",
       "      <td>PedhaUmethala</td>\n",
       "      <td>Andhra Pradesh</td>\n",
       "      <td>2008-2011</td>\n",
       "    </tr>\n",
       "    <tr>\n",
       "      <th>1</th>\n",
       "      <td>V</td>\n",
       "      <td>49</td>\n",
       "      <td>Sadasivpet</td>\n",
       "      <td>Medak</td>\n",
       "      <td>Nandi Kandi</td>\n",
       "      <td>Andhra Pradesh</td>\n",
       "      <td>2008-2011</td>\n",
       "    </tr>\n",
       "  </tbody>\n",
       "</table>\n",
       "</div>"
      ],
      "text/plain": [
       "  Zone No Tehsil Code Tehsil Name District Name   Village Name  \\\n",
       "0      IV          40      Puduru   Ranga Reddy  PedhaUmethala   \n",
       "1       V          49  Sadasivpet         Medak    Nandi Kandi   \n",
       "\n",
       "       State Name       Year  \n",
       "0  Andhra Pradesh  2008-2011  \n",
       "1  Andhra Pradesh  2008-2011  "
      ]
     },
     "execution_count": 9,
     "metadata": {},
     "output_type": "execute_result"
    }
   ],
   "source": [
    "df_village_2008.head(2)"
   ]
  },
  {
   "cell_type": "code",
   "execution_count": 10,
   "metadata": {},
   "outputs": [
    {
     "data": {
      "text/html": [
       "<div>\n",
       "<style scoped>\n",
       "    .dataframe tbody tr th:only-of-type {\n",
       "        vertical-align: middle;\n",
       "    }\n",
       "\n",
       "    .dataframe tbody tr th {\n",
       "        vertical-align: top;\n",
       "    }\n",
       "\n",
       "    .dataframe thead th {\n",
       "        text-align: right;\n",
       "    }\n",
       "</style>\n",
       "<table border=\"1\" class=\"dataframe\">\n",
       "  <thead>\n",
       "    <tr style=\"text-align: right;\">\n",
       "      <th></th>\n",
       "      <th>Zone No</th>\n",
       "      <th>District Name</th>\n",
       "      <th>Tehsil Code</th>\n",
       "      <th>Tehsil Name</th>\n",
       "      <th>Village Name</th>\n",
       "      <th>State Name</th>\n",
       "      <th>Year</th>\n",
       "    </tr>\n",
       "  </thead>\n",
       "  <tbody>\n",
       "    <tr>\n",
       "      <th>0</th>\n",
       "      <td>Zone -I</td>\n",
       "      <td>Srikakulam</td>\n",
       "      <td>1</td>\n",
       "      <td>Vajrapukothur</td>\n",
       "      <td>Patha Tekkali</td>\n",
       "      <td>Andhra Pradesh</td>\n",
       "      <td>2011-2014</td>\n",
       "    </tr>\n",
       "    <tr>\n",
       "      <th>1</th>\n",
       "      <td>Zone -I</td>\n",
       "      <td>Srikakulam</td>\n",
       "      <td>2</td>\n",
       "      <td>Amdalavasa</td>\n",
       "      <td>Dusi</td>\n",
       "      <td>Andhra Pradesh</td>\n",
       "      <td>2011-2014</td>\n",
       "    </tr>\n",
       "  </tbody>\n",
       "</table>\n",
       "</div>"
      ],
      "text/plain": [
       "   Zone No District Name Tehsil Code    Tehsil Name   Village Name  \\\n",
       "0  Zone -I    Srikakulam           1  Vajrapukothur  Patha Tekkali   \n",
       "1  Zone -I    Srikakulam           2     Amdalavasa           Dusi   \n",
       "\n",
       "       State Name       Year  \n",
       "0  Andhra Pradesh  2011-2014  \n",
       "1  Andhra Pradesh  2011-2014  "
      ]
     },
     "execution_count": 10,
     "metadata": {},
     "output_type": "execute_result"
    }
   ],
   "source": [
    "df_village_2011.head(2)"
   ]
  },
  {
   "cell_type": "code",
   "execution_count": 11,
   "metadata": {},
   "outputs": [
    {
     "data": {
      "text/html": [
       "<div>\n",
       "<style scoped>\n",
       "    .dataframe tbody tr th:only-of-type {\n",
       "        vertical-align: middle;\n",
       "    }\n",
       "\n",
       "    .dataframe tbody tr th {\n",
       "        vertical-align: top;\n",
       "    }\n",
       "\n",
       "    .dataframe thead th {\n",
       "        text-align: right;\n",
       "    }\n",
       "</style>\n",
       "<table border=\"1\" class=\"dataframe\">\n",
       "  <thead>\n",
       "    <tr style=\"text-align: right;\">\n",
       "      <th></th>\n",
       "      <th>Zone Number</th>\n",
       "      <th>District Name</th>\n",
       "      <th>Tehsil Code</th>\n",
       "      <th>Tehsil Name</th>\n",
       "      <th>Vilage</th>\n",
       "      <th>State</th>\n",
       "      <th>Block</th>\n",
       "      <th>Unnamed: 7</th>\n",
       "    </tr>\n",
       "  </thead>\n",
       "  <tbody>\n",
       "    <tr>\n",
       "      <th>0</th>\n",
       "      <td>I</td>\n",
       "      <td>Srikakulam</td>\n",
       "      <td>1.0</td>\n",
       "      <td>Pathapatnam</td>\n",
       "      <td>R.L. Puram</td>\n",
       "      <td>Andhra Pradesh</td>\n",
       "      <td>2014-2017</td>\n",
       "      <td>NaN</td>\n",
       "    </tr>\n",
       "    <tr>\n",
       "      <th>1</th>\n",
       "      <td>I</td>\n",
       "      <td>Srikakulam</td>\n",
       "      <td>2.0</td>\n",
       "      <td>Hiramandalam</td>\n",
       "      <td>Tampa</td>\n",
       "      <td>Andhra Pradesh</td>\n",
       "      <td>2014-2017</td>\n",
       "      <td>NaN</td>\n",
       "    </tr>\n",
       "  </tbody>\n",
       "</table>\n",
       "</div>"
      ],
      "text/plain": [
       "  Zone Number District Name  Tehsil Code      Tehsil Name     Vilage   \\\n",
       "0           I   Srikakulam            1.0   Pathapatnam    R.L. Puram   \n",
       "1           I   Srikakulam            2.0  Hiramandalam         Tampa   \n",
       "\n",
       "            State      Block  Unnamed: 7  \n",
       "0  Andhra Pradesh  2014-2017         NaN  \n",
       "1  Andhra Pradesh  2014-2017         NaN  "
      ]
     },
     "execution_count": 11,
     "metadata": {},
     "output_type": "execute_result"
    }
   ],
   "source": [
    "df_village_2014.head(2)"
   ]
  },
  {
   "cell_type": "code",
   "execution_count": 12,
   "metadata": {},
   "outputs": [
    {
     "data": {
      "text/html": [
       "<div>\n",
       "<style scoped>\n",
       "    .dataframe tbody tr th:only-of-type {\n",
       "        vertical-align: middle;\n",
       "    }\n",
       "\n",
       "    .dataframe tbody tr th {\n",
       "        vertical-align: top;\n",
       "    }\n",
       "\n",
       "    .dataframe thead th {\n",
       "        text-align: right;\n",
       "    }\n",
       "</style>\n",
       "<table border=\"1\" class=\"dataframe\">\n",
       "  <thead>\n",
       "    <tr style=\"text-align: right;\">\n",
       "      <th></th>\n",
       "      <th>Tehsil Code</th>\n",
       "      <th>Zone Number</th>\n",
       "      <th>District Name</th>\n",
       "      <th>Tehsil Name</th>\n",
       "      <th>Vilage</th>\n",
       "      <th>State</th>\n",
       "      <th>Block</th>\n",
       "      <th>District Code</th>\n",
       "    </tr>\n",
       "  </thead>\n",
       "  <tbody>\n",
       "    <tr>\n",
       "      <th>0</th>\n",
       "      <td>1</td>\n",
       "      <td>II-Terai</td>\n",
       "      <td>COOCHBEHAR</td>\n",
       "      <td>DINHATA-I</td>\n",
       "      <td>Bhoram Payasthi</td>\n",
       "      <td>West Bengal</td>\n",
       "      <td>2017-2020</td>\n",
       "      <td>NaN</td>\n",
       "    </tr>\n",
       "    <tr>\n",
       "      <th>1</th>\n",
       "      <td>2</td>\n",
       "      <td>II-Terai</td>\n",
       "      <td>JALPAIGURI</td>\n",
       "      <td>NAGRAKATA</td>\n",
       "      <td>Dhouda Simla  (N)</td>\n",
       "      <td>West Bengal</td>\n",
       "      <td>2017-2020</td>\n",
       "      <td>NaN</td>\n",
       "    </tr>\n",
       "  </tbody>\n",
       "</table>\n",
       "</div>"
      ],
      "text/plain": [
       "  Tehsil Code Zone Number District Name Tehsil Name            Vilage   \\\n",
       "0           1    II-Terai    COOCHBEHAR   DINHATA-I    Bhoram Payasthi   \n",
       "1           2    II-Terai    JALPAIGURI   NAGRAKATA  Dhouda Simla  (N)   \n",
       "\n",
       "         State      Block  District Code  \n",
       "0  West Bengal  2017-2020            NaN  \n",
       "1  West Bengal  2017-2020            NaN  "
      ]
     },
     "execution_count": 12,
     "metadata": {},
     "output_type": "execute_result"
    }
   ],
   "source": [
    "df_village_2017.head(2)"
   ]
  },
  {
   "cell_type": "code",
   "execution_count": 13,
   "metadata": {},
   "outputs": [],
   "source": [
    "# df_village_2008\n",
    "df_village_2008 = df_village_2008.rename(columns={'Zone No': 'Zone', 'State Name': 'State'})\n",
    "df_village_2008 = df_village_2008[['Zone', 'District Name', 'Tehsil Code', 'Tehsil Name', 'Village Name', 'State', 'Year']]"
   ]
  },
  {
   "cell_type": "code",
   "execution_count": 14,
   "metadata": {},
   "outputs": [],
   "source": [
    "df_village_2011 = df_village_2011.rename(columns={'Zone No': 'Zone', 'State Name': 'State'})\n",
    "df_village_2011 = df_village_2011[['Zone', 'District Name', 'Tehsil Code', 'Tehsil Name', 'Village Name', 'State', 'Year']]"
   ]
  },
  {
   "cell_type": "code",
   "execution_count": 15,
   "metadata": {},
   "outputs": [],
   "source": [
    "df_village_2014.drop(columns=['Unnamed: 7'], inplace=True)"
   ]
  },
  {
   "cell_type": "code",
   "execution_count": 16,
   "metadata": {},
   "outputs": [],
   "source": [
    "df_village_2014 = df_village_2014.rename(columns={'Zone Number': 'Zone', 'State': 'State', 'Vilage ': 'Village Name', 'Tehsil Code ': 'Tehsil Code', 'Block': 'Year'})\n",
    "df_village_2014 = df_village_2014[['Zone', 'District Name', 'Tehsil Code', 'Tehsil Name', 'Village Name', 'State', 'Year']]"
   ]
  },
  {
   "cell_type": "code",
   "execution_count": 17,
   "metadata": {},
   "outputs": [],
   "source": [
    "df_village_2017 = df_village_2017.rename(columns={'Zone Number': 'Zone', 'State': 'State', 'Vilage ': 'Village Name', 'Block': 'Year'})\n",
    "df_village_2017 = df_village_2017[['Zone', 'District Name', 'Tehsil Code', 'Tehsil Name', 'Village Name', 'State', 'Year']]"
   ]
  },
  {
   "cell_type": "code",
   "execution_count": 18,
   "metadata": {},
   "outputs": [],
   "source": [
    "df_villages = pd.concat([df_village_2008, df_village_2011, df_village_2014, df_village_2017], ignore_index=True)"
   ]
  },
  {
   "cell_type": "code",
   "execution_count": 19,
   "metadata": {},
   "outputs": [
    {
     "data": {
      "text/plain": [
       "Zone             11\n",
       "District Name    10\n",
       "Tehsil Code       8\n",
       "Tehsil Name      10\n",
       "Village Name     12\n",
       "State             0\n",
       "Year              0\n",
       "dtype: int64"
      ]
     },
     "execution_count": 19,
     "metadata": {},
     "output_type": "execute_result"
    }
   ],
   "source": [
    "df_villages.isna().sum()"
   ]
  },
  {
   "cell_type": "code",
   "execution_count": 20,
   "metadata": {},
   "outputs": [],
   "source": [
    "df_villages_cleaned = df_villages.dropna()"
   ]
  },
  {
   "cell_type": "code",
   "execution_count": 21,
   "metadata": {},
   "outputs": [
    {
     "data": {
      "text/plain": [
       "Zone             0\n",
       "District Name    0\n",
       "Tehsil Code      0\n",
       "Tehsil Name      0\n",
       "Village Name     0\n",
       "State            0\n",
       "Year             0\n",
       "dtype: int64"
      ]
     },
     "execution_count": 21,
     "metadata": {},
     "output_type": "execute_result"
    }
   ],
   "source": [
    "df_villages_cleaned.isna().sum()"
   ]
  },
  {
   "cell_type": "code",
   "execution_count": 22,
   "metadata": {},
   "outputs": [
    {
     "name": "stdout",
     "output_type": "stream",
     "text": [
      "\n",
      "Shape of the dataframe before and after dropping rows:\n",
      "Before dropping NaN rows: (4234, 7)\n",
      "After dropping NaN rows: (4209, 7)\n"
     ]
    }
   ],
   "source": [
    "print(\"\\nShape of the dataframe before and after dropping rows:\")\n",
    "print(\"Before dropping NaN rows:\", df_villages.shape)\n",
    "print(\"After dropping NaN rows:\", df_villages_cleaned.shape)"
   ]
  },
  {
   "cell_type": "code",
   "execution_count": 23,
   "metadata": {},
   "outputs": [
    {
     "name": "stderr",
     "output_type": "stream",
     "text": [
      "/tmp/ipykernel_4940/462529041.py:1: FutureWarning: DataFrame.applymap has been deprecated. Use DataFrame.map instead.\n",
      "  df_villages_cleaned = df_villages_cleaned.applymap(lambda x: x.lower() if isinstance(x, str) else x)\n"
     ]
    }
   ],
   "source": [
    "df_villages_cleaned = df_villages_cleaned.applymap(lambda x: x.lower() if isinstance(x, str) else x)"
   ]
  },
  {
   "cell_type": "code",
   "execution_count": 24,
   "metadata": {},
   "outputs": [
    {
     "data": {
      "text/plain": [
       "Year\n",
       "2014-2017    1100\n",
       "2017-2020    1058\n",
       "2011-2014     996\n",
       "2008-2011     666\n",
       "2008-2009     389\n",
       "Name: count, dtype: int64"
      ]
     },
     "execution_count": 24,
     "metadata": {},
     "output_type": "execute_result"
    }
   ],
   "source": [
    "df_villages_cleaned['Year'].value_counts()"
   ]
  },
  {
   "cell_type": "code",
   "execution_count": 25,
   "metadata": {},
   "outputs": [],
   "source": [
    "df_villages_cleaned['Year'] = df_villages_cleaned['Year'].replace('2008-2009', '2008-2011')"
   ]
  },
  {
   "cell_type": "code",
   "execution_count": 26,
   "metadata": {},
   "outputs": [],
   "source": [
    "\n",
    "subset = df_villages_cleaned[(df_villages_cleaned['State'] == 'karnataka') & (df_villages_cleaned['Year'] == '2008-2011')]\n",
    "\n",
    "df_villages_cleaned.loc[(df_villages_cleaned['State'] == 'karnataka') & (df_villages_cleaned['Year'] == '2008-2011'), ['Tehsil Name', 'Tehsil Code']] = \\\n",
    "df_villages_cleaned.loc[(df_villages_cleaned['State'] == 'karnataka') & (df_villages_cleaned['Year'] == '2008-2011'), ['Tehsil Code', 'Tehsil Name']].values"
   ]
  },
  {
   "cell_type": "code",
   "execution_count": 27,
   "metadata": {},
   "outputs": [
    {
     "data": {
      "text/html": [
       "<div>\n",
       "<style scoped>\n",
       "    .dataframe tbody tr th:only-of-type {\n",
       "        vertical-align: middle;\n",
       "    }\n",
       "\n",
       "    .dataframe tbody tr th {\n",
       "        vertical-align: top;\n",
       "    }\n",
       "\n",
       "    .dataframe thead th {\n",
       "        text-align: right;\n",
       "    }\n",
       "</style>\n",
       "<table border=\"1\" class=\"dataframe\">\n",
       "  <thead>\n",
       "    <tr style=\"text-align: right;\">\n",
       "      <th></th>\n",
       "      <th>State</th>\n",
       "      <th>Zone</th>\n",
       "      <th>District Name</th>\n",
       "      <th>Tehsil Code</th>\n",
       "      <th>Tehsil Name</th>\n",
       "      <th>Village Name</th>\n",
       "      <th>Year</th>\n",
       "    </tr>\n",
       "  </thead>\n",
       "  <tbody>\n",
       "    <tr>\n",
       "      <th>0</th>\n",
       "      <td>andhra pradesh</td>\n",
       "      <td>iv</td>\n",
       "      <td>ranga reddy</td>\n",
       "      <td>40</td>\n",
       "      <td>puduru</td>\n",
       "      <td>pedhaumethala</td>\n",
       "      <td>2008-2011</td>\n",
       "    </tr>\n",
       "    <tr>\n",
       "      <th>1</th>\n",
       "      <td>andhra pradesh</td>\n",
       "      <td>v</td>\n",
       "      <td>medak</td>\n",
       "      <td>49</td>\n",
       "      <td>sadasivpet</td>\n",
       "      <td>nandi kandi</td>\n",
       "      <td>2008-2011</td>\n",
       "    </tr>\n",
       "    <tr>\n",
       "      <th>2</th>\n",
       "      <td>andhra pradesh</td>\n",
       "      <td>v</td>\n",
       "      <td>medak</td>\n",
       "      <td>50</td>\n",
       "      <td>zaiheerabad</td>\n",
       "      <td>huggelly</td>\n",
       "      <td>2008-2011</td>\n",
       "    </tr>\n",
       "    <tr>\n",
       "      <th>3</th>\n",
       "      <td>andhra pradesh</td>\n",
       "      <td>i</td>\n",
       "      <td>srikakulam</td>\n",
       "      <td>1</td>\n",
       "      <td>etheria</td>\n",
       "      <td>ponnada</td>\n",
       "      <td>2008-2011</td>\n",
       "    </tr>\n",
       "    <tr>\n",
       "      <th>4</th>\n",
       "      <td>andhra pradesh</td>\n",
       "      <td>i</td>\n",
       "      <td>srikakulam</td>\n",
       "      <td>2</td>\n",
       "      <td>tekkali</td>\n",
       "      <td>tirlangi</td>\n",
       "      <td>2008-2011</td>\n",
       "    </tr>\n",
       "  </tbody>\n",
       "</table>\n",
       "</div>"
      ],
      "text/plain": [
       "            State Zone District Name Tehsil Code  Tehsil Name   Village Name  \\\n",
       "0  andhra pradesh   iv   ranga reddy          40       puduru  pedhaumethala   \n",
       "1  andhra pradesh    v         medak          49   sadasivpet    nandi kandi   \n",
       "2  andhra pradesh    v         medak          50  zaiheerabad       huggelly   \n",
       "3  andhra pradesh    i    srikakulam           1      etheria        ponnada   \n",
       "4  andhra pradesh    i    srikakulam           2      tekkali       tirlangi   \n",
       "\n",
       "        Year  \n",
       "0  2008-2011  \n",
       "1  2008-2011  \n",
       "2  2008-2011  \n",
       "3  2008-2011  \n",
       "4  2008-2011  "
      ]
     },
     "execution_count": 27,
     "metadata": {},
     "output_type": "execute_result"
    }
   ],
   "source": [
    "# Define the correct order of columns starting from 'State' to 'Village Name'\n",
    "correct_order = [\n",
    "    'State', \n",
    "    'Zone', \n",
    "    'District Name', \n",
    "    'Tehsil Code', \n",
    "    'Tehsil Name', \n",
    "    'Village Name', \n",
    "    'Year'\n",
    "]\n",
    "\n",
    "df_villages_cleaned = df_villages_cleaned[correct_order]\n",
    "\n",
    "df_villages_cleaned.head()\n"
   ]
  },
  {
   "cell_type": "code",
   "execution_count": 28,
   "metadata": {},
   "outputs": [
    {
     "name": "stderr",
     "output_type": "stream",
     "text": [
      "/tmp/ipykernel_4940/3381886373.py:2: FutureWarning: DataFrame.applymap has been deprecated. Use DataFrame.map instead.\n",
      "  df_villages_cleaned = df_villages_cleaned.applymap(lambda x: x.strip() if isinstance(x, str) else x)\n",
      "/tmp/ipykernel_4940/3381886373.py:3: FutureWarning: DataFrame.applymap has been deprecated. Use DataFrame.map instead.\n",
      "  df_villages_cleaned = df_villages_cleaned.applymap(lambda x: ' '.join(x.split()) if isinstance(x, str) else x)\n"
     ]
    }
   ],
   "source": [
    "# Remove leading, trailing, and extra spaces within all string columns\n",
    "df_villages_cleaned = df_villages_cleaned.applymap(lambda x: x.strip() if isinstance(x, str) else x)\n",
    "df_villages_cleaned = df_villages_cleaned.applymap(lambda x: ' '.join(x.split()) if isinstance(x, str) else x)"
   ]
  },
  {
   "cell_type": "code",
   "execution_count": 29,
   "metadata": {},
   "outputs": [],
   "source": [
    "state_corrections = {\n",
    "    'andhra pradesh & telangana': 'andhra pradesh',\n",
    "    'jharkand': 'jharkhand',\n",
    "    'chattisgarh': 'chhattisgarh',\n",
    "    'odisha': 'orissa',\n",
    "    'gujrat': 'gujarat', \n",
    "    'maharashtra': 'maharastra'\n",
    "}\n",
    "\n",
    "df_villages_cleaned['State'] = df_villages_cleaned['State'].replace(state_corrections)"
   ]
  },
  {
   "cell_type": "code",
   "execution_count": 30,
   "metadata": {},
   "outputs": [
    {
     "data": {
      "text/plain": [
       "19"
      ]
     },
     "execution_count": 30,
     "metadata": {},
     "output_type": "execute_result"
    }
   ],
   "source": [
    "df_villages_cleaned['State'].nunique()"
   ]
  },
  {
   "cell_type": "code",
   "execution_count": 31,
   "metadata": {},
   "outputs": [],
   "source": [
    "import re\n",
    "\n",
    "df_villages_cleaned['Village Name'] = df_villages_cleaned['Village Name'].str.replace(r'^\\s*\\d+\\s*', '', regex=True)"
   ]
  },
  {
   "cell_type": "code",
   "execution_count": 32,
   "metadata": {},
   "outputs": [],
   "source": [
    "\n",
    "df_villages_cleaned['Village Name'] = df_villages_cleaned['Village Name'].str.replace(r'^[\\s\\d.]+', '', regex=True)\n"
   ]
  },
  {
   "cell_type": "code",
   "execution_count": null,
   "metadata": {},
   "outputs": [],
   "source": [
    "df_villages_cleaned.to_csv(home_dir.as_posix() + '/data/Final Data/Final-Merged-Data(2008-2011 to 2017-2020).csv', index=False)"
   ]
  },
  {
   "cell_type": "code",
   "execution_count": null,
   "metadata": {},
   "outputs": [],
   "source": [
    "grouped = df_villages_cleaned.groupby(['State', 'Year'])['Tehsil Name'].nunique().reset_index()"
   ]
  },
  {
   "cell_type": "markdown",
   "metadata": {},
   "source": [
    "###"
   ]
  },
  {
   "cell_type": "code",
   "execution_count": null,
   "metadata": {},
   "outputs": [],
   "source": []
  }
 ],
 "metadata": {
  "kernelspec": {
   "display_name": "Python 3",
   "language": "python",
   "name": "python3"
  },
  "language_info": {
   "codemirror_mode": {
    "name": "ipython",
    "version": 3
   },
   "file_extension": ".py",
   "mimetype": "text/x-python",
   "name": "python",
   "nbconvert_exporter": "python",
   "pygments_lexer": "ipython3",
   "version": "3.10.12"
  }
 },
 "nbformat": 4,
 "nbformat_minor": 2
}
