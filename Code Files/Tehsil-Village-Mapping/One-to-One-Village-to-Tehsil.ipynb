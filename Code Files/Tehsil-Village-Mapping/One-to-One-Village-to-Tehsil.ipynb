{
 "cells": [
  {
   "cell_type": "code",
   "execution_count": 1,
   "metadata": {},
   "outputs": [],
   "source": [
    "import pandas as pd\n",
    "import pathlib"
   ]
  },
  {
   "cell_type": "code",
   "execution_count": 2,
   "metadata": {},
   "outputs": [
    {
     "name": "stdout",
     "output_type": "stream",
     "text": [
      "/home/inductive-anks/yield-prediction/Yield-Prediction/Code Files/Tehsil-Village-Mapping\n"
     ]
    }
   ],
   "source": [
    "curr_dir = pathlib.Path().resolve()\n",
    "print(curr_dir)"
   ]
  },
  {
   "cell_type": "code",
   "execution_count": 3,
   "metadata": {},
   "outputs": [],
   "source": [
    "home_dir = curr_dir.parent.parent"
   ]
  },
  {
   "cell_type": "code",
   "execution_count": 2,
   "metadata": {},
   "outputs": [],
   "source": [
    "village_list_df = pd.read_csv(home_dir.as_posix() + '/data/Final Data/Final-Merged-Data(2008-2011 to 2017-2020).csv')"
   ]
  },
  {
   "cell_type": "markdown",
   "metadata": {},
   "source": [
    "### Number of Tehsils greater than one Village"
   ]
  },
  {
   "cell_type": "code",
   "execution_count": 3,
   "metadata": {},
   "outputs": [],
   "source": [
    "grouped = village_list_df.groupby(['State Name', 'Year'])['Tehsil Name'].nunique().reset_index()"
   ]
  },
  {
   "cell_type": "code",
   "execution_count": 4,
   "metadata": {},
   "outputs": [],
   "source": [
    "total_unique_tehsils_per_year = grouped.groupby('Year')['Tehsil Name'].sum().reset_index()\n",
    "total_unique_tehsils_per_year.columns = ['Year', 'Total Number of unique Tehsils']"
   ]
  },
  {
   "cell_type": "code",
   "execution_count": 5,
   "metadata": {},
   "outputs": [],
   "source": [
    "multi_village_tehsils = village_list_df.groupby(['Tehsil Name', 'Year'])['Village Name'].nunique().reset_index()\n",
    "multi_village_tehsils = multi_village_tehsils[multi_village_tehsils['Village Name'] > 1]\n",
    "multi_village_tehsils_per_year = multi_village_tehsils.groupby('Year')['Tehsil Name'].nunique().reset_index()\n",
    "multi_village_tehsils_per_year.columns = ['Year', 'Total Number of unique Tehsils > 1 village']"
   ]
  },
  {
   "cell_type": "code",
   "execution_count": 6,
   "metadata": {},
   "outputs": [],
   "source": [
    "final_tehsil_data = pd.merge(total_unique_tehsils_per_year, multi_village_tehsils_per_year, on='Year', how='left').fillna(0)"
   ]
  },
  {
   "cell_type": "code",
   "execution_count": 7,
   "metadata": {},
   "outputs": [
    {
     "data": {
      "text/html": [
       "<div>\n",
       "<style scoped>\n",
       "    .dataframe tbody tr th:only-of-type {\n",
       "        vertical-align: middle;\n",
       "    }\n",
       "\n",
       "    .dataframe tbody tr th {\n",
       "        vertical-align: top;\n",
       "    }\n",
       "\n",
       "    .dataframe thead th {\n",
       "        text-align: right;\n",
       "    }\n",
       "</style>\n",
       "<table border=\"1\" class=\"dataframe\">\n",
       "  <thead>\n",
       "    <tr style=\"text-align: right;\">\n",
       "      <th></th>\n",
       "      <th>Year</th>\n",
       "      <th>Total Number of unique Tehsils</th>\n",
       "      <th>Total Number of unique Tehsils &gt; 1 village</th>\n",
       "    </tr>\n",
       "  </thead>\n",
       "  <tbody>\n",
       "    <tr>\n",
       "      <th>0</th>\n",
       "      <td>2008-2011</td>\n",
       "      <td>746</td>\n",
       "      <td>154</td>\n",
       "    </tr>\n",
       "    <tr>\n",
       "      <th>1</th>\n",
       "      <td>2011-2014</td>\n",
       "      <td>695</td>\n",
       "      <td>88</td>\n",
       "    </tr>\n",
       "    <tr>\n",
       "      <th>2</th>\n",
       "      <td>2014-2017</td>\n",
       "      <td>793</td>\n",
       "      <td>173</td>\n",
       "    </tr>\n",
       "    <tr>\n",
       "      <th>3</th>\n",
       "      <td>2017-2020</td>\n",
       "      <td>787</td>\n",
       "      <td>154</td>\n",
       "    </tr>\n",
       "  </tbody>\n",
       "</table>\n",
       "</div>"
      ],
      "text/plain": [
       "        Year  Total Number of unique Tehsils  \\\n",
       "0  2008-2011                             746   \n",
       "1  2011-2014                             695   \n",
       "2  2014-2017                             793   \n",
       "3  2017-2020                             787   \n",
       "\n",
       "   Total Number of unique Tehsils > 1 village  \n",
       "0                                         154  \n",
       "1                                          88  \n",
       "2                                         173  \n",
       "3                                         154  "
      ]
     },
     "execution_count": 7,
     "metadata": {},
     "output_type": "execute_result"
    }
   ],
   "source": [
    "final_tehsil_data.head()"
   ]
  },
  {
   "cell_type": "code",
   "execution_count": 8,
   "metadata": {},
   "outputs": [],
   "source": [
    "final_tehsil_data_multiple_village = village_list_df[village_list_df['Tehsil Name'].isin(multi_village_tehsils['Tehsil Name'])]"
   ]
  },
  {
   "cell_type": "code",
   "execution_count": 9,
   "metadata": {},
   "outputs": [
    {
     "data": {
      "text/plain": [
       "(1768, 7)"
      ]
     },
     "execution_count": 9,
     "metadata": {},
     "output_type": "execute_result"
    }
   ],
   "source": [
    "final_tehsil_data_multiple_village.shape"
   ]
  },
  {
   "cell_type": "code",
   "execution_count": 10,
   "metadata": {},
   "outputs": [
    {
     "data": {
      "text/html": [
       "<div>\n",
       "<style scoped>\n",
       "    .dataframe tbody tr th:only-of-type {\n",
       "        vertical-align: middle;\n",
       "    }\n",
       "\n",
       "    .dataframe tbody tr th {\n",
       "        vertical-align: top;\n",
       "    }\n",
       "\n",
       "    .dataframe thead th {\n",
       "        text-align: right;\n",
       "    }\n",
       "</style>\n",
       "<table border=\"1\" class=\"dataframe\">\n",
       "  <thead>\n",
       "    <tr style=\"text-align: right;\">\n",
       "      <th></th>\n",
       "      <th>Zone No</th>\n",
       "      <th>Tehsil Code</th>\n",
       "      <th>Tehsil Name</th>\n",
       "      <th>District Name</th>\n",
       "      <th>Village Name</th>\n",
       "      <th>State Name</th>\n",
       "      <th>Year</th>\n",
       "    </tr>\n",
       "  </thead>\n",
       "  <tbody>\n",
       "    <tr>\n",
       "      <th>43</th>\n",
       "      <td>I</td>\n",
       "      <td>1</td>\n",
       "      <td>Dhemaji</td>\n",
       "      <td>Dhemaji</td>\n",
       "      <td>na-pam</td>\n",
       "      <td>Assam</td>\n",
       "      <td>2008-2011</td>\n",
       "    </tr>\n",
       "    <tr>\n",
       "      <th>44</th>\n",
       "      <td>I</td>\n",
       "      <td>1</td>\n",
       "      <td>Dhemaji</td>\n",
       "      <td>Dhemaji</td>\n",
       "      <td>dushuti</td>\n",
       "      <td>Assam</td>\n",
       "      <td>2008-2011</td>\n",
       "    </tr>\n",
       "    <tr>\n",
       "      <th>45</th>\n",
       "      <td>I</td>\n",
       "      <td>2</td>\n",
       "      <td>Laluk</td>\n",
       "      <td>North Lakhimpur</td>\n",
       "      <td>bongalmara</td>\n",
       "      <td>Assam</td>\n",
       "      <td>2008-2011</td>\n",
       "    </tr>\n",
       "    <tr>\n",
       "      <th>46</th>\n",
       "      <td>I</td>\n",
       "      <td>2</td>\n",
       "      <td>Laluk</td>\n",
       "      <td>North Lakhimpur</td>\n",
       "      <td>miri gaon</td>\n",
       "      <td>Assam</td>\n",
       "      <td>2008-2011</td>\n",
       "    </tr>\n",
       "    <tr>\n",
       "      <th>47</th>\n",
       "      <td>I</td>\n",
       "      <td>2</td>\n",
       "      <td>Laluk</td>\n",
       "      <td>North Lakhimpur</td>\n",
       "      <td>anojuli</td>\n",
       "      <td>Assam</td>\n",
       "      <td>2008-2011</td>\n",
       "    </tr>\n",
       "  </tbody>\n",
       "</table>\n",
       "</div>"
      ],
      "text/plain": [
       "   Zone No Tehsil Code Tehsil Name    District Name Village Name State Name  \\\n",
       "43       I           1     Dhemaji          Dhemaji       na-pam      Assam   \n",
       "44       I           1     Dhemaji          Dhemaji      dushuti      Assam   \n",
       "45       I           2       Laluk  North Lakhimpur   bongalmara      Assam   \n",
       "46       I           2       Laluk  North Lakhimpur    miri gaon      Assam   \n",
       "47       I           2       Laluk  North Lakhimpur      anojuli      Assam   \n",
       "\n",
       "         Year  \n",
       "43  2008-2011  \n",
       "44  2008-2011  \n",
       "45  2008-2011  \n",
       "46  2008-2011  \n",
       "47  2008-2011  "
      ]
     },
     "execution_count": 10,
     "metadata": {},
     "output_type": "execute_result"
    }
   ],
   "source": [
    "final_tehsil_data_multiple_village.head()"
   ]
  },
  {
   "cell_type": "code",
   "execution_count": 11,
   "metadata": {},
   "outputs": [],
   "source": [
    "final_tehsil_data_multiple_village.to_csv(home_dir.as_posix() + '/data/Tehsil Data/Tehsil_Data_With_Multiple_Village.csv', index=False)"
   ]
  },
  {
   "cell_type": "markdown",
   "metadata": {},
   "source": [
    "### Unique Tehsils with only 1 Village"
   ]
  },
  {
   "cell_type": "code",
   "execution_count": 12,
   "metadata": {},
   "outputs": [],
   "source": [
    "grouped = village_list_df.groupby(['State Name', 'Year'])['Tehsil Name'].nunique().reset_index()"
   ]
  },
  {
   "cell_type": "code",
   "execution_count": 13,
   "metadata": {},
   "outputs": [],
   "source": [
    "total_unique_tehsils_per_year = grouped.groupby('Year')['Tehsil Name'].sum().reset_index()"
   ]
  },
  {
   "cell_type": "code",
   "execution_count": 14,
   "metadata": {},
   "outputs": [
    {
     "data": {
      "text/html": [
       "<div>\n",
       "<style scoped>\n",
       "    .dataframe tbody tr th:only-of-type {\n",
       "        vertical-align: middle;\n",
       "    }\n",
       "\n",
       "    .dataframe tbody tr th {\n",
       "        vertical-align: top;\n",
       "    }\n",
       "\n",
       "    .dataframe thead th {\n",
       "        text-align: right;\n",
       "    }\n",
       "</style>\n",
       "<table border=\"1\" class=\"dataframe\">\n",
       "  <thead>\n",
       "    <tr style=\"text-align: right;\">\n",
       "      <th></th>\n",
       "      <th>Year</th>\n",
       "      <th>Tehsil Name</th>\n",
       "    </tr>\n",
       "  </thead>\n",
       "  <tbody>\n",
       "    <tr>\n",
       "      <th>0</th>\n",
       "      <td>2008-2011</td>\n",
       "      <td>746</td>\n",
       "    </tr>\n",
       "    <tr>\n",
       "      <th>1</th>\n",
       "      <td>2011-2014</td>\n",
       "      <td>695</td>\n",
       "    </tr>\n",
       "    <tr>\n",
       "      <th>2</th>\n",
       "      <td>2014-2017</td>\n",
       "      <td>793</td>\n",
       "    </tr>\n",
       "    <tr>\n",
       "      <th>3</th>\n",
       "      <td>2017-2020</td>\n",
       "      <td>787</td>\n",
       "    </tr>\n",
       "  </tbody>\n",
       "</table>\n",
       "</div>"
      ],
      "text/plain": [
       "        Year  Tehsil Name\n",
       "0  2008-2011          746\n",
       "1  2011-2014          695\n",
       "2  2014-2017          793\n",
       "3  2017-2020          787"
      ]
     },
     "execution_count": 14,
     "metadata": {},
     "output_type": "execute_result"
    }
   ],
   "source": [
    "total_unique_tehsils_per_year"
   ]
  },
  {
   "cell_type": "code",
   "execution_count": 16,
   "metadata": {},
   "outputs": [],
   "source": [
    "single_village_tehsils = village_list_df.groupby(['Tehsil Name', 'Year'])['Village Name'].nunique().reset_index()"
   ]
  },
  {
   "cell_type": "code",
   "execution_count": 17,
   "metadata": {},
   "outputs": [
    {
     "data": {
      "text/html": [
       "<div>\n",
       "<style scoped>\n",
       "    .dataframe tbody tr th:only-of-type {\n",
       "        vertical-align: middle;\n",
       "    }\n",
       "\n",
       "    .dataframe tbody tr th {\n",
       "        vertical-align: top;\n",
       "    }\n",
       "\n",
       "    .dataframe thead th {\n",
       "        text-align: right;\n",
       "    }\n",
       "</style>\n",
       "<table border=\"1\" class=\"dataframe\">\n",
       "  <thead>\n",
       "    <tr style=\"text-align: right;\">\n",
       "      <th></th>\n",
       "      <th>Tehsil Name</th>\n",
       "      <th>Year</th>\n",
       "      <th>Village Name</th>\n",
       "    </tr>\n",
       "  </thead>\n",
       "  <tbody>\n",
       "    <tr>\n",
       "      <th>0</th>\n",
       "      <td>CHIDAMBARAM</td>\n",
       "      <td>2011-2014</td>\n",
       "      <td>1</td>\n",
       "    </tr>\n",
       "    <tr>\n",
       "      <th>1</th>\n",
       "      <td>(Dhula)</td>\n",
       "      <td>2008-2011</td>\n",
       "      <td>2</td>\n",
       "    </tr>\n",
       "    <tr>\n",
       "      <th>2</th>\n",
       "      <td>1.0</td>\n",
       "      <td>2008-2011</td>\n",
       "      <td>1</td>\n",
       "    </tr>\n",
       "    <tr>\n",
       "      <th>3</th>\n",
       "      <td>10.0</td>\n",
       "      <td>2008-2011</td>\n",
       "      <td>1</td>\n",
       "    </tr>\n",
       "    <tr>\n",
       "      <th>4</th>\n",
       "      <td>11.0</td>\n",
       "      <td>2008-2011</td>\n",
       "      <td>1</td>\n",
       "    </tr>\n",
       "  </tbody>\n",
       "</table>\n",
       "</div>"
      ],
      "text/plain": [
       "     Tehsil Name       Year  Village Name\n",
       "0   CHIDAMBARAM   2011-2014             1\n",
       "1        (Dhula)  2008-2011             2\n",
       "2            1.0  2008-2011             1\n",
       "3           10.0  2008-2011             1\n",
       "4           11.0  2008-2011             1"
      ]
     },
     "execution_count": 17,
     "metadata": {},
     "output_type": "execute_result"
    }
   ],
   "source": [
    "single_village_tehsils.head()"
   ]
  },
  {
   "cell_type": "code",
   "execution_count": 18,
   "metadata": {},
   "outputs": [],
   "source": [
    "single_village_tehsils = single_village_tehsils[single_village_tehsils['Village Name'] == 1]"
   ]
  },
  {
   "cell_type": "code",
   "execution_count": 19,
   "metadata": {},
   "outputs": [
    {
     "data": {
      "text/html": [
       "<div>\n",
       "<style scoped>\n",
       "    .dataframe tbody tr th:only-of-type {\n",
       "        vertical-align: middle;\n",
       "    }\n",
       "\n",
       "    .dataframe tbody tr th {\n",
       "        vertical-align: top;\n",
       "    }\n",
       "\n",
       "    .dataframe thead th {\n",
       "        text-align: right;\n",
       "    }\n",
       "</style>\n",
       "<table border=\"1\" class=\"dataframe\">\n",
       "  <thead>\n",
       "    <tr style=\"text-align: right;\">\n",
       "      <th></th>\n",
       "      <th>Tehsil Name</th>\n",
       "      <th>Year</th>\n",
       "      <th>Village Name</th>\n",
       "    </tr>\n",
       "  </thead>\n",
       "  <tbody>\n",
       "    <tr>\n",
       "      <th>0</th>\n",
       "      <td>CHIDAMBARAM</td>\n",
       "      <td>2011-2014</td>\n",
       "      <td>1</td>\n",
       "    </tr>\n",
       "    <tr>\n",
       "      <th>2</th>\n",
       "      <td>1.0</td>\n",
       "      <td>2008-2011</td>\n",
       "      <td>1</td>\n",
       "    </tr>\n",
       "    <tr>\n",
       "      <th>3</th>\n",
       "      <td>10.0</td>\n",
       "      <td>2008-2011</td>\n",
       "      <td>1</td>\n",
       "    </tr>\n",
       "    <tr>\n",
       "      <th>4</th>\n",
       "      <td>11.0</td>\n",
       "      <td>2008-2011</td>\n",
       "      <td>1</td>\n",
       "    </tr>\n",
       "    <tr>\n",
       "      <th>5</th>\n",
       "      <td>12.0</td>\n",
       "      <td>2008-2011</td>\n",
       "      <td>1</td>\n",
       "    </tr>\n",
       "  </tbody>\n",
       "</table>\n",
       "</div>"
      ],
      "text/plain": [
       "     Tehsil Name       Year  Village Name\n",
       "0   CHIDAMBARAM   2011-2014             1\n",
       "2            1.0  2008-2011             1\n",
       "3           10.0  2008-2011             1\n",
       "4           11.0  2008-2011             1\n",
       "5           12.0  2008-2011             1"
      ]
     },
     "execution_count": 19,
     "metadata": {},
     "output_type": "execute_result"
    }
   ],
   "source": [
    "single_village_tehsils.head()"
   ]
  },
  {
   "cell_type": "code",
   "execution_count": 21,
   "metadata": {},
   "outputs": [],
   "source": [
    "final_tehsil_data_single_village = village_list_df[village_list_df['Tehsil Name'].isin(single_village_tehsils['Tehsil Name'])]"
   ]
  },
  {
   "cell_type": "code",
   "execution_count": 22,
   "metadata": {},
   "outputs": [
    {
     "data": {
      "text/plain": [
       "(2621, 7)"
      ]
     },
     "execution_count": 22,
     "metadata": {},
     "output_type": "execute_result"
    }
   ],
   "source": [
    "final_tehsil_data_single_village.shape "
   ]
  },
  {
   "cell_type": "code",
   "execution_count": null,
   "metadata": {},
   "outputs": [],
   "source": [
    "final_tehsil_data_single_village.to_csv('Tehsil_Data_With_Single_Village.csv', index=False)"
   ]
  }
 ],
 "metadata": {
  "kernelspec": {
   "display_name": "Python 3",
   "language": "python",
   "name": "python3"
  },
  "language_info": {
   "codemirror_mode": {
    "name": "ipython",
    "version": 3
   },
   "file_extension": ".py",
   "mimetype": "text/x-python",
   "name": "python",
   "nbconvert_exporter": "python",
   "pygments_lexer": "ipython3",
   "version": "3.10.12"
  }
 },
 "nbformat": 4,
 "nbformat_minor": 2
}
