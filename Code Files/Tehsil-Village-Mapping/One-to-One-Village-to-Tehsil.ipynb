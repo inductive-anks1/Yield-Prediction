{
 "cells": [
  {
   "cell_type": "code",
   "execution_count": 1,
   "metadata": {},
   "outputs": [],
   "source": [
    "import pandas as pd\n",
    "import pathlib"
   ]
  },
  {
   "cell_type": "code",
   "execution_count": 2,
   "metadata": {},
   "outputs": [
    {
     "name": "stdout",
     "output_type": "stream",
     "text": [
      "/home/inductive-anks/yield-prediction/Yield-Prediction/Code Files/Tehsil-Village-Mapping\n"
     ]
    }
   ],
   "source": [
    "curr_dir = pathlib.Path().resolve()\n",
    "print(curr_dir)"
   ]
  },
  {
   "cell_type": "code",
   "execution_count": 3,
   "metadata": {},
   "outputs": [],
   "source": [
    "home_dir = curr_dir.parent.parent"
   ]
  },
  {
   "cell_type": "code",
   "execution_count": 4,
   "metadata": {},
   "outputs": [],
   "source": [
    "village_list_df = pd.read_csv(home_dir.as_posix() + '/data/Final Data/Final-Merged-Data(2008-2011 to 2017-2020).csv')"
   ]
  },
  {
   "cell_type": "markdown",
   "metadata": {},
   "source": [
    "### Number of Tehsils greater than one Village"
   ]
  },
  {
   "cell_type": "code",
   "execution_count": 5,
   "metadata": {},
   "outputs": [],
   "source": [
    "grouped = village_list_df.groupby(['State', 'Year'])['Tehsil Name'].nunique().reset_index()"
   ]
  },
  {
   "cell_type": "code",
   "execution_count": 6,
   "metadata": {},
   "outputs": [
    {
     "data": {
      "text/html": [
       "<div>\n",
       "<style scoped>\n",
       "    .dataframe tbody tr th:only-of-type {\n",
       "        vertical-align: middle;\n",
       "    }\n",
       "\n",
       "    .dataframe tbody tr th {\n",
       "        vertical-align: top;\n",
       "    }\n",
       "\n",
       "    .dataframe thead th {\n",
       "        text-align: right;\n",
       "    }\n",
       "</style>\n",
       "<table border=\"1\" class=\"dataframe\">\n",
       "  <thead>\n",
       "    <tr style=\"text-align: right;\">\n",
       "      <th></th>\n",
       "      <th>State</th>\n",
       "      <th>Year</th>\n",
       "      <th>Tehsil Name</th>\n",
       "    </tr>\n",
       "  </thead>\n",
       "  <tbody>\n",
       "    <tr>\n",
       "      <th>0</th>\n",
       "      <td>andhra pradesh</td>\n",
       "      <td>2008-2011</td>\n",
       "      <td>43</td>\n",
       "    </tr>\n",
       "    <tr>\n",
       "      <th>1</th>\n",
       "      <td>andhra pradesh</td>\n",
       "      <td>2011-2014</td>\n",
       "      <td>60</td>\n",
       "    </tr>\n",
       "    <tr>\n",
       "      <th>2</th>\n",
       "      <td>andhra pradesh</td>\n",
       "      <td>2014-2017</td>\n",
       "      <td>60</td>\n",
       "    </tr>\n",
       "    <tr>\n",
       "      <th>3</th>\n",
       "      <td>andhra pradesh</td>\n",
       "      <td>2017-2020</td>\n",
       "      <td>59</td>\n",
       "    </tr>\n",
       "    <tr>\n",
       "      <th>4</th>\n",
       "      <td>assam</td>\n",
       "      <td>2008-2011</td>\n",
       "      <td>46</td>\n",
       "    </tr>\n",
       "    <tr>\n",
       "      <th>...</th>\n",
       "      <td>...</td>\n",
       "      <td>...</td>\n",
       "      <td>...</td>\n",
       "    </tr>\n",
       "    <tr>\n",
       "      <th>68</th>\n",
       "      <td>uttarakhand</td>\n",
       "      <td>2017-2020</td>\n",
       "      <td>4</td>\n",
       "    </tr>\n",
       "    <tr>\n",
       "      <th>69</th>\n",
       "      <td>west bengal</td>\n",
       "      <td>2008-2011</td>\n",
       "      <td>53</td>\n",
       "    </tr>\n",
       "    <tr>\n",
       "      <th>70</th>\n",
       "      <td>west bengal</td>\n",
       "      <td>2011-2014</td>\n",
       "      <td>53</td>\n",
       "    </tr>\n",
       "    <tr>\n",
       "      <th>71</th>\n",
       "      <td>west bengal</td>\n",
       "      <td>2014-2017</td>\n",
       "      <td>55</td>\n",
       "    </tr>\n",
       "    <tr>\n",
       "      <th>72</th>\n",
       "      <td>west bengal</td>\n",
       "      <td>2017-2020</td>\n",
       "      <td>54</td>\n",
       "    </tr>\n",
       "  </tbody>\n",
       "</table>\n",
       "<p>73 rows × 3 columns</p>\n",
       "</div>"
      ],
      "text/plain": [
       "             State       Year  Tehsil Name\n",
       "0   andhra pradesh  2008-2011           43\n",
       "1   andhra pradesh  2011-2014           60\n",
       "2   andhra pradesh  2014-2017           60\n",
       "3   andhra pradesh  2017-2020           59\n",
       "4            assam  2008-2011           46\n",
       "..             ...        ...          ...\n",
       "68     uttarakhand  2017-2020            4\n",
       "69     west bengal  2008-2011           53\n",
       "70     west bengal  2011-2014           53\n",
       "71     west bengal  2014-2017           55\n",
       "72     west bengal  2017-2020           54\n",
       "\n",
       "[73 rows x 3 columns]"
      ]
     },
     "execution_count": 6,
     "metadata": {},
     "output_type": "execute_result"
    }
   ],
   "source": [
    "grouped"
   ]
  },
  {
   "cell_type": "code",
   "execution_count": 7,
   "metadata": {},
   "outputs": [],
   "source": [
    "total_unique_tehsils_per_year = grouped.groupby('Year')['Tehsil Name'].sum().reset_index()\n",
    "total_unique_tehsils_per_year.columns = ['Year', 'Total Number of unique Tehsils']"
   ]
  },
  {
   "cell_type": "code",
   "execution_count": 8,
   "metadata": {},
   "outputs": [
    {
     "data": {
      "text/html": [
       "<div>\n",
       "<style scoped>\n",
       "    .dataframe tbody tr th:only-of-type {\n",
       "        vertical-align: middle;\n",
       "    }\n",
       "\n",
       "    .dataframe tbody tr th {\n",
       "        vertical-align: top;\n",
       "    }\n",
       "\n",
       "    .dataframe thead th {\n",
       "        text-align: right;\n",
       "    }\n",
       "</style>\n",
       "<table border=\"1\" class=\"dataframe\">\n",
       "  <thead>\n",
       "    <tr style=\"text-align: right;\">\n",
       "      <th></th>\n",
       "      <th>Year</th>\n",
       "      <th>Total Number of unique Tehsils</th>\n",
       "    </tr>\n",
       "  </thead>\n",
       "  <tbody>\n",
       "    <tr>\n",
       "      <th>0</th>\n",
       "      <td>2008-2011</td>\n",
       "      <td>719</td>\n",
       "    </tr>\n",
       "    <tr>\n",
       "      <th>1</th>\n",
       "      <td>2011-2014</td>\n",
       "      <td>683</td>\n",
       "    </tr>\n",
       "    <tr>\n",
       "      <th>2</th>\n",
       "      <td>2014-2017</td>\n",
       "      <td>791</td>\n",
       "    </tr>\n",
       "    <tr>\n",
       "      <th>3</th>\n",
       "      <td>2017-2020</td>\n",
       "      <td>787</td>\n",
       "    </tr>\n",
       "  </tbody>\n",
       "</table>\n",
       "</div>"
      ],
      "text/plain": [
       "        Year  Total Number of unique Tehsils\n",
       "0  2008-2011                             719\n",
       "1  2011-2014                             683\n",
       "2  2014-2017                             791\n",
       "3  2017-2020                             787"
      ]
     },
     "execution_count": 8,
     "metadata": {},
     "output_type": "execute_result"
    }
   ],
   "source": [
    "total_unique_tehsils_per_year"
   ]
  },
  {
   "cell_type": "code",
   "execution_count": 9,
   "metadata": {},
   "outputs": [],
   "source": [
    "multi_village_tehsils = village_list_df.groupby(['Tehsil Name', 'Year'])['Village Name'].nunique().reset_index()\n",
    "multi_village_tehsils = multi_village_tehsils[multi_village_tehsils['Village Name'] > 1]\n",
    "multi_village_tehsils_per_year = multi_village_tehsils.groupby('Year')['Tehsil Name'].nunique().reset_index()\n",
    "multi_village_tehsils_per_year.columns = ['Year', 'Total Number of unique Tehsils > 1 village']"
   ]
  },
  {
   "cell_type": "code",
   "execution_count": 10,
   "metadata": {},
   "outputs": [
    {
     "data": {
      "text/html": [
       "<div>\n",
       "<style scoped>\n",
       "    .dataframe tbody tr th:only-of-type {\n",
       "        vertical-align: middle;\n",
       "    }\n",
       "\n",
       "    .dataframe tbody tr th {\n",
       "        vertical-align: top;\n",
       "    }\n",
       "\n",
       "    .dataframe thead th {\n",
       "        text-align: right;\n",
       "    }\n",
       "</style>\n",
       "<table border=\"1\" class=\"dataframe\">\n",
       "  <thead>\n",
       "    <tr style=\"text-align: right;\">\n",
       "      <th></th>\n",
       "      <th>Year</th>\n",
       "      <th>Total Number of unique Tehsils &gt; 1 village</th>\n",
       "    </tr>\n",
       "  </thead>\n",
       "  <tbody>\n",
       "    <tr>\n",
       "      <th>0</th>\n",
       "      <td>2008-2011</td>\n",
       "      <td>167</td>\n",
       "    </tr>\n",
       "    <tr>\n",
       "      <th>1</th>\n",
       "      <td>2011-2014</td>\n",
       "      <td>125</td>\n",
       "    </tr>\n",
       "    <tr>\n",
       "      <th>2</th>\n",
       "      <td>2014-2017</td>\n",
       "      <td>174</td>\n",
       "    </tr>\n",
       "    <tr>\n",
       "      <th>3</th>\n",
       "      <td>2017-2020</td>\n",
       "      <td>153</td>\n",
       "    </tr>\n",
       "  </tbody>\n",
       "</table>\n",
       "</div>"
      ],
      "text/plain": [
       "        Year  Total Number of unique Tehsils > 1 village\n",
       "0  2008-2011                                         167\n",
       "1  2011-2014                                         125\n",
       "2  2014-2017                                         174\n",
       "3  2017-2020                                         153"
      ]
     },
     "execution_count": 10,
     "metadata": {},
     "output_type": "execute_result"
    }
   ],
   "source": [
    "multi_village_tehsils_per_year"
   ]
  },
  {
   "cell_type": "code",
   "execution_count": 11,
   "metadata": {},
   "outputs": [],
   "source": [
    "final_tehsil_data = pd.merge(total_unique_tehsils_per_year, multi_village_tehsils_per_year, on='Year', how='left').fillna(0)"
   ]
  },
  {
   "cell_type": "code",
   "execution_count": 12,
   "metadata": {},
   "outputs": [
    {
     "data": {
      "text/html": [
       "<div>\n",
       "<style scoped>\n",
       "    .dataframe tbody tr th:only-of-type {\n",
       "        vertical-align: middle;\n",
       "    }\n",
       "\n",
       "    .dataframe tbody tr th {\n",
       "        vertical-align: top;\n",
       "    }\n",
       "\n",
       "    .dataframe thead th {\n",
       "        text-align: right;\n",
       "    }\n",
       "</style>\n",
       "<table border=\"1\" class=\"dataframe\">\n",
       "  <thead>\n",
       "    <tr style=\"text-align: right;\">\n",
       "      <th></th>\n",
       "      <th>Year</th>\n",
       "      <th>Total Number of unique Tehsils</th>\n",
       "      <th>Total Number of unique Tehsils &gt; 1 village</th>\n",
       "    </tr>\n",
       "  </thead>\n",
       "  <tbody>\n",
       "    <tr>\n",
       "      <th>0</th>\n",
       "      <td>2008-2011</td>\n",
       "      <td>719</td>\n",
       "      <td>167</td>\n",
       "    </tr>\n",
       "    <tr>\n",
       "      <th>1</th>\n",
       "      <td>2011-2014</td>\n",
       "      <td>683</td>\n",
       "      <td>125</td>\n",
       "    </tr>\n",
       "    <tr>\n",
       "      <th>2</th>\n",
       "      <td>2014-2017</td>\n",
       "      <td>791</td>\n",
       "      <td>174</td>\n",
       "    </tr>\n",
       "    <tr>\n",
       "      <th>3</th>\n",
       "      <td>2017-2020</td>\n",
       "      <td>787</td>\n",
       "      <td>153</td>\n",
       "    </tr>\n",
       "  </tbody>\n",
       "</table>\n",
       "</div>"
      ],
      "text/plain": [
       "        Year  Total Number of unique Tehsils  \\\n",
       "0  2008-2011                             719   \n",
       "1  2011-2014                             683   \n",
       "2  2014-2017                             791   \n",
       "3  2017-2020                             787   \n",
       "\n",
       "   Total Number of unique Tehsils > 1 village  \n",
       "0                                         167  \n",
       "1                                         125  \n",
       "2                                         174  \n",
       "3                                         153  "
      ]
     },
     "execution_count": 12,
     "metadata": {},
     "output_type": "execute_result"
    }
   ],
   "source": [
    "final_tehsil_data.head()"
   ]
  },
  {
   "cell_type": "code",
   "execution_count": 13,
   "metadata": {},
   "outputs": [],
   "source": [
    "final_tehsil_data_multiple_village = village_list_df[village_list_df['Tehsil Name'].isin(multi_village_tehsils['Tehsil Name'])]"
   ]
  },
  {
   "cell_type": "code",
   "execution_count": 14,
   "metadata": {},
   "outputs": [
    {
     "data": {
      "text/plain": [
       "(1964, 7)"
      ]
     },
     "execution_count": 14,
     "metadata": {},
     "output_type": "execute_result"
    }
   ],
   "source": [
    "final_tehsil_data_multiple_village.shape"
   ]
  },
  {
   "cell_type": "code",
   "execution_count": 15,
   "metadata": {},
   "outputs": [
    {
     "data": {
      "text/html": [
       "<div>\n",
       "<style scoped>\n",
       "    .dataframe tbody tr th:only-of-type {\n",
       "        vertical-align: middle;\n",
       "    }\n",
       "\n",
       "    .dataframe tbody tr th {\n",
       "        vertical-align: top;\n",
       "    }\n",
       "\n",
       "    .dataframe thead th {\n",
       "        text-align: right;\n",
       "    }\n",
       "</style>\n",
       "<table border=\"1\" class=\"dataframe\">\n",
       "  <thead>\n",
       "    <tr style=\"text-align: right;\">\n",
       "      <th></th>\n",
       "      <th>State</th>\n",
       "      <th>Zone</th>\n",
       "      <th>District Name</th>\n",
       "      <th>Tehsil Code</th>\n",
       "      <th>Tehsil Name</th>\n",
       "      <th>Village Name</th>\n",
       "      <th>Year</th>\n",
       "    </tr>\n",
       "  </thead>\n",
       "  <tbody>\n",
       "    <tr>\n",
       "      <th>43</th>\n",
       "      <td>assam</td>\n",
       "      <td>i</td>\n",
       "      <td>dhemaji</td>\n",
       "      <td>1</td>\n",
       "      <td>dhemaji</td>\n",
       "      <td>na-pam</td>\n",
       "      <td>2008-2011</td>\n",
       "    </tr>\n",
       "    <tr>\n",
       "      <th>44</th>\n",
       "      <td>assam</td>\n",
       "      <td>i</td>\n",
       "      <td>dhemaji</td>\n",
       "      <td>1</td>\n",
       "      <td>dhemaji</td>\n",
       "      <td>dushuti</td>\n",
       "      <td>2008-2011</td>\n",
       "    </tr>\n",
       "    <tr>\n",
       "      <th>45</th>\n",
       "      <td>assam</td>\n",
       "      <td>i</td>\n",
       "      <td>north lakhimpur</td>\n",
       "      <td>2</td>\n",
       "      <td>laluk</td>\n",
       "      <td>bongalmara</td>\n",
       "      <td>2008-2011</td>\n",
       "    </tr>\n",
       "    <tr>\n",
       "      <th>46</th>\n",
       "      <td>assam</td>\n",
       "      <td>i</td>\n",
       "      <td>north lakhimpur</td>\n",
       "      <td>2</td>\n",
       "      <td>laluk</td>\n",
       "      <td>miri gaon</td>\n",
       "      <td>2008-2011</td>\n",
       "    </tr>\n",
       "    <tr>\n",
       "      <th>47</th>\n",
       "      <td>assam</td>\n",
       "      <td>i</td>\n",
       "      <td>north lakhimpur</td>\n",
       "      <td>2</td>\n",
       "      <td>laluk</td>\n",
       "      <td>anojuli</td>\n",
       "      <td>2008-2011</td>\n",
       "    </tr>\n",
       "  </tbody>\n",
       "</table>\n",
       "</div>"
      ],
      "text/plain": [
       "    State Zone    District Name Tehsil Code Tehsil Name Village Name  \\\n",
       "43  assam    i          dhemaji           1     dhemaji       na-pam   \n",
       "44  assam    i          dhemaji           1     dhemaji      dushuti   \n",
       "45  assam    i  north lakhimpur           2       laluk   bongalmara   \n",
       "46  assam    i  north lakhimpur           2       laluk    miri gaon   \n",
       "47  assam    i  north lakhimpur           2       laluk      anojuli   \n",
       "\n",
       "         Year  \n",
       "43  2008-2011  \n",
       "44  2008-2011  \n",
       "45  2008-2011  \n",
       "46  2008-2011  \n",
       "47  2008-2011  "
      ]
     },
     "execution_count": 15,
     "metadata": {},
     "output_type": "execute_result"
    }
   ],
   "source": [
    "final_tehsil_data_multiple_village.head()"
   ]
  },
  {
   "cell_type": "code",
   "execution_count": 16,
   "metadata": {},
   "outputs": [],
   "source": [
    "final_tehsil_data_multiple_village.to_csv(home_dir.as_posix() + '/data/Tehsil Data/Tehsil_Data_With_Multiple_Village.csv', index=False)"
   ]
  },
  {
   "cell_type": "markdown",
   "metadata": {},
   "source": [
    "### Unique Tehsils with only 1 Village"
   ]
  },
  {
   "cell_type": "code",
   "execution_count": 17,
   "metadata": {},
   "outputs": [],
   "source": [
    "grouped = village_list_df.groupby(['State', 'Year'])['Tehsil Name'].nunique().reset_index()"
   ]
  },
  {
   "cell_type": "code",
   "execution_count": 18,
   "metadata": {},
   "outputs": [],
   "source": [
    "total_unique_tehsils_per_year = grouped.groupby('Year')['Tehsil Name'].sum().reset_index()"
   ]
  },
  {
   "cell_type": "code",
   "execution_count": 19,
   "metadata": {},
   "outputs": [
    {
     "data": {
      "text/html": [
       "<div>\n",
       "<style scoped>\n",
       "    .dataframe tbody tr th:only-of-type {\n",
       "        vertical-align: middle;\n",
       "    }\n",
       "\n",
       "    .dataframe tbody tr th {\n",
       "        vertical-align: top;\n",
       "    }\n",
       "\n",
       "    .dataframe thead th {\n",
       "        text-align: right;\n",
       "    }\n",
       "</style>\n",
       "<table border=\"1\" class=\"dataframe\">\n",
       "  <thead>\n",
       "    <tr style=\"text-align: right;\">\n",
       "      <th></th>\n",
       "      <th>Year</th>\n",
       "      <th>Tehsil Name</th>\n",
       "    </tr>\n",
       "  </thead>\n",
       "  <tbody>\n",
       "    <tr>\n",
       "      <th>0</th>\n",
       "      <td>2008-2011</td>\n",
       "      <td>719</td>\n",
       "    </tr>\n",
       "    <tr>\n",
       "      <th>1</th>\n",
       "      <td>2011-2014</td>\n",
       "      <td>683</td>\n",
       "    </tr>\n",
       "    <tr>\n",
       "      <th>2</th>\n",
       "      <td>2014-2017</td>\n",
       "      <td>791</td>\n",
       "    </tr>\n",
       "    <tr>\n",
       "      <th>3</th>\n",
       "      <td>2017-2020</td>\n",
       "      <td>787</td>\n",
       "    </tr>\n",
       "  </tbody>\n",
       "</table>\n",
       "</div>"
      ],
      "text/plain": [
       "        Year  Tehsil Name\n",
       "0  2008-2011          719\n",
       "1  2011-2014          683\n",
       "2  2014-2017          791\n",
       "3  2017-2020          787"
      ]
     },
     "execution_count": 19,
     "metadata": {},
     "output_type": "execute_result"
    }
   ],
   "source": [
    "total_unique_tehsils_per_year"
   ]
  },
  {
   "cell_type": "code",
   "execution_count": 20,
   "metadata": {},
   "outputs": [],
   "source": [
    "single_village_tehsils = village_list_df.groupby(['Tehsil Name', 'Year'])['Village Name'].nunique().reset_index()"
   ]
  },
  {
   "cell_type": "code",
   "execution_count": 21,
   "metadata": {},
   "outputs": [
    {
     "data": {
      "text/html": [
       "<div>\n",
       "<style scoped>\n",
       "    .dataframe tbody tr th:only-of-type {\n",
       "        vertical-align: middle;\n",
       "    }\n",
       "\n",
       "    .dataframe tbody tr th {\n",
       "        vertical-align: top;\n",
       "    }\n",
       "\n",
       "    .dataframe thead th {\n",
       "        text-align: right;\n",
       "    }\n",
       "</style>\n",
       "<table border=\"1\" class=\"dataframe\">\n",
       "  <thead>\n",
       "    <tr style=\"text-align: right;\">\n",
       "      <th></th>\n",
       "      <th>Tehsil Name</th>\n",
       "      <th>Year</th>\n",
       "      <th>Village Name</th>\n",
       "    </tr>\n",
       "  </thead>\n",
       "  <tbody>\n",
       "    <tr>\n",
       "      <th>219</th>\n",
       "      <td>banka</td>\n",
       "      <td>2014-2017</td>\n",
       "      <td>1</td>\n",
       "    </tr>\n",
       "    <tr>\n",
       "      <th>1741</th>\n",
       "      <td>mannarkudi</td>\n",
       "      <td>2014-2017</td>\n",
       "      <td>1</td>\n",
       "    </tr>\n",
       "    <tr>\n",
       "      <th>2075</th>\n",
       "      <td>palacode</td>\n",
       "      <td>2014-2017</td>\n",
       "      <td>1</td>\n",
       "    </tr>\n",
       "    <tr>\n",
       "      <th>2740</th>\n",
       "      <td>thalachery</td>\n",
       "      <td>2008-2011</td>\n",
       "      <td>1</td>\n",
       "    </tr>\n",
       "    <tr>\n",
       "      <th>499</th>\n",
       "      <td>chandauli</td>\n",
       "      <td>2008-2011</td>\n",
       "      <td>2</td>\n",
       "    </tr>\n",
       "    <tr>\n",
       "      <th>2045</th>\n",
       "      <td>omalur</td>\n",
       "      <td>2014-2017</td>\n",
       "      <td>1</td>\n",
       "    </tr>\n",
       "    <tr>\n",
       "      <th>1169</th>\n",
       "      <td>jashipur</td>\n",
       "      <td>2017-2020</td>\n",
       "      <td>1</td>\n",
       "    </tr>\n",
       "    <tr>\n",
       "      <th>1101</th>\n",
       "      <td>jabera</td>\n",
       "      <td>2017-2020</td>\n",
       "      <td>1</td>\n",
       "    </tr>\n",
       "    <tr>\n",
       "      <th>233</th>\n",
       "      <td>baramati</td>\n",
       "      <td>2014-2017</td>\n",
       "      <td>1</td>\n",
       "    </tr>\n",
       "    <tr>\n",
       "      <th>1312</th>\n",
       "      <td>kapadvanj</td>\n",
       "      <td>2017-2020</td>\n",
       "      <td>1</td>\n",
       "    </tr>\n",
       "  </tbody>\n",
       "</table>\n",
       "</div>"
      ],
      "text/plain": [
       "     Tehsil Name       Year  Village Name\n",
       "219        banka  2014-2017             1\n",
       "1741  mannarkudi  2014-2017             1\n",
       "2075    palacode  2014-2017             1\n",
       "2740  thalachery  2008-2011             1\n",
       "499    chandauli  2008-2011             2\n",
       "2045      omalur  2014-2017             1\n",
       "1169    jashipur  2017-2020             1\n",
       "1101      jabera  2017-2020             1\n",
       "233     baramati  2014-2017             1\n",
       "1312   kapadvanj  2017-2020             1"
      ]
     },
     "execution_count": 21,
     "metadata": {},
     "output_type": "execute_result"
    }
   ],
   "source": [
    "single_village_tehsils.sample(10)"
   ]
  },
  {
   "cell_type": "code",
   "execution_count": 22,
   "metadata": {},
   "outputs": [],
   "source": [
    "single_village_tehsils = single_village_tehsils[single_village_tehsils['Village Name'] == 1]"
   ]
  },
  {
   "cell_type": "code",
   "execution_count": 23,
   "metadata": {},
   "outputs": [
    {
     "data": {
      "text/html": [
       "<div>\n",
       "<style scoped>\n",
       "    .dataframe tbody tr th:only-of-type {\n",
       "        vertical-align: middle;\n",
       "    }\n",
       "\n",
       "    .dataframe tbody tr th {\n",
       "        vertical-align: top;\n",
       "    }\n",
       "\n",
       "    .dataframe thead th {\n",
       "        text-align: right;\n",
       "    }\n",
       "</style>\n",
       "<table border=\"1\" class=\"dataframe\">\n",
       "  <thead>\n",
       "    <tr style=\"text-align: right;\">\n",
       "      <th></th>\n",
       "      <th>Tehsil Name</th>\n",
       "      <th>Year</th>\n",
       "      <th>Village Name</th>\n",
       "    </tr>\n",
       "  </thead>\n",
       "  <tbody>\n",
       "    <tr>\n",
       "      <th>1</th>\n",
       "      <td>aagar</td>\n",
       "      <td>2008-2011</td>\n",
       "      <td>1</td>\n",
       "    </tr>\n",
       "    <tr>\n",
       "      <th>2</th>\n",
       "      <td>aalapur</td>\n",
       "      <td>2014-2017</td>\n",
       "      <td>1</td>\n",
       "    </tr>\n",
       "    <tr>\n",
       "      <th>3</th>\n",
       "      <td>aalapur</td>\n",
       "      <td>2017-2020</td>\n",
       "      <td>1</td>\n",
       "    </tr>\n",
       "    <tr>\n",
       "      <th>4</th>\n",
       "      <td>aalot</td>\n",
       "      <td>2008-2011</td>\n",
       "      <td>1</td>\n",
       "    </tr>\n",
       "    <tr>\n",
       "      <th>5</th>\n",
       "      <td>aamlner</td>\n",
       "      <td>2014-2017</td>\n",
       "      <td>1</td>\n",
       "    </tr>\n",
       "  </tbody>\n",
       "</table>\n",
       "</div>"
      ],
      "text/plain": [
       "  Tehsil Name       Year  Village Name\n",
       "1       aagar  2008-2011             1\n",
       "2     aalapur  2014-2017             1\n",
       "3     aalapur  2017-2020             1\n",
       "4       aalot  2008-2011             1\n",
       "5     aamlner  2014-2017             1"
      ]
     },
     "execution_count": 23,
     "metadata": {},
     "output_type": "execute_result"
    }
   ],
   "source": [
    "single_village_tehsils.head()"
   ]
  },
  {
   "cell_type": "code",
   "execution_count": 24,
   "metadata": {},
   "outputs": [],
   "source": [
    "final_tehsil_data_single_village = village_list_df[village_list_df['Tehsil Name'].isin(single_village_tehsils['Tehsil Name'])]"
   ]
  },
  {
   "cell_type": "code",
   "execution_count": 25,
   "metadata": {},
   "outputs": [
    {
     "data": {
      "text/plain": [
       "(2567, 7)"
      ]
     },
     "execution_count": 25,
     "metadata": {},
     "output_type": "execute_result"
    }
   ],
   "source": [
    "final_tehsil_data_single_village.shape "
   ]
  },
  {
   "cell_type": "code",
   "execution_count": 26,
   "metadata": {},
   "outputs": [],
   "source": [
    "pd.set_option('display.max_rows', None) "
   ]
  },
  {
   "cell_type": "code",
   "execution_count": 27,
   "metadata": {},
   "outputs": [
    {
     "name": "stderr",
     "output_type": "stream",
     "text": [
      "/tmp/ipykernel_3597/271811.py:5: SettingWithCopyWarning: \n",
      "A value is trying to be set on a copy of a slice from a DataFrame.\n",
      "Try using .loc[row_indexer,col_indexer] = value instead\n",
      "\n",
      "See the caveats in the documentation: https://pandas.pydata.org/pandas-docs/stable/user_guide/indexing.html#returning-a-view-versus-a-copy\n",
      "  final_tehsil_data_single_village['Tehsil Code'] = min_tehsil_code\n"
     ]
    }
   ],
   "source": [
    "# Find the minimum Tehsil Code for each Tehsil Name\n",
    "min_tehsil_code = final_tehsil_data_single_village.groupby('Tehsil Name')['Tehsil Code'].transform('min')\n",
    "\n",
    "# Update the Tehsil Code to be the minimum code for each Tehsil Name\n",
    "final_tehsil_data_single_village['Tehsil Code'] = min_tehsil_code"
   ]
  },
  {
   "cell_type": "code",
   "execution_count": 28,
   "metadata": {},
   "outputs": [],
   "source": [
    "\n",
    "\n",
    "# Function to remove rows with duplicate Tehsil Names within each year\n",
    "def remove_repeating_tehsils(df):\n",
    "    # Group by Year\n",
    "    grouped = df.groupby('Year')\n",
    "    # List to hold the filtered DataFrames\n",
    "    filtered_dfs = []\n",
    "\n",
    "    for year, group in grouped:\n",
    "        # Count occurrences of each Tehsil Name\n",
    "        tehsil_counts = group['Tehsil Name'].value_counts()\n",
    "        # Find Tehsil Names that occur more than once\n",
    "        tehsil_names_to_remove = tehsil_counts[tehsil_counts > 1].index\n",
    "        # Filter out rows with Tehsil Names that occur more than once\n",
    "        filtered_group = group[~group['Tehsil Name'].isin(tehsil_names_to_remove)]\n",
    "        filtered_dfs.append(filtered_group)\n",
    "\n",
    "    # Concatenate all filtered DataFrames\n",
    "    result_df = pd.concat(filtered_dfs)\n",
    "    return result_df\n",
    "\n",
    "# Apply the function to the DataFrame\n",
    "df_filtered = remove_repeating_tehsils(final_tehsil_data_single_village)\n"
   ]
  },
  {
   "cell_type": "code",
   "execution_count": 29,
   "metadata": {},
   "outputs": [],
   "source": [
    "rows_with_comma = df_filtered['Village Name'].str.contains(',', na=False)\n",
    "\n",
    "df_filtered = df_filtered[~rows_with_comma]"
   ]
  },
  {
   "cell_type": "code",
   "execution_count": 30,
   "metadata": {},
   "outputs": [
    {
     "data": {
      "text/plain": [
       "(2319, 7)"
      ]
     },
     "execution_count": 30,
     "metadata": {},
     "output_type": "execute_result"
    }
   ],
   "source": [
    "df_filtered.shape"
   ]
  },
  {
   "cell_type": "code",
   "execution_count": 31,
   "metadata": {},
   "outputs": [
    {
     "data": {
      "text/plain": [
       "(2567, 7)"
      ]
     },
     "execution_count": 31,
     "metadata": {},
     "output_type": "execute_result"
    }
   ],
   "source": [
    "final_tehsil_data_single_village.shape"
   ]
  },
  {
   "cell_type": "code",
   "execution_count": null,
   "metadata": {},
   "outputs": [],
   "source": [
    "df_filtered.to_csv(home_dir.as_posix() + '/data/Tehsil Data/Tehsil_Data_With_Single_Village.csv', index=False)"
   ]
  }
 ],
 "metadata": {
  "kernelspec": {
   "display_name": "Python 3",
   "language": "python",
   "name": "python3"
  },
  "language_info": {
   "codemirror_mode": {
    "name": "ipython",
    "version": 3
   },
   "file_extension": ".py",
   "mimetype": "text/x-python",
   "name": "python",
   "nbconvert_exporter": "python",
   "pygments_lexer": "ipython3",
   "version": "3.10.12"
  }
 },
 "nbformat": 4,
 "nbformat_minor": 2
}
