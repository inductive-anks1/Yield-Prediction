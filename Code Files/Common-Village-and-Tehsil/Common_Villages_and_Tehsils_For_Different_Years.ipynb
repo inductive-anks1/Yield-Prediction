{
 "cells": [
  {
   "cell_type": "code",
   "execution_count": 4,
   "id": "b4318596",
   "metadata": {},
   "outputs": [],
   "source": [
    "import pandas as pd\n",
    "import pathlib"
   ]
  },
  {
   "cell_type": "code",
   "execution_count": 2,
   "id": "a48dcf97",
   "metadata": {},
   "outputs": [],
   "source": [
    "pd.set_option('display.max_rows', None)\n",
    "pd.set_option('display.max_columns', None)"
   ]
  },
  {
   "cell_type": "code",
   "execution_count": 5,
   "id": "0efa61b4",
   "metadata": {},
   "outputs": [
    {
     "name": "stdout",
     "output_type": "stream",
     "text": [
      "/home/inductive-anks/yield-prediction/Yield-Prediction/Code Files/Common-Village-and-Tehsil\n"
     ]
    }
   ],
   "source": [
    "curr_dir = pathlib.Path().resolve()\n",
    "print(curr_dir)"
   ]
  },
  {
   "cell_type": "code",
   "execution_count": 6,
   "id": "57bcae18",
   "metadata": {},
   "outputs": [],
   "source": [
    "home_dir = curr_dir.parent.parent"
   ]
  },
  {
   "cell_type": "code",
   "execution_count": 7,
   "id": "4788d9e4",
   "metadata": {},
   "outputs": [],
   "source": [
    "df_2008_2011 = pd.read_csv(home_dir.as_posix() + '/data/Final Data/2008-2011-clean.csv')"
   ]
  },
  {
   "cell_type": "code",
   "execution_count": 8,
   "id": "1e4b6dab",
   "metadata": {},
   "outputs": [],
   "source": [
    "df_2011_2014 = pd.read_csv(home_dir.as_posix() + '/data/Final Data/2011-2014-clean.csv')"
   ]
  },
  {
   "cell_type": "code",
   "execution_count": 9,
   "id": "71dc9daf",
   "metadata": {},
   "outputs": [],
   "source": [
    "df_2014_2017 = pd.read_csv(home_dir.as_posix() + '/data/Final Data/2014-2017-clean.csv')"
   ]
  },
  {
   "cell_type": "code",
   "execution_count": 11,
   "id": "877260dd",
   "metadata": {},
   "outputs": [],
   "source": [
    "df_2017_2020 = pd.read_excel(home_dir.as_posix() + '/data/Final Data/2017-2020-clean.xlsx')"
   ]
  },
  {
   "cell_type": "code",
   "execution_count": null,
   "id": "db5270ea",
   "metadata": {},
   "outputs": [],
   "source": []
  },
  {
   "cell_type": "markdown",
   "id": "177a7483",
   "metadata": {
    "scrolled": false
   },
   "source": [
    "### Preprocessing"
   ]
  },
  {
   "cell_type": "code",
   "execution_count": 40,
   "id": "463693c2",
   "metadata": {},
   "outputs": [],
   "source": [
    "df_2014_2017 = df_2014_2017.drop(columns=['Unnamed: 7'])"
   ]
  },
  {
   "cell_type": "code",
   "execution_count": 41,
   "id": "55187922",
   "metadata": {},
   "outputs": [
    {
     "data": {
      "text/plain": [
       "Index(['Zone Number', 'District Name', 'Tehsil Code ', 'Tehsil Name',\n",
       "       'Vilage ', 'State', 'Block'],\n",
       "      dtype='object')"
      ]
     },
     "execution_count": 41,
     "metadata": {},
     "output_type": "execute_result"
    }
   ],
   "source": [
    "df_2014_2017.columns"
   ]
  },
  {
   "cell_type": "code",
   "execution_count": 42,
   "id": "f877120f",
   "metadata": {},
   "outputs": [],
   "source": [
    "df_2014_2017 = df_2014_2017[['Zone Number', 'Tehsil Code ', 'Tehsil Name', 'District Name', 'Vilage ', 'State', 'Block']]"
   ]
  },
  {
   "cell_type": "code",
   "execution_count": 43,
   "id": "b6b108f0",
   "metadata": {},
   "outputs": [],
   "source": [
    "new_column_names = ['Zone No', 'Tehsil Code', 'Tehsil Name', 'District Name', 'Village Name', 'State Name', 'Year']\n",
    "\n",
    "df_2014_2017.columns = new_column_names"
   ]
  },
  {
   "cell_type": "code",
   "execution_count": 44,
   "id": "faffc4be",
   "metadata": {},
   "outputs": [
    {
     "data": {
      "text/html": [
       "<div>\n",
       "<style scoped>\n",
       "    .dataframe tbody tr th:only-of-type {\n",
       "        vertical-align: middle;\n",
       "    }\n",
       "\n",
       "    .dataframe tbody tr th {\n",
       "        vertical-align: top;\n",
       "    }\n",
       "\n",
       "    .dataframe thead th {\n",
       "        text-align: right;\n",
       "    }\n",
       "</style>\n",
       "<table border=\"1\" class=\"dataframe\">\n",
       "  <thead>\n",
       "    <tr style=\"text-align: right;\">\n",
       "      <th></th>\n",
       "      <th>Zone No</th>\n",
       "      <th>Tehsil Code</th>\n",
       "      <th>Tehsil Name</th>\n",
       "      <th>District Name</th>\n",
       "      <th>Village Name</th>\n",
       "      <th>State Name</th>\n",
       "      <th>Year</th>\n",
       "    </tr>\n",
       "  </thead>\n",
       "  <tbody>\n",
       "    <tr>\n",
       "      <th>0</th>\n",
       "      <td>I</td>\n",
       "      <td>1.0</td>\n",
       "      <td>Pathapatnam</td>\n",
       "      <td>Srikakulam</td>\n",
       "      <td>R.L. Puram</td>\n",
       "      <td>Andhra Pradesh</td>\n",
       "      <td>2014-2017</td>\n",
       "    </tr>\n",
       "    <tr>\n",
       "      <th>1</th>\n",
       "      <td>I</td>\n",
       "      <td>2.0</td>\n",
       "      <td>Hiramandalam</td>\n",
       "      <td>Srikakulam</td>\n",
       "      <td>Tampa</td>\n",
       "      <td>Andhra Pradesh</td>\n",
       "      <td>2014-2017</td>\n",
       "    </tr>\n",
       "    <tr>\n",
       "      <th>2</th>\n",
       "      <td>I</td>\n",
       "      <td>3.0</td>\n",
       "      <td>Kurupam</td>\n",
       "      <td>Vizianagaram</td>\n",
       "      <td>Kurupam</td>\n",
       "      <td>Andhra Pradesh</td>\n",
       "      <td>2014-2017</td>\n",
       "    </tr>\n",
       "    <tr>\n",
       "      <th>3</th>\n",
       "      <td>I</td>\n",
       "      <td>4.0</td>\n",
       "      <td>Balijipeta</td>\n",
       "      <td>Vizianagaram</td>\n",
       "      <td>Barli</td>\n",
       "      <td>Andhra Pradesh</td>\n",
       "      <td>2014-2017</td>\n",
       "    </tr>\n",
       "    <tr>\n",
       "      <th>4</th>\n",
       "      <td>I</td>\n",
       "      <td>5.0</td>\n",
       "      <td>Madugula</td>\n",
       "      <td>Visakhapatnam</td>\n",
       "      <td>Madugula</td>\n",
       "      <td>Andhra Pradesh</td>\n",
       "      <td>2014-2017</td>\n",
       "    </tr>\n",
       "  </tbody>\n",
       "</table>\n",
       "</div>"
      ],
      "text/plain": [
       "  Zone No  Tehsil Code     Tehsil Name   District Name Village Name  \\\n",
       "0       I          1.0   Pathapatnam       Srikakulam    R.L. Puram   \n",
       "1       I          2.0  Hiramandalam       Srikakulam         Tampa   \n",
       "2       I          3.0       Kurupam     Vizianagaram       Kurupam   \n",
       "3       I          4.0    Balijipeta     Vizianagaram         Barli   \n",
       "4       I          5.0      Madugula    Visakhapatnam     Madugula    \n",
       "\n",
       "       State Name       Year  \n",
       "0  Andhra Pradesh  2014-2017  \n",
       "1  Andhra Pradesh  2014-2017  \n",
       "2  Andhra Pradesh  2014-2017  \n",
       "3  Andhra Pradesh  2014-2017  \n",
       "4  Andhra Pradesh  2014-2017  "
      ]
     },
     "execution_count": 44,
     "metadata": {},
     "output_type": "execute_result"
    }
   ],
   "source": [
    "df_2014_2017.head()"
   ]
  },
  {
   "cell_type": "code",
   "execution_count": 45,
   "id": "9920d49d",
   "metadata": {},
   "outputs": [
    {
     "data": {
      "text/html": [
       "<div>\n",
       "<style scoped>\n",
       "    .dataframe tbody tr th:only-of-type {\n",
       "        vertical-align: middle;\n",
       "    }\n",
       "\n",
       "    .dataframe tbody tr th {\n",
       "        vertical-align: top;\n",
       "    }\n",
       "\n",
       "    .dataframe thead th {\n",
       "        text-align: right;\n",
       "    }\n",
       "</style>\n",
       "<table border=\"1\" class=\"dataframe\">\n",
       "  <thead>\n",
       "    <tr style=\"text-align: right;\">\n",
       "      <th></th>\n",
       "      <th>Tehsil Code</th>\n",
       "      <th>Zone Number</th>\n",
       "      <th>District Name</th>\n",
       "      <th>Tehsil Name</th>\n",
       "      <th>Vilage</th>\n",
       "      <th>State</th>\n",
       "      <th>Block</th>\n",
       "      <th>District Code</th>\n",
       "    </tr>\n",
       "  </thead>\n",
       "  <tbody>\n",
       "    <tr>\n",
       "      <th>0</th>\n",
       "      <td>1</td>\n",
       "      <td>II-Terai</td>\n",
       "      <td>COOCHBEHAR</td>\n",
       "      <td>DINHATA-I</td>\n",
       "      <td>Bhoram Payasthi</td>\n",
       "      <td>West Bengal</td>\n",
       "      <td>2017-2020</td>\n",
       "      <td>NaN</td>\n",
       "    </tr>\n",
       "    <tr>\n",
       "      <th>1</th>\n",
       "      <td>2</td>\n",
       "      <td>II-Terai</td>\n",
       "      <td>JALPAIGURI</td>\n",
       "      <td>NAGRAKATA</td>\n",
       "      <td>Dhouda Simla  (N)</td>\n",
       "      <td>West Bengal</td>\n",
       "      <td>2017-2020</td>\n",
       "      <td>NaN</td>\n",
       "    </tr>\n",
       "    <tr>\n",
       "      <th>2</th>\n",
       "      <td>3</td>\n",
       "      <td>II-Terai</td>\n",
       "      <td>JALPAIGURI</td>\n",
       "      <td>JALPAIGURI</td>\n",
       "      <td>Banshkanthia</td>\n",
       "      <td>West Bengal</td>\n",
       "      <td>2017-2020</td>\n",
       "      <td>NaN</td>\n",
       "    </tr>\n",
       "    <tr>\n",
       "      <th>3</th>\n",
       "      <td>4</td>\n",
       "      <td>II-Terai</td>\n",
       "      <td>COOCHBEHAR</td>\n",
       "      <td>DINHATA-I</td>\n",
       "      <td>Ruier Khuthi</td>\n",
       "      <td>West Bengal</td>\n",
       "      <td>2017-2020</td>\n",
       "      <td>NaN</td>\n",
       "    </tr>\n",
       "    <tr>\n",
       "      <th>4</th>\n",
       "      <td>5</td>\n",
       "      <td>II-Terai</td>\n",
       "      <td>JALPAIGURI</td>\n",
       "      <td>DHUBGIRI</td>\n",
       "      <td>Bara Gharia</td>\n",
       "      <td>West Bengal</td>\n",
       "      <td>2017-2020</td>\n",
       "      <td>NaN</td>\n",
       "    </tr>\n",
       "  </tbody>\n",
       "</table>\n",
       "</div>"
      ],
      "text/plain": [
       "  Tehsil Code Zone Number District Name Tehsil Name            Vilage   \\\n",
       "0           1    II-Terai    COOCHBEHAR   DINHATA-I    Bhoram Payasthi   \n",
       "1           2    II-Terai    JALPAIGURI   NAGRAKATA  Dhouda Simla  (N)   \n",
       "2           3    II-Terai    JALPAIGURI  JALPAIGURI       Banshkanthia   \n",
       "3           4    II-Terai    COOCHBEHAR   DINHATA-I       Ruier Khuthi   \n",
       "4           5    II-Terai    JALPAIGURI    DHUBGIRI        Bara Gharia   \n",
       "\n",
       "         State      Block  District Code  \n",
       "0  West Bengal  2017-2020            NaN  \n",
       "1  West Bengal  2017-2020            NaN  \n",
       "2  West Bengal  2017-2020            NaN  \n",
       "3  West Bengal  2017-2020            NaN  \n",
       "4  West Bengal  2017-2020            NaN  "
      ]
     },
     "execution_count": 45,
     "metadata": {},
     "output_type": "execute_result"
    }
   ],
   "source": [
    "df_2017_2020.head()"
   ]
  },
  {
   "cell_type": "code",
   "execution_count": 46,
   "id": "66978dd1",
   "metadata": {},
   "outputs": [],
   "source": [
    "df_2017_2020 = df_2017_2020.drop(columns=['District Code'])"
   ]
  },
  {
   "cell_type": "code",
   "execution_count": 47,
   "id": "7288079d",
   "metadata": {},
   "outputs": [
    {
     "data": {
      "text/html": [
       "<div>\n",
       "<style scoped>\n",
       "    .dataframe tbody tr th:only-of-type {\n",
       "        vertical-align: middle;\n",
       "    }\n",
       "\n",
       "    .dataframe tbody tr th {\n",
       "        vertical-align: top;\n",
       "    }\n",
       "\n",
       "    .dataframe thead th {\n",
       "        text-align: right;\n",
       "    }\n",
       "</style>\n",
       "<table border=\"1\" class=\"dataframe\">\n",
       "  <thead>\n",
       "    <tr style=\"text-align: right;\">\n",
       "      <th></th>\n",
       "      <th>Tehsil Code</th>\n",
       "      <th>Zone Number</th>\n",
       "      <th>District Name</th>\n",
       "      <th>Tehsil Name</th>\n",
       "      <th>Vilage</th>\n",
       "      <th>State</th>\n",
       "      <th>Block</th>\n",
       "    </tr>\n",
       "  </thead>\n",
       "  <tbody>\n",
       "    <tr>\n",
       "      <th>0</th>\n",
       "      <td>1</td>\n",
       "      <td>II-Terai</td>\n",
       "      <td>COOCHBEHAR</td>\n",
       "      <td>DINHATA-I</td>\n",
       "      <td>Bhoram Payasthi</td>\n",
       "      <td>West Bengal</td>\n",
       "      <td>2017-2020</td>\n",
       "    </tr>\n",
       "    <tr>\n",
       "      <th>1</th>\n",
       "      <td>2</td>\n",
       "      <td>II-Terai</td>\n",
       "      <td>JALPAIGURI</td>\n",
       "      <td>NAGRAKATA</td>\n",
       "      <td>Dhouda Simla  (N)</td>\n",
       "      <td>West Bengal</td>\n",
       "      <td>2017-2020</td>\n",
       "    </tr>\n",
       "    <tr>\n",
       "      <th>2</th>\n",
       "      <td>3</td>\n",
       "      <td>II-Terai</td>\n",
       "      <td>JALPAIGURI</td>\n",
       "      <td>JALPAIGURI</td>\n",
       "      <td>Banshkanthia</td>\n",
       "      <td>West Bengal</td>\n",
       "      <td>2017-2020</td>\n",
       "    </tr>\n",
       "    <tr>\n",
       "      <th>3</th>\n",
       "      <td>4</td>\n",
       "      <td>II-Terai</td>\n",
       "      <td>COOCHBEHAR</td>\n",
       "      <td>DINHATA-I</td>\n",
       "      <td>Ruier Khuthi</td>\n",
       "      <td>West Bengal</td>\n",
       "      <td>2017-2020</td>\n",
       "    </tr>\n",
       "    <tr>\n",
       "      <th>4</th>\n",
       "      <td>5</td>\n",
       "      <td>II-Terai</td>\n",
       "      <td>JALPAIGURI</td>\n",
       "      <td>DHUBGIRI</td>\n",
       "      <td>Bara Gharia</td>\n",
       "      <td>West Bengal</td>\n",
       "      <td>2017-2020</td>\n",
       "    </tr>\n",
       "  </tbody>\n",
       "</table>\n",
       "</div>"
      ],
      "text/plain": [
       "  Tehsil Code Zone Number District Name Tehsil Name            Vilage   \\\n",
       "0           1    II-Terai    COOCHBEHAR   DINHATA-I    Bhoram Payasthi   \n",
       "1           2    II-Terai    JALPAIGURI   NAGRAKATA  Dhouda Simla  (N)   \n",
       "2           3    II-Terai    JALPAIGURI  JALPAIGURI       Banshkanthia   \n",
       "3           4    II-Terai    COOCHBEHAR   DINHATA-I       Ruier Khuthi   \n",
       "4           5    II-Terai    JALPAIGURI    DHUBGIRI        Bara Gharia   \n",
       "\n",
       "         State      Block  \n",
       "0  West Bengal  2017-2020  \n",
       "1  West Bengal  2017-2020  \n",
       "2  West Bengal  2017-2020  \n",
       "3  West Bengal  2017-2020  \n",
       "4  West Bengal  2017-2020  "
      ]
     },
     "execution_count": 47,
     "metadata": {},
     "output_type": "execute_result"
    }
   ],
   "source": [
    "df_2017_2020.head()"
   ]
  },
  {
   "cell_type": "code",
   "execution_count": 48,
   "id": "4b7eaaf5",
   "metadata": {},
   "outputs": [
    {
     "data": {
      "text/plain": [
       "Index(['Tehsil Code', 'Zone Number', 'District Name', 'Tehsil Name', 'Vilage ',\n",
       "       'State', 'Block'],\n",
       "      dtype='object')"
      ]
     },
     "execution_count": 48,
     "metadata": {},
     "output_type": "execute_result"
    }
   ],
   "source": [
    "df_2017_2020.columns"
   ]
  },
  {
   "cell_type": "code",
   "execution_count": 49,
   "id": "3da3d9d4",
   "metadata": {},
   "outputs": [],
   "source": [
    "df_2017_2020 = df_2017_2020[['Zone Number', 'Tehsil Code', 'Tehsil Name', 'District Name', 'Vilage ', 'State', 'Block']]"
   ]
  },
  {
   "cell_type": "code",
   "execution_count": 50,
   "id": "6bf24b2d",
   "metadata": {},
   "outputs": [],
   "source": [
    "new_column_names = ['Zone No', 'Tehsil Code', 'Tehsil Name', 'District Name', 'Village Name', 'State Name', 'Year']\n",
    "\n",
    "df_2017_2020.columns = new_column_names"
   ]
  },
  {
   "cell_type": "code",
   "execution_count": 51,
   "id": "71b0f7da",
   "metadata": {},
   "outputs": [
    {
     "data": {
      "text/html": [
       "<div>\n",
       "<style scoped>\n",
       "    .dataframe tbody tr th:only-of-type {\n",
       "        vertical-align: middle;\n",
       "    }\n",
       "\n",
       "    .dataframe tbody tr th {\n",
       "        vertical-align: top;\n",
       "    }\n",
       "\n",
       "    .dataframe thead th {\n",
       "        text-align: right;\n",
       "    }\n",
       "</style>\n",
       "<table border=\"1\" class=\"dataframe\">\n",
       "  <thead>\n",
       "    <tr style=\"text-align: right;\">\n",
       "      <th></th>\n",
       "      <th>Zone No</th>\n",
       "      <th>Tehsil Code</th>\n",
       "      <th>Tehsil Name</th>\n",
       "      <th>District Name</th>\n",
       "      <th>Village Name</th>\n",
       "      <th>State Name</th>\n",
       "      <th>Year</th>\n",
       "    </tr>\n",
       "  </thead>\n",
       "  <tbody>\n",
       "    <tr>\n",
       "      <th>0</th>\n",
       "      <td>II-Terai</td>\n",
       "      <td>1</td>\n",
       "      <td>DINHATA-I</td>\n",
       "      <td>COOCHBEHAR</td>\n",
       "      <td>Bhoram Payasthi</td>\n",
       "      <td>West Bengal</td>\n",
       "      <td>2017-2020</td>\n",
       "    </tr>\n",
       "    <tr>\n",
       "      <th>1</th>\n",
       "      <td>II-Terai</td>\n",
       "      <td>2</td>\n",
       "      <td>NAGRAKATA</td>\n",
       "      <td>JALPAIGURI</td>\n",
       "      <td>Dhouda Simla  (N)</td>\n",
       "      <td>West Bengal</td>\n",
       "      <td>2017-2020</td>\n",
       "    </tr>\n",
       "    <tr>\n",
       "      <th>2</th>\n",
       "      <td>II-Terai</td>\n",
       "      <td>3</td>\n",
       "      <td>JALPAIGURI</td>\n",
       "      <td>JALPAIGURI</td>\n",
       "      <td>Banshkanthia</td>\n",
       "      <td>West Bengal</td>\n",
       "      <td>2017-2020</td>\n",
       "    </tr>\n",
       "    <tr>\n",
       "      <th>3</th>\n",
       "      <td>II-Terai</td>\n",
       "      <td>4</td>\n",
       "      <td>DINHATA-I</td>\n",
       "      <td>COOCHBEHAR</td>\n",
       "      <td>Ruier Khuthi</td>\n",
       "      <td>West Bengal</td>\n",
       "      <td>2017-2020</td>\n",
       "    </tr>\n",
       "    <tr>\n",
       "      <th>4</th>\n",
       "      <td>II-Terai</td>\n",
       "      <td>5</td>\n",
       "      <td>DHUBGIRI</td>\n",
       "      <td>JALPAIGURI</td>\n",
       "      <td>Bara Gharia</td>\n",
       "      <td>West Bengal</td>\n",
       "      <td>2017-2020</td>\n",
       "    </tr>\n",
       "  </tbody>\n",
       "</table>\n",
       "</div>"
      ],
      "text/plain": [
       "    Zone No Tehsil Code Tehsil Name District Name       Village Name  \\\n",
       "0  II-Terai           1   DINHATA-I    COOCHBEHAR    Bhoram Payasthi   \n",
       "1  II-Terai           2   NAGRAKATA    JALPAIGURI  Dhouda Simla  (N)   \n",
       "2  II-Terai           3  JALPAIGURI    JALPAIGURI       Banshkanthia   \n",
       "3  II-Terai           4   DINHATA-I    COOCHBEHAR       Ruier Khuthi   \n",
       "4  II-Terai           5    DHUBGIRI    JALPAIGURI        Bara Gharia   \n",
       "\n",
       "    State Name       Year  \n",
       "0  West Bengal  2017-2020  \n",
       "1  West Bengal  2017-2020  \n",
       "2  West Bengal  2017-2020  \n",
       "3  West Bengal  2017-2020  \n",
       "4  West Bengal  2017-2020  "
      ]
     },
     "execution_count": 51,
     "metadata": {},
     "output_type": "execute_result"
    }
   ],
   "source": [
    "df_2017_2020.head()"
   ]
  },
  {
   "cell_type": "code",
   "execution_count": 52,
   "id": "3cffc3a7",
   "metadata": {},
   "outputs": [],
   "source": [
    "df_2008_2011['Village Name'] = df_2008_2011['Village Name'].str.lower()"
   ]
  },
  {
   "cell_type": "code",
   "execution_count": 53,
   "id": "a2529216",
   "metadata": {},
   "outputs": [],
   "source": [
    "df_2011_2014['Village Name'] = df_2011_2014['Village Name'].str.lower()"
   ]
  },
  {
   "cell_type": "code",
   "execution_count": 54,
   "id": "896805fd",
   "metadata": {},
   "outputs": [],
   "source": [
    "df_2014_2017['Village Name'] = df_2014_2017['Village Name'].str.lower()"
   ]
  },
  {
   "cell_type": "code",
   "execution_count": 55,
   "id": "ce5f48e6",
   "metadata": {},
   "outputs": [],
   "source": [
    "df_2017_2020['Village Name'] = df_2017_2020['Village Name'].str.lower()"
   ]
  },
  {
   "cell_type": "markdown",
   "id": "6a2ad296",
   "metadata": {},
   "source": [
    "### Converting Village Names to lower case"
   ]
  },
  {
   "cell_type": "code",
   "execution_count": 56,
   "id": "025b5e39",
   "metadata": {},
   "outputs": [],
   "source": [
    "merged_df = pd.concat([df_2008_2011, df_2011_2014, df_2014_2017, df_2017_2020], ignore_index=True)"
   ]
  },
  {
   "cell_type": "code",
   "execution_count": 57,
   "id": "3b78f6cd",
   "metadata": {
    "scrolled": false
   },
   "outputs": [
    {
     "data": {
      "text/html": [
       "<div>\n",
       "<style scoped>\n",
       "    .dataframe tbody tr th:only-of-type {\n",
       "        vertical-align: middle;\n",
       "    }\n",
       "\n",
       "    .dataframe tbody tr th {\n",
       "        vertical-align: top;\n",
       "    }\n",
       "\n",
       "    .dataframe thead th {\n",
       "        text-align: right;\n",
       "    }\n",
       "</style>\n",
       "<table border=\"1\" class=\"dataframe\">\n",
       "  <thead>\n",
       "    <tr style=\"text-align: right;\">\n",
       "      <th></th>\n",
       "      <th>Zone No</th>\n",
       "      <th>Tehsil Code</th>\n",
       "      <th>Tehsil Name</th>\n",
       "      <th>District Name</th>\n",
       "      <th>Village Name</th>\n",
       "      <th>State Name</th>\n",
       "      <th>Year</th>\n",
       "    </tr>\n",
       "  </thead>\n",
       "  <tbody>\n",
       "    <tr>\n",
       "      <th>11</th>\n",
       "      <td>II</td>\n",
       "      <td>6</td>\n",
       "      <td>Amalapuram</td>\n",
       "      <td>East Godavari</td>\n",
       "      <td>a.vemavaram</td>\n",
       "      <td>Andhra Pradesh</td>\n",
       "      <td>2008-2011</td>\n",
       "    </tr>\n",
       "    <tr>\n",
       "      <th>807</th>\n",
       "      <td>III</td>\n",
       "      <td>13</td>\n",
       "      <td>BELDANGA-I</td>\n",
       "      <td>MURSHIDABAD</td>\n",
       "      <td>begunbari</td>\n",
       "      <td>West Bengal</td>\n",
       "      <td>2008-2011</td>\n",
       "    </tr>\n",
       "    <tr>\n",
       "      <th>2263</th>\n",
       "      <td>7</td>\n",
       "      <td>50.0</td>\n",
       "      <td>Gadhada</td>\n",
       "      <td>Bhavnagar</td>\n",
       "      <td>gordaka</td>\n",
       "      <td>Gujarat</td>\n",
       "      <td>2014-2017</td>\n",
       "    </tr>\n",
       "    <tr>\n",
       "      <th>1848</th>\n",
       "      <td>10</td>\n",
       "      <td>36</td>\n",
       "      <td>Manasa</td>\n",
       "      <td>Neemuch</td>\n",
       "      <td>pipaliya raoji</td>\n",
       "      <td>Madhya Pradesh</td>\n",
       "      <td>2011-2014</td>\n",
       "    </tr>\n",
       "    <tr>\n",
       "      <th>1057</th>\n",
       "      <td>08</td>\n",
       "      <td>Belgaum</td>\n",
       "      <td>42.0</td>\n",
       "      <td>Chikkodi</td>\n",
       "      <td>ankalli</td>\n",
       "      <td>Karnataka</td>\n",
       "      <td>2008-2011</td>\n",
       "    </tr>\n",
       "    <tr>\n",
       "      <th>2597</th>\n",
       "      <td>8</td>\n",
       "      <td>58.0</td>\n",
       "      <td>Nanded</td>\n",
       "      <td>Nanded</td>\n",
       "      <td>marlak</td>\n",
       "      <td>Maharashtra</td>\n",
       "      <td>2014-2017</td>\n",
       "    </tr>\n",
       "    <tr>\n",
       "      <th>93</th>\n",
       "      <td>II</td>\n",
       "      <td>19</td>\n",
       "      <td>Borpathar</td>\n",
       "      <td>Golaghat</td>\n",
       "      <td>1.dighalipather</td>\n",
       "      <td>Assam</td>\n",
       "      <td>2008-2009</td>\n",
       "    </tr>\n",
       "    <tr>\n",
       "      <th>2130</th>\n",
       "      <td>BVZ(V)</td>\n",
       "      <td>45.0</td>\n",
       "      <td>Hamren</td>\n",
       "      <td>Karbi Anglong</td>\n",
       "      <td>rongkini</td>\n",
       "      <td>Assam</td>\n",
       "      <td>2014-2017</td>\n",
       "    </tr>\n",
       "    <tr>\n",
       "      <th>1408</th>\n",
       "      <td>II</td>\n",
       "      <td>19</td>\n",
       "      <td>Hamipur</td>\n",
       "      <td>Barsar</td>\n",
       "      <td>pahlu</td>\n",
       "      <td>Himachal Pradesh</td>\n",
       "      <td>2011-2014</td>\n",
       "    </tr>\n",
       "    <tr>\n",
       "      <th>2503</th>\n",
       "      <td>Kymore plateau and Satpura hills (3)</td>\n",
       "      <td>9.0</td>\n",
       "      <td>Rampur</td>\n",
       "      <td>Satna</td>\n",
       "      <td>chorhata</td>\n",
       "      <td>Madhya Pradesh</td>\n",
       "      <td>2014-2017</td>\n",
       "    </tr>\n",
       "  </tbody>\n",
       "</table>\n",
       "</div>"
      ],
      "text/plain": [
       "                                   Zone No Tehsil Code Tehsil Name  \\\n",
       "11                                      II           6  Amalapuram   \n",
       "807                                    III          13  BELDANGA-I   \n",
       "2263                                     7        50.0     Gadhada   \n",
       "1848                                    10          36      Manasa   \n",
       "1057                                    08     Belgaum        42.0   \n",
       "2597                                     8        58.0      Nanded   \n",
       "93                                      II          19   Borpathar   \n",
       "2130                                BVZ(V)        45.0      Hamren   \n",
       "1408                                    II          19     Hamipur   \n",
       "2503  Kymore plateau and Satpura hills (3)         9.0      Rampur   \n",
       "\n",
       "      District Name     Village Name        State Name       Year  \n",
       "11    East Godavari      a.vemavaram    Andhra Pradesh  2008-2011  \n",
       "807     MURSHIDABAD       begunbari        West Bengal  2008-2011  \n",
       "2263      Bhavnagar          gordaka           Gujarat  2014-2017  \n",
       "1848       Neemuch    pipaliya raoji    Madhya Pradesh  2011-2014  \n",
       "1057       Chikkodi          ankalli         Karnataka  2008-2011  \n",
       "2597         Nanded           marlak       Maharashtra  2014-2017  \n",
       "93         Golaghat  1.dighalipather             Assam  2008-2009  \n",
       "2130  Karbi Anglong         rongkini             Assam  2014-2017  \n",
       "1408         Barsar            pahlu  Himachal Pradesh  2011-2014  \n",
       "2503          Satna         chorhata    Madhya Pradesh  2014-2017  "
      ]
     },
     "execution_count": 57,
     "metadata": {},
     "output_type": "execute_result"
    }
   ],
   "source": [
    "merged_df.sample(10)"
   ]
  },
  {
   "cell_type": "code",
   "execution_count": 58,
   "id": "4832ccf9",
   "metadata": {},
   "outputs": [
    {
     "data": {
      "text/html": [
       "<div>\n",
       "<style scoped>\n",
       "    .dataframe tbody tr th:only-of-type {\n",
       "        vertical-align: middle;\n",
       "    }\n",
       "\n",
       "    .dataframe tbody tr th {\n",
       "        vertical-align: top;\n",
       "    }\n",
       "\n",
       "    .dataframe thead th {\n",
       "        text-align: right;\n",
       "    }\n",
       "</style>\n",
       "<table border=\"1\" class=\"dataframe\">\n",
       "  <thead>\n",
       "    <tr style=\"text-align: right;\">\n",
       "      <th></th>\n",
       "      <th>Zone No</th>\n",
       "      <th>Tehsil Code</th>\n",
       "      <th>Tehsil Name</th>\n",
       "      <th>District Name</th>\n",
       "      <th>Village Name</th>\n",
       "      <th>State Name</th>\n",
       "      <th>Year</th>\n",
       "    </tr>\n",
       "  </thead>\n",
       "  <tbody>\n",
       "    <tr>\n",
       "      <th>2024</th>\n",
       "      <td>LBVZ (I)</td>\n",
       "      <td>1.0</td>\n",
       "      <td>Bogoribari</td>\n",
       "      <td>Dhubri</td>\n",
       "      <td>bagulmari p=i i</td>\n",
       "      <td>Assam</td>\n",
       "      <td>2014-2017</td>\n",
       "    </tr>\n",
       "    <tr>\n",
       "      <th>2169</th>\n",
       "      <td>Bihar/ IV</td>\n",
       "      <td>25.0</td>\n",
       "      <td>Barh</td>\n",
       "      <td>Patna</td>\n",
       "      <td>mirdahachak</td>\n",
       "      <td>Bihar</td>\n",
       "      <td>2014-2017</td>\n",
       "    </tr>\n",
       "    <tr>\n",
       "      <th>3837</th>\n",
       "      <td>Zone-II</td>\n",
       "      <td>11</td>\n",
       "      <td>Jind</td>\n",
       "      <td>jind</td>\n",
       "      <td>bibipur</td>\n",
       "      <td>Haryana</td>\n",
       "      <td>2017-2020</td>\n",
       "    </tr>\n",
       "    <tr>\n",
       "      <th>1308</th>\n",
       "      <td>4</td>\n",
       "      <td>14</td>\n",
       "      <td>Deesa</td>\n",
       "      <td>Banaskantha</td>\n",
       "      <td>aaseda</td>\n",
       "      <td>Gujarat</td>\n",
       "      <td>2011-2014</td>\n",
       "    </tr>\n",
       "    <tr>\n",
       "      <th>3432</th>\n",
       "      <td>ZONE-VII</td>\n",
       "      <td>48</td>\n",
       "      <td>Hurda</td>\n",
       "      <td>Bhilwara</td>\n",
       "      <td>tokarwad</td>\n",
       "      <td>Rajasthan</td>\n",
       "      <td>2017-2020</td>\n",
       "    </tr>\n",
       "  </tbody>\n",
       "</table>\n",
       "</div>"
      ],
      "text/plain": [
       "        Zone No Tehsil Code Tehsil Name District Name     Village Name  \\\n",
       "2024   LBVZ (I)         1.0  Bogoribari        Dhubri  bagulmari p=i i   \n",
       "2169  Bihar/ IV        25.0        Barh         Patna      mirdahachak   \n",
       "3837    Zone-II          11        Jind          jind          bibipur   \n",
       "1308          4          14       Deesa   Banaskantha           aaseda   \n",
       "3432   ZONE-VII          48       Hurda      Bhilwara         tokarwad   \n",
       "\n",
       "      State Name       Year  \n",
       "2024       Assam  2014-2017  \n",
       "2169       Bihar  2014-2017  \n",
       "3837    Haryana   2017-2020  \n",
       "1308     Gujarat  2011-2014  \n",
       "3432  Rajasthan   2017-2020  "
      ]
     },
     "execution_count": 58,
     "metadata": {},
     "output_type": "execute_result"
    }
   ],
   "source": [
    "merged_df.sample(5)"
   ]
  },
  {
   "cell_type": "code",
   "execution_count": 59,
   "id": "d10489a8",
   "metadata": {},
   "outputs": [],
   "source": [
    "merged_df['Village Name'] = merged_df['Village Name'].str.lower()"
   ]
  },
  {
   "cell_type": "code",
   "execution_count": 60,
   "id": "fac66a64",
   "metadata": {},
   "outputs": [],
   "source": [
    "merged_df['Year'] = merged_df['Year'].replace('2008-2009', '2008-2011')"
   ]
  },
  {
   "cell_type": "code",
   "execution_count": 61,
   "id": "93df64c8",
   "metadata": {},
   "outputs": [
    {
     "data": {
      "text/plain": [
       "3957"
      ]
     },
     "execution_count": 61,
     "metadata": {},
     "output_type": "execute_result"
    }
   ],
   "source": [
    "len(merged_df['Village Name'].unique())"
   ]
  },
  {
   "cell_type": "code",
   "execution_count": 62,
   "id": "de23c1c3",
   "metadata": {},
   "outputs": [
    {
     "data": {
      "text/plain": [
       "array(['Andhra Pradesh', 'Assam', 'Bihar', 'Chhattisgarh', 'Gujrat',\n",
       "       'Haryana', 'Jharkhand', 'Kerala', 'Maharastra', 'Madhya Pradesh',\n",
       "       'Orissa', 'Punjab', 'Rajasthan', 'Tamil Nadu', 'West Bengal',\n",
       "       'Uttar Pradesh', 'Himachal Pradesh', 'Karnataka', 'Gujarat',\n",
       "       'Odisha', 'Chattisgarh', 'Maharashtra', 'Uttarakhand',\n",
       "       'Uttarakhand ', 'Uttar Pradesh ', 'Tamil Nadu ', 'Rajasthan ',\n",
       "       'Punjab ', 'Odisha ', 'Maharashtra ', 'Madhya Pradesh ', 'Kerala ',\n",
       "       'Karnataka ', 'Jharkand ', 'Haryana ', 'Gujarat ', 'Chattisgarh ',\n",
       "       'Bihar ', 'Assam ', 'Andhra Pradesh & Telangana '], dtype=object)"
      ]
     },
     "execution_count": 62,
     "metadata": {},
     "output_type": "execute_result"
    }
   ],
   "source": [
    "merged_df['State Name'].unique()"
   ]
  },
  {
   "cell_type": "code",
   "execution_count": 63,
   "id": "65a6af82",
   "metadata": {},
   "outputs": [],
   "source": [
    "merged_df['State Name'] = merged_df['State Name'].str.replace('Assam ', 'Assam', regex=False)"
   ]
  },
  {
   "cell_type": "code",
   "execution_count": 64,
   "id": "d2e2a928",
   "metadata": {},
   "outputs": [],
   "source": [
    "merged_df['State Name'] = merged_df['State Name'].str.replace('Bihar ', 'Bihar', regex=False)"
   ]
  },
  {
   "cell_type": "code",
   "execution_count": 65,
   "id": "2ed267e8",
   "metadata": {},
   "outputs": [],
   "source": [
    "merged_df['State Name'] = merged_df['State Name'].str.replace('Uttarakhand ', 'Uttarakhand', regex=False)"
   ]
  },
  {
   "cell_type": "code",
   "execution_count": 66,
   "id": "551b41d3",
   "metadata": {},
   "outputs": [],
   "source": [
    "merged_df['State Name'] = merged_df['State Name'].str.replace('Uttar Pradesh ', 'Uttar Pradesh', regex=False)"
   ]
  },
  {
   "cell_type": "code",
   "execution_count": 67,
   "id": "3d3024e5",
   "metadata": {},
   "outputs": [],
   "source": [
    "merged_df['State Name'] = merged_df['State Name'].str.replace('Tamil Nadu ', 'Tamil Nadu', regex=False)"
   ]
  },
  {
   "cell_type": "code",
   "execution_count": 68,
   "id": "d98d84d4",
   "metadata": {},
   "outputs": [],
   "source": [
    "merged_df['State Name'] = merged_df['State Name'].str.replace('Rajasthan ', 'Rajasthan', regex=False)"
   ]
  },
  {
   "cell_type": "code",
   "execution_count": 69,
   "id": "97098709",
   "metadata": {},
   "outputs": [],
   "source": [
    "merged_df['State Name'] = merged_df['State Name'].str.replace('Punjab ', 'Punjab', regex=False)"
   ]
  },
  {
   "cell_type": "code",
   "execution_count": 70,
   "id": "e1524a26",
   "metadata": {},
   "outputs": [],
   "source": [
    "merged_df['State Name'] = merged_df['State Name'].str.replace('Odisha ', 'Odisha', regex=False)"
   ]
  },
  {
   "cell_type": "code",
   "execution_count": 71,
   "id": "70df115e",
   "metadata": {},
   "outputs": [],
   "source": [
    "merged_df['State Name'] = merged_df['State Name'].str.replace('Maharashtra ', 'Maharashtra', regex=False)"
   ]
  },
  {
   "cell_type": "code",
   "execution_count": 72,
   "id": "d764e9d5",
   "metadata": {},
   "outputs": [],
   "source": [
    "merged_df['State Name'] = merged_df['State Name'].str.replace('Madhya Pradesh ', 'Madhya Pradesh', regex=False)"
   ]
  },
  {
   "cell_type": "code",
   "execution_count": 73,
   "id": "e2d4169e",
   "metadata": {},
   "outputs": [],
   "source": [
    "merged_df['State Name'] = merged_df['State Name'].str.replace('Kerala ', 'Kerala', regex=False)"
   ]
  },
  {
   "cell_type": "code",
   "execution_count": 74,
   "id": "84398446",
   "metadata": {},
   "outputs": [],
   "source": [
    "merged_df['State Name'] = merged_df['State Name'].str.replace('Karnataka ', 'Karnataka', regex=False)"
   ]
  },
  {
   "cell_type": "code",
   "execution_count": 75,
   "id": "1eb7f2f8",
   "metadata": {},
   "outputs": [],
   "source": [
    "merged_df['State Name'] = merged_df['State Name'].str.replace('Jharkand ', 'Jharkhand', regex=False)"
   ]
  },
  {
   "cell_type": "code",
   "execution_count": 76,
   "id": "6d9f1fb4",
   "metadata": {},
   "outputs": [],
   "source": [
    "merged_df['State Name'] = merged_df['State Name'].str.replace('Gujarat ', 'Gujarat', regex=False)"
   ]
  },
  {
   "cell_type": "code",
   "execution_count": 77,
   "id": "dfc3c2ed",
   "metadata": {},
   "outputs": [],
   "source": [
    "merged_df['State Name'] = merged_df['State Name'].str.replace('Chattisgarh ', 'Chattisgarh', regex=False)"
   ]
  },
  {
   "cell_type": "code",
   "execution_count": 78,
   "id": "af82b715",
   "metadata": {},
   "outputs": [
    {
     "data": {
      "text/plain": [
       "2355"
      ]
     },
     "execution_count": 78,
     "metadata": {},
     "output_type": "execute_result"
    }
   ],
   "source": [
    "len(merged_df['Tehsil Name'].unique()) "
   ]
  },
  {
   "cell_type": "code",
   "execution_count": 79,
   "id": "75ab5d9b",
   "metadata": {},
   "outputs": [],
   "source": [
    "merged_df = merged_df.dropna()"
   ]
  },
  {
   "cell_type": "code",
   "execution_count": 188,
   "id": "bf8aed8b",
   "metadata": {},
   "outputs": [],
   "source": [
    "merged_df.to_csv('Final-Merged-Data(2008 - 2020).csv', index=False)"
   ]
  },
  {
   "cell_type": "markdown",
   "id": "55b5622f",
   "metadata": {},
   "source": [
    "### Common Villages"
   ]
  },
  {
   "cell_type": "code",
   "execution_count": 2,
   "id": "d5e0b570",
   "metadata": {},
   "outputs": [],
   "source": [
    "import pandas as pd"
   ]
  },
  {
   "cell_type": "code",
   "execution_count": 3,
   "id": "d071179e",
   "metadata": {},
   "outputs": [],
   "source": [
    "merged_df = pd.read_csv('/home/inductive-anks/yield-prediction/Yield-Prediction/data/Final Data/Final-Merged-Data(2008-2011 to 2017-2020).csv')"
   ]
  },
  {
   "cell_type": "code",
   "execution_count": 4,
   "id": "09f629e4",
   "metadata": {
    "scrolled": true
   },
   "outputs": [],
   "source": [
    "unique_years = merged_df['Year'].unique()\n",
    "\n",
    "multi_year_villages = merged_df[merged_df.duplicated(subset=['Village Name'], keep=False)]['Village Name'].unique()\n",
    "\n",
    "village_df = pd.DataFrame(0, index=multi_year_villages, columns=unique_years)\n",
    "\n",
    "for village in multi_year_villages:\n",
    "    village_years = merged_df[merged_df['Village Name'] == village]['Year'].unique()\n",
    "    village_df.loc[village, village_years] = 1\n",
    "\n",
    "village_df['Total Occurrence'] = village_df.sum(axis=1)\n",
    "\n",
    "village_df = village_df[village_df['Total Occurrence'] > 1]\n",
    "\n",
    "additional_attributes = merged_df.drop_duplicates(subset=['Village Name']).set_index('Village Name')\n",
    "village_df = village_df.merge(additional_attributes, left_index=True, right_index=True)\n",
    "\n",
    "village_df = village_df.sort_values(by='Total Occurrence', ascending=False)"
   ]
  },
  {
   "cell_type": "code",
   "execution_count": 5,
   "id": "94694fd2",
   "metadata": {
    "scrolled": false
   },
   "outputs": [
    {
     "data": {
      "text/html": [
       "<div>\n",
       "<style scoped>\n",
       "    .dataframe tbody tr th:only-of-type {\n",
       "        vertical-align: middle;\n",
       "    }\n",
       "\n",
       "    .dataframe tbody tr th {\n",
       "        vertical-align: top;\n",
       "    }\n",
       "\n",
       "    .dataframe thead th {\n",
       "        text-align: right;\n",
       "    }\n",
       "</style>\n",
       "<table border=\"1\" class=\"dataframe\">\n",
       "  <thead>\n",
       "    <tr style=\"text-align: right;\">\n",
       "      <th></th>\n",
       "      <th>2008-2011</th>\n",
       "      <th>2011-2014</th>\n",
       "      <th>2014-2017</th>\n",
       "      <th>2017-2020</th>\n",
       "      <th>Total Occurrence</th>\n",
       "      <th>State</th>\n",
       "      <th>Zone</th>\n",
       "      <th>District Name</th>\n",
       "      <th>Tehsil Code</th>\n",
       "      <th>Tehsil Name</th>\n",
       "      <th>Year</th>\n",
       "    </tr>\n",
       "  </thead>\n",
       "  <tbody>\n",
       "    <tr>\n",
       "      <th>shahpur</th>\n",
       "      <td>1</td>\n",
       "      <td>1</td>\n",
       "      <td>1</td>\n",
       "      <td>1</td>\n",
       "      <td>4</td>\n",
       "      <td>madhya pradesh</td>\n",
       "      <td>xii</td>\n",
       "      <td>dindori</td>\n",
       "      <td>44.0</td>\n",
       "      <td>dindori</td>\n",
       "      <td>2008-2011</td>\n",
       "    </tr>\n",
       "    <tr>\n",
       "      <th>amrapur</th>\n",
       "      <td>1</td>\n",
       "      <td>1</td>\n",
       "      <td>1</td>\n",
       "      <td>0</td>\n",
       "      <td>3</td>\n",
       "      <td>maharashtra</td>\n",
       "      <td>vi</td>\n",
       "      <td>a.nagar</td>\n",
       "      <td>20.0</td>\n",
       "      <td>shevgaon</td>\n",
       "      <td>2008-2011</td>\n",
       "    </tr>\n",
       "    <tr>\n",
       "      <th>rampur</th>\n",
       "      <td>1</td>\n",
       "      <td>1</td>\n",
       "      <td>1</td>\n",
       "      <td>0</td>\n",
       "      <td>3</td>\n",
       "      <td>gujarat</td>\n",
       "      <td>4</td>\n",
       "      <td>ahmedabad</td>\n",
       "      <td>32.0</td>\n",
       "      <td>dholka</td>\n",
       "      <td>2008-2011</td>\n",
       "    </tr>\n",
       "    <tr>\n",
       "      <th>haripur</th>\n",
       "      <td>1</td>\n",
       "      <td>1</td>\n",
       "      <td>1</td>\n",
       "      <td>0</td>\n",
       "      <td>3</td>\n",
       "      <td>west bengal</td>\n",
       "      <td>iv</td>\n",
       "      <td>hooghly</td>\n",
       "      <td>33.0</td>\n",
       "      <td>polba/dadpur</td>\n",
       "      <td>2008-2011</td>\n",
       "    </tr>\n",
       "    <tr>\n",
       "      <th>kot</th>\n",
       "      <td>1</td>\n",
       "      <td>1</td>\n",
       "      <td>1</td>\n",
       "      <td>0</td>\n",
       "      <td>3</td>\n",
       "      <td>himachal pradesh</td>\n",
       "      <td>iii</td>\n",
       "      <td>mandi</td>\n",
       "      <td>27.0</td>\n",
       "      <td>karsog</td>\n",
       "      <td>2008-2011</td>\n",
       "    </tr>\n",
       "  </tbody>\n",
       "</table>\n",
       "</div>"
      ],
      "text/plain": [
       "         2008-2011  2011-2014  2014-2017  2017-2020  Total Occurrence  \\\n",
       "shahpur          1          1          1          1                 4   \n",
       "amrapur          1          1          1          0                 3   \n",
       "rampur           1          1          1          0                 3   \n",
       "haripur          1          1          1          0                 3   \n",
       "kot              1          1          1          0                 3   \n",
       "\n",
       "                    State Zone District Name  Tehsil Code   Tehsil Name  \\\n",
       "shahpur    madhya pradesh  xii       dindori         44.0       dindori   \n",
       "amrapur       maharashtra   vi       a.nagar         20.0      shevgaon   \n",
       "rampur            gujarat    4     ahmedabad         32.0        dholka   \n",
       "haripur       west bengal   iv       hooghly         33.0  polba/dadpur   \n",
       "kot      himachal pradesh  iii         mandi         27.0        karsog   \n",
       "\n",
       "              Year  \n",
       "shahpur  2008-2011  \n",
       "amrapur  2008-2011  \n",
       "rampur   2008-2011  \n",
       "haripur  2008-2011  \n",
       "kot      2008-2011  "
      ]
     },
     "execution_count": 5,
     "metadata": {},
     "output_type": "execute_result"
    }
   ],
   "source": [
    "village_df.head()"
   ]
  },
  {
   "cell_type": "code",
   "execution_count": 6,
   "id": "230dda0b",
   "metadata": {},
   "outputs": [],
   "source": [
    "village_df.reset_index(inplace=True)"
   ]
  },
  {
   "cell_type": "code",
   "execution_count": 7,
   "id": "8721cf1a",
   "metadata": {},
   "outputs": [
    {
     "data": {
      "text/html": [
       "<div>\n",
       "<style scoped>\n",
       "    .dataframe tbody tr th:only-of-type {\n",
       "        vertical-align: middle;\n",
       "    }\n",
       "\n",
       "    .dataframe tbody tr th {\n",
       "        vertical-align: top;\n",
       "    }\n",
       "\n",
       "    .dataframe thead th {\n",
       "        text-align: right;\n",
       "    }\n",
       "</style>\n",
       "<table border=\"1\" class=\"dataframe\">\n",
       "  <thead>\n",
       "    <tr style=\"text-align: right;\">\n",
       "      <th></th>\n",
       "      <th>index</th>\n",
       "      <th>2008-2011</th>\n",
       "      <th>2011-2014</th>\n",
       "      <th>2014-2017</th>\n",
       "      <th>2017-2020</th>\n",
       "      <th>Total Occurrence</th>\n",
       "      <th>State</th>\n",
       "      <th>Zone</th>\n",
       "      <th>District Name</th>\n",
       "      <th>Tehsil Code</th>\n",
       "      <th>Tehsil Name</th>\n",
       "      <th>Year</th>\n",
       "    </tr>\n",
       "  </thead>\n",
       "  <tbody>\n",
       "    <tr>\n",
       "      <th>0</th>\n",
       "      <td>shahpur</td>\n",
       "      <td>1</td>\n",
       "      <td>1</td>\n",
       "      <td>1</td>\n",
       "      <td>1</td>\n",
       "      <td>4</td>\n",
       "      <td>madhya pradesh</td>\n",
       "      <td>xii</td>\n",
       "      <td>dindori</td>\n",
       "      <td>44.0</td>\n",
       "      <td>dindori</td>\n",
       "      <td>2008-2011</td>\n",
       "    </tr>\n",
       "    <tr>\n",
       "      <th>1</th>\n",
       "      <td>amrapur</td>\n",
       "      <td>1</td>\n",
       "      <td>1</td>\n",
       "      <td>1</td>\n",
       "      <td>0</td>\n",
       "      <td>3</td>\n",
       "      <td>maharashtra</td>\n",
       "      <td>vi</td>\n",
       "      <td>a.nagar</td>\n",
       "      <td>20.0</td>\n",
       "      <td>shevgaon</td>\n",
       "      <td>2008-2011</td>\n",
       "    </tr>\n",
       "    <tr>\n",
       "      <th>2</th>\n",
       "      <td>rampur</td>\n",
       "      <td>1</td>\n",
       "      <td>1</td>\n",
       "      <td>1</td>\n",
       "      <td>0</td>\n",
       "      <td>3</td>\n",
       "      <td>gujarat</td>\n",
       "      <td>4</td>\n",
       "      <td>ahmedabad</td>\n",
       "      <td>32.0</td>\n",
       "      <td>dholka</td>\n",
       "      <td>2008-2011</td>\n",
       "    </tr>\n",
       "    <tr>\n",
       "      <th>3</th>\n",
       "      <td>haripur</td>\n",
       "      <td>1</td>\n",
       "      <td>1</td>\n",
       "      <td>1</td>\n",
       "      <td>0</td>\n",
       "      <td>3</td>\n",
       "      <td>west bengal</td>\n",
       "      <td>iv</td>\n",
       "      <td>hooghly</td>\n",
       "      <td>33.0</td>\n",
       "      <td>polba/dadpur</td>\n",
       "      <td>2008-2011</td>\n",
       "    </tr>\n",
       "    <tr>\n",
       "      <th>4</th>\n",
       "      <td>kot</td>\n",
       "      <td>1</td>\n",
       "      <td>1</td>\n",
       "      <td>1</td>\n",
       "      <td>0</td>\n",
       "      <td>3</td>\n",
       "      <td>himachal pradesh</td>\n",
       "      <td>iii</td>\n",
       "      <td>mandi</td>\n",
       "      <td>27.0</td>\n",
       "      <td>karsog</td>\n",
       "      <td>2008-2011</td>\n",
       "    </tr>\n",
       "  </tbody>\n",
       "</table>\n",
       "</div>"
      ],
      "text/plain": [
       "     index  2008-2011  2011-2014  2014-2017  2017-2020  Total Occurrence  \\\n",
       "0  shahpur          1          1          1          1                 4   \n",
       "1  amrapur          1          1          1          0                 3   \n",
       "2   rampur          1          1          1          0                 3   \n",
       "3  haripur          1          1          1          0                 3   \n",
       "4      kot          1          1          1          0                 3   \n",
       "\n",
       "              State Zone District Name  Tehsil Code   Tehsil Name       Year  \n",
       "0    madhya pradesh  xii       dindori         44.0       dindori  2008-2011  \n",
       "1       maharashtra   vi       a.nagar         20.0      shevgaon  2008-2011  \n",
       "2           gujarat    4     ahmedabad         32.0        dholka  2008-2011  \n",
       "3       west bengal   iv       hooghly         33.0  polba/dadpur  2008-2011  \n",
       "4  himachal pradesh  iii         mandi         27.0        karsog  2008-2011  "
      ]
     },
     "execution_count": 7,
     "metadata": {},
     "output_type": "execute_result"
    }
   ],
   "source": [
    "village_df.head()"
   ]
  },
  {
   "cell_type": "code",
   "execution_count": 8,
   "id": "fa5683cf",
   "metadata": {},
   "outputs": [],
   "source": [
    "village_df.rename(columns={'index': 'Village Name'}, inplace=True)"
   ]
  },
  {
   "cell_type": "code",
   "execution_count": 9,
   "id": "0f6703d4",
   "metadata": {},
   "outputs": [
    {
     "data": {
      "text/html": [
       "<div>\n",
       "<style scoped>\n",
       "    .dataframe tbody tr th:only-of-type {\n",
       "        vertical-align: middle;\n",
       "    }\n",
       "\n",
       "    .dataframe tbody tr th {\n",
       "        vertical-align: top;\n",
       "    }\n",
       "\n",
       "    .dataframe thead th {\n",
       "        text-align: right;\n",
       "    }\n",
       "</style>\n",
       "<table border=\"1\" class=\"dataframe\">\n",
       "  <thead>\n",
       "    <tr style=\"text-align: right;\">\n",
       "      <th></th>\n",
       "      <th>Village Name</th>\n",
       "      <th>2008-2011</th>\n",
       "      <th>2011-2014</th>\n",
       "      <th>2014-2017</th>\n",
       "      <th>2017-2020</th>\n",
       "      <th>Total Occurrence</th>\n",
       "      <th>State</th>\n",
       "      <th>Zone</th>\n",
       "      <th>District Name</th>\n",
       "      <th>Tehsil Code</th>\n",
       "      <th>Tehsil Name</th>\n",
       "      <th>Year</th>\n",
       "    </tr>\n",
       "  </thead>\n",
       "  <tbody>\n",
       "    <tr>\n",
       "      <th>0</th>\n",
       "      <td>shahpur</td>\n",
       "      <td>1</td>\n",
       "      <td>1</td>\n",
       "      <td>1</td>\n",
       "      <td>1</td>\n",
       "      <td>4</td>\n",
       "      <td>madhya pradesh</td>\n",
       "      <td>xii</td>\n",
       "      <td>dindori</td>\n",
       "      <td>44.0</td>\n",
       "      <td>dindori</td>\n",
       "      <td>2008-2011</td>\n",
       "    </tr>\n",
       "    <tr>\n",
       "      <th>1</th>\n",
       "      <td>amrapur</td>\n",
       "      <td>1</td>\n",
       "      <td>1</td>\n",
       "      <td>1</td>\n",
       "      <td>0</td>\n",
       "      <td>3</td>\n",
       "      <td>maharashtra</td>\n",
       "      <td>vi</td>\n",
       "      <td>a.nagar</td>\n",
       "      <td>20.0</td>\n",
       "      <td>shevgaon</td>\n",
       "      <td>2008-2011</td>\n",
       "    </tr>\n",
       "    <tr>\n",
       "      <th>2</th>\n",
       "      <td>rampur</td>\n",
       "      <td>1</td>\n",
       "      <td>1</td>\n",
       "      <td>1</td>\n",
       "      <td>0</td>\n",
       "      <td>3</td>\n",
       "      <td>gujarat</td>\n",
       "      <td>4</td>\n",
       "      <td>ahmedabad</td>\n",
       "      <td>32.0</td>\n",
       "      <td>dholka</td>\n",
       "      <td>2008-2011</td>\n",
       "    </tr>\n",
       "    <tr>\n",
       "      <th>3</th>\n",
       "      <td>haripur</td>\n",
       "      <td>1</td>\n",
       "      <td>1</td>\n",
       "      <td>1</td>\n",
       "      <td>0</td>\n",
       "      <td>3</td>\n",
       "      <td>west bengal</td>\n",
       "      <td>iv</td>\n",
       "      <td>hooghly</td>\n",
       "      <td>33.0</td>\n",
       "      <td>polba/dadpur</td>\n",
       "      <td>2008-2011</td>\n",
       "    </tr>\n",
       "    <tr>\n",
       "      <th>4</th>\n",
       "      <td>kot</td>\n",
       "      <td>1</td>\n",
       "      <td>1</td>\n",
       "      <td>1</td>\n",
       "      <td>0</td>\n",
       "      <td>3</td>\n",
       "      <td>himachal pradesh</td>\n",
       "      <td>iii</td>\n",
       "      <td>mandi</td>\n",
       "      <td>27.0</td>\n",
       "      <td>karsog</td>\n",
       "      <td>2008-2011</td>\n",
       "    </tr>\n",
       "    <tr>\n",
       "      <th>5</th>\n",
       "      <td>durgapur</td>\n",
       "      <td>1</td>\n",
       "      <td>0</td>\n",
       "      <td>1</td>\n",
       "      <td>1</td>\n",
       "      <td>3</td>\n",
       "      <td>west bengal</td>\n",
       "      <td>iii</td>\n",
       "      <td>nadia</td>\n",
       "      <td>21.0</td>\n",
       "      <td>ranaghat-i</td>\n",
       "      <td>2008-2011</td>\n",
       "    </tr>\n",
       "    <tr>\n",
       "      <th>6</th>\n",
       "      <td>chak</td>\n",
       "      <td>1</td>\n",
       "      <td>1</td>\n",
       "      <td>1</td>\n",
       "      <td>0</td>\n",
       "      <td>3</td>\n",
       "      <td>himachal pradesh</td>\n",
       "      <td>ii</td>\n",
       "      <td>solan</td>\n",
       "      <td>21.0</td>\n",
       "      <td>nalagarh</td>\n",
       "      <td>2008-2011</td>\n",
       "    </tr>\n",
       "    <tr>\n",
       "      <th>7</th>\n",
       "      <td>kallapadi</td>\n",
       "      <td>0</td>\n",
       "      <td>1</td>\n",
       "      <td>1</td>\n",
       "      <td>1</td>\n",
       "      <td>3</td>\n",
       "      <td>tamil nadu</td>\n",
       "      <td>2</td>\n",
       "      <td>vellore</td>\n",
       "      <td>4.0</td>\n",
       "      <td>gudiyatham</td>\n",
       "      <td>2011-2014</td>\n",
       "    </tr>\n",
       "    <tr>\n",
       "      <th>8</th>\n",
       "      <td>kherwa</td>\n",
       "      <td>0</td>\n",
       "      <td>1</td>\n",
       "      <td>0</td>\n",
       "      <td>1</td>\n",
       "      <td>2</td>\n",
       "      <td>rajasthan</td>\n",
       "      <td>iv</td>\n",
       "      <td>pali</td>\n",
       "      <td>28.0</td>\n",
       "      <td>pali</td>\n",
       "      <td>2011-2014</td>\n",
       "    </tr>\n",
       "    <tr>\n",
       "      <th>9</th>\n",
       "      <td>anuppampattu-2</td>\n",
       "      <td>0</td>\n",
       "      <td>1</td>\n",
       "      <td>1</td>\n",
       "      <td>0</td>\n",
       "      <td>2</td>\n",
       "      <td>tamil nadu</td>\n",
       "      <td>1</td>\n",
       "      <td>thiruvallur</td>\n",
       "      <td>1.0</td>\n",
       "      <td>ponneri</td>\n",
       "      <td>2011-2014</td>\n",
       "    </tr>\n",
       "  </tbody>\n",
       "</table>\n",
       "</div>"
      ],
      "text/plain": [
       "     Village Name  2008-2011  2011-2014  2014-2017  2017-2020  \\\n",
       "0         shahpur          1          1          1          1   \n",
       "1         amrapur          1          1          1          0   \n",
       "2          rampur          1          1          1          0   \n",
       "3         haripur          1          1          1          0   \n",
       "4             kot          1          1          1          0   \n",
       "5        durgapur          1          0          1          1   \n",
       "6            chak          1          1          1          0   \n",
       "7       kallapadi          0          1          1          1   \n",
       "8          kherwa          0          1          0          1   \n",
       "9  anuppampattu-2          0          1          1          0   \n",
       "\n",
       "   Total Occurrence             State Zone District Name  Tehsil Code  \\\n",
       "0                 4    madhya pradesh  xii       dindori         44.0   \n",
       "1                 3       maharashtra   vi       a.nagar         20.0   \n",
       "2                 3           gujarat    4     ahmedabad         32.0   \n",
       "3                 3       west bengal   iv       hooghly         33.0   \n",
       "4                 3  himachal pradesh  iii         mandi         27.0   \n",
       "5                 3       west bengal  iii         nadia         21.0   \n",
       "6                 3  himachal pradesh   ii         solan         21.0   \n",
       "7                 3        tamil nadu    2       vellore          4.0   \n",
       "8                 2         rajasthan   iv          pali         28.0   \n",
       "9                 2        tamil nadu    1   thiruvallur          1.0   \n",
       "\n",
       "    Tehsil Name       Year  \n",
       "0       dindori  2008-2011  \n",
       "1      shevgaon  2008-2011  \n",
       "2        dholka  2008-2011  \n",
       "3  polba/dadpur  2008-2011  \n",
       "4        karsog  2008-2011  \n",
       "5    ranaghat-i  2008-2011  \n",
       "6      nalagarh  2008-2011  \n",
       "7    gudiyatham  2011-2014  \n",
       "8          pali  2011-2014  \n",
       "9       ponneri  2011-2014  "
      ]
     },
     "execution_count": 9,
     "metadata": {},
     "output_type": "execute_result"
    }
   ],
   "source": [
    "village_df.head(10)"
   ]
  },
  {
   "cell_type": "code",
   "execution_count": 10,
   "id": "d3bfb867",
   "metadata": {},
   "outputs": [],
   "source": [
    "village_df.to_csv('/home/inductive-anks/yield-prediction/Yield-Prediction/data/Final Data/Common-Village-Dataset.csv', index=False)"
   ]
  },
  {
   "cell_type": "code",
   "execution_count": 12,
   "id": "c035768c",
   "metadata": {},
   "outputs": [],
   "source": [
    "pd.set_option('display.max_rows', None)"
   ]
  },
  {
   "cell_type": "code",
   "execution_count": 13,
   "id": "8e33cd79",
   "metadata": {},
   "outputs": [
    {
     "data": {
      "text/plain": [
       "(110, 12)"
      ]
     },
     "execution_count": 13,
     "metadata": {},
     "output_type": "execute_result"
    }
   ],
   "source": [
    "village_df.shape"
   ]
  },
  {
   "cell_type": "code",
   "execution_count": 16,
   "id": "51573dcd",
   "metadata": {},
   "outputs": [
    {
     "data": {
      "text/html": [
       "<div>\n",
       "<style scoped>\n",
       "    .dataframe tbody tr th:only-of-type {\n",
       "        vertical-align: middle;\n",
       "    }\n",
       "\n",
       "    .dataframe tbody tr th {\n",
       "        vertical-align: top;\n",
       "    }\n",
       "\n",
       "    .dataframe thead th {\n",
       "        text-align: right;\n",
       "    }\n",
       "</style>\n",
       "<table border=\"1\" class=\"dataframe\">\n",
       "  <thead>\n",
       "    <tr style=\"text-align: right;\">\n",
       "      <th></th>\n",
       "      <th>Village Name</th>\n",
       "      <th>2008-2011</th>\n",
       "      <th>2011-2014</th>\n",
       "      <th>2014-2017</th>\n",
       "      <th>2017-2020</th>\n",
       "      <th>Total Occurrence</th>\n",
       "      <th>State</th>\n",
       "      <th>Zone</th>\n",
       "      <th>District Name</th>\n",
       "      <th>Tehsil Code</th>\n",
       "      <th>Tehsil Name</th>\n",
       "      <th>Year</th>\n",
       "    </tr>\n",
       "  </thead>\n",
       "  <tbody>\n",
       "    <tr>\n",
       "      <th>0</th>\n",
       "      <td>shahpur</td>\n",
       "      <td>1</td>\n",
       "      <td>1</td>\n",
       "      <td>1</td>\n",
       "      <td>1</td>\n",
       "      <td>4</td>\n",
       "      <td>madhya pradesh</td>\n",
       "      <td>xii</td>\n",
       "      <td>dindori</td>\n",
       "      <td>44.0</td>\n",
       "      <td>dindori</td>\n",
       "      <td>2008-2011</td>\n",
       "    </tr>\n",
       "    <tr>\n",
       "      <th>1</th>\n",
       "      <td>amrapur</td>\n",
       "      <td>1</td>\n",
       "      <td>1</td>\n",
       "      <td>1</td>\n",
       "      <td>0</td>\n",
       "      <td>3</td>\n",
       "      <td>maharashtra</td>\n",
       "      <td>vi</td>\n",
       "      <td>a.nagar</td>\n",
       "      <td>20.0</td>\n",
       "      <td>shevgaon</td>\n",
       "      <td>2008-2011</td>\n",
       "    </tr>\n",
       "    <tr>\n",
       "      <th>2</th>\n",
       "      <td>rampur</td>\n",
       "      <td>1</td>\n",
       "      <td>1</td>\n",
       "      <td>1</td>\n",
       "      <td>0</td>\n",
       "      <td>3</td>\n",
       "      <td>gujarat</td>\n",
       "      <td>4</td>\n",
       "      <td>ahmedabad</td>\n",
       "      <td>32.0</td>\n",
       "      <td>dholka</td>\n",
       "      <td>2008-2011</td>\n",
       "    </tr>\n",
       "    <tr>\n",
       "      <th>3</th>\n",
       "      <td>haripur</td>\n",
       "      <td>1</td>\n",
       "      <td>1</td>\n",
       "      <td>1</td>\n",
       "      <td>0</td>\n",
       "      <td>3</td>\n",
       "      <td>west bengal</td>\n",
       "      <td>iv</td>\n",
       "      <td>hooghly</td>\n",
       "      <td>33.0</td>\n",
       "      <td>polba/dadpur</td>\n",
       "      <td>2008-2011</td>\n",
       "    </tr>\n",
       "    <tr>\n",
       "      <th>4</th>\n",
       "      <td>kot</td>\n",
       "      <td>1</td>\n",
       "      <td>1</td>\n",
       "      <td>1</td>\n",
       "      <td>0</td>\n",
       "      <td>3</td>\n",
       "      <td>himachal pradesh</td>\n",
       "      <td>iii</td>\n",
       "      <td>mandi</td>\n",
       "      <td>27.0</td>\n",
       "      <td>karsog</td>\n",
       "      <td>2008-2011</td>\n",
       "    </tr>\n",
       "  </tbody>\n",
       "</table>\n",
       "</div>"
      ],
      "text/plain": [
       "  Village Name  2008-2011  2011-2014  2014-2017  2017-2020  Total Occurrence  \\\n",
       "0      shahpur          1          1          1          1                 4   \n",
       "1      amrapur          1          1          1          0                 3   \n",
       "2       rampur          1          1          1          0                 3   \n",
       "3      haripur          1          1          1          0                 3   \n",
       "4          kot          1          1          1          0                 3   \n",
       "\n",
       "              State Zone District Name  Tehsil Code   Tehsil Name       Year  \n",
       "0    madhya pradesh  xii       dindori         44.0       dindori  2008-2011  \n",
       "1       maharashtra   vi       a.nagar         20.0      shevgaon  2008-2011  \n",
       "2           gujarat    4     ahmedabad         32.0        dholka  2008-2011  \n",
       "3       west bengal   iv       hooghly         33.0  polba/dadpur  2008-2011  \n",
       "4  himachal pradesh  iii         mandi         27.0        karsog  2008-2011  "
      ]
     },
     "execution_count": 16,
     "metadata": {},
     "output_type": "execute_result"
    }
   ],
   "source": [
    "village_df.head()"
   ]
  },
  {
   "cell_type": "markdown",
   "id": "d36d4dd4",
   "metadata": {},
   "source": [
    "### Common Tehsils over the Year blocks"
   ]
  },
  {
   "cell_type": "code",
   "execution_count": 2,
   "id": "c9b3a79e",
   "metadata": {},
   "outputs": [],
   "source": [
    "import pandas as pd"
   ]
  },
  {
   "cell_type": "code",
   "execution_count": 3,
   "id": "f5f5a1ee",
   "metadata": {},
   "outputs": [],
   "source": [
    "village_list_df = pd.read_csv(home_dir.as_posix() + '/data/Final Data/Final-Merged-Data(2008-2011 to 2017-2020).csv')"
   ]
  },
  {
   "cell_type": "code",
   "execution_count": 4,
   "metadata": {},
   "outputs": [
    {
     "data": {
      "text/html": [
       "<div>\n",
       "<style scoped>\n",
       "    .dataframe tbody tr th:only-of-type {\n",
       "        vertical-align: middle;\n",
       "    }\n",
       "\n",
       "    .dataframe tbody tr th {\n",
       "        vertical-align: top;\n",
       "    }\n",
       "\n",
       "    .dataframe thead th {\n",
       "        text-align: right;\n",
       "    }\n",
       "</style>\n",
       "<table border=\"1\" class=\"dataframe\">\n",
       "  <thead>\n",
       "    <tr style=\"text-align: right;\">\n",
       "      <th></th>\n",
       "      <th>Zone No</th>\n",
       "      <th>Tehsil Code</th>\n",
       "      <th>Tehsil Name</th>\n",
       "      <th>District Name</th>\n",
       "      <th>Village Name</th>\n",
       "      <th>State Name</th>\n",
       "      <th>Year</th>\n",
       "    </tr>\n",
       "  </thead>\n",
       "  <tbody>\n",
       "    <tr>\n",
       "      <th>0</th>\n",
       "      <td>IV</td>\n",
       "      <td>40</td>\n",
       "      <td>Puduru</td>\n",
       "      <td>Ranga Reddy</td>\n",
       "      <td>pedhaumethala</td>\n",
       "      <td>Andhra Pradesh</td>\n",
       "      <td>2008-2011</td>\n",
       "    </tr>\n",
       "    <tr>\n",
       "      <th>1</th>\n",
       "      <td>V</td>\n",
       "      <td>49</td>\n",
       "      <td>Sadasivpet</td>\n",
       "      <td>Medak</td>\n",
       "      <td>nandi kandi</td>\n",
       "      <td>Andhra Pradesh</td>\n",
       "      <td>2008-2011</td>\n",
       "    </tr>\n",
       "    <tr>\n",
       "      <th>2</th>\n",
       "      <td>V</td>\n",
       "      <td>50</td>\n",
       "      <td>Zaiheerabad</td>\n",
       "      <td>Medak</td>\n",
       "      <td>huggelly</td>\n",
       "      <td>Andhra Pradesh</td>\n",
       "      <td>2008-2011</td>\n",
       "    </tr>\n",
       "  </tbody>\n",
       "</table>\n",
       "</div>"
      ],
      "text/plain": [
       "  Zone No Tehsil Code  Tehsil Name District Name   Village Name  \\\n",
       "0      IV          40       Puduru   Ranga Reddy  pedhaumethala   \n",
       "1       V          49   Sadasivpet         Medak    nandi kandi   \n",
       "2       V          50  Zaiheerabad         Medak       huggelly   \n",
       "\n",
       "       State Name       Year  \n",
       "0  Andhra Pradesh  2008-2011  \n",
       "1  Andhra Pradesh  2008-2011  \n",
       "2  Andhra Pradesh  2008-2011  "
      ]
     },
     "execution_count": 4,
     "metadata": {},
     "output_type": "execute_result"
    }
   ],
   "source": [
    "village_list_df.head(3)"
   ]
  },
  {
   "cell_type": "code",
   "execution_count": 20,
   "metadata": {},
   "outputs": [],
   "source": [
    "unique_years = village_list_df['Year'].unique()\n",
    "\n",
    "multi_year_tehsils = village_list_df[village_list_df.duplicated(subset=['Tehsil Name'], keep=False)]['Tehsil Name'].unique()\n",
    "\n",
    "tehsil_df = pd.DataFrame(0, index=multi_year_tehsils, columns=unique_years)\n",
    "\n",
    "for tehsil in multi_year_tehsils:\n",
    "    tehsil_years = village_list_df[village_list_df['Tehsil Name'] == tehsil]['Year'].unique()\n",
    "    tehsil_df.loc[tehsil, tehsil_years] = 1\n",
    "\n",
    "tehsil_df['Total Occurrence'] = tehsil_df.sum(axis=1)\n",
    "\n",
    "additional_attributes = village_list_df.drop_duplicates(subset=['Tehsil Name']).set_index('Tehsil Name')\n",
    "tehsil_df = tehsil_df.merge(additional_attributes, left_index=True, right_index=True)\n",
    "\n",
    "tehsil_df = tehsil_df.sort_values(by='Total Occurrence', ascending=False)"
   ]
  },
  {
   "cell_type": "code",
   "execution_count": 21,
   "id": "36da40d0",
   "metadata": {},
   "outputs": [],
   "source": [
    "tehsil_df.reset_index(inplace=True)"
   ]
  },
  {
   "cell_type": "code",
   "execution_count": 22,
   "id": "164d7c94",
   "metadata": {},
   "outputs": [],
   "source": [
    "tehsil_df.rename(columns={'index': 'Tehsil Name'}, inplace=True)"
   ]
  },
  {
   "cell_type": "code",
   "execution_count": 23,
   "metadata": {},
   "outputs": [
    {
     "data": {
      "text/html": [
       "<div>\n",
       "<style scoped>\n",
       "    .dataframe tbody tr th:only-of-type {\n",
       "        vertical-align: middle;\n",
       "    }\n",
       "\n",
       "    .dataframe tbody tr th {\n",
       "        vertical-align: top;\n",
       "    }\n",
       "\n",
       "    .dataframe thead th {\n",
       "        text-align: right;\n",
       "    }\n",
       "</style>\n",
       "<table border=\"1\" class=\"dataframe\">\n",
       "  <thead>\n",
       "    <tr style=\"text-align: right;\">\n",
       "      <th></th>\n",
       "      <th>Tehsil Name</th>\n",
       "      <th>2008-2011</th>\n",
       "      <th>2011-2014</th>\n",
       "      <th>2014-2017</th>\n",
       "      <th>2017-2020</th>\n",
       "      <th>Total Occurrence</th>\n",
       "      <th>Zone No</th>\n",
       "      <th>Tehsil Code</th>\n",
       "      <th>District Name</th>\n",
       "      <th>Village Name</th>\n",
       "      <th>State Name</th>\n",
       "      <th>Year</th>\n",
       "    </tr>\n",
       "  </thead>\n",
       "  <tbody>\n",
       "    <tr>\n",
       "      <th>832</th>\n",
       "      <td>CHANCHAL-II</td>\n",
       "      <td>0</td>\n",
       "      <td>0</td>\n",
       "      <td>0</td>\n",
       "      <td>1</td>\n",
       "      <td>1</td>\n",
       "      <td>III-New Alluvial</td>\n",
       "      <td>11</td>\n",
       "      <td>MALDA</td>\n",
       "      <td>bhandaria</td>\n",
       "      <td>West Bengal</td>\n",
       "      <td>2017-2020</td>\n",
       "    </tr>\n",
       "    <tr>\n",
       "      <th>815</th>\n",
       "      <td>Salboni</td>\n",
       "      <td>0</td>\n",
       "      <td>0</td>\n",
       "      <td>1</td>\n",
       "      <td>0</td>\n",
       "      <td>1</td>\n",
       "      <td>V / Red &amp; Laterite</td>\n",
       "      <td>53.0</td>\n",
       "      <td>Midnapore( W )</td>\n",
       "      <td>lalgere</td>\n",
       "      <td>West Bengal</td>\n",
       "      <td>2014-2017</td>\n",
       "    </tr>\n",
       "    <tr>\n",
       "      <th>821</th>\n",
       "      <td>Onda</td>\n",
       "      <td>0</td>\n",
       "      <td>0</td>\n",
       "      <td>1</td>\n",
       "      <td>0</td>\n",
       "      <td>1</td>\n",
       "      <td>V / Red &amp; Laterite</td>\n",
       "      <td>47.0</td>\n",
       "      <td>Bankura</td>\n",
       "      <td>bahara band</td>\n",
       "      <td>West Bengal</td>\n",
       "      <td>2014-2017</td>\n",
       "    </tr>\n",
       "    <tr>\n",
       "      <th>258</th>\n",
       "      <td>Barnala</td>\n",
       "      <td>1</td>\n",
       "      <td>0</td>\n",
       "      <td>0</td>\n",
       "      <td>1</td>\n",
       "      <td>2</td>\n",
       "      <td>III</td>\n",
       "      <td>22</td>\n",
       "      <td>Barnala</td>\n",
       "      <td>chhinniwal kalan</td>\n",
       "      <td>Punjab</td>\n",
       "      <td>2008-2011</td>\n",
       "    </tr>\n",
       "    <tr>\n",
       "      <th>760</th>\n",
       "      <td>Srijangram</td>\n",
       "      <td>1</td>\n",
       "      <td>0</td>\n",
       "      <td>0</td>\n",
       "      <td>0</td>\n",
       "      <td>1</td>\n",
       "      <td>IV</td>\n",
       "      <td>34</td>\n",
       "      <td>Bongaigaon</td>\n",
       "      <td>khorapara</td>\n",
       "      <td>Assam</td>\n",
       "      <td>2008-2011</td>\n",
       "    </tr>\n",
       "    <tr>\n",
       "      <th>689</th>\n",
       "      <td>Sorar</td>\n",
       "      <td>0</td>\n",
       "      <td>0</td>\n",
       "      <td>1</td>\n",
       "      <td>0</td>\n",
       "      <td>1</td>\n",
       "      <td>II</td>\n",
       "      <td>20.0</td>\n",
       "      <td>Nadaun/Hamirpur</td>\n",
       "      <td>jol sappar</td>\n",
       "      <td>Himachal Pradesh</td>\n",
       "      <td>2014-2017</td>\n",
       "    </tr>\n",
       "    <tr>\n",
       "      <th>444</th>\n",
       "      <td>Balia</td>\n",
       "      <td>0</td>\n",
       "      <td>1</td>\n",
       "      <td>0</td>\n",
       "      <td>1</td>\n",
       "      <td>2</td>\n",
       "      <td>5</td>\n",
       "      <td>40</td>\n",
       "      <td>Begusarai</td>\n",
       "      <td>samastipur</td>\n",
       "      <td>Bihar</td>\n",
       "      <td>2011-2014</td>\n",
       "    </tr>\n",
       "    <tr>\n",
       "      <th>406</th>\n",
       "      <td>Hardoi</td>\n",
       "      <td>0</td>\n",
       "      <td>1</td>\n",
       "      <td>1</td>\n",
       "      <td>0</td>\n",
       "      <td>2</td>\n",
       "      <td>7</td>\n",
       "      <td>50</td>\n",
       "      <td>Hardoi</td>\n",
       "      <td>sakara</td>\n",
       "      <td>West Bengal</td>\n",
       "      <td>2011-2014</td>\n",
       "    </tr>\n",
       "    <tr>\n",
       "      <th>34</th>\n",
       "      <td>Gadag</td>\n",
       "      <td>0</td>\n",
       "      <td>1</td>\n",
       "      <td>1</td>\n",
       "      <td>1</td>\n",
       "      <td>3</td>\n",
       "      <td>III</td>\n",
       "      <td>24</td>\n",
       "      <td>Gadag</td>\n",
       "      <td>harthi</td>\n",
       "      <td>Karnataka</td>\n",
       "      <td>2011-2014</td>\n",
       "    </tr>\n",
       "    <tr>\n",
       "      <th>717</th>\n",
       "      <td>KRISHNAGAR-II</td>\n",
       "      <td>1</td>\n",
       "      <td>0</td>\n",
       "      <td>0</td>\n",
       "      <td>0</td>\n",
       "      <td>1</td>\n",
       "      <td>III</td>\n",
       "      <td>19</td>\n",
       "      <td>NADIA</td>\n",
       "      <td>bargara</td>\n",
       "      <td>West Bengal</td>\n",
       "      <td>2008-2011</td>\n",
       "    </tr>\n",
       "  </tbody>\n",
       "</table>\n",
       "</div>"
      ],
      "text/plain": [
       "       Tehsil Name  2008-2011  2011-2014  2014-2017  2017-2020  \\\n",
       "832    CHANCHAL-II          0          0          0          1   \n",
       "815        Salboni          0          0          1          0   \n",
       "821           Onda          0          0          1          0   \n",
       "258        Barnala          1          0          0          1   \n",
       "760     Srijangram          1          0          0          0   \n",
       "689          Sorar          0          0          1          0   \n",
       "444          Balia          0          1          0          1   \n",
       "406         Hardoi          0          1          1          0   \n",
       "34           Gadag          0          1          1          1   \n",
       "717  KRISHNAGAR-II          1          0          0          0   \n",
       "\n",
       "     Total Occurrence             Zone No Tehsil Code    District Name  \\\n",
       "832                 1    III-New Alluvial          11            MALDA   \n",
       "815                 1  V / Red & Laterite        53.0   Midnapore( W )   \n",
       "821                 1  V / Red & Laterite        47.0          Bankura   \n",
       "258                 2                 III          22          Barnala   \n",
       "760                 1                  IV          34       Bongaigaon   \n",
       "689                 1                  II        20.0  Nadaun/Hamirpur   \n",
       "444                 2                   5          40        Begusarai   \n",
       "406                 2                   7          50           Hardoi   \n",
       "34                  3                 III          24            Gadag   \n",
       "717                 1                 III          19            NADIA   \n",
       "\n",
       "         Village Name        State Name       Year  \n",
       "832         bhandaria       West Bengal  2017-2020  \n",
       "815           lalgere       West Bengal  2014-2017  \n",
       "821       bahara band       West Bengal  2014-2017  \n",
       "258  chhinniwal kalan            Punjab  2008-2011  \n",
       "760         khorapara             Assam  2008-2011  \n",
       "689        jol sappar  Himachal Pradesh  2014-2017  \n",
       "444        samastipur             Bihar  2011-2014  \n",
       "406            sakara       West Bengal  2011-2014  \n",
       "34             harthi         Karnataka  2011-2014  \n",
       "717           bargara       West Bengal  2008-2011  "
      ]
     },
     "execution_count": 23,
     "metadata": {},
     "output_type": "execute_result"
    }
   ],
   "source": [
    "tehsil_df.sample(10)"
   ]
  },
  {
   "cell_type": "code",
   "execution_count": 24,
   "id": "c703eb06",
   "metadata": {},
   "outputs": [
    {
     "data": {
      "text/plain": [
       "2350"
      ]
     },
     "execution_count": 24,
     "metadata": {},
     "output_type": "execute_result"
    }
   ],
   "source": [
    "village_list_df['Tehsil Name'].nunique()"
   ]
  },
  {
   "cell_type": "code",
   "execution_count": 25,
   "id": "76f27ce0",
   "metadata": {},
   "outputs": [
    {
     "data": {
      "text/plain": [
       "21"
      ]
     },
     "execution_count": 25,
     "metadata": {},
     "output_type": "execute_result"
    }
   ],
   "source": [
    "len(tehsil_df[tehsil_df['Total Occurrence'] == 4])"
   ]
  },
  {
   "cell_type": "code",
   "execution_count": 26,
   "id": "37a521db",
   "metadata": {},
   "outputs": [
    {
     "data": {
      "text/plain": [
       "108"
      ]
     },
     "execution_count": 26,
     "metadata": {},
     "output_type": "execute_result"
    }
   ],
   "source": [
    "len(tehsil_df[tehsil_df['Total Occurrence'] == 3])"
   ]
  },
  {
   "cell_type": "code",
   "execution_count": 27,
   "metadata": {},
   "outputs": [
    {
     "data": {
      "text/plain": [
       "379"
      ]
     },
     "execution_count": 27,
     "metadata": {},
     "output_type": "execute_result"
    }
   ],
   "source": [
    "len(tehsil_df[tehsil_df['Total Occurrence'] == 2])"
   ]
  },
  {
   "cell_type": "code",
   "execution_count": 28,
   "metadata": {},
   "outputs": [
    {
     "data": {
      "text/plain": [
       "417"
      ]
     },
     "execution_count": 28,
     "metadata": {},
     "output_type": "execute_result"
    }
   ],
   "source": [
    "len(tehsil_df[tehsil_df['Total Occurrence'] == 1])"
   ]
  }
 ],
 "metadata": {
  "kernelspec": {
   "display_name": "Python 3 (ipykernel)",
   "language": "python",
   "name": "python3"
  },
  "language_info": {
   "codemirror_mode": {
    "name": "ipython",
    "version": 3
   },
   "file_extension": ".py",
   "mimetype": "text/x-python",
   "name": "python",
   "nbconvert_exporter": "python",
   "pygments_lexer": "ipython3",
   "version": "3.10.12"
  }
 },
 "nbformat": 4,
 "nbformat_minor": 5
}
