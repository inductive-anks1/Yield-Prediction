{
 "cells": [
  {
   "cell_type": "code",
   "execution_count": 18,
   "metadata": {},
   "outputs": [],
   "source": [
    "import pandas as pd\n",
    "import numpy as np\n",
    "import geopandas as gpd\n",
    "import os\n",
    "import yaml"
   ]
  },
  {
   "cell_type": "code",
   "execution_count": 19,
   "metadata": {},
   "outputs": [],
   "source": [
    "df_subdist_shape = gpd.read_file('/home/inductive-anks/yield-prediction/Yield-Prediction/data/All-India-Subdistrict-Shape-File/SUBDISTRICT_BOUNDARY.shp')"
   ]
  },
  {
   "cell_type": "code",
   "execution_count": 20,
   "metadata": {},
   "outputs": [],
   "source": [
    "df_village_list = pd.read_csv('/home/inductive-anks/yield-prediction/Yield-Prediction/data/Tehsil Data/Tehsil_Data_With_Single_Village.csv')"
   ]
  },
  {
   "cell_type": "code",
   "execution_count": 21,
   "metadata": {},
   "outputs": [],
   "source": [
    "df_SOI_shape = gpd.read_file('/home/inductive-anks/yield-prediction/Yield-Prediction/data/All-Inida-SOI/All-India-Villages-SOI.shp')"
   ]
  },
  {
   "cell_type": "code",
   "execution_count": 22,
   "metadata": {},
   "outputs": [
    {
     "data": {
      "text/plain": [
       "(599742, 5)"
      ]
     },
     "execution_count": 22,
     "metadata": {},
     "output_type": "execute_result"
    }
   ],
   "source": [
    "df_SOI_shape.shape"
   ]
  },
  {
   "cell_type": "code",
   "execution_count": 23,
   "metadata": {},
   "outputs": [
    {
     "data": {
      "text/html": [
       "<div>\n",
       "<style scoped>\n",
       "    .dataframe tbody tr th:only-of-type {\n",
       "        vertical-align: middle;\n",
       "    }\n",
       "\n",
       "    .dataframe tbody tr th {\n",
       "        vertical-align: top;\n",
       "    }\n",
       "\n",
       "    .dataframe thead th {\n",
       "        text-align: right;\n",
       "    }\n",
       "</style>\n",
       "<table border=\"1\" class=\"dataframe\">\n",
       "  <thead>\n",
       "    <tr style=\"text-align: right;\">\n",
       "      <th></th>\n",
       "      <th>NAME</th>\n",
       "      <th>dtnmcoc</th>\n",
       "      <th>state</th>\n",
       "      <th>tehnmcoc</th>\n",
       "      <th>geometry</th>\n",
       "    </tr>\n",
       "  </thead>\n",
       "  <tbody>\n",
       "    <tr>\n",
       "      <th>0</th>\n",
       "      <td>village point boundary</td>\n",
       "      <td>lahul &amp; spiti</td>\n",
       "      <td>himachal pradesh</td>\n",
       "      <td>None</td>\n",
       "      <td>POLYGON ((76.73598 33.18017, 76.73492 33.18101...</td>\n",
       "    </tr>\n",
       "    <tr>\n",
       "      <th>1</th>\n",
       "      <td>dhar chhoglu</td>\n",
       "      <td>chamba</td>\n",
       "      <td>himachal pradesh</td>\n",
       "      <td>pangi</td>\n",
       "      <td>POLYGON ((76.55004 33.19772, 76.55082 33.19775...</td>\n",
       "    </tr>\n",
       "    <tr>\n",
       "      <th>2</th>\n",
       "      <td>dhar shinkal</td>\n",
       "      <td>chamba</td>\n",
       "      <td>himachal pradesh</td>\n",
       "      <td>pangi</td>\n",
       "      <td>POLYGON ((76.52521 33.19414, 76.52596 33.19418...</td>\n",
       "    </tr>\n",
       "    <tr>\n",
       "      <th>3</th>\n",
       "      <td>sural bhatori</td>\n",
       "      <td>chamba</td>\n",
       "      <td>himachal pradesh</td>\n",
       "      <td>pangi</td>\n",
       "      <td>POLYGON ((76.46151 33.17813, 76.46635 33.17894...</td>\n",
       "    </tr>\n",
       "    <tr>\n",
       "      <th>4</th>\n",
       "      <td>rusmas</td>\n",
       "      <td>chamba</td>\n",
       "      <td>himachal pradesh</td>\n",
       "      <td>pangi</td>\n",
       "      <td>POLYGON ((76.39866 33.17477, 76.39969 33.17541...</td>\n",
       "    </tr>\n",
       "  </tbody>\n",
       "</table>\n",
       "</div>"
      ],
      "text/plain": [
       "                     NAME        dtnmcoc             state tehnmcoc  \\\n",
       "0  village point boundary  lahul & spiti  himachal pradesh     None   \n",
       "1            dhar chhoglu         chamba  himachal pradesh    pangi   \n",
       "2            dhar shinkal         chamba  himachal pradesh    pangi   \n",
       "3           sural bhatori         chamba  himachal pradesh    pangi   \n",
       "4                  rusmas         chamba  himachal pradesh    pangi   \n",
       "\n",
       "                                            geometry  \n",
       "0  POLYGON ((76.73598 33.18017, 76.73492 33.18101...  \n",
       "1  POLYGON ((76.55004 33.19772, 76.55082 33.19775...  \n",
       "2  POLYGON ((76.52521 33.19414, 76.52596 33.19418...  \n",
       "3  POLYGON ((76.46151 33.17813, 76.46635 33.17894...  \n",
       "4  POLYGON ((76.39866 33.17477, 76.39969 33.17541...  "
      ]
     },
     "execution_count": 23,
     "metadata": {},
     "output_type": "execute_result"
    }
   ],
   "source": [
    "df_SOI_shape.head()"
   ]
  },
  {
   "cell_type": "code",
   "execution_count": 27,
   "metadata": {},
   "outputs": [],
   "source": [
    "df_SOI_shape.rename(columns={'NAME': 'SOI_Village_Name', 'dtnmcoc': 'SOI_District_Name', 'tehnmcoc':'SOI_Tehsil_Name'}, inplace=True)"
   ]
  },
  {
   "cell_type": "code",
   "execution_count": 28,
   "metadata": {},
   "outputs": [
    {
     "data": {
      "text/html": [
       "<div>\n",
       "<style scoped>\n",
       "    .dataframe tbody tr th:only-of-type {\n",
       "        vertical-align: middle;\n",
       "    }\n",
       "\n",
       "    .dataframe tbody tr th {\n",
       "        vertical-align: top;\n",
       "    }\n",
       "\n",
       "    .dataframe thead th {\n",
       "        text-align: right;\n",
       "    }\n",
       "</style>\n",
       "<table border=\"1\" class=\"dataframe\">\n",
       "  <thead>\n",
       "    <tr style=\"text-align: right;\">\n",
       "      <th></th>\n",
       "      <th>SOI_Village_Name</th>\n",
       "      <th>SOI_District_Name</th>\n",
       "      <th>state</th>\n",
       "      <th>SOI_Tehsil_Name</th>\n",
       "      <th>geometry</th>\n",
       "    </tr>\n",
       "  </thead>\n",
       "  <tbody>\n",
       "    <tr>\n",
       "      <th>0</th>\n",
       "      <td>village point boundary</td>\n",
       "      <td>lahul &amp; spiti</td>\n",
       "      <td>himachal pradesh</td>\n",
       "      <td>None</td>\n",
       "      <td>POLYGON ((76.73598 33.18017, 76.73492 33.18101...</td>\n",
       "    </tr>\n",
       "    <tr>\n",
       "      <th>1</th>\n",
       "      <td>dhar chhoglu</td>\n",
       "      <td>chamba</td>\n",
       "      <td>himachal pradesh</td>\n",
       "      <td>pangi</td>\n",
       "      <td>POLYGON ((76.55004 33.19772, 76.55082 33.19775...</td>\n",
       "    </tr>\n",
       "    <tr>\n",
       "      <th>2</th>\n",
       "      <td>dhar shinkal</td>\n",
       "      <td>chamba</td>\n",
       "      <td>himachal pradesh</td>\n",
       "      <td>pangi</td>\n",
       "      <td>POLYGON ((76.52521 33.19414, 76.52596 33.19418...</td>\n",
       "    </tr>\n",
       "    <tr>\n",
       "      <th>3</th>\n",
       "      <td>sural bhatori</td>\n",
       "      <td>chamba</td>\n",
       "      <td>himachal pradesh</td>\n",
       "      <td>pangi</td>\n",
       "      <td>POLYGON ((76.46151 33.17813, 76.46635 33.17894...</td>\n",
       "    </tr>\n",
       "    <tr>\n",
       "      <th>4</th>\n",
       "      <td>rusmas</td>\n",
       "      <td>chamba</td>\n",
       "      <td>himachal pradesh</td>\n",
       "      <td>pangi</td>\n",
       "      <td>POLYGON ((76.39866 33.17477, 76.39969 33.17541...</td>\n",
       "    </tr>\n",
       "  </tbody>\n",
       "</table>\n",
       "</div>"
      ],
      "text/plain": [
       "         SOI_Village_Name SOI_District_Name             state SOI_Tehsil_Name  \\\n",
       "0  village point boundary     lahul & spiti  himachal pradesh            None   \n",
       "1            dhar chhoglu            chamba  himachal pradesh           pangi   \n",
       "2            dhar shinkal            chamba  himachal pradesh           pangi   \n",
       "3           sural bhatori            chamba  himachal pradesh           pangi   \n",
       "4                  rusmas            chamba  himachal pradesh           pangi   \n",
       "\n",
       "                                            geometry  \n",
       "0  POLYGON ((76.73598 33.18017, 76.73492 33.18101...  \n",
       "1  POLYGON ((76.55004 33.19772, 76.55082 33.19775...  \n",
       "2  POLYGON ((76.52521 33.19414, 76.52596 33.19418...  \n",
       "3  POLYGON ((76.46151 33.17813, 76.46635 33.17894...  \n",
       "4  POLYGON ((76.39866 33.17477, 76.39969 33.17541...  "
      ]
     },
     "execution_count": 28,
     "metadata": {},
     "output_type": "execute_result"
    }
   ],
   "source": [
    "df_SOI_shape.head()"
   ]
  },
  {
   "cell_type": "code",
   "execution_count": 24,
   "metadata": {},
   "outputs": [
    {
     "data": {
      "text/html": [
       "<div>\n",
       "<style scoped>\n",
       "    .dataframe tbody tr th:only-of-type {\n",
       "        vertical-align: middle;\n",
       "    }\n",
       "\n",
       "    .dataframe tbody tr th {\n",
       "        vertical-align: top;\n",
       "    }\n",
       "\n",
       "    .dataframe thead th {\n",
       "        text-align: right;\n",
       "    }\n",
       "</style>\n",
       "<table border=\"1\" class=\"dataframe\">\n",
       "  <thead>\n",
       "    <tr style=\"text-align: right;\">\n",
       "      <th></th>\n",
       "      <th>Year</th>\n",
       "      <th>State Name</th>\n",
       "      <th>District Name</th>\n",
       "      <th>Zone No</th>\n",
       "      <th>Tehsil Name</th>\n",
       "      <th>Tehsil Code</th>\n",
       "      <th>Village Name</th>\n",
       "    </tr>\n",
       "  </thead>\n",
       "  <tbody>\n",
       "    <tr>\n",
       "      <th>0</th>\n",
       "      <td>2008-2011</td>\n",
       "      <td>andhra pradesh</td>\n",
       "      <td>ranga reddy</td>\n",
       "      <td>IV</td>\n",
       "      <td>Puduru</td>\n",
       "      <td>40</td>\n",
       "      <td>pedhaumethala</td>\n",
       "    </tr>\n",
       "    <tr>\n",
       "      <th>1</th>\n",
       "      <td>2008-2011</td>\n",
       "      <td>andhra pradesh</td>\n",
       "      <td>medak</td>\n",
       "      <td>V</td>\n",
       "      <td>Sadasivpet</td>\n",
       "      <td>49</td>\n",
       "      <td>nandi kandi</td>\n",
       "    </tr>\n",
       "    <tr>\n",
       "      <th>2</th>\n",
       "      <td>2008-2011</td>\n",
       "      <td>andhra pradesh</td>\n",
       "      <td>medak</td>\n",
       "      <td>V</td>\n",
       "      <td>Zaiheerabad</td>\n",
       "      <td>50</td>\n",
       "      <td>huggelly</td>\n",
       "    </tr>\n",
       "    <tr>\n",
       "      <th>3</th>\n",
       "      <td>2008-2011</td>\n",
       "      <td>andhra pradesh</td>\n",
       "      <td>srikakulam</td>\n",
       "      <td>I</td>\n",
       "      <td>Etheria</td>\n",
       "      <td>1</td>\n",
       "      <td>ponnada</td>\n",
       "    </tr>\n",
       "    <tr>\n",
       "      <th>4</th>\n",
       "      <td>2008-2011</td>\n",
       "      <td>andhra pradesh</td>\n",
       "      <td>srikakulam</td>\n",
       "      <td>I</td>\n",
       "      <td>Tekkali</td>\n",
       "      <td>2</td>\n",
       "      <td>tirlangi</td>\n",
       "    </tr>\n",
       "  </tbody>\n",
       "</table>\n",
       "</div>"
      ],
      "text/plain": [
       "        Year      State Name District Name Zone No  Tehsil Name Tehsil Code  \\\n",
       "0  2008-2011  andhra pradesh   ranga reddy      IV       Puduru          40   \n",
       "1  2008-2011  andhra pradesh         medak       V   Sadasivpet          49   \n",
       "2  2008-2011  andhra pradesh         medak       V  Zaiheerabad          50   \n",
       "3  2008-2011  andhra pradesh    srikakulam       I      Etheria           1   \n",
       "4  2008-2011  andhra pradesh    srikakulam       I      Tekkali           2   \n",
       "\n",
       "    Village Name  \n",
       "0  pedhaumethala  \n",
       "1    nandi kandi  \n",
       "2       huggelly  \n",
       "3        ponnada  \n",
       "4       tirlangi  "
      ]
     },
     "execution_count": 24,
     "metadata": {},
     "output_type": "execute_result"
    }
   ],
   "source": [
    "df_village_list.head()"
   ]
  },
  {
   "cell_type": "code",
   "execution_count": 25,
   "metadata": {},
   "outputs": [
    {
     "data": {
      "text/html": [
       "<div>\n",
       "<style scoped>\n",
       "    .dataframe tbody tr th:only-of-type {\n",
       "        vertical-align: middle;\n",
       "    }\n",
       "\n",
       "    .dataframe tbody tr th {\n",
       "        vertical-align: top;\n",
       "    }\n",
       "\n",
       "    .dataframe thead th {\n",
       "        text-align: right;\n",
       "    }\n",
       "</style>\n",
       "<table border=\"1\" class=\"dataframe\">\n",
       "  <thead>\n",
       "    <tr style=\"text-align: right;\">\n",
       "      <th></th>\n",
       "      <th>District</th>\n",
       "      <th>STATE</th>\n",
       "      <th>TEHSIL</th>\n",
       "      <th>Shape_Leng</th>\n",
       "      <th>Shape_Area</th>\n",
       "      <th>geometry</th>\n",
       "    </tr>\n",
       "  </thead>\n",
       "  <tbody>\n",
       "    <tr>\n",
       "      <th>0</th>\n",
       "      <td>BIL&gt;SPUR</td>\n",
       "      <td>HIMACHAL PRADESH</td>\n",
       "      <td>BHARARI</td>\n",
       "      <td>50253.228763</td>\n",
       "      <td>9.000306e+07</td>\n",
       "      <td>POLYGON ((3690806.89 4831388.917, 3690871.421 ...</td>\n",
       "    </tr>\n",
       "    <tr>\n",
       "      <th>1</th>\n",
       "      <td>BIL&gt;SPUR</td>\n",
       "      <td>HIMACHAL PRADESH</td>\n",
       "      <td>BIL&gt;SPUR</td>\n",
       "      <td>93446.685818</td>\n",
       "      <td>1.703525e+08</td>\n",
       "      <td>POLYGON ((3699861.726 4812292.061, 3699965.144...</td>\n",
       "    </tr>\n",
       "    <tr>\n",
       "      <th>2</th>\n",
       "      <td>BIL&gt;SPUR</td>\n",
       "      <td>HIMACHAL PRADESH</td>\n",
       "      <td>GHURMW|N</td>\n",
       "      <td>105834.665205</td>\n",
       "      <td>1.906542e+08</td>\n",
       "      <td>POLYGON ((3692609.535 4827764.245, 3692614.853...</td>\n",
       "    </tr>\n",
       "    <tr>\n",
       "      <th>3</th>\n",
       "      <td>BIL&gt;SPUR</td>\n",
       "      <td>HIMACHAL PRADESH</td>\n",
       "      <td>JHAND@TA</td>\n",
       "      <td>112831.475031</td>\n",
       "      <td>3.205376e+08</td>\n",
       "      <td>POLYGON ((3667564.424 4819909.775, 3667603.174...</td>\n",
       "    </tr>\n",
       "    <tr>\n",
       "      <th>4</th>\n",
       "      <td>BIL&gt;SPUR</td>\n",
       "      <td>HIMACHAL PRADESH</td>\n",
       "      <td>NAMHOL</td>\n",
       "      <td>61752.616994</td>\n",
       "      <td>1.034979e+08</td>\n",
       "      <td>POLYGON ((3701617.644 4803943.439, 3701666.832...</td>\n",
       "    </tr>\n",
       "  </tbody>\n",
       "</table>\n",
       "</div>"
      ],
      "text/plain": [
       "   District             STATE    TEHSIL     Shape_Leng    Shape_Area  \\\n",
       "0  BIL>SPUR  HIMACHAL PRADESH   BHARARI   50253.228763  9.000306e+07   \n",
       "1  BIL>SPUR  HIMACHAL PRADESH  BIL>SPUR   93446.685818  1.703525e+08   \n",
       "2  BIL>SPUR  HIMACHAL PRADESH  GHURMW|N  105834.665205  1.906542e+08   \n",
       "3  BIL>SPUR  HIMACHAL PRADESH  JHAND@TA  112831.475031  3.205376e+08   \n",
       "4  BIL>SPUR  HIMACHAL PRADESH    NAMHOL   61752.616994  1.034979e+08   \n",
       "\n",
       "                                            geometry  \n",
       "0  POLYGON ((3690806.89 4831388.917, 3690871.421 ...  \n",
       "1  POLYGON ((3699861.726 4812292.061, 3699965.144...  \n",
       "2  POLYGON ((3692609.535 4827764.245, 3692614.853...  \n",
       "3  POLYGON ((3667564.424 4819909.775, 3667603.174...  \n",
       "4  POLYGON ((3701617.644 4803943.439, 3701666.832...  "
      ]
     },
     "execution_count": 25,
     "metadata": {},
     "output_type": "execute_result"
    }
   ],
   "source": [
    "df_subdist_shape.head()"
   ]
  },
  {
   "cell_type": "markdown",
   "metadata": {},
   "source": [
    "## Converting to Lower Case"
   ]
  },
  {
   "cell_type": "code",
   "execution_count": 29,
   "metadata": {},
   "outputs": [
    {
     "name": "stderr",
     "output_type": "stream",
     "text": [
      "/tmp/ipykernel_23604/228283043.py:1: FutureWarning: DataFrame.applymap has been deprecated. Use DataFrame.map instead.\n",
      "  df_subdist_shape = df_subdist_shape.applymap(lambda x: x.lower() if isinstance(x, str) else x)\n"
     ]
    }
   ],
   "source": [
    "df_subdist_shape = df_subdist_shape.applymap(lambda x: x.lower() if isinstance(x, str) else x)"
   ]
  },
  {
   "cell_type": "code",
   "execution_count": 30,
   "metadata": {},
   "outputs": [
    {
     "name": "stderr",
     "output_type": "stream",
     "text": [
      "/tmp/ipykernel_23604/990218482.py:1: FutureWarning: DataFrame.applymap has been deprecated. Use DataFrame.map instead.\n",
      "  df_village_list = df_village_list.applymap(lambda x: x.lower() if isinstance(x, str) else x)\n"
     ]
    }
   ],
   "source": [
    "df_village_list = df_village_list.applymap(lambda x: x.lower() if isinstance(x, str) else x)"
   ]
  },
  {
   "cell_type": "code",
   "execution_count": 31,
   "metadata": {},
   "outputs": [
    {
     "name": "stderr",
     "output_type": "stream",
     "text": [
      "/tmp/ipykernel_23604/3172920881.py:1: FutureWarning: DataFrame.applymap has been deprecated. Use DataFrame.map instead.\n",
      "  df_SOI_shape = df_SOI_shape.applymap(lambda x: x.lower() if isinstance(x, str) else x)\n"
     ]
    }
   ],
   "source": [
    "df_SOI_shape = df_SOI_shape.applymap(lambda x: x.lower() if isinstance(x, str) else x)"
   ]
  },
  {
   "cell_type": "markdown",
   "metadata": {},
   "source": [
    "## Using Jaro Similarity to Filter SOI Tehsils using Village List"
   ]
  },
  {
   "cell_type": "code",
   "execution_count": 33,
   "metadata": {},
   "outputs": [
    {
     "data": {
      "text/html": [
       "<div>\n",
       "<style scoped>\n",
       "    .dataframe tbody tr th:only-of-type {\n",
       "        vertical-align: middle;\n",
       "    }\n",
       "\n",
       "    .dataframe tbody tr th {\n",
       "        vertical-align: top;\n",
       "    }\n",
       "\n",
       "    .dataframe thead th {\n",
       "        text-align: right;\n",
       "    }\n",
       "</style>\n",
       "<table border=\"1\" class=\"dataframe\">\n",
       "  <thead>\n",
       "    <tr style=\"text-align: right;\">\n",
       "      <th></th>\n",
       "      <th>Year</th>\n",
       "      <th>State Name</th>\n",
       "      <th>District Name</th>\n",
       "      <th>Zone No</th>\n",
       "      <th>Tehsil Name</th>\n",
       "      <th>Tehsil Code</th>\n",
       "      <th>Village Name</th>\n",
       "    </tr>\n",
       "  </thead>\n",
       "  <tbody>\n",
       "    <tr>\n",
       "      <th>0</th>\n",
       "      <td>2008-2011</td>\n",
       "      <td>andhra pradesh</td>\n",
       "      <td>ranga reddy</td>\n",
       "      <td>iv</td>\n",
       "      <td>puduru</td>\n",
       "      <td>40</td>\n",
       "      <td>pedhaumethala</td>\n",
       "    </tr>\n",
       "    <tr>\n",
       "      <th>1</th>\n",
       "      <td>2008-2011</td>\n",
       "      <td>andhra pradesh</td>\n",
       "      <td>medak</td>\n",
       "      <td>v</td>\n",
       "      <td>sadasivpet</td>\n",
       "      <td>49</td>\n",
       "      <td>nandi kandi</td>\n",
       "    </tr>\n",
       "    <tr>\n",
       "      <th>2</th>\n",
       "      <td>2008-2011</td>\n",
       "      <td>andhra pradesh</td>\n",
       "      <td>medak</td>\n",
       "      <td>v</td>\n",
       "      <td>zaiheerabad</td>\n",
       "      <td>50</td>\n",
       "      <td>huggelly</td>\n",
       "    </tr>\n",
       "    <tr>\n",
       "      <th>3</th>\n",
       "      <td>2008-2011</td>\n",
       "      <td>andhra pradesh</td>\n",
       "      <td>srikakulam</td>\n",
       "      <td>i</td>\n",
       "      <td>etheria</td>\n",
       "      <td>1</td>\n",
       "      <td>ponnada</td>\n",
       "    </tr>\n",
       "    <tr>\n",
       "      <th>4</th>\n",
       "      <td>2008-2011</td>\n",
       "      <td>andhra pradesh</td>\n",
       "      <td>srikakulam</td>\n",
       "      <td>i</td>\n",
       "      <td>tekkali</td>\n",
       "      <td>2</td>\n",
       "      <td>tirlangi</td>\n",
       "    </tr>\n",
       "  </tbody>\n",
       "</table>\n",
       "</div>"
      ],
      "text/plain": [
       "        Year      State Name District Name Zone No  Tehsil Name Tehsil Code  \\\n",
       "0  2008-2011  andhra pradesh   ranga reddy      iv       puduru          40   \n",
       "1  2008-2011  andhra pradesh         medak       v   sadasivpet          49   \n",
       "2  2008-2011  andhra pradesh         medak       v  zaiheerabad          50   \n",
       "3  2008-2011  andhra pradesh    srikakulam       i      etheria           1   \n",
       "4  2008-2011  andhra pradesh    srikakulam       i      tekkali           2   \n",
       "\n",
       "    Village Name  \n",
       "0  pedhaumethala  \n",
       "1    nandi kandi  \n",
       "2       huggelly  \n",
       "3        ponnada  \n",
       "4       tirlangi  "
      ]
     },
     "execution_count": 33,
     "metadata": {},
     "output_type": "execute_result"
    }
   ],
   "source": [
    "df_village_list.head()"
   ]
  },
  {
   "cell_type": "code",
   "execution_count": 39,
   "metadata": {},
   "outputs": [
    {
     "data": {
      "text/html": [
       "<div>\n",
       "<style scoped>\n",
       "    .dataframe tbody tr th:only-of-type {\n",
       "        vertical-align: middle;\n",
       "    }\n",
       "\n",
       "    .dataframe tbody tr th {\n",
       "        vertical-align: top;\n",
       "    }\n",
       "\n",
       "    .dataframe thead th {\n",
       "        text-align: right;\n",
       "    }\n",
       "</style>\n",
       "<table border=\"1\" class=\"dataframe\">\n",
       "  <thead>\n",
       "    <tr style=\"text-align: right;\">\n",
       "      <th></th>\n",
       "      <th>SOI_Village_Name</th>\n",
       "      <th>SOI_District_Name</th>\n",
       "      <th>state</th>\n",
       "      <th>SOI_Tehsil_Name</th>\n",
       "      <th>geometry</th>\n",
       "    </tr>\n",
       "  </thead>\n",
       "  <tbody>\n",
       "    <tr>\n",
       "      <th>390484</th>\n",
       "      <td>padhanpada</td>\n",
       "      <td>kandhamal</td>\n",
       "      <td>orissa</td>\n",
       "      <td>tikabali</td>\n",
       "      <td>POLYGON ((84.28775 20.28149, 84.28834 20.2815,...</td>\n",
       "    </tr>\n",
       "    <tr>\n",
       "      <th>35057</th>\n",
       "      <td>dosaledu</td>\n",
       "      <td>anantapur</td>\n",
       "      <td>andhra pradesh</td>\n",
       "      <td>putlur</td>\n",
       "      <td>POLYGON ((77.87422 14.78846, 77.87814 14.78956...</td>\n",
       "    </tr>\n",
       "    <tr>\n",
       "      <th>351608</th>\n",
       "      <td>arniya mali</td>\n",
       "      <td>chittaurgarh</td>\n",
       "      <td>rajasthan</td>\n",
       "      <td>nimbahera</td>\n",
       "      <td>POLYGON ((74.69381 24.643, 74.69409 24.64295, ...</td>\n",
       "    </tr>\n",
       "  </tbody>\n",
       "</table>\n",
       "</div>"
      ],
      "text/plain": [
       "       SOI_Village_Name SOI_District_Name           state SOI_Tehsil_Name  \\\n",
       "390484       padhanpada         kandhamal          orissa        tikabali   \n",
       "35057          dosaledu         anantapur  andhra pradesh          putlur   \n",
       "351608      arniya mali      chittaurgarh       rajasthan       nimbahera   \n",
       "\n",
       "                                                 geometry  \n",
       "390484  POLYGON ((84.28775 20.28149, 84.28834 20.2815,...  \n",
       "35057   POLYGON ((77.87422 14.78846, 77.87814 14.78956...  \n",
       "351608  POLYGON ((74.69381 24.643, 74.69409 24.64295, ...  "
      ]
     },
     "execution_count": 39,
     "metadata": {},
     "output_type": "execute_result"
    }
   ],
   "source": [
    "df_SOI_shape.sample(3)"
   ]
  },
  {
   "cell_type": "code",
   "execution_count": 46,
   "metadata": {},
   "outputs": [],
   "source": [
    "import pandas as pd\n",
    "from nltk.metrics.distance import jaro_similarity\n",
    "\n",
    "# Initialize an empty list to store the results\n",
    "results = []\n",
    "\n",
    "# Iterate over each row in df_village_list\n",
    "for _, village_row in df_village_list.iterrows():\n",
    "    state = village_row['State Name']\n",
    "    tehsil = village_row['Tehsil Name']\n",
    "    village_name = village_row['Village Name']\n",
    "    \n",
    "    # Skip if village_name is None or empty\n",
    "    if village_name is None or not len(village_name.strip()):\n",
    "        continue\n",
    "    \n",
    "    # Filter df_SOI_shape by state and tehsil\n",
    "    matching_SOI = df_SOI_shape[(df_SOI_shape['state'] == state) & \n",
    "                                (df_SOI_shape['SOI_Tehsil_Name'] == tehsil)]\n",
    "    \n",
    "    # Iterate over the filtered df_SOI_shape\n",
    "    for _, soi_row in matching_SOI.iterrows():\n",
    "        soi_village_name = soi_row['SOI_Village_Name']\n",
    "        \n",
    "        # Skip if soi_village_name is None or empty\n",
    "        if soi_village_name is None or not len(soi_village_name.strip()):\n",
    "            continue\n",
    "        \n",
    "        # Calculate Jaro similarity\n",
    "        similarity = jaro_similarity(village_name, soi_village_name)\n",
    "        \n",
    "        # Check if the similarity is above the threshold\n",
    "        if similarity >= 0.8:\n",
    "            # Combine the information from both dataframes\n",
    "            combined_row = {\n",
    "                **village_row.to_dict(),\n",
    "                **soi_row.to_dict(),\n",
    "                'Jaro Similarity': similarity\n",
    "            }\n",
    "            results.append(combined_row)\n",
    "\n",
    "# Convert the results into a DataFrame\n",
    "result_df = pd.DataFrame(results)\n"
   ]
  },
  {
   "cell_type": "code",
   "execution_count": 47,
   "metadata": {},
   "outputs": [],
   "source": [
    "column_order = [\n",
    "    'Year', 'State Name', 'state', 'District Name', 'SOI_District_Name', 'Zone No', 'Tehsil Name', 'SOI_Tehsil_Name', 'Tehsil Code', 'Village Name',\n",
    "    'SOI_Village_Name', 'Jaro Similarity', 'geometry'\n",
    "]\n",
    "\n",
    "# Reorder the dataframe\n",
    "result_df = result_df[column_order]"
   ]
  },
  {
   "cell_type": "code",
   "execution_count": 48,
   "metadata": {},
   "outputs": [
    {
     "data": {
      "text/plain": [
       "(1793, 13)"
      ]
     },
     "execution_count": 48,
     "metadata": {},
     "output_type": "execute_result"
    }
   ],
   "source": [
    "result_df.shape"
   ]
  },
  {
   "cell_type": "code",
   "execution_count": 55,
   "metadata": {},
   "outputs": [
    {
     "data": {
      "text/html": [
       "<div>\n",
       "<style scoped>\n",
       "    .dataframe tbody tr th:only-of-type {\n",
       "        vertical-align: middle;\n",
       "    }\n",
       "\n",
       "    .dataframe tbody tr th {\n",
       "        vertical-align: top;\n",
       "    }\n",
       "\n",
       "    .dataframe thead th {\n",
       "        text-align: right;\n",
       "    }\n",
       "</style>\n",
       "<table border=\"1\" class=\"dataframe\">\n",
       "  <thead>\n",
       "    <tr style=\"text-align: right;\">\n",
       "      <th></th>\n",
       "      <th>Year</th>\n",
       "      <th>State Name</th>\n",
       "      <th>state</th>\n",
       "      <th>District Name</th>\n",
       "      <th>SOI_District_Name</th>\n",
       "      <th>Zone No</th>\n",
       "      <th>Tehsil Name</th>\n",
       "      <th>SOI_Tehsil_Name</th>\n",
       "      <th>Tehsil Code</th>\n",
       "      <th>Village Name</th>\n",
       "      <th>SOI_Village_Name</th>\n",
       "      <th>Jaro Similarity</th>\n",
       "      <th>geometry</th>\n",
       "    </tr>\n",
       "  </thead>\n",
       "  <tbody>\n",
       "    <tr>\n",
       "      <th>0</th>\n",
       "      <td>2008-2011</td>\n",
       "      <td>andhra pradesh</td>\n",
       "      <td>andhra pradesh</td>\n",
       "      <td>medak</td>\n",
       "      <td>medak</td>\n",
       "      <td>v</td>\n",
       "      <td>sadasivpet</td>\n",
       "      <td>sadasivpet</td>\n",
       "      <td>49</td>\n",
       "      <td>nandi kandi</td>\n",
       "      <td>nandikandi</td>\n",
       "      <td>0.969697</td>\n",
       "      <td>POLYGON ((77.98548 17.62885, 77.9872 17.62891,...</td>\n",
       "    </tr>\n",
       "    <tr>\n",
       "      <th>1</th>\n",
       "      <td>2008-2011</td>\n",
       "      <td>andhra pradesh</td>\n",
       "      <td>andhra pradesh</td>\n",
       "      <td>srikakulam</td>\n",
       "      <td>srikakulam</td>\n",
       "      <td>i</td>\n",
       "      <td>tekkali</td>\n",
       "      <td>tekkali</td>\n",
       "      <td>2</td>\n",
       "      <td>tirlangi</td>\n",
       "      <td>thirlangi</td>\n",
       "      <td>0.962963</td>\n",
       "      <td>POLYGON ((84.20608 18.61308, 84.20653 18.61301...</td>\n",
       "    </tr>\n",
       "  </tbody>\n",
       "</table>\n",
       "</div>"
      ],
      "text/plain": [
       "        Year      State Name           state District Name SOI_District_Name  \\\n",
       "0  2008-2011  andhra pradesh  andhra pradesh         medak             medak   \n",
       "1  2008-2011  andhra pradesh  andhra pradesh    srikakulam        srikakulam   \n",
       "\n",
       "  Zone No Tehsil Name SOI_Tehsil_Name Tehsil Code Village Name  \\\n",
       "0       v  sadasivpet      sadasivpet          49  nandi kandi   \n",
       "1       i     tekkali         tekkali           2     tirlangi   \n",
       "\n",
       "  SOI_Village_Name  Jaro Similarity  \\\n",
       "0       nandikandi         0.969697   \n",
       "1        thirlangi         0.962963   \n",
       "\n",
       "                                            geometry  \n",
       "0  POLYGON ((77.98548 17.62885, 77.9872 17.62891,...  \n",
       "1  POLYGON ((84.20608 18.61308, 84.20653 18.61301...  "
      ]
     },
     "execution_count": 55,
     "metadata": {},
     "output_type": "execute_result"
    }
   ],
   "source": [
    "result_df.head(2)"
   ]
  },
  {
   "cell_type": "code",
   "execution_count": 54,
   "metadata": {},
   "outputs": [
    {
     "data": {
      "text/html": [
       "<div>\n",
       "<style scoped>\n",
       "    .dataframe tbody tr th:only-of-type {\n",
       "        vertical-align: middle;\n",
       "    }\n",
       "\n",
       "    .dataframe tbody tr th {\n",
       "        vertical-align: top;\n",
       "    }\n",
       "\n",
       "    .dataframe thead th {\n",
       "        text-align: right;\n",
       "    }\n",
       "</style>\n",
       "<table border=\"1\" class=\"dataframe\">\n",
       "  <thead>\n",
       "    <tr style=\"text-align: right;\">\n",
       "      <th></th>\n",
       "      <th>District</th>\n",
       "      <th>STATE</th>\n",
       "      <th>TEHSIL</th>\n",
       "      <th>Shape_Leng</th>\n",
       "      <th>Shape_Area</th>\n",
       "      <th>geometry</th>\n",
       "    </tr>\n",
       "  </thead>\n",
       "  <tbody>\n",
       "    <tr>\n",
       "      <th>0</th>\n",
       "      <td>bil&gt;spur</td>\n",
       "      <td>himachal pradesh</td>\n",
       "      <td>bharari</td>\n",
       "      <td>50253.228763</td>\n",
       "      <td>9.000306e+07</td>\n",
       "      <td>POLYGON ((3690806.89 4831388.917, 3690871.421 ...</td>\n",
       "    </tr>\n",
       "    <tr>\n",
       "      <th>1</th>\n",
       "      <td>bil&gt;spur</td>\n",
       "      <td>himachal pradesh</td>\n",
       "      <td>bil&gt;spur</td>\n",
       "      <td>93446.685818</td>\n",
       "      <td>1.703525e+08</td>\n",
       "      <td>POLYGON ((3699861.726 4812292.061, 3699965.144...</td>\n",
       "    </tr>\n",
       "    <tr>\n",
       "      <th>2</th>\n",
       "      <td>bil&gt;spur</td>\n",
       "      <td>himachal pradesh</td>\n",
       "      <td>ghurmw|n</td>\n",
       "      <td>105834.665205</td>\n",
       "      <td>1.906542e+08</td>\n",
       "      <td>POLYGON ((3692609.535 4827764.245, 3692614.853...</td>\n",
       "    </tr>\n",
       "  </tbody>\n",
       "</table>\n",
       "</div>"
      ],
      "text/plain": [
       "   District             STATE    TEHSIL     Shape_Leng    Shape_Area  \\\n",
       "0  bil>spur  himachal pradesh   bharari   50253.228763  9.000306e+07   \n",
       "1  bil>spur  himachal pradesh  bil>spur   93446.685818  1.703525e+08   \n",
       "2  bil>spur  himachal pradesh  ghurmw|n  105834.665205  1.906542e+08   \n",
       "\n",
       "                                            geometry  \n",
       "0  POLYGON ((3690806.89 4831388.917, 3690871.421 ...  \n",
       "1  POLYGON ((3699861.726 4812292.061, 3699965.144...  \n",
       "2  POLYGON ((3692609.535 4827764.245, 3692614.853...  "
      ]
     },
     "execution_count": 54,
     "metadata": {},
     "output_type": "execute_result"
    }
   ],
   "source": [
    "df_subdist_shape.head(3)"
   ]
  },
  {
   "cell_type": "code",
   "execution_count": 68,
   "metadata": {},
   "outputs": [],
   "source": [
    "import geopandas as gpd\n",
    "\n",
    "result_gdf = gpd.GeoDataFrame(result_df, geometry='geometry')\n",
    "\n",
    "subdist_gdf = gpd.GeoDataFrame(df_subdist_shape, geometry='geometry')\n",
    "\n",
    "if result_gdf.crs is None:\n",
    "    result_gdf = result_gdf.set_crs('EPSG:4326') \n",
    "\n",
    "if subdist_gdf.crs is None:\n",
    "    subdist_gdf = subdist_gdf.set_crs('EPSG:4326') \n",
    "\n",
    "result_gdf = result_gdf.to_crs('EPSG:4326')\n",
    "subdist_gdf = subdist_gdf.to_crs('EPSG:4326')\n",
    "\n",
    "merged_gdf = gpd.sjoin(result_gdf, subdist_gdf, how=\"inner\", predicate='within')\n"
   ]
  },
  {
   "cell_type": "code",
   "execution_count": 69,
   "metadata": {},
   "outputs": [
    {
     "data": {
      "text/plain": [
       "(1145, 19)"
      ]
     },
     "execution_count": 69,
     "metadata": {},
     "output_type": "execute_result"
    }
   ],
   "source": [
    "merged_gdf.shape"
   ]
  },
  {
   "cell_type": "code",
   "execution_count": null,
   "metadata": {},
   "outputs": [],
   "source": []
  }
 ],
 "metadata": {
  "kernelspec": {
   "display_name": "Python 3",
   "language": "python",
   "name": "python3"
  },
  "language_info": {
   "codemirror_mode": {
    "name": "ipython",
    "version": 3
   },
   "file_extension": ".py",
   "mimetype": "text/x-python",
   "name": "python",
   "nbconvert_exporter": "python",
   "pygments_lexer": "ipython3",
   "version": "3.10.12"
  }
 },
 "nbformat": 4,
 "nbformat_minor": 2
}
