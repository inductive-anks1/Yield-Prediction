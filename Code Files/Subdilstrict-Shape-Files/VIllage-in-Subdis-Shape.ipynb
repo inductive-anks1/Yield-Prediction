{
 "cells": [
  {
   "cell_type": "code",
   "execution_count": 75,
   "metadata": {},
   "outputs": [],
   "source": [
    "import pandas as pd\n",
    "import numpy as np\n",
    "import geopandas as gpd\n",
    "import os\n",
    "import yaml\n",
    "import pathlib"
   ]
  },
  {
   "cell_type": "code",
   "execution_count": 76,
   "metadata": {},
   "outputs": [
    {
     "name": "stdout",
     "output_type": "stream",
     "text": [
      "/home/inductive-anks/yield-prediction/Yield-Prediction/Code Files/Subdilstrict-Shape-Files\n"
     ]
    }
   ],
   "source": [
    "curr_dir = pathlib.Path().resolve()\n",
    "print(curr_dir)"
   ]
  },
  {
   "cell_type": "code",
   "execution_count": 77,
   "metadata": {},
   "outputs": [],
   "source": [
    "home_dir = curr_dir.parent.parent"
   ]
  },
  {
   "cell_type": "code",
   "execution_count": 78,
   "metadata": {},
   "outputs": [],
   "source": [
    "df_subdist_shape = gpd.read_file(home_dir.as_posix() + '/data/All-India-Subdistrict-Shape-File/SUBDISTRICT_BOUNDARY.shp')"
   ]
  },
  {
   "cell_type": "code",
   "execution_count": 79,
   "metadata": {},
   "outputs": [],
   "source": [
    "df_village_list = pd.read_csv(home_dir.as_posix() + '/data/Tehsil Data/Tehsil_Data_With_Single_Village.csv')"
   ]
  },
  {
   "cell_type": "code",
   "execution_count": 80,
   "metadata": {},
   "outputs": [],
   "source": [
    "df_SOI_shape = gpd.read_file(home_dir.as_posix() + '/data/All-Inida-SOI/All-India-Villages-SOI.shp')"
   ]
  },
  {
   "cell_type": "code",
   "execution_count": 81,
   "metadata": {},
   "outputs": [
    {
     "data": {
      "text/plain": [
       "(599742, 5)"
      ]
     },
     "execution_count": 81,
     "metadata": {},
     "output_type": "execute_result"
    }
   ],
   "source": [
    "df_SOI_shape.shape"
   ]
  },
  {
   "cell_type": "code",
   "execution_count": 82,
   "metadata": {},
   "outputs": [
    {
     "data": {
      "text/html": [
       "<div>\n",
       "<style scoped>\n",
       "    .dataframe tbody tr th:only-of-type {\n",
       "        vertical-align: middle;\n",
       "    }\n",
       "\n",
       "    .dataframe tbody tr th {\n",
       "        vertical-align: top;\n",
       "    }\n",
       "\n",
       "    .dataframe thead th {\n",
       "        text-align: right;\n",
       "    }\n",
       "</style>\n",
       "<table border=\"1\" class=\"dataframe\">\n",
       "  <thead>\n",
       "    <tr style=\"text-align: right;\">\n",
       "      <th></th>\n",
       "      <th>NAME</th>\n",
       "      <th>dtnmcoc</th>\n",
       "      <th>state</th>\n",
       "      <th>tehnmcoc</th>\n",
       "      <th>geometry</th>\n",
       "    </tr>\n",
       "  </thead>\n",
       "  <tbody>\n",
       "    <tr>\n",
       "      <th>0</th>\n",
       "      <td>village point boundary</td>\n",
       "      <td>lahul &amp; spiti</td>\n",
       "      <td>himachal pradesh</td>\n",
       "      <td>None</td>\n",
       "      <td>POLYGON ((76.73598 33.18017, 76.73492 33.18101...</td>\n",
       "    </tr>\n",
       "    <tr>\n",
       "      <th>1</th>\n",
       "      <td>dhar chhoglu</td>\n",
       "      <td>chamba</td>\n",
       "      <td>himachal pradesh</td>\n",
       "      <td>pangi</td>\n",
       "      <td>POLYGON ((76.55004 33.19772, 76.55082 33.19775...</td>\n",
       "    </tr>\n",
       "    <tr>\n",
       "      <th>2</th>\n",
       "      <td>dhar shinkal</td>\n",
       "      <td>chamba</td>\n",
       "      <td>himachal pradesh</td>\n",
       "      <td>pangi</td>\n",
       "      <td>POLYGON ((76.52521 33.19414, 76.52596 33.19418...</td>\n",
       "    </tr>\n",
       "    <tr>\n",
       "      <th>3</th>\n",
       "      <td>sural bhatori</td>\n",
       "      <td>chamba</td>\n",
       "      <td>himachal pradesh</td>\n",
       "      <td>pangi</td>\n",
       "      <td>POLYGON ((76.46151 33.17813, 76.46635 33.17894...</td>\n",
       "    </tr>\n",
       "    <tr>\n",
       "      <th>4</th>\n",
       "      <td>rusmas</td>\n",
       "      <td>chamba</td>\n",
       "      <td>himachal pradesh</td>\n",
       "      <td>pangi</td>\n",
       "      <td>POLYGON ((76.39866 33.17477, 76.39969 33.17541...</td>\n",
       "    </tr>\n",
       "  </tbody>\n",
       "</table>\n",
       "</div>"
      ],
      "text/plain": [
       "                     NAME        dtnmcoc             state tehnmcoc  \\\n",
       "0  village point boundary  lahul & spiti  himachal pradesh     None   \n",
       "1            dhar chhoglu         chamba  himachal pradesh    pangi   \n",
       "2            dhar shinkal         chamba  himachal pradesh    pangi   \n",
       "3           sural bhatori         chamba  himachal pradesh    pangi   \n",
       "4                  rusmas         chamba  himachal pradesh    pangi   \n",
       "\n",
       "                                            geometry  \n",
       "0  POLYGON ((76.73598 33.18017, 76.73492 33.18101...  \n",
       "1  POLYGON ((76.55004 33.19772, 76.55082 33.19775...  \n",
       "2  POLYGON ((76.52521 33.19414, 76.52596 33.19418...  \n",
       "3  POLYGON ((76.46151 33.17813, 76.46635 33.17894...  \n",
       "4  POLYGON ((76.39866 33.17477, 76.39969 33.17541...  "
      ]
     },
     "execution_count": 82,
     "metadata": {},
     "output_type": "execute_result"
    }
   ],
   "source": [
    "df_SOI_shape.head()"
   ]
  },
  {
   "cell_type": "code",
   "execution_count": 83,
   "metadata": {},
   "outputs": [],
   "source": [
    "df_SOI_shape.rename(columns={'NAME': 'SOI_Village_Name', 'dtnmcoc': 'SOI_District_Name', 'tehnmcoc':'SOI_Tehsil_Name'}, inplace=True)"
   ]
  },
  {
   "cell_type": "code",
   "execution_count": 84,
   "metadata": {},
   "outputs": [
    {
     "data": {
      "text/html": [
       "<div>\n",
       "<style scoped>\n",
       "    .dataframe tbody tr th:only-of-type {\n",
       "        vertical-align: middle;\n",
       "    }\n",
       "\n",
       "    .dataframe tbody tr th {\n",
       "        vertical-align: top;\n",
       "    }\n",
       "\n",
       "    .dataframe thead th {\n",
       "        text-align: right;\n",
       "    }\n",
       "</style>\n",
       "<table border=\"1\" class=\"dataframe\">\n",
       "  <thead>\n",
       "    <tr style=\"text-align: right;\">\n",
       "      <th></th>\n",
       "      <th>SOI_Village_Name</th>\n",
       "      <th>SOI_District_Name</th>\n",
       "      <th>state</th>\n",
       "      <th>SOI_Tehsil_Name</th>\n",
       "      <th>geometry</th>\n",
       "    </tr>\n",
       "  </thead>\n",
       "  <tbody>\n",
       "    <tr>\n",
       "      <th>0</th>\n",
       "      <td>village point boundary</td>\n",
       "      <td>lahul &amp; spiti</td>\n",
       "      <td>himachal pradesh</td>\n",
       "      <td>None</td>\n",
       "      <td>POLYGON ((76.73598 33.18017, 76.73492 33.18101...</td>\n",
       "    </tr>\n",
       "    <tr>\n",
       "      <th>1</th>\n",
       "      <td>dhar chhoglu</td>\n",
       "      <td>chamba</td>\n",
       "      <td>himachal pradesh</td>\n",
       "      <td>pangi</td>\n",
       "      <td>POLYGON ((76.55004 33.19772, 76.55082 33.19775...</td>\n",
       "    </tr>\n",
       "    <tr>\n",
       "      <th>2</th>\n",
       "      <td>dhar shinkal</td>\n",
       "      <td>chamba</td>\n",
       "      <td>himachal pradesh</td>\n",
       "      <td>pangi</td>\n",
       "      <td>POLYGON ((76.52521 33.19414, 76.52596 33.19418...</td>\n",
       "    </tr>\n",
       "    <tr>\n",
       "      <th>3</th>\n",
       "      <td>sural bhatori</td>\n",
       "      <td>chamba</td>\n",
       "      <td>himachal pradesh</td>\n",
       "      <td>pangi</td>\n",
       "      <td>POLYGON ((76.46151 33.17813, 76.46635 33.17894...</td>\n",
       "    </tr>\n",
       "    <tr>\n",
       "      <th>4</th>\n",
       "      <td>rusmas</td>\n",
       "      <td>chamba</td>\n",
       "      <td>himachal pradesh</td>\n",
       "      <td>pangi</td>\n",
       "      <td>POLYGON ((76.39866 33.17477, 76.39969 33.17541...</td>\n",
       "    </tr>\n",
       "  </tbody>\n",
       "</table>\n",
       "</div>"
      ],
      "text/plain": [
       "         SOI_Village_Name SOI_District_Name             state SOI_Tehsil_Name  \\\n",
       "0  village point boundary     lahul & spiti  himachal pradesh            None   \n",
       "1            dhar chhoglu            chamba  himachal pradesh           pangi   \n",
       "2            dhar shinkal            chamba  himachal pradesh           pangi   \n",
       "3           sural bhatori            chamba  himachal pradesh           pangi   \n",
       "4                  rusmas            chamba  himachal pradesh           pangi   \n",
       "\n",
       "                                            geometry  \n",
       "0  POLYGON ((76.73598 33.18017, 76.73492 33.18101...  \n",
       "1  POLYGON ((76.55004 33.19772, 76.55082 33.19775...  \n",
       "2  POLYGON ((76.52521 33.19414, 76.52596 33.19418...  \n",
       "3  POLYGON ((76.46151 33.17813, 76.46635 33.17894...  \n",
       "4  POLYGON ((76.39866 33.17477, 76.39969 33.17541...  "
      ]
     },
     "execution_count": 84,
     "metadata": {},
     "output_type": "execute_result"
    }
   ],
   "source": [
    "df_SOI_shape.head()"
   ]
  },
  {
   "cell_type": "code",
   "execution_count": 85,
   "metadata": {},
   "outputs": [
    {
     "data": {
      "text/html": [
       "<div>\n",
       "<style scoped>\n",
       "    .dataframe tbody tr th:only-of-type {\n",
       "        vertical-align: middle;\n",
       "    }\n",
       "\n",
       "    .dataframe tbody tr th {\n",
       "        vertical-align: top;\n",
       "    }\n",
       "\n",
       "    .dataframe thead th {\n",
       "        text-align: right;\n",
       "    }\n",
       "</style>\n",
       "<table border=\"1\" class=\"dataframe\">\n",
       "  <thead>\n",
       "    <tr style=\"text-align: right;\">\n",
       "      <th></th>\n",
       "      <th>Year</th>\n",
       "      <th>State Name</th>\n",
       "      <th>District Name</th>\n",
       "      <th>Zone No</th>\n",
       "      <th>Tehsil Name</th>\n",
       "      <th>Tehsil Code</th>\n",
       "      <th>Village Name</th>\n",
       "    </tr>\n",
       "  </thead>\n",
       "  <tbody>\n",
       "    <tr>\n",
       "      <th>0</th>\n",
       "      <td>2008-2011</td>\n",
       "      <td>andhra pradesh</td>\n",
       "      <td>ranga reddy</td>\n",
       "      <td>iv</td>\n",
       "      <td>puduru</td>\n",
       "      <td>40</td>\n",
       "      <td>pedhaumethala</td>\n",
       "    </tr>\n",
       "    <tr>\n",
       "      <th>1</th>\n",
       "      <td>2008-2011</td>\n",
       "      <td>andhra pradesh</td>\n",
       "      <td>medak</td>\n",
       "      <td>v</td>\n",
       "      <td>sadasivpet</td>\n",
       "      <td>49</td>\n",
       "      <td>nandi kandi</td>\n",
       "    </tr>\n",
       "    <tr>\n",
       "      <th>2</th>\n",
       "      <td>2008-2011</td>\n",
       "      <td>andhra pradesh</td>\n",
       "      <td>medak</td>\n",
       "      <td>v</td>\n",
       "      <td>zaiheerabad</td>\n",
       "      <td>50</td>\n",
       "      <td>huggelly</td>\n",
       "    </tr>\n",
       "    <tr>\n",
       "      <th>3</th>\n",
       "      <td>2008-2011</td>\n",
       "      <td>andhra pradesh</td>\n",
       "      <td>srikakulam</td>\n",
       "      <td>i</td>\n",
       "      <td>etheria</td>\n",
       "      <td>1</td>\n",
       "      <td>ponnada</td>\n",
       "    </tr>\n",
       "    <tr>\n",
       "      <th>4</th>\n",
       "      <td>2008-2011</td>\n",
       "      <td>andhra pradesh</td>\n",
       "      <td>srikakulam</td>\n",
       "      <td>i</td>\n",
       "      <td>tekkali</td>\n",
       "      <td>2</td>\n",
       "      <td>tirlangi</td>\n",
       "    </tr>\n",
       "  </tbody>\n",
       "</table>\n",
       "</div>"
      ],
      "text/plain": [
       "        Year      State Name District Name Zone No  Tehsil Name Tehsil Code  \\\n",
       "0  2008-2011  andhra pradesh   ranga reddy      iv       puduru          40   \n",
       "1  2008-2011  andhra pradesh         medak       v   sadasivpet          49   \n",
       "2  2008-2011  andhra pradesh         medak       v  zaiheerabad          50   \n",
       "3  2008-2011  andhra pradesh    srikakulam       i      etheria           1   \n",
       "4  2008-2011  andhra pradesh    srikakulam       i      tekkali           2   \n",
       "\n",
       "    Village Name  \n",
       "0  pedhaumethala  \n",
       "1    nandi kandi  \n",
       "2       huggelly  \n",
       "3        ponnada  \n",
       "4       tirlangi  "
      ]
     },
     "execution_count": 85,
     "metadata": {},
     "output_type": "execute_result"
    }
   ],
   "source": [
    "df_village_list.head()"
   ]
  },
  {
   "cell_type": "code",
   "execution_count": 86,
   "metadata": {},
   "outputs": [
    {
     "data": {
      "text/html": [
       "<div>\n",
       "<style scoped>\n",
       "    .dataframe tbody tr th:only-of-type {\n",
       "        vertical-align: middle;\n",
       "    }\n",
       "\n",
       "    .dataframe tbody tr th {\n",
       "        vertical-align: top;\n",
       "    }\n",
       "\n",
       "    .dataframe thead th {\n",
       "        text-align: right;\n",
       "    }\n",
       "</style>\n",
       "<table border=\"1\" class=\"dataframe\">\n",
       "  <thead>\n",
       "    <tr style=\"text-align: right;\">\n",
       "      <th></th>\n",
       "      <th>District</th>\n",
       "      <th>STATE</th>\n",
       "      <th>TEHSIL</th>\n",
       "      <th>Shape_Leng</th>\n",
       "      <th>Shape_Area</th>\n",
       "      <th>geometry</th>\n",
       "    </tr>\n",
       "  </thead>\n",
       "  <tbody>\n",
       "    <tr>\n",
       "      <th>0</th>\n",
       "      <td>BIL&gt;SPUR</td>\n",
       "      <td>HIMACHAL PRADESH</td>\n",
       "      <td>BHARARI</td>\n",
       "      <td>50253.228763</td>\n",
       "      <td>9.000306e+07</td>\n",
       "      <td>POLYGON ((3690806.89 4831388.917, 3690871.421 ...</td>\n",
       "    </tr>\n",
       "    <tr>\n",
       "      <th>1</th>\n",
       "      <td>BIL&gt;SPUR</td>\n",
       "      <td>HIMACHAL PRADESH</td>\n",
       "      <td>BIL&gt;SPUR</td>\n",
       "      <td>93446.685818</td>\n",
       "      <td>1.703525e+08</td>\n",
       "      <td>POLYGON ((3699861.726 4812292.061, 3699965.144...</td>\n",
       "    </tr>\n",
       "    <tr>\n",
       "      <th>2</th>\n",
       "      <td>BIL&gt;SPUR</td>\n",
       "      <td>HIMACHAL PRADESH</td>\n",
       "      <td>GHURMW|N</td>\n",
       "      <td>105834.665205</td>\n",
       "      <td>1.906542e+08</td>\n",
       "      <td>POLYGON ((3692609.535 4827764.245, 3692614.853...</td>\n",
       "    </tr>\n",
       "    <tr>\n",
       "      <th>3</th>\n",
       "      <td>BIL&gt;SPUR</td>\n",
       "      <td>HIMACHAL PRADESH</td>\n",
       "      <td>JHAND@TA</td>\n",
       "      <td>112831.475031</td>\n",
       "      <td>3.205376e+08</td>\n",
       "      <td>POLYGON ((3667564.424 4819909.775, 3667603.174...</td>\n",
       "    </tr>\n",
       "    <tr>\n",
       "      <th>4</th>\n",
       "      <td>BIL&gt;SPUR</td>\n",
       "      <td>HIMACHAL PRADESH</td>\n",
       "      <td>NAMHOL</td>\n",
       "      <td>61752.616994</td>\n",
       "      <td>1.034979e+08</td>\n",
       "      <td>POLYGON ((3701617.644 4803943.439, 3701666.832...</td>\n",
       "    </tr>\n",
       "  </tbody>\n",
       "</table>\n",
       "</div>"
      ],
      "text/plain": [
       "   District             STATE    TEHSIL     Shape_Leng    Shape_Area  \\\n",
       "0  BIL>SPUR  HIMACHAL PRADESH   BHARARI   50253.228763  9.000306e+07   \n",
       "1  BIL>SPUR  HIMACHAL PRADESH  BIL>SPUR   93446.685818  1.703525e+08   \n",
       "2  BIL>SPUR  HIMACHAL PRADESH  GHURMW|N  105834.665205  1.906542e+08   \n",
       "3  BIL>SPUR  HIMACHAL PRADESH  JHAND@TA  112831.475031  3.205376e+08   \n",
       "4  BIL>SPUR  HIMACHAL PRADESH    NAMHOL   61752.616994  1.034979e+08   \n",
       "\n",
       "                                            geometry  \n",
       "0  POLYGON ((3690806.89 4831388.917, 3690871.421 ...  \n",
       "1  POLYGON ((3699861.726 4812292.061, 3699965.144...  \n",
       "2  POLYGON ((3692609.535 4827764.245, 3692614.853...  \n",
       "3  POLYGON ((3667564.424 4819909.775, 3667603.174...  \n",
       "4  POLYGON ((3701617.644 4803943.439, 3701666.832...  "
      ]
     },
     "execution_count": 86,
     "metadata": {},
     "output_type": "execute_result"
    }
   ],
   "source": [
    "df_subdist_shape.head()"
   ]
  },
  {
   "cell_type": "markdown",
   "metadata": {},
   "source": [
    "## Converting to Lower Case"
   ]
  },
  {
   "cell_type": "code",
   "execution_count": 87,
   "metadata": {},
   "outputs": [
    {
     "name": "stderr",
     "output_type": "stream",
     "text": [
      "/tmp/ipykernel_1639/228283043.py:1: FutureWarning: DataFrame.applymap has been deprecated. Use DataFrame.map instead.\n",
      "  df_subdist_shape = df_subdist_shape.applymap(lambda x: x.lower() if isinstance(x, str) else x)\n"
     ]
    }
   ],
   "source": [
    "df_subdist_shape = df_subdist_shape.applymap(lambda x: x.lower() if isinstance(x, str) else x)"
   ]
  },
  {
   "cell_type": "code",
   "execution_count": 88,
   "metadata": {},
   "outputs": [
    {
     "name": "stderr",
     "output_type": "stream",
     "text": [
      "/tmp/ipykernel_1639/990218482.py:1: FutureWarning: DataFrame.applymap has been deprecated. Use DataFrame.map instead.\n",
      "  df_village_list = df_village_list.applymap(lambda x: x.lower() if isinstance(x, str) else x)\n"
     ]
    }
   ],
   "source": [
    "df_village_list = df_village_list.applymap(lambda x: x.lower() if isinstance(x, str) else x)"
   ]
  },
  {
   "cell_type": "code",
   "execution_count": 89,
   "metadata": {},
   "outputs": [
    {
     "name": "stderr",
     "output_type": "stream",
     "text": [
      "/tmp/ipykernel_1639/3172920881.py:1: FutureWarning: DataFrame.applymap has been deprecated. Use DataFrame.map instead.\n",
      "  df_SOI_shape = df_SOI_shape.applymap(lambda x: x.lower() if isinstance(x, str) else x)\n"
     ]
    }
   ],
   "source": [
    "df_SOI_shape = df_SOI_shape.applymap(lambda x: x.lower() if isinstance(x, str) else x)"
   ]
  },
  {
   "cell_type": "markdown",
   "metadata": {},
   "source": [
    "## Test"
   ]
  },
  {
   "cell_type": "code",
   "execution_count": 90,
   "metadata": {},
   "outputs": [],
   "source": [
    "village_list_SOI_mapping = gpd.read_file(home_dir.as_posix() + '/data/Village_List-SOI-Mapping(Main)/Village_List-SOI-Mapping(Main).shp')"
   ]
  },
  {
   "cell_type": "code",
   "execution_count": 91,
   "metadata": {},
   "outputs": [
    {
     "data": {
      "text/plain": [
       "(3278, 11)"
      ]
     },
     "execution_count": 91,
     "metadata": {},
     "output_type": "execute_result"
    }
   ],
   "source": [
    "village_list_SOI_mapping.shape"
   ]
  },
  {
   "cell_type": "code",
   "execution_count": 92,
   "metadata": {},
   "outputs": [
    {
     "data": {
      "text/html": [
       "<div>\n",
       "<style scoped>\n",
       "    .dataframe tbody tr th:only-of-type {\n",
       "        vertical-align: middle;\n",
       "    }\n",
       "\n",
       "    .dataframe tbody tr th {\n",
       "        vertical-align: top;\n",
       "    }\n",
       "\n",
       "    .dataframe thead th {\n",
       "        text-align: right;\n",
       "    }\n",
       "</style>\n",
       "<table border=\"1\" class=\"dataframe\">\n",
       "  <thead>\n",
       "    <tr style=\"text-align: right;\">\n",
       "      <th></th>\n",
       "      <th>STATE</th>\n",
       "      <th>YEAR</th>\n",
       "      <th>ZONE</th>\n",
       "      <th>DISTRICT</th>\n",
       "      <th>slnococ</th>\n",
       "      <th>TEHSIL</th>\n",
       "      <th>VL</th>\n",
       "      <th>sdnm_11</th>\n",
       "      <th>SOI</th>\n",
       "      <th>Similarity</th>\n",
       "      <th>geometry</th>\n",
       "    </tr>\n",
       "  </thead>\n",
       "  <tbody>\n",
       "    <tr>\n",
       "      <th>0</th>\n",
       "      <td>punjab</td>\n",
       "      <td>2008-11</td>\n",
       "      <td>1</td>\n",
       "      <td>gurdaspur</td>\n",
       "      <td>2</td>\n",
       "      <td>batala</td>\n",
       "      <td>ammo nagal</td>\n",
       "      <td>batala</td>\n",
       "      <td>ammo nagal</td>\n",
       "      <td>1.0</td>\n",
       "      <td>POLYGON ((75.24774 31.75, 75.24879 31.75118, 7...</td>\n",
       "    </tr>\n",
       "    <tr>\n",
       "      <th>1</th>\n",
       "      <td>punjab</td>\n",
       "      <td>2008-11</td>\n",
       "      <td>1</td>\n",
       "      <td>amrtisar</td>\n",
       "      <td>3</td>\n",
       "      <td>ajnala</td>\n",
       "      <td>bhalapind</td>\n",
       "      <td>ajnala</td>\n",
       "      <td>bhalapind</td>\n",
       "      <td>1.0</td>\n",
       "      <td>POLYGON ((74.78681 31.79373, 74.78854 31.79339...</td>\n",
       "    </tr>\n",
       "    <tr>\n",
       "      <th>2</th>\n",
       "      <td>punjab</td>\n",
       "      <td>2008-11</td>\n",
       "      <td>1</td>\n",
       "      <td>amritsar</td>\n",
       "      <td>4</td>\n",
       "      <td>amritsar-i</td>\n",
       "      <td>ballian manjpur</td>\n",
       "      <td>amritsar i</td>\n",
       "      <td>ballian manjpur</td>\n",
       "      <td>1.0</td>\n",
       "      <td>POLYGON ((75.08233 31.59099, 75.08259 31.59082...</td>\n",
       "    </tr>\n",
       "    <tr>\n",
       "      <th>3</th>\n",
       "      <td>punjab</td>\n",
       "      <td>2008-11</td>\n",
       "      <td>1</td>\n",
       "      <td>tarntarn</td>\n",
       "      <td>5</td>\n",
       "      <td>patti</td>\n",
       "      <td>kirtowal</td>\n",
       "      <td>patti</td>\n",
       "      <td>kirtowal</td>\n",
       "      <td>1.0</td>\n",
       "      <td>POLYGON ((74.90056 31.21235, 74.90026 31.2118,...</td>\n",
       "    </tr>\n",
       "    <tr>\n",
       "      <th>4</th>\n",
       "      <td>punjab</td>\n",
       "      <td>2008-11</td>\n",
       "      <td>1</td>\n",
       "      <td>hoshiarpur</td>\n",
       "      <td>6</td>\n",
       "      <td>mukerian</td>\n",
       "      <td>gera</td>\n",
       "      <td>mukerian</td>\n",
       "      <td>gera</td>\n",
       "      <td>1.0</td>\n",
       "      <td>POLYGON ((75.79117 31.98615, 75.79183 31.98424...</td>\n",
       "    </tr>\n",
       "  </tbody>\n",
       "</table>\n",
       "</div>"
      ],
      "text/plain": [
       "    STATE     YEAR ZONE    DISTRICT slnococ      TEHSIL               VL  \\\n",
       "0  punjab  2008-11    1   gurdaspur       2      batala       ammo nagal   \n",
       "1  punjab  2008-11    1    amrtisar       3      ajnala        bhalapind   \n",
       "2  punjab  2008-11    1    amritsar       4  amritsar-i  ballian manjpur   \n",
       "3  punjab  2008-11    1    tarntarn       5       patti         kirtowal   \n",
       "4  punjab  2008-11    1  hoshiarpur       6    mukerian             gera   \n",
       "\n",
       "      sdnm_11              SOI  Similarity  \\\n",
       "0      batala       ammo nagal         1.0   \n",
       "1      ajnala        bhalapind         1.0   \n",
       "2  amritsar i  ballian manjpur         1.0   \n",
       "3       patti         kirtowal         1.0   \n",
       "4    mukerian             gera         1.0   \n",
       "\n",
       "                                            geometry  \n",
       "0  POLYGON ((75.24774 31.75, 75.24879 31.75118, 7...  \n",
       "1  POLYGON ((74.78681 31.79373, 74.78854 31.79339...  \n",
       "2  POLYGON ((75.08233 31.59099, 75.08259 31.59082...  \n",
       "3  POLYGON ((74.90056 31.21235, 74.90026 31.2118,...  \n",
       "4  POLYGON ((75.79117 31.98615, 75.79183 31.98424...  "
      ]
     },
     "execution_count": 92,
     "metadata": {},
     "output_type": "execute_result"
    }
   ],
   "source": [
    "village_list_SOI_mapping.head()"
   ]
  },
  {
   "cell_type": "code",
   "execution_count": 93,
   "metadata": {},
   "outputs": [
    {
     "data": {
      "text/html": [
       "<div>\n",
       "<style scoped>\n",
       "    .dataframe tbody tr th:only-of-type {\n",
       "        vertical-align: middle;\n",
       "    }\n",
       "\n",
       "    .dataframe tbody tr th {\n",
       "        vertical-align: top;\n",
       "    }\n",
       "\n",
       "    .dataframe thead th {\n",
       "        text-align: right;\n",
       "    }\n",
       "</style>\n",
       "<table border=\"1\" class=\"dataframe\">\n",
       "  <thead>\n",
       "    <tr style=\"text-align: right;\">\n",
       "      <th></th>\n",
       "      <th>Year</th>\n",
       "      <th>State Name</th>\n",
       "      <th>District Name</th>\n",
       "      <th>Zone No</th>\n",
       "      <th>Tehsil Name</th>\n",
       "      <th>Tehsil Code</th>\n",
       "      <th>Village Name</th>\n",
       "    </tr>\n",
       "  </thead>\n",
       "  <tbody>\n",
       "    <tr>\n",
       "      <th>0</th>\n",
       "      <td>2008-2011</td>\n",
       "      <td>andhra pradesh</td>\n",
       "      <td>ranga reddy</td>\n",
       "      <td>iv</td>\n",
       "      <td>puduru</td>\n",
       "      <td>40</td>\n",
       "      <td>pedhaumethala</td>\n",
       "    </tr>\n",
       "    <tr>\n",
       "      <th>1</th>\n",
       "      <td>2008-2011</td>\n",
       "      <td>andhra pradesh</td>\n",
       "      <td>medak</td>\n",
       "      <td>v</td>\n",
       "      <td>sadasivpet</td>\n",
       "      <td>49</td>\n",
       "      <td>nandi kandi</td>\n",
       "    </tr>\n",
       "    <tr>\n",
       "      <th>2</th>\n",
       "      <td>2008-2011</td>\n",
       "      <td>andhra pradesh</td>\n",
       "      <td>medak</td>\n",
       "      <td>v</td>\n",
       "      <td>zaiheerabad</td>\n",
       "      <td>50</td>\n",
       "      <td>huggelly</td>\n",
       "    </tr>\n",
       "    <tr>\n",
       "      <th>3</th>\n",
       "      <td>2008-2011</td>\n",
       "      <td>andhra pradesh</td>\n",
       "      <td>srikakulam</td>\n",
       "      <td>i</td>\n",
       "      <td>etheria</td>\n",
       "      <td>1</td>\n",
       "      <td>ponnada</td>\n",
       "    </tr>\n",
       "    <tr>\n",
       "      <th>4</th>\n",
       "      <td>2008-2011</td>\n",
       "      <td>andhra pradesh</td>\n",
       "      <td>srikakulam</td>\n",
       "      <td>i</td>\n",
       "      <td>tekkali</td>\n",
       "      <td>2</td>\n",
       "      <td>tirlangi</td>\n",
       "    </tr>\n",
       "  </tbody>\n",
       "</table>\n",
       "</div>"
      ],
      "text/plain": [
       "        Year      State Name District Name Zone No  Tehsil Name Tehsil Code  \\\n",
       "0  2008-2011  andhra pradesh   ranga reddy      iv       puduru          40   \n",
       "1  2008-2011  andhra pradesh         medak       v   sadasivpet          49   \n",
       "2  2008-2011  andhra pradesh         medak       v  zaiheerabad          50   \n",
       "3  2008-2011  andhra pradesh    srikakulam       i      etheria           1   \n",
       "4  2008-2011  andhra pradesh    srikakulam       i      tekkali           2   \n",
       "\n",
       "    Village Name  \n",
       "0  pedhaumethala  \n",
       "1    nandi kandi  \n",
       "2       huggelly  \n",
       "3        ponnada  \n",
       "4       tirlangi  "
      ]
     },
     "execution_count": 93,
     "metadata": {},
     "output_type": "execute_result"
    }
   ],
   "source": [
    "df_village_list.head()"
   ]
  },
  {
   "cell_type": "code",
   "execution_count": 94,
   "metadata": {},
   "outputs": [
    {
     "name": "stderr",
     "output_type": "stream",
     "text": [
      "/tmp/ipykernel_1639/3965484942.py:1: FutureWarning: DataFrame.applymap has been deprecated. Use DataFrame.map instead.\n",
      "  df_village_list = df_village_list.applymap(lambda x: x.strip() if isinstance(x, str) else x)\n"
     ]
    }
   ],
   "source": [
    "df_village_list = df_village_list.applymap(lambda x: x.strip() if isinstance(x, str) else x)"
   ]
  },
  {
   "cell_type": "code",
   "execution_count": 95,
   "metadata": {},
   "outputs": [],
   "source": [
    "import pandas as pd\n",
    "\n",
    "filtered_rows = []\n",
    "\n",
    "for idx, row in village_list_SOI_mapping.iterrows():\n",
    "    village = row['VL']\n",
    "    \n",
    "    match = df_village_list[\n",
    "        (df_village_list['Village Name'] == village)\n",
    "    ]\n",
    "    \n",
    "    if not match.empty:\n",
    "        filtered_rows.append(row)\n",
    "\n",
    "filtered_df = pd.DataFrame(filtered_rows)"
   ]
  },
  {
   "cell_type": "code",
   "execution_count": 96,
   "metadata": {},
   "outputs": [
    {
     "data": {
      "text/plain": [
       "(2533, 11)"
      ]
     },
     "execution_count": 96,
     "metadata": {},
     "output_type": "execute_result"
    }
   ],
   "source": [
    "filtered_df.shape"
   ]
  },
  {
   "cell_type": "code",
   "execution_count": 97,
   "metadata": {},
   "outputs": [
    {
     "data": {
      "text/plain": [
       "(2540, 7)"
      ]
     },
     "execution_count": 97,
     "metadata": {},
     "output_type": "execute_result"
    }
   ],
   "source": [
    "df_village_list.shape"
   ]
  },
  {
   "cell_type": "code",
   "execution_count": 98,
   "metadata": {},
   "outputs": [],
   "source": [
    "import pandas as pd\n",
    "\n",
    "remaining_rows = df_village_list[\n",
    "    ~df_village_list.apply(lambda x: \n",
    "        ((village_list_SOI_mapping['TEHSIL'] == x['Tehsil Name'])).any(), axis=1)\n",
    "]"
   ]
  },
  {
   "cell_type": "code",
   "execution_count": 99,
   "metadata": {},
   "outputs": [],
   "source": [
    "pd.set_option('display.max_rows', None)\n",
    "pd.set_option('display.max_columns', None)"
   ]
  },
  {
   "cell_type": "code",
   "execution_count": 100,
   "metadata": {},
   "outputs": [
    {
     "data": {
      "text/plain": [
       "(63, 7)"
      ]
     },
     "execution_count": 100,
     "metadata": {},
     "output_type": "execute_result"
    }
   ],
   "source": [
    "remaining_rows.shape"
   ]
  },
  {
   "cell_type": "code",
   "execution_count": 101,
   "metadata": {},
   "outputs": [],
   "source": [
    "remaining_rows.to_csv('/home/inductive-anks/yield-prediction/Yield-Prediction/data/Tehsil Data/remaining_unmatched_villages.csv', index=False)"
   ]
  },
  {
   "cell_type": "code",
   "execution_count": 102,
   "metadata": {},
   "outputs": [
    {
     "data": {
      "text/html": [
       "<div>\n",
       "<style scoped>\n",
       "    .dataframe tbody tr th:only-of-type {\n",
       "        vertical-align: middle;\n",
       "    }\n",
       "\n",
       "    .dataframe tbody tr th {\n",
       "        vertical-align: top;\n",
       "    }\n",
       "\n",
       "    .dataframe thead th {\n",
       "        text-align: right;\n",
       "    }\n",
       "</style>\n",
       "<table border=\"1\" class=\"dataframe\">\n",
       "  <thead>\n",
       "    <tr style=\"text-align: right;\">\n",
       "      <th></th>\n",
       "      <th>Year</th>\n",
       "      <th>State Name</th>\n",
       "      <th>District Name</th>\n",
       "      <th>Zone No</th>\n",
       "      <th>Tehsil Name</th>\n",
       "      <th>Tehsil Code</th>\n",
       "      <th>Village Name</th>\n",
       "    </tr>\n",
       "  </thead>\n",
       "  <tbody>\n",
       "    <tr>\n",
       "      <th>660</th>\n",
       "      <td>2011-2014</td>\n",
       "      <td>andhra pradesh</td>\n",
       "      <td>ananthapur</td>\n",
       "      <td>zone-iii</td>\n",
       "      <td>kothacheruvu</td>\n",
       "      <td>32</td>\n",
       "      <td>bandapalli</td>\n",
       "    </tr>\n",
       "    <tr>\n",
       "      <th>585</th>\n",
       "      <td>2008-2011</td>\n",
       "      <td>karnataka</td>\n",
       "      <td>bhalki</td>\n",
       "      <td>01</td>\n",
       "      <td>bidar</td>\n",
       "      <td>2.0</td>\n",
       "      <td>bhatramba</td>\n",
       "    </tr>\n",
       "    <tr>\n",
       "      <th>600</th>\n",
       "      <td>2008-2011</td>\n",
       "      <td>karnataka</td>\n",
       "      <td>raibhag</td>\n",
       "      <td>03</td>\n",
       "      <td>belgaum</td>\n",
       "      <td>17.0</td>\n",
       "      <td>kudachi</td>\n",
       "    </tr>\n",
       "    <tr>\n",
       "      <th>959</th>\n",
       "      <td>2011-2014</td>\n",
       "      <td>rajasthan</td>\n",
       "      <td>s. ganganagar</td>\n",
       "      <td>iii</td>\n",
       "      <td>anoopgarh</td>\n",
       "      <td>17</td>\n",
       "      <td>79gb/80gb/88gb</td>\n",
       "    </tr>\n",
       "    <tr>\n",
       "      <th>92</th>\n",
       "      <td>2008-2011</td>\n",
       "      <td>chhattisgarh</td>\n",
       "      <td>raipur</td>\n",
       "      <td>ii</td>\n",
       "      <td>gariyaband</td>\n",
       "      <td>10</td>\n",
       "      <td>malgaon</td>\n",
       "    </tr>\n",
       "    <tr>\n",
       "      <th>620</th>\n",
       "      <td>2008-2011</td>\n",
       "      <td>karnataka</td>\n",
       "      <td>hunsur</td>\n",
       "      <td>07</td>\n",
       "      <td>mysore</td>\n",
       "      <td>37.0</td>\n",
       "      <td>devanahalli</td>\n",
       "    </tr>\n",
       "    <tr>\n",
       "      <th>595</th>\n",
       "      <td>2008-2011</td>\n",
       "      <td>karnataka</td>\n",
       "      <td>soundatti</td>\n",
       "      <td>03</td>\n",
       "      <td>belgaum</td>\n",
       "      <td>12.0</td>\n",
       "      <td>karikatti</td>\n",
       "    </tr>\n",
       "    <tr>\n",
       "      <th>359</th>\n",
       "      <td>2008-2011</td>\n",
       "      <td>orissa</td>\n",
       "      <td>rayagada</td>\n",
       "      <td>ii</td>\n",
       "      <td>kasipur</td>\n",
       "      <td>22</td>\n",
       "      <td>tikiri,jamuguda</td>\n",
       "    </tr>\n",
       "  </tbody>\n",
       "</table>\n",
       "</div>"
      ],
      "text/plain": [
       "          Year      State Name  District Name   Zone No   Tehsil Name  \\\n",
       "660  2011-2014  andhra pradesh     ananthapur  zone-iii  kothacheruvu   \n",
       "585  2008-2011       karnataka         bhalki        01         bidar   \n",
       "600  2008-2011       karnataka        raibhag        03       belgaum   \n",
       "959  2011-2014       rajasthan  s. ganganagar       iii     anoopgarh   \n",
       "92   2008-2011    chhattisgarh         raipur        ii    gariyaband   \n",
       "620  2008-2011       karnataka         hunsur        07        mysore   \n",
       "595  2008-2011       karnataka      soundatti        03       belgaum   \n",
       "359  2008-2011          orissa       rayagada        ii       kasipur   \n",
       "\n",
       "    Tehsil Code     Village Name  \n",
       "660          32       bandapalli  \n",
       "585         2.0        bhatramba  \n",
       "600        17.0          kudachi  \n",
       "959          17   79gb/80gb/88gb  \n",
       "92           10          malgaon  \n",
       "620        37.0      devanahalli  \n",
       "595        12.0        karikatti  \n",
       "359          22  tikiri,jamuguda  "
      ]
     },
     "execution_count": 102,
     "metadata": {},
     "output_type": "execute_result"
    }
   ],
   "source": [
    "remaining_rows.sample(8)"
   ]
  },
  {
   "cell_type": "code",
   "execution_count": null,
   "metadata": {},
   "outputs": [],
   "source": []
  },
  {
   "cell_type": "code",
   "execution_count": null,
   "metadata": {},
   "outputs": [],
   "source": []
  },
  {
   "cell_type": "code",
   "execution_count": null,
   "metadata": {},
   "outputs": [],
   "source": []
  },
  {
   "cell_type": "code",
   "execution_count": null,
   "metadata": {},
   "outputs": [],
   "source": []
  }
 ],
 "metadata": {
  "kernelspec": {
   "display_name": "Python 3",
   "language": "python",
   "name": "python3"
  },
  "language_info": {
   "codemirror_mode": {
    "name": "ipython",
    "version": 3
   },
   "file_extension": ".py",
   "mimetype": "text/x-python",
   "name": "python",
   "nbconvert_exporter": "python",
   "pygments_lexer": "ipython3",
   "version": "3.10.12"
  }
 },
 "nbformat": 4,
 "nbformat_minor": 2
}
