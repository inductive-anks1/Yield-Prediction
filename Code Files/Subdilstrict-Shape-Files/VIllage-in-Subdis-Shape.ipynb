{
 "cells": [
  {
   "cell_type": "code",
   "execution_count": 1,
   "metadata": {},
   "outputs": [],
   "source": [
    "import pandas as pd\n",
    "import numpy as np\n",
    "import geopandas as gpd\n",
    "import os\n",
    "import yaml\n",
    "import pathlib"
   ]
  },
  {
   "cell_type": "code",
   "execution_count": 2,
   "metadata": {},
   "outputs": [
    {
     "name": "stdout",
     "output_type": "stream",
     "text": [
      "/home/inductive-anks/yield-prediction/Yield-Prediction/Code Files/Subdilstrict-Shape-Files\n"
     ]
    }
   ],
   "source": [
    "curr_dir = pathlib.Path().resolve()\n",
    "print(curr_dir)"
   ]
  },
  {
   "cell_type": "code",
   "execution_count": 3,
   "metadata": {},
   "outputs": [],
   "source": [
    "home_dir = curr_dir.parent.parent"
   ]
  },
  {
   "cell_type": "code",
   "execution_count": 4,
   "metadata": {},
   "outputs": [],
   "source": [
    "df_subdist_shape = gpd.read_file(home_dir.as_posix() + '/data/All-India-Subdistrict-Shape-File/SUBDISTRICT_BOUNDARY.shp')"
   ]
  },
  {
   "cell_type": "code",
   "execution_count": 5,
   "metadata": {},
   "outputs": [],
   "source": [
    "df_village_list = pd.read_csv(home_dir.as_posix() + '/data/Tehsil Data/Tehsil_Data_With_Single_Village.csv')"
   ]
  },
  {
   "cell_type": "code",
   "execution_count": 6,
   "metadata": {},
   "outputs": [],
   "source": [
    "df_SOI_shape = gpd.read_file(home_dir.as_posix() + '/data/All-Inida-SOI/All-India-Villages-SOI.shp')"
   ]
  },
  {
   "cell_type": "code",
   "execution_count": 7,
   "metadata": {},
   "outputs": [
    {
     "data": {
      "text/plain": [
       "(599742, 5)"
      ]
     },
     "execution_count": 7,
     "metadata": {},
     "output_type": "execute_result"
    }
   ],
   "source": [
    "df_SOI_shape.shape"
   ]
  },
  {
   "cell_type": "code",
   "execution_count": 8,
   "metadata": {},
   "outputs": [
    {
     "data": {
      "text/html": [
       "<div>\n",
       "<style scoped>\n",
       "    .dataframe tbody tr th:only-of-type {\n",
       "        vertical-align: middle;\n",
       "    }\n",
       "\n",
       "    .dataframe tbody tr th {\n",
       "        vertical-align: top;\n",
       "    }\n",
       "\n",
       "    .dataframe thead th {\n",
       "        text-align: right;\n",
       "    }\n",
       "</style>\n",
       "<table border=\"1\" class=\"dataframe\">\n",
       "  <thead>\n",
       "    <tr style=\"text-align: right;\">\n",
       "      <th></th>\n",
       "      <th>NAME</th>\n",
       "      <th>dtnmcoc</th>\n",
       "      <th>state</th>\n",
       "      <th>tehnmcoc</th>\n",
       "      <th>geometry</th>\n",
       "    </tr>\n",
       "  </thead>\n",
       "  <tbody>\n",
       "    <tr>\n",
       "      <th>0</th>\n",
       "      <td>village point boundary</td>\n",
       "      <td>lahul &amp; spiti</td>\n",
       "      <td>himachal pradesh</td>\n",
       "      <td>None</td>\n",
       "      <td>POLYGON ((76.73598 33.18017, 76.73492 33.18101...</td>\n",
       "    </tr>\n",
       "    <tr>\n",
       "      <th>1</th>\n",
       "      <td>dhar chhoglu</td>\n",
       "      <td>chamba</td>\n",
       "      <td>himachal pradesh</td>\n",
       "      <td>pangi</td>\n",
       "      <td>POLYGON ((76.55004 33.19772, 76.55082 33.19775...</td>\n",
       "    </tr>\n",
       "    <tr>\n",
       "      <th>2</th>\n",
       "      <td>dhar shinkal</td>\n",
       "      <td>chamba</td>\n",
       "      <td>himachal pradesh</td>\n",
       "      <td>pangi</td>\n",
       "      <td>POLYGON ((76.52521 33.19414, 76.52596 33.19418...</td>\n",
       "    </tr>\n",
       "    <tr>\n",
       "      <th>3</th>\n",
       "      <td>sural bhatori</td>\n",
       "      <td>chamba</td>\n",
       "      <td>himachal pradesh</td>\n",
       "      <td>pangi</td>\n",
       "      <td>POLYGON ((76.46151 33.17813, 76.46635 33.17894...</td>\n",
       "    </tr>\n",
       "    <tr>\n",
       "      <th>4</th>\n",
       "      <td>rusmas</td>\n",
       "      <td>chamba</td>\n",
       "      <td>himachal pradesh</td>\n",
       "      <td>pangi</td>\n",
       "      <td>POLYGON ((76.39866 33.17477, 76.39969 33.17541...</td>\n",
       "    </tr>\n",
       "  </tbody>\n",
       "</table>\n",
       "</div>"
      ],
      "text/plain": [
       "                     NAME        dtnmcoc             state tehnmcoc  \\\n",
       "0  village point boundary  lahul & spiti  himachal pradesh     None   \n",
       "1            dhar chhoglu         chamba  himachal pradesh    pangi   \n",
       "2            dhar shinkal         chamba  himachal pradesh    pangi   \n",
       "3           sural bhatori         chamba  himachal pradesh    pangi   \n",
       "4                  rusmas         chamba  himachal pradesh    pangi   \n",
       "\n",
       "                                            geometry  \n",
       "0  POLYGON ((76.73598 33.18017, 76.73492 33.18101...  \n",
       "1  POLYGON ((76.55004 33.19772, 76.55082 33.19775...  \n",
       "2  POLYGON ((76.52521 33.19414, 76.52596 33.19418...  \n",
       "3  POLYGON ((76.46151 33.17813, 76.46635 33.17894...  \n",
       "4  POLYGON ((76.39866 33.17477, 76.39969 33.17541...  "
      ]
     },
     "execution_count": 8,
     "metadata": {},
     "output_type": "execute_result"
    }
   ],
   "source": [
    "df_SOI_shape.head()"
   ]
  },
  {
   "cell_type": "code",
   "execution_count": 9,
   "metadata": {},
   "outputs": [],
   "source": [
    "df_SOI_shape.rename(columns={'NAME': 'SOI_Village_Name', 'dtnmcoc': 'SOI_District_Name', 'tehnmcoc':'SOI_Tehsil_Name'}, inplace=True)"
   ]
  },
  {
   "cell_type": "code",
   "execution_count": 10,
   "metadata": {},
   "outputs": [
    {
     "data": {
      "text/html": [
       "<div>\n",
       "<style scoped>\n",
       "    .dataframe tbody tr th:only-of-type {\n",
       "        vertical-align: middle;\n",
       "    }\n",
       "\n",
       "    .dataframe tbody tr th {\n",
       "        vertical-align: top;\n",
       "    }\n",
       "\n",
       "    .dataframe thead th {\n",
       "        text-align: right;\n",
       "    }\n",
       "</style>\n",
       "<table border=\"1\" class=\"dataframe\">\n",
       "  <thead>\n",
       "    <tr style=\"text-align: right;\">\n",
       "      <th></th>\n",
       "      <th>SOI_Village_Name</th>\n",
       "      <th>SOI_District_Name</th>\n",
       "      <th>state</th>\n",
       "      <th>SOI_Tehsil_Name</th>\n",
       "      <th>geometry</th>\n",
       "    </tr>\n",
       "  </thead>\n",
       "  <tbody>\n",
       "    <tr>\n",
       "      <th>0</th>\n",
       "      <td>village point boundary</td>\n",
       "      <td>lahul &amp; spiti</td>\n",
       "      <td>himachal pradesh</td>\n",
       "      <td>None</td>\n",
       "      <td>POLYGON ((76.73598 33.18017, 76.73492 33.18101...</td>\n",
       "    </tr>\n",
       "    <tr>\n",
       "      <th>1</th>\n",
       "      <td>dhar chhoglu</td>\n",
       "      <td>chamba</td>\n",
       "      <td>himachal pradesh</td>\n",
       "      <td>pangi</td>\n",
       "      <td>POLYGON ((76.55004 33.19772, 76.55082 33.19775...</td>\n",
       "    </tr>\n",
       "    <tr>\n",
       "      <th>2</th>\n",
       "      <td>dhar shinkal</td>\n",
       "      <td>chamba</td>\n",
       "      <td>himachal pradesh</td>\n",
       "      <td>pangi</td>\n",
       "      <td>POLYGON ((76.52521 33.19414, 76.52596 33.19418...</td>\n",
       "    </tr>\n",
       "    <tr>\n",
       "      <th>3</th>\n",
       "      <td>sural bhatori</td>\n",
       "      <td>chamba</td>\n",
       "      <td>himachal pradesh</td>\n",
       "      <td>pangi</td>\n",
       "      <td>POLYGON ((76.46151 33.17813, 76.46635 33.17894...</td>\n",
       "    </tr>\n",
       "    <tr>\n",
       "      <th>4</th>\n",
       "      <td>rusmas</td>\n",
       "      <td>chamba</td>\n",
       "      <td>himachal pradesh</td>\n",
       "      <td>pangi</td>\n",
       "      <td>POLYGON ((76.39866 33.17477, 76.39969 33.17541...</td>\n",
       "    </tr>\n",
       "  </tbody>\n",
       "</table>\n",
       "</div>"
      ],
      "text/plain": [
       "         SOI_Village_Name SOI_District_Name             state SOI_Tehsil_Name  \\\n",
       "0  village point boundary     lahul & spiti  himachal pradesh            None   \n",
       "1            dhar chhoglu            chamba  himachal pradesh           pangi   \n",
       "2            dhar shinkal            chamba  himachal pradesh           pangi   \n",
       "3           sural bhatori            chamba  himachal pradesh           pangi   \n",
       "4                  rusmas            chamba  himachal pradesh           pangi   \n",
       "\n",
       "                                            geometry  \n",
       "0  POLYGON ((76.73598 33.18017, 76.73492 33.18101...  \n",
       "1  POLYGON ((76.55004 33.19772, 76.55082 33.19775...  \n",
       "2  POLYGON ((76.52521 33.19414, 76.52596 33.19418...  \n",
       "3  POLYGON ((76.46151 33.17813, 76.46635 33.17894...  \n",
       "4  POLYGON ((76.39866 33.17477, 76.39969 33.17541...  "
      ]
     },
     "execution_count": 10,
     "metadata": {},
     "output_type": "execute_result"
    }
   ],
   "source": [
    "df_SOI_shape.head()"
   ]
  },
  {
   "cell_type": "code",
   "execution_count": 11,
   "metadata": {},
   "outputs": [
    {
     "data": {
      "text/html": [
       "<div>\n",
       "<style scoped>\n",
       "    .dataframe tbody tr th:only-of-type {\n",
       "        vertical-align: middle;\n",
       "    }\n",
       "\n",
       "    .dataframe tbody tr th {\n",
       "        vertical-align: top;\n",
       "    }\n",
       "\n",
       "    .dataframe thead th {\n",
       "        text-align: right;\n",
       "    }\n",
       "</style>\n",
       "<table border=\"1\" class=\"dataframe\">\n",
       "  <thead>\n",
       "    <tr style=\"text-align: right;\">\n",
       "      <th></th>\n",
       "      <th>Year</th>\n",
       "      <th>State Name</th>\n",
       "      <th>District Name</th>\n",
       "      <th>Zone No</th>\n",
       "      <th>Tehsil Name</th>\n",
       "      <th>Tehsil Code</th>\n",
       "      <th>Village Name</th>\n",
       "    </tr>\n",
       "  </thead>\n",
       "  <tbody>\n",
       "    <tr>\n",
       "      <th>0</th>\n",
       "      <td>2008-2011</td>\n",
       "      <td>andhra pradesh</td>\n",
       "      <td>ranga reddy</td>\n",
       "      <td>iv</td>\n",
       "      <td>puduru</td>\n",
       "      <td>40</td>\n",
       "      <td>pedhaumethala</td>\n",
       "    </tr>\n",
       "    <tr>\n",
       "      <th>1</th>\n",
       "      <td>2008-2011</td>\n",
       "      <td>andhra pradesh</td>\n",
       "      <td>medak</td>\n",
       "      <td>v</td>\n",
       "      <td>sadasivpet</td>\n",
       "      <td>49</td>\n",
       "      <td>nandi kandi</td>\n",
       "    </tr>\n",
       "    <tr>\n",
       "      <th>2</th>\n",
       "      <td>2008-2011</td>\n",
       "      <td>andhra pradesh</td>\n",
       "      <td>medak</td>\n",
       "      <td>v</td>\n",
       "      <td>zaiheerabad</td>\n",
       "      <td>50</td>\n",
       "      <td>huggelly</td>\n",
       "    </tr>\n",
       "    <tr>\n",
       "      <th>3</th>\n",
       "      <td>2008-2011</td>\n",
       "      <td>andhra pradesh</td>\n",
       "      <td>srikakulam</td>\n",
       "      <td>i</td>\n",
       "      <td>etheria</td>\n",
       "      <td>1</td>\n",
       "      <td>ponnada</td>\n",
       "    </tr>\n",
       "    <tr>\n",
       "      <th>4</th>\n",
       "      <td>2008-2011</td>\n",
       "      <td>andhra pradesh</td>\n",
       "      <td>srikakulam</td>\n",
       "      <td>i</td>\n",
       "      <td>tekkali</td>\n",
       "      <td>2</td>\n",
       "      <td>tirlangi</td>\n",
       "    </tr>\n",
       "  </tbody>\n",
       "</table>\n",
       "</div>"
      ],
      "text/plain": [
       "        Year      State Name District Name Zone No  Tehsil Name Tehsil Code  \\\n",
       "0  2008-2011  andhra pradesh   ranga reddy      iv       puduru          40   \n",
       "1  2008-2011  andhra pradesh         medak       v   sadasivpet          49   \n",
       "2  2008-2011  andhra pradesh         medak       v  zaiheerabad          50   \n",
       "3  2008-2011  andhra pradesh    srikakulam       i      etheria           1   \n",
       "4  2008-2011  andhra pradesh    srikakulam       i      tekkali           2   \n",
       "\n",
       "    Village Name  \n",
       "0  pedhaumethala  \n",
       "1    nandi kandi  \n",
       "2       huggelly  \n",
       "3        ponnada  \n",
       "4       tirlangi  "
      ]
     },
     "execution_count": 11,
     "metadata": {},
     "output_type": "execute_result"
    }
   ],
   "source": [
    "df_village_list.head()"
   ]
  },
  {
   "cell_type": "code",
   "execution_count": 12,
   "metadata": {},
   "outputs": [
    {
     "data": {
      "text/html": [
       "<div>\n",
       "<style scoped>\n",
       "    .dataframe tbody tr th:only-of-type {\n",
       "        vertical-align: middle;\n",
       "    }\n",
       "\n",
       "    .dataframe tbody tr th {\n",
       "        vertical-align: top;\n",
       "    }\n",
       "\n",
       "    .dataframe thead th {\n",
       "        text-align: right;\n",
       "    }\n",
       "</style>\n",
       "<table border=\"1\" class=\"dataframe\">\n",
       "  <thead>\n",
       "    <tr style=\"text-align: right;\">\n",
       "      <th></th>\n",
       "      <th>District</th>\n",
       "      <th>STATE</th>\n",
       "      <th>TEHSIL</th>\n",
       "      <th>Shape_Leng</th>\n",
       "      <th>Shape_Area</th>\n",
       "      <th>geometry</th>\n",
       "    </tr>\n",
       "  </thead>\n",
       "  <tbody>\n",
       "    <tr>\n",
       "      <th>0</th>\n",
       "      <td>BIL&gt;SPUR</td>\n",
       "      <td>HIMACHAL PRADESH</td>\n",
       "      <td>BHARARI</td>\n",
       "      <td>50253.228763</td>\n",
       "      <td>9.000306e+07</td>\n",
       "      <td>POLYGON ((3690806.89 4831388.917, 3690871.421 ...</td>\n",
       "    </tr>\n",
       "    <tr>\n",
       "      <th>1</th>\n",
       "      <td>BIL&gt;SPUR</td>\n",
       "      <td>HIMACHAL PRADESH</td>\n",
       "      <td>BIL&gt;SPUR</td>\n",
       "      <td>93446.685818</td>\n",
       "      <td>1.703525e+08</td>\n",
       "      <td>POLYGON ((3699861.726 4812292.061, 3699965.144...</td>\n",
       "    </tr>\n",
       "    <tr>\n",
       "      <th>2</th>\n",
       "      <td>BIL&gt;SPUR</td>\n",
       "      <td>HIMACHAL PRADESH</td>\n",
       "      <td>GHURMW|N</td>\n",
       "      <td>105834.665205</td>\n",
       "      <td>1.906542e+08</td>\n",
       "      <td>POLYGON ((3692609.535 4827764.245, 3692614.853...</td>\n",
       "    </tr>\n",
       "    <tr>\n",
       "      <th>3</th>\n",
       "      <td>BIL&gt;SPUR</td>\n",
       "      <td>HIMACHAL PRADESH</td>\n",
       "      <td>JHAND@TA</td>\n",
       "      <td>112831.475031</td>\n",
       "      <td>3.205376e+08</td>\n",
       "      <td>POLYGON ((3667564.424 4819909.775, 3667603.174...</td>\n",
       "    </tr>\n",
       "    <tr>\n",
       "      <th>4</th>\n",
       "      <td>BIL&gt;SPUR</td>\n",
       "      <td>HIMACHAL PRADESH</td>\n",
       "      <td>NAMHOL</td>\n",
       "      <td>61752.616994</td>\n",
       "      <td>1.034979e+08</td>\n",
       "      <td>POLYGON ((3701617.644 4803943.439, 3701666.832...</td>\n",
       "    </tr>\n",
       "  </tbody>\n",
       "</table>\n",
       "</div>"
      ],
      "text/plain": [
       "   District             STATE    TEHSIL     Shape_Leng    Shape_Area  \\\n",
       "0  BIL>SPUR  HIMACHAL PRADESH   BHARARI   50253.228763  9.000306e+07   \n",
       "1  BIL>SPUR  HIMACHAL PRADESH  BIL>SPUR   93446.685818  1.703525e+08   \n",
       "2  BIL>SPUR  HIMACHAL PRADESH  GHURMW|N  105834.665205  1.906542e+08   \n",
       "3  BIL>SPUR  HIMACHAL PRADESH  JHAND@TA  112831.475031  3.205376e+08   \n",
       "4  BIL>SPUR  HIMACHAL PRADESH    NAMHOL   61752.616994  1.034979e+08   \n",
       "\n",
       "                                            geometry  \n",
       "0  POLYGON ((3690806.89 4831388.917, 3690871.421 ...  \n",
       "1  POLYGON ((3699861.726 4812292.061, 3699965.144...  \n",
       "2  POLYGON ((3692609.535 4827764.245, 3692614.853...  \n",
       "3  POLYGON ((3667564.424 4819909.775, 3667603.174...  \n",
       "4  POLYGON ((3701617.644 4803943.439, 3701666.832...  "
      ]
     },
     "execution_count": 12,
     "metadata": {},
     "output_type": "execute_result"
    }
   ],
   "source": [
    "df_subdist_shape.head()"
   ]
  },
  {
   "cell_type": "markdown",
   "metadata": {},
   "source": [
    "## Converting to Lower Case"
   ]
  },
  {
   "cell_type": "code",
   "execution_count": 13,
   "metadata": {},
   "outputs": [
    {
     "name": "stderr",
     "output_type": "stream",
     "text": [
      "/tmp/ipykernel_1639/228283043.py:1: FutureWarning: DataFrame.applymap has been deprecated. Use DataFrame.map instead.\n",
      "  df_subdist_shape = df_subdist_shape.applymap(lambda x: x.lower() if isinstance(x, str) else x)\n"
     ]
    }
   ],
   "source": [
    "df_subdist_shape = df_subdist_shape.applymap(lambda x: x.lower() if isinstance(x, str) else x)"
   ]
  },
  {
   "cell_type": "code",
   "execution_count": 14,
   "metadata": {},
   "outputs": [
    {
     "name": "stderr",
     "output_type": "stream",
     "text": [
      "/tmp/ipykernel_1639/990218482.py:1: FutureWarning: DataFrame.applymap has been deprecated. Use DataFrame.map instead.\n",
      "  df_village_list = df_village_list.applymap(lambda x: x.lower() if isinstance(x, str) else x)\n"
     ]
    }
   ],
   "source": [
    "df_village_list = df_village_list.applymap(lambda x: x.lower() if isinstance(x, str) else x)"
   ]
  },
  {
   "cell_type": "code",
   "execution_count": 15,
   "metadata": {},
   "outputs": [
    {
     "name": "stderr",
     "output_type": "stream",
     "text": [
      "/tmp/ipykernel_1639/3172920881.py:1: FutureWarning: DataFrame.applymap has been deprecated. Use DataFrame.map instead.\n",
      "  df_SOI_shape = df_SOI_shape.applymap(lambda x: x.lower() if isinstance(x, str) else x)\n"
     ]
    }
   ],
   "source": [
    "df_SOI_shape = df_SOI_shape.applymap(lambda x: x.lower() if isinstance(x, str) else x)"
   ]
  },
  {
   "cell_type": "markdown",
   "metadata": {},
   "source": [
    "## Test"
   ]
  },
  {
   "cell_type": "code",
   "execution_count": 16,
   "metadata": {},
   "outputs": [],
   "source": [
    "village_list_SOI_mapping = gpd.read_file(home_dir.as_posix() + '/data/Village_List-SOI-Mapping(Main)/Village_List-SOI-Mapping(Main).shp')"
   ]
  },
  {
   "cell_type": "code",
   "execution_count": 17,
   "metadata": {},
   "outputs": [
    {
     "data": {
      "text/plain": [
       "(3278, 11)"
      ]
     },
     "execution_count": 17,
     "metadata": {},
     "output_type": "execute_result"
    }
   ],
   "source": [
    "village_list_SOI_mapping.shape"
   ]
  },
  {
   "cell_type": "code",
   "execution_count": 18,
   "metadata": {},
   "outputs": [
    {
     "data": {
      "text/html": [
       "<div>\n",
       "<style scoped>\n",
       "    .dataframe tbody tr th:only-of-type {\n",
       "        vertical-align: middle;\n",
       "    }\n",
       "\n",
       "    .dataframe tbody tr th {\n",
       "        vertical-align: top;\n",
       "    }\n",
       "\n",
       "    .dataframe thead th {\n",
       "        text-align: right;\n",
       "    }\n",
       "</style>\n",
       "<table border=\"1\" class=\"dataframe\">\n",
       "  <thead>\n",
       "    <tr style=\"text-align: right;\">\n",
       "      <th></th>\n",
       "      <th>STATE</th>\n",
       "      <th>YEAR</th>\n",
       "      <th>ZONE</th>\n",
       "      <th>DISTRICT</th>\n",
       "      <th>slnococ</th>\n",
       "      <th>TEHSIL</th>\n",
       "      <th>VL</th>\n",
       "      <th>sdnm_11</th>\n",
       "      <th>SOI</th>\n",
       "      <th>Similarity</th>\n",
       "      <th>geometry</th>\n",
       "    </tr>\n",
       "  </thead>\n",
       "  <tbody>\n",
       "    <tr>\n",
       "      <th>0</th>\n",
       "      <td>punjab</td>\n",
       "      <td>2008-11</td>\n",
       "      <td>1</td>\n",
       "      <td>gurdaspur</td>\n",
       "      <td>2</td>\n",
       "      <td>batala</td>\n",
       "      <td>ammo nagal</td>\n",
       "      <td>batala</td>\n",
       "      <td>ammo nagal</td>\n",
       "      <td>1.0</td>\n",
       "      <td>POLYGON ((75.24774 31.75, 75.24879 31.75118, 7...</td>\n",
       "    </tr>\n",
       "    <tr>\n",
       "      <th>1</th>\n",
       "      <td>punjab</td>\n",
       "      <td>2008-11</td>\n",
       "      <td>1</td>\n",
       "      <td>amrtisar</td>\n",
       "      <td>3</td>\n",
       "      <td>ajnala</td>\n",
       "      <td>bhalapind</td>\n",
       "      <td>ajnala</td>\n",
       "      <td>bhalapind</td>\n",
       "      <td>1.0</td>\n",
       "      <td>POLYGON ((74.78681 31.79373, 74.78854 31.79339...</td>\n",
       "    </tr>\n",
       "    <tr>\n",
       "      <th>2</th>\n",
       "      <td>punjab</td>\n",
       "      <td>2008-11</td>\n",
       "      <td>1</td>\n",
       "      <td>amritsar</td>\n",
       "      <td>4</td>\n",
       "      <td>amritsar-i</td>\n",
       "      <td>ballian manjpur</td>\n",
       "      <td>amritsar i</td>\n",
       "      <td>ballian manjpur</td>\n",
       "      <td>1.0</td>\n",
       "      <td>POLYGON ((75.08233 31.59099, 75.08259 31.59082...</td>\n",
       "    </tr>\n",
       "    <tr>\n",
       "      <th>3</th>\n",
       "      <td>punjab</td>\n",
       "      <td>2008-11</td>\n",
       "      <td>1</td>\n",
       "      <td>tarntarn</td>\n",
       "      <td>5</td>\n",
       "      <td>patti</td>\n",
       "      <td>kirtowal</td>\n",
       "      <td>patti</td>\n",
       "      <td>kirtowal</td>\n",
       "      <td>1.0</td>\n",
       "      <td>POLYGON ((74.90056 31.21235, 74.90026 31.2118,...</td>\n",
       "    </tr>\n",
       "    <tr>\n",
       "      <th>4</th>\n",
       "      <td>punjab</td>\n",
       "      <td>2008-11</td>\n",
       "      <td>1</td>\n",
       "      <td>hoshiarpur</td>\n",
       "      <td>6</td>\n",
       "      <td>mukerian</td>\n",
       "      <td>gera</td>\n",
       "      <td>mukerian</td>\n",
       "      <td>gera</td>\n",
       "      <td>1.0</td>\n",
       "      <td>POLYGON ((75.79117 31.98615, 75.79183 31.98424...</td>\n",
       "    </tr>\n",
       "  </tbody>\n",
       "</table>\n",
       "</div>"
      ],
      "text/plain": [
       "    STATE     YEAR ZONE    DISTRICT slnococ      TEHSIL               VL  \\\n",
       "0  punjab  2008-11    1   gurdaspur       2      batala       ammo nagal   \n",
       "1  punjab  2008-11    1    amrtisar       3      ajnala        bhalapind   \n",
       "2  punjab  2008-11    1    amritsar       4  amritsar-i  ballian manjpur   \n",
       "3  punjab  2008-11    1    tarntarn       5       patti         kirtowal   \n",
       "4  punjab  2008-11    1  hoshiarpur       6    mukerian             gera   \n",
       "\n",
       "      sdnm_11              SOI  Similarity  \\\n",
       "0      batala       ammo nagal         1.0   \n",
       "1      ajnala        bhalapind         1.0   \n",
       "2  amritsar i  ballian manjpur         1.0   \n",
       "3       patti         kirtowal         1.0   \n",
       "4    mukerian             gera         1.0   \n",
       "\n",
       "                                            geometry  \n",
       "0  POLYGON ((75.24774 31.75, 75.24879 31.75118, 7...  \n",
       "1  POLYGON ((74.78681 31.79373, 74.78854 31.79339...  \n",
       "2  POLYGON ((75.08233 31.59099, 75.08259 31.59082...  \n",
       "3  POLYGON ((74.90056 31.21235, 74.90026 31.2118,...  \n",
       "4  POLYGON ((75.79117 31.98615, 75.79183 31.98424...  "
      ]
     },
     "execution_count": 18,
     "metadata": {},
     "output_type": "execute_result"
    }
   ],
   "source": [
    "village_list_SOI_mapping.head()"
   ]
  },
  {
   "cell_type": "code",
   "execution_count": 19,
   "metadata": {},
   "outputs": [
    {
     "data": {
      "text/html": [
       "<div>\n",
       "<style scoped>\n",
       "    .dataframe tbody tr th:only-of-type {\n",
       "        vertical-align: middle;\n",
       "    }\n",
       "\n",
       "    .dataframe tbody tr th {\n",
       "        vertical-align: top;\n",
       "    }\n",
       "\n",
       "    .dataframe thead th {\n",
       "        text-align: right;\n",
       "    }\n",
       "</style>\n",
       "<table border=\"1\" class=\"dataframe\">\n",
       "  <thead>\n",
       "    <tr style=\"text-align: right;\">\n",
       "      <th></th>\n",
       "      <th>Year</th>\n",
       "      <th>State Name</th>\n",
       "      <th>District Name</th>\n",
       "      <th>Zone No</th>\n",
       "      <th>Tehsil Name</th>\n",
       "      <th>Tehsil Code</th>\n",
       "      <th>Village Name</th>\n",
       "    </tr>\n",
       "  </thead>\n",
       "  <tbody>\n",
       "    <tr>\n",
       "      <th>0</th>\n",
       "      <td>2008-2011</td>\n",
       "      <td>andhra pradesh</td>\n",
       "      <td>ranga reddy</td>\n",
       "      <td>iv</td>\n",
       "      <td>puduru</td>\n",
       "      <td>40</td>\n",
       "      <td>pedhaumethala</td>\n",
       "    </tr>\n",
       "    <tr>\n",
       "      <th>1</th>\n",
       "      <td>2008-2011</td>\n",
       "      <td>andhra pradesh</td>\n",
       "      <td>medak</td>\n",
       "      <td>v</td>\n",
       "      <td>sadasivpet</td>\n",
       "      <td>49</td>\n",
       "      <td>nandi kandi</td>\n",
       "    </tr>\n",
       "    <tr>\n",
       "      <th>2</th>\n",
       "      <td>2008-2011</td>\n",
       "      <td>andhra pradesh</td>\n",
       "      <td>medak</td>\n",
       "      <td>v</td>\n",
       "      <td>zaiheerabad</td>\n",
       "      <td>50</td>\n",
       "      <td>huggelly</td>\n",
       "    </tr>\n",
       "    <tr>\n",
       "      <th>3</th>\n",
       "      <td>2008-2011</td>\n",
       "      <td>andhra pradesh</td>\n",
       "      <td>srikakulam</td>\n",
       "      <td>i</td>\n",
       "      <td>etheria</td>\n",
       "      <td>1</td>\n",
       "      <td>ponnada</td>\n",
       "    </tr>\n",
       "    <tr>\n",
       "      <th>4</th>\n",
       "      <td>2008-2011</td>\n",
       "      <td>andhra pradesh</td>\n",
       "      <td>srikakulam</td>\n",
       "      <td>i</td>\n",
       "      <td>tekkali</td>\n",
       "      <td>2</td>\n",
       "      <td>tirlangi</td>\n",
       "    </tr>\n",
       "  </tbody>\n",
       "</table>\n",
       "</div>"
      ],
      "text/plain": [
       "        Year      State Name District Name Zone No  Tehsil Name Tehsil Code  \\\n",
       "0  2008-2011  andhra pradesh   ranga reddy      iv       puduru          40   \n",
       "1  2008-2011  andhra pradesh         medak       v   sadasivpet          49   \n",
       "2  2008-2011  andhra pradesh         medak       v  zaiheerabad          50   \n",
       "3  2008-2011  andhra pradesh    srikakulam       i      etheria           1   \n",
       "4  2008-2011  andhra pradesh    srikakulam       i      tekkali           2   \n",
       "\n",
       "    Village Name  \n",
       "0  pedhaumethala  \n",
       "1    nandi kandi  \n",
       "2       huggelly  \n",
       "3        ponnada  \n",
       "4       tirlangi  "
      ]
     },
     "execution_count": 19,
     "metadata": {},
     "output_type": "execute_result"
    }
   ],
   "source": [
    "df_village_list.head()"
   ]
  },
  {
   "cell_type": "code",
   "execution_count": 20,
   "metadata": {},
   "outputs": [
    {
     "name": "stderr",
     "output_type": "stream",
     "text": [
      "/tmp/ipykernel_1639/3965484942.py:1: FutureWarning: DataFrame.applymap has been deprecated. Use DataFrame.map instead.\n",
      "  df_village_list = df_village_list.applymap(lambda x: x.strip() if isinstance(x, str) else x)\n"
     ]
    }
   ],
   "source": [
    "df_village_list = df_village_list.applymap(lambda x: x.strip() if isinstance(x, str) else x)"
   ]
  },
  {
   "cell_type": "code",
   "execution_count": 21,
   "metadata": {},
   "outputs": [],
   "source": [
    "import pandas as pd\n",
    "\n",
    "filtered_rows = []\n",
    "\n",
    "for idx, row in village_list_SOI_mapping.iterrows():\n",
    "    village = row['VL']\n",
    "    \n",
    "    match = df_village_list[\n",
    "        (df_village_list['Village Name'] == village)\n",
    "    ]\n",
    "    \n",
    "    if not match.empty:\n",
    "        filtered_rows.append(row)\n",
    "\n",
    "filtered_df = pd.DataFrame(filtered_rows)"
   ]
  },
  {
   "cell_type": "code",
   "execution_count": 22,
   "metadata": {},
   "outputs": [
    {
     "data": {
      "text/plain": [
       "(2541, 11)"
      ]
     },
     "execution_count": 22,
     "metadata": {},
     "output_type": "execute_result"
    }
   ],
   "source": [
    "filtered_df.shape"
   ]
  },
  {
   "cell_type": "code",
   "execution_count": 23,
   "metadata": {},
   "outputs": [
    {
     "data": {
      "text/plain": [
       "(2605, 7)"
      ]
     },
     "execution_count": 23,
     "metadata": {},
     "output_type": "execute_result"
    }
   ],
   "source": [
    "df_village_list.shape"
   ]
  },
  {
   "cell_type": "code",
   "execution_count": 24,
   "metadata": {},
   "outputs": [],
   "source": [
    "import pandas as pd\n",
    "\n",
    "remaining_rows = df_village_list[\n",
    "    ~df_village_list.apply(lambda x: \n",
    "        ((village_list_SOI_mapping['TEHSIL'] == x['Tehsil Name'])).any(), axis=1)\n",
    "]"
   ]
  },
  {
   "cell_type": "code",
   "execution_count": 25,
   "metadata": {},
   "outputs": [],
   "source": [
    "pd.set_option('display.max_rows', None)\n",
    "pd.set_option('display.max_columns', None)"
   ]
  },
  {
   "cell_type": "code",
   "execution_count": 26,
   "metadata": {},
   "outputs": [
    {
     "data": {
      "text/plain": [
       "(87, 7)"
      ]
     },
     "execution_count": 26,
     "metadata": {},
     "output_type": "execute_result"
    }
   ],
   "source": [
    "remaining_rows.shape"
   ]
  },
  {
   "cell_type": "code",
   "execution_count": 27,
   "metadata": {},
   "outputs": [],
   "source": [
    "remaining_rows.to_csv('/home/inductive-anks/yield-prediction/Yield-Prediction/data/Tehsil Data/remaining_unmatched_villages.csv', index=False)"
   ]
  },
  {
   "cell_type": "code",
   "execution_count": 28,
   "metadata": {},
   "outputs": [
    {
     "data": {
      "text/html": [
       "<div>\n",
       "<style scoped>\n",
       "    .dataframe tbody tr th:only-of-type {\n",
       "        vertical-align: middle;\n",
       "    }\n",
       "\n",
       "    .dataframe tbody tr th {\n",
       "        vertical-align: top;\n",
       "    }\n",
       "\n",
       "    .dataframe thead th {\n",
       "        text-align: right;\n",
       "    }\n",
       "</style>\n",
       "<table border=\"1\" class=\"dataframe\">\n",
       "  <thead>\n",
       "    <tr style=\"text-align: right;\">\n",
       "      <th></th>\n",
       "      <th>Year</th>\n",
       "      <th>State Name</th>\n",
       "      <th>District Name</th>\n",
       "      <th>Zone No</th>\n",
       "      <th>Tehsil Name</th>\n",
       "      <th>Tehsil Code</th>\n",
       "      <th>Village Name</th>\n",
       "    </tr>\n",
       "  </thead>\n",
       "  <tbody>\n",
       "    <tr>\n",
       "      <th>1068</th>\n",
       "      <td>2011-2014</td>\n",
       "      <td>west bengal</td>\n",
       "      <td>maharajganj</td>\n",
       "      <td>2</td>\n",
       "      <td>maharajganjsadar</td>\n",
       "      <td>10</td>\n",
       "      <td>gopi</td>\n",
       "    </tr>\n",
       "    <tr>\n",
       "      <th>2535</th>\n",
       "      <td>2017-2020</td>\n",
       "      <td>assam</td>\n",
       "      <td>lbvz</td>\n",
       "      <td>bongaigaon</td>\n",
       "      <td>bidyapur</td>\n",
       "      <td>7</td>\n",
       "      <td>bidyapur (n)</td>\n",
       "    </tr>\n",
       "    <tr>\n",
       "      <th>1376</th>\n",
       "      <td>2014-2017</td>\n",
       "      <td>chhattisgarh</td>\n",
       "      <td>janjgeer</td>\n",
       "      <td>chhattisgarh plain (2)</td>\n",
       "      <td>dabhara</td>\n",
       "      <td>7</td>\n",
       "      <td>gobara</td>\n",
       "    </tr>\n",
       "    <tr>\n",
       "      <th>1124</th>\n",
       "      <td>2011-2014</td>\n",
       "      <td>west bengal</td>\n",
       "      <td>allahabad</td>\n",
       "      <td>9</td>\n",
       "      <td>meza</td>\n",
       "      <td>75</td>\n",
       "      <td>ram nagar</td>\n",
       "    </tr>\n",
       "    <tr>\n",
       "      <th>1107</th>\n",
       "      <td>2011-2014</td>\n",
       "      <td>west bengal</td>\n",
       "      <td>deoria</td>\n",
       "      <td>8</td>\n",
       "      <td>barhaj</td>\n",
       "      <td>55</td>\n",
       "      <td>gahila</td>\n",
       "    </tr>\n",
       "    <tr>\n",
       "      <th>2543</th>\n",
       "      <td>2017-2020</td>\n",
       "      <td>assam</td>\n",
       "      <td>nbpz</td>\n",
       "      <td>darrang</td>\n",
       "      <td>pub mongaldoi</td>\n",
       "      <td>33</td>\n",
       "      <td>medhipara (n)</td>\n",
       "    </tr>\n",
       "    <tr>\n",
       "      <th>2066</th>\n",
       "      <td>2017-2020</td>\n",
       "      <td>rajasthan</td>\n",
       "      <td>sriganganagar</td>\n",
       "      <td>zone-ii</td>\n",
       "      <td>sriganganagar</td>\n",
       "      <td>11</td>\n",
       "      <td>4,5 &amp; 6 lnp</td>\n",
       "    </tr>\n",
       "    <tr>\n",
       "      <th>625</th>\n",
       "      <td>2008-2011</td>\n",
       "      <td>karnataka</td>\n",
       "      <td>chikkodi</td>\n",
       "      <td>08</td>\n",
       "      <td>belgaum</td>\n",
       "      <td>42.0</td>\n",
       "      <td>ankalli</td>\n",
       "    </tr>\n",
       "  </tbody>\n",
       "</table>\n",
       "</div>"
      ],
      "text/plain": [
       "           Year    State Name  District Name                 Zone No  \\\n",
       "1068  2011-2014   west bengal    maharajganj                       2   \n",
       "2535  2017-2020         assam           lbvz              bongaigaon   \n",
       "1376  2014-2017  chhattisgarh       janjgeer  chhattisgarh plain (2)   \n",
       "1124  2011-2014   west bengal      allahabad                       9   \n",
       "1107  2011-2014   west bengal         deoria                       8   \n",
       "2543  2017-2020         assam           nbpz                 darrang   \n",
       "2066  2017-2020     rajasthan  sriganganagar                 zone-ii   \n",
       "625   2008-2011     karnataka       chikkodi                      08   \n",
       "\n",
       "           Tehsil Name Tehsil Code   Village Name  \n",
       "1068  maharajganjsadar          10           gopi  \n",
       "2535          bidyapur           7   bidyapur (n)  \n",
       "1376           dabhara           7         gobara  \n",
       "1124              meza          75      ram nagar  \n",
       "1107            barhaj          55         gahila  \n",
       "2543     pub mongaldoi          33  medhipara (n)  \n",
       "2066     sriganganagar          11    4,5 & 6 lnp  \n",
       "625            belgaum        42.0        ankalli  "
      ]
     },
     "execution_count": 28,
     "metadata": {},
     "output_type": "execute_result"
    }
   ],
   "source": [
    "remaining_rows.sample(8)"
   ]
  },
  {
   "cell_type": "code",
   "execution_count": null,
   "metadata": {},
   "outputs": [],
   "source": []
  },
  {
   "cell_type": "code",
   "execution_count": null,
   "metadata": {},
   "outputs": [],
   "source": []
  }
 ],
 "metadata": {
  "kernelspec": {
   "display_name": "Python 3",
   "language": "python",
   "name": "python3"
  },
  "language_info": {
   "codemirror_mode": {
    "name": "ipython",
    "version": 3
   },
   "file_extension": ".py",
   "mimetype": "text/x-python",
   "name": "python",
   "nbconvert_exporter": "python",
   "pygments_lexer": "ipython3",
   "version": "3.10.12"
  }
 },
 "nbformat": 4,
 "nbformat_minor": 2
}
