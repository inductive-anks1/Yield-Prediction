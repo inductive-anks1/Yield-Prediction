{
 "cells": [
  {
   "cell_type": "code",
   "execution_count": 1,
   "metadata": {},
   "outputs": [],
   "source": [
    "import pandas as pd\n",
    "import numpy as np\n",
    "import geopandas as gpd\n",
    "import os\n",
    "import yaml"
   ]
  },
  {
   "cell_type": "code",
   "execution_count": 2,
   "metadata": {},
   "outputs": [],
   "source": [
    "df_subdist_shape = gpd.read_file('/home/inductive_anks/Backup Files/CS and AI/Internship/Data/All-India-Subdistrict-Shape-File/SUBDISTRICT_BOUNDARY.shp')"
   ]
  },
  {
   "cell_type": "code",
   "execution_count": 3,
   "metadata": {},
   "outputs": [],
   "source": [
    "df_village_list = pd.read_csv('/home/inductive_anks/Machine Learning/Yield-Prediction/Internship/data/Tehsil Data/Tehsil_Data_With_Single_Village.csv')"
   ]
  },
  {
   "cell_type": "code",
   "execution_count": 4,
   "metadata": {},
   "outputs": [],
   "source": [
    "df_SOI_shape = gpd.read_file('/home/inductive_anks/Machine Learning/Yield-Prediction/Internship/data/All-Inida-SOI/All-India-Villages-SOI.shp')"
   ]
  },
  {
   "cell_type": "code",
   "execution_count": 19,
   "metadata": {},
   "outputs": [
    {
     "data": {
      "text/plain": [
       "(599742, 5)"
      ]
     },
     "execution_count": 19,
     "metadata": {},
     "output_type": "execute_result"
    }
   ],
   "source": [
    "df_SOI_shape.shape"
   ]
  },
  {
   "cell_type": "code",
   "execution_count": 20,
   "metadata": {},
   "outputs": [
    {
     "data": {
      "text/html": [
       "<div>\n",
       "<style scoped>\n",
       "    .dataframe tbody tr th:only-of-type {\n",
       "        vertical-align: middle;\n",
       "    }\n",
       "\n",
       "    .dataframe tbody tr th {\n",
       "        vertical-align: top;\n",
       "    }\n",
       "\n",
       "    .dataframe thead th {\n",
       "        text-align: right;\n",
       "    }\n",
       "</style>\n",
       "<table border=\"1\" class=\"dataframe\">\n",
       "  <thead>\n",
       "    <tr style=\"text-align: right;\">\n",
       "      <th></th>\n",
       "      <th>NAME</th>\n",
       "      <th>dtnmcoc</th>\n",
       "      <th>state</th>\n",
       "      <th>tehnmcoc</th>\n",
       "      <th>geometry</th>\n",
       "    </tr>\n",
       "  </thead>\n",
       "  <tbody>\n",
       "    <tr>\n",
       "      <th>0</th>\n",
       "      <td>village point boundary</td>\n",
       "      <td>lahul &amp; spiti</td>\n",
       "      <td>himachal pradesh</td>\n",
       "      <td>None</td>\n",
       "      <td>POLYGON ((76.73598 33.18017, 76.73492 33.18101...</td>\n",
       "    </tr>\n",
       "    <tr>\n",
       "      <th>1</th>\n",
       "      <td>dhar chhoglu</td>\n",
       "      <td>chamba</td>\n",
       "      <td>himachal pradesh</td>\n",
       "      <td>pangi</td>\n",
       "      <td>POLYGON ((76.55004 33.19772, 76.55082 33.19775...</td>\n",
       "    </tr>\n",
       "    <tr>\n",
       "      <th>2</th>\n",
       "      <td>dhar shinkal</td>\n",
       "      <td>chamba</td>\n",
       "      <td>himachal pradesh</td>\n",
       "      <td>pangi</td>\n",
       "      <td>POLYGON ((76.52521 33.19414, 76.52596 33.19418...</td>\n",
       "    </tr>\n",
       "    <tr>\n",
       "      <th>3</th>\n",
       "      <td>sural bhatori</td>\n",
       "      <td>chamba</td>\n",
       "      <td>himachal pradesh</td>\n",
       "      <td>pangi</td>\n",
       "      <td>POLYGON ((76.46151 33.17813, 76.46635 33.17894...</td>\n",
       "    </tr>\n",
       "    <tr>\n",
       "      <th>4</th>\n",
       "      <td>rusmas</td>\n",
       "      <td>chamba</td>\n",
       "      <td>himachal pradesh</td>\n",
       "      <td>pangi</td>\n",
       "      <td>POLYGON ((76.39866 33.17477, 76.39969 33.17541...</td>\n",
       "    </tr>\n",
       "  </tbody>\n",
       "</table>\n",
       "</div>"
      ],
      "text/plain": [
       "                     NAME        dtnmcoc             state tehnmcoc  \\\n",
       "0  village point boundary  lahul & spiti  himachal pradesh     None   \n",
       "1            dhar chhoglu         chamba  himachal pradesh    pangi   \n",
       "2            dhar shinkal         chamba  himachal pradesh    pangi   \n",
       "3           sural bhatori         chamba  himachal pradesh    pangi   \n",
       "4                  rusmas         chamba  himachal pradesh    pangi   \n",
       "\n",
       "                                            geometry  \n",
       "0  POLYGON ((76.73598 33.18017, 76.73492 33.18101...  \n",
       "1  POLYGON ((76.55004 33.19772, 76.55082 33.19775...  \n",
       "2  POLYGON ((76.52521 33.19414, 76.52596 33.19418...  \n",
       "3  POLYGON ((76.46151 33.17813, 76.46635 33.17894...  \n",
       "4  POLYGON ((76.39866 33.17477, 76.39969 33.17541...  "
      ]
     },
     "execution_count": 20,
     "metadata": {},
     "output_type": "execute_result"
    }
   ],
   "source": [
    "df_SOI_shape.head()"
   ]
  },
  {
   "cell_type": "code",
   "execution_count": 22,
   "metadata": {},
   "outputs": [
    {
     "data": {
      "text/html": [
       "<div>\n",
       "<style scoped>\n",
       "    .dataframe tbody tr th:only-of-type {\n",
       "        vertical-align: middle;\n",
       "    }\n",
       "\n",
       "    .dataframe tbody tr th {\n",
       "        vertical-align: top;\n",
       "    }\n",
       "\n",
       "    .dataframe thead th {\n",
       "        text-align: right;\n",
       "    }\n",
       "</style>\n",
       "<table border=\"1\" class=\"dataframe\">\n",
       "  <thead>\n",
       "    <tr style=\"text-align: right;\">\n",
       "      <th></th>\n",
       "      <th>Year</th>\n",
       "      <th>State Name</th>\n",
       "      <th>District Name</th>\n",
       "      <th>Zone No</th>\n",
       "      <th>Tehsil Name</th>\n",
       "      <th>Tehsil Code</th>\n",
       "      <th>Village Name</th>\n",
       "    </tr>\n",
       "  </thead>\n",
       "  <tbody>\n",
       "    <tr>\n",
       "      <th>0</th>\n",
       "      <td>2008-2011</td>\n",
       "      <td>andhra pradesh</td>\n",
       "      <td>ranga reddy</td>\n",
       "      <td>IV</td>\n",
       "      <td>Puduru</td>\n",
       "      <td>40</td>\n",
       "      <td>pedhaumethala</td>\n",
       "    </tr>\n",
       "    <tr>\n",
       "      <th>1</th>\n",
       "      <td>2008-2011</td>\n",
       "      <td>andhra pradesh</td>\n",
       "      <td>medak</td>\n",
       "      <td>V</td>\n",
       "      <td>Sadasivpet</td>\n",
       "      <td>49</td>\n",
       "      <td>nandi kandi</td>\n",
       "    </tr>\n",
       "    <tr>\n",
       "      <th>2</th>\n",
       "      <td>2008-2011</td>\n",
       "      <td>andhra pradesh</td>\n",
       "      <td>medak</td>\n",
       "      <td>V</td>\n",
       "      <td>Zaiheerabad</td>\n",
       "      <td>50</td>\n",
       "      <td>huggelly</td>\n",
       "    </tr>\n",
       "    <tr>\n",
       "      <th>3</th>\n",
       "      <td>2008-2011</td>\n",
       "      <td>andhra pradesh</td>\n",
       "      <td>srikakulam</td>\n",
       "      <td>I</td>\n",
       "      <td>Etheria</td>\n",
       "      <td>1</td>\n",
       "      <td>ponnada</td>\n",
       "    </tr>\n",
       "    <tr>\n",
       "      <th>4</th>\n",
       "      <td>2008-2011</td>\n",
       "      <td>andhra pradesh</td>\n",
       "      <td>srikakulam</td>\n",
       "      <td>I</td>\n",
       "      <td>Tekkali</td>\n",
       "      <td>2</td>\n",
       "      <td>tirlangi</td>\n",
       "    </tr>\n",
       "  </tbody>\n",
       "</table>\n",
       "</div>"
      ],
      "text/plain": [
       "        Year      State Name District Name Zone No  Tehsil Name Tehsil Code  \\\n",
       "0  2008-2011  andhra pradesh   ranga reddy      IV       Puduru          40   \n",
       "1  2008-2011  andhra pradesh         medak       V   Sadasivpet          49   \n",
       "2  2008-2011  andhra pradesh         medak       V  Zaiheerabad          50   \n",
       "3  2008-2011  andhra pradesh    srikakulam       I      Etheria           1   \n",
       "4  2008-2011  andhra pradesh    srikakulam       I      Tekkali           2   \n",
       "\n",
       "    Village Name  \n",
       "0  pedhaumethala  \n",
       "1    nandi kandi  \n",
       "2       huggelly  \n",
       "3        ponnada  \n",
       "4       tirlangi  "
      ]
     },
     "execution_count": 22,
     "metadata": {},
     "output_type": "execute_result"
    }
   ],
   "source": [
    "df_village_list.head()"
   ]
  },
  {
   "cell_type": "code",
   "execution_count": 9,
   "metadata": {},
   "outputs": [
    {
     "data": {
      "text/html": [
       "<div>\n",
       "<style scoped>\n",
       "    .dataframe tbody tr th:only-of-type {\n",
       "        vertical-align: middle;\n",
       "    }\n",
       "\n",
       "    .dataframe tbody tr th {\n",
       "        vertical-align: top;\n",
       "    }\n",
       "\n",
       "    .dataframe thead th {\n",
       "        text-align: right;\n",
       "    }\n",
       "</style>\n",
       "<table border=\"1\" class=\"dataframe\">\n",
       "  <thead>\n",
       "    <tr style=\"text-align: right;\">\n",
       "      <th></th>\n",
       "      <th>District</th>\n",
       "      <th>STATE</th>\n",
       "      <th>TEHSIL</th>\n",
       "      <th>Shape_Leng</th>\n",
       "      <th>Shape_Area</th>\n",
       "      <th>geometry</th>\n",
       "    </tr>\n",
       "  </thead>\n",
       "  <tbody>\n",
       "    <tr>\n",
       "      <th>0</th>\n",
       "      <td>BIL&gt;SPUR</td>\n",
       "      <td>HIMACHAL PRADESH</td>\n",
       "      <td>BHARARI</td>\n",
       "      <td>50253.228763</td>\n",
       "      <td>9.000306e+07</td>\n",
       "      <td>POLYGON ((3690806.89 4831388.917, 3690871.421 ...</td>\n",
       "    </tr>\n",
       "    <tr>\n",
       "      <th>1</th>\n",
       "      <td>BIL&gt;SPUR</td>\n",
       "      <td>HIMACHAL PRADESH</td>\n",
       "      <td>BIL&gt;SPUR</td>\n",
       "      <td>93446.685818</td>\n",
       "      <td>1.703525e+08</td>\n",
       "      <td>POLYGON ((3699861.726 4812292.061, 3699965.144...</td>\n",
       "    </tr>\n",
       "    <tr>\n",
       "      <th>2</th>\n",
       "      <td>BIL&gt;SPUR</td>\n",
       "      <td>HIMACHAL PRADESH</td>\n",
       "      <td>GHURMW|N</td>\n",
       "      <td>105834.665205</td>\n",
       "      <td>1.906542e+08</td>\n",
       "      <td>POLYGON ((3692609.535 4827764.245, 3692614.853...</td>\n",
       "    </tr>\n",
       "    <tr>\n",
       "      <th>3</th>\n",
       "      <td>BIL&gt;SPUR</td>\n",
       "      <td>HIMACHAL PRADESH</td>\n",
       "      <td>JHAND@TA</td>\n",
       "      <td>112831.475031</td>\n",
       "      <td>3.205376e+08</td>\n",
       "      <td>POLYGON ((3667564.424 4819909.775, 3667603.174...</td>\n",
       "    </tr>\n",
       "    <tr>\n",
       "      <th>4</th>\n",
       "      <td>BIL&gt;SPUR</td>\n",
       "      <td>HIMACHAL PRADESH</td>\n",
       "      <td>NAMHOL</td>\n",
       "      <td>61752.616994</td>\n",
       "      <td>1.034979e+08</td>\n",
       "      <td>POLYGON ((3701617.644 4803943.439, 3701666.832...</td>\n",
       "    </tr>\n",
       "  </tbody>\n",
       "</table>\n",
       "</div>"
      ],
      "text/plain": [
       "   District             STATE    TEHSIL     Shape_Leng    Shape_Area  \\\n",
       "0  BIL>SPUR  HIMACHAL PRADESH   BHARARI   50253.228763  9.000306e+07   \n",
       "1  BIL>SPUR  HIMACHAL PRADESH  BIL>SPUR   93446.685818  1.703525e+08   \n",
       "2  BIL>SPUR  HIMACHAL PRADESH  GHURMW|N  105834.665205  1.906542e+08   \n",
       "3  BIL>SPUR  HIMACHAL PRADESH  JHAND@TA  112831.475031  3.205376e+08   \n",
       "4  BIL>SPUR  HIMACHAL PRADESH    NAMHOL   61752.616994  1.034979e+08   \n",
       "\n",
       "                                            geometry  \n",
       "0  POLYGON ((3690806.89 4831388.917, 3690871.421 ...  \n",
       "1  POLYGON ((3699861.726 4812292.061, 3699965.144...  \n",
       "2  POLYGON ((3692609.535 4827764.245, 3692614.853...  \n",
       "3  POLYGON ((3667564.424 4819909.775, 3667603.174...  \n",
       "4  POLYGON ((3701617.644 4803943.439, 3701666.832...  "
      ]
     },
     "execution_count": 9,
     "metadata": {},
     "output_type": "execute_result"
    }
   ],
   "source": [
    "df_subdist_shape.head()"
   ]
  },
  {
   "cell_type": "markdown",
   "metadata": {},
   "source": [
    "## Converting to Lower Case"
   ]
  },
  {
   "cell_type": "code",
   "execution_count": 25,
   "metadata": {},
   "outputs": [
    {
     "name": "stderr",
     "output_type": "stream",
     "text": [
      "/tmp/ipykernel_6758/228283043.py:1: FutureWarning: DataFrame.applymap has been deprecated. Use DataFrame.map instead.\n",
      "  df_subdist_shape = df_subdist_shape.applymap(lambda x: x.lower() if isinstance(x, str) else x)\n"
     ]
    }
   ],
   "source": [
    "df_subdist_shape = df_subdist_shape.applymap(lambda x: x.lower() if isinstance(x, str) else x)"
   ]
  },
  {
   "cell_type": "code",
   "execution_count": 26,
   "metadata": {},
   "outputs": [
    {
     "name": "stderr",
     "output_type": "stream",
     "text": [
      "/tmp/ipykernel_6758/990218482.py:1: FutureWarning: DataFrame.applymap has been deprecated. Use DataFrame.map instead.\n",
      "  df_village_list = df_village_list.applymap(lambda x: x.lower() if isinstance(x, str) else x)\n"
     ]
    }
   ],
   "source": [
    "df_village_list = df_village_list.applymap(lambda x: x.lower() if isinstance(x, str) else x)"
   ]
  },
  {
   "cell_type": "code",
   "execution_count": 27,
   "metadata": {},
   "outputs": [
    {
     "name": "stderr",
     "output_type": "stream",
     "text": [
      "/tmp/ipykernel_6758/3172920881.py:1: FutureWarning: DataFrame.applymap has been deprecated. Use DataFrame.map instead.\n",
      "  df_SOI_shape = df_SOI_shape.applymap(lambda x: x.lower() if isinstance(x, str) else x)\n"
     ]
    }
   ],
   "source": [
    "df_SOI_shape = df_SOI_shape.applymap(lambda x: x.lower() if isinstance(x, str) else x)"
   ]
  },
  {
   "cell_type": "markdown",
   "metadata": {},
   "source": [
    "## Using Jaro Similarity to Filter SOI Tehsils using Village List"
   ]
  },
  {
   "cell_type": "code",
   "execution_count": 28,
   "metadata": {},
   "outputs": [
    {
     "data": {
      "text/html": [
       "<div>\n",
       "<style scoped>\n",
       "    .dataframe tbody tr th:only-of-type {\n",
       "        vertical-align: middle;\n",
       "    }\n",
       "\n",
       "    .dataframe tbody tr th {\n",
       "        vertical-align: top;\n",
       "    }\n",
       "\n",
       "    .dataframe thead th {\n",
       "        text-align: right;\n",
       "    }\n",
       "</style>\n",
       "<table border=\"1\" class=\"dataframe\">\n",
       "  <thead>\n",
       "    <tr style=\"text-align: right;\">\n",
       "      <th></th>\n",
       "      <th>Year</th>\n",
       "      <th>State Name</th>\n",
       "      <th>District Name</th>\n",
       "      <th>Zone No</th>\n",
       "      <th>Tehsil Name</th>\n",
       "      <th>Tehsil Code</th>\n",
       "      <th>Village Name</th>\n",
       "    </tr>\n",
       "  </thead>\n",
       "  <tbody>\n",
       "    <tr>\n",
       "      <th>0</th>\n",
       "      <td>2008-2011</td>\n",
       "      <td>andhra pradesh</td>\n",
       "      <td>ranga reddy</td>\n",
       "      <td>iv</td>\n",
       "      <td>puduru</td>\n",
       "      <td>40</td>\n",
       "      <td>pedhaumethala</td>\n",
       "    </tr>\n",
       "    <tr>\n",
       "      <th>1</th>\n",
       "      <td>2008-2011</td>\n",
       "      <td>andhra pradesh</td>\n",
       "      <td>medak</td>\n",
       "      <td>v</td>\n",
       "      <td>sadasivpet</td>\n",
       "      <td>49</td>\n",
       "      <td>nandi kandi</td>\n",
       "    </tr>\n",
       "    <tr>\n",
       "      <th>2</th>\n",
       "      <td>2008-2011</td>\n",
       "      <td>andhra pradesh</td>\n",
       "      <td>medak</td>\n",
       "      <td>v</td>\n",
       "      <td>zaiheerabad</td>\n",
       "      <td>50</td>\n",
       "      <td>huggelly</td>\n",
       "    </tr>\n",
       "    <tr>\n",
       "      <th>3</th>\n",
       "      <td>2008-2011</td>\n",
       "      <td>andhra pradesh</td>\n",
       "      <td>srikakulam</td>\n",
       "      <td>i</td>\n",
       "      <td>etheria</td>\n",
       "      <td>1</td>\n",
       "      <td>ponnada</td>\n",
       "    </tr>\n",
       "    <tr>\n",
       "      <th>4</th>\n",
       "      <td>2008-2011</td>\n",
       "      <td>andhra pradesh</td>\n",
       "      <td>srikakulam</td>\n",
       "      <td>i</td>\n",
       "      <td>tekkali</td>\n",
       "      <td>2</td>\n",
       "      <td>tirlangi</td>\n",
       "    </tr>\n",
       "  </tbody>\n",
       "</table>\n",
       "</div>"
      ],
      "text/plain": [
       "        Year      State Name District Name Zone No  Tehsil Name Tehsil Code  \\\n",
       "0  2008-2011  andhra pradesh   ranga reddy      iv       puduru          40   \n",
       "1  2008-2011  andhra pradesh         medak       v   sadasivpet          49   \n",
       "2  2008-2011  andhra pradesh         medak       v  zaiheerabad          50   \n",
       "3  2008-2011  andhra pradesh    srikakulam       i      etheria           1   \n",
       "4  2008-2011  andhra pradesh    srikakulam       i      tekkali           2   \n",
       "\n",
       "    Village Name  \n",
       "0  pedhaumethala  \n",
       "1    nandi kandi  \n",
       "2       huggelly  \n",
       "3        ponnada  \n",
       "4       tirlangi  "
      ]
     },
     "execution_count": 28,
     "metadata": {},
     "output_type": "execute_result"
    }
   ],
   "source": [
    "df_village_list.head()"
   ]
  },
  {
   "cell_type": "code",
   "execution_count": 39,
   "metadata": {},
   "outputs": [
    {
     "data": {
      "text/html": [
       "<div>\n",
       "<style scoped>\n",
       "    .dataframe tbody tr th:only-of-type {\n",
       "        vertical-align: middle;\n",
       "    }\n",
       "\n",
       "    .dataframe tbody tr th {\n",
       "        vertical-align: top;\n",
       "    }\n",
       "\n",
       "    .dataframe thead th {\n",
       "        text-align: right;\n",
       "    }\n",
       "</style>\n",
       "<table border=\"1\" class=\"dataframe\">\n",
       "  <thead>\n",
       "    <tr style=\"text-align: right;\">\n",
       "      <th></th>\n",
       "      <th>NAME</th>\n",
       "      <th>dtnmcoc</th>\n",
       "      <th>state</th>\n",
       "      <th>tehnmcoc</th>\n",
       "      <th>geometry</th>\n",
       "    </tr>\n",
       "  </thead>\n",
       "  <tbody>\n",
       "    <tr>\n",
       "      <th>430346</th>\n",
       "      <td>karri</td>\n",
       "      <td>chhatarpur</td>\n",
       "      <td>madhya pradesh</td>\n",
       "      <td>bijawar</td>\n",
       "      <td>POLYGON ((79.29296 24.17866, 79.29297 24.17864...</td>\n",
       "    </tr>\n",
       "    <tr>\n",
       "      <th>501538</th>\n",
       "      <td>rathauranpura</td>\n",
       "      <td>jalaun</td>\n",
       "      <td>uttarpradesh</td>\n",
       "      <td>madhogarh</td>\n",
       "      <td>POLYGON ((79.09735 26.37127, 79.09733 26.3708,...</td>\n",
       "    </tr>\n",
       "    <tr>\n",
       "      <th>106018</th>\n",
       "      <td>bhada</td>\n",
       "      <td>purba champaran</td>\n",
       "      <td>bihar</td>\n",
       "      <td>harsidhi</td>\n",
       "      <td>POLYGON ((84.72984 26.56127, 84.7336 26.56049,...</td>\n",
       "    </tr>\n",
       "    <tr>\n",
       "      <th>233719</th>\n",
       "      <td>sinjo</td>\n",
       "      <td>latehar</td>\n",
       "      <td>jharkhand</td>\n",
       "      <td>manika</td>\n",
       "      <td>POLYGON ((84.37235 23.83692, 84.37296 23.83445...</td>\n",
       "    </tr>\n",
       "    <tr>\n",
       "      <th>573533</th>\n",
       "      <td>gulra</td>\n",
       "      <td>kheri</td>\n",
       "      <td>uttarpradesh</td>\n",
       "      <td>palia kalan</td>\n",
       "      <td>POLYGON ((80.69836 28.39441, 80.69823 28.3938,...</td>\n",
       "    </tr>\n",
       "    <tr>\n",
       "      <th>31437</th>\n",
       "      <td>dharur</td>\n",
       "      <td>mahbubnagar</td>\n",
       "      <td>andhra pradesh</td>\n",
       "      <td>dharur</td>\n",
       "      <td>POLYGON ((77.69743 16.25062, 77.69795 16.2508,...</td>\n",
       "    </tr>\n",
       "  </tbody>\n",
       "</table>\n",
       "</div>"
      ],
      "text/plain": [
       "                 NAME          dtnmcoc           state     tehnmcoc  \\\n",
       "430346          karri       chhatarpur  madhya pradesh      bijawar   \n",
       "501538  rathauranpura           jalaun    uttarpradesh    madhogarh   \n",
       "106018          bhada  purba champaran           bihar     harsidhi   \n",
       "233719          sinjo          latehar       jharkhand       manika   \n",
       "573533          gulra            kheri    uttarpradesh  palia kalan   \n",
       "31437          dharur      mahbubnagar  andhra pradesh       dharur   \n",
       "\n",
       "                                                 geometry  \n",
       "430346  POLYGON ((79.29296 24.17866, 79.29297 24.17864...  \n",
       "501538  POLYGON ((79.09735 26.37127, 79.09733 26.3708,...  \n",
       "106018  POLYGON ((84.72984 26.56127, 84.7336 26.56049,...  \n",
       "233719  POLYGON ((84.37235 23.83692, 84.37296 23.83445...  \n",
       "573533  POLYGON ((80.69836 28.39441, 80.69823 28.3938,...  \n",
       "31437   POLYGON ((77.69743 16.25062, 77.69795 16.2508,...  "
      ]
     },
     "execution_count": 39,
     "metadata": {},
     "output_type": "execute_result"
    }
   ],
   "source": [
    "df_SOI_shape.sample(6)"
   ]
  },
  {
   "cell_type": "code",
   "execution_count": 42,
   "metadata": {},
   "outputs": [],
   "source": [
    "import pandas as pd\n",
    "from nltk.metrics.distance import jaro_similarity"
   ]
  },
  {
   "cell_type": "code",
   "execution_count": 62,
   "metadata": {},
   "outputs": [],
   "source": [
    "def calculate_jaro_similarity(village_name1, village_name2):\n",
    "    if pd.isnull(village_name1) or pd.isnull(village_name2):\n",
    "        return 0\n",
    "    return jaro_similarity(village_name1, village_name2)"
   ]
  },
  {
   "cell_type": "code",
   "execution_count": 48,
   "metadata": {},
   "outputs": [],
   "source": [
    "df_SOI_shape['similarity'] = df_SOI_shape.apply(\n",
    "    lambda row: max([calculate_jaro_similarity(row['NAME'], village) for village in df_village_list['Village Name']]),\n",
    "    axis=1\n",
    ")"
   ]
  },
  {
   "cell_type": "code",
   "execution_count": 49,
   "metadata": {},
   "outputs": [
    {
     "data": {
      "text/html": [
       "<div>\n",
       "<style scoped>\n",
       "    .dataframe tbody tr th:only-of-type {\n",
       "        vertical-align: middle;\n",
       "    }\n",
       "\n",
       "    .dataframe tbody tr th {\n",
       "        vertical-align: top;\n",
       "    }\n",
       "\n",
       "    .dataframe thead th {\n",
       "        text-align: right;\n",
       "    }\n",
       "</style>\n",
       "<table border=\"1\" class=\"dataframe\">\n",
       "  <thead>\n",
       "    <tr style=\"text-align: right;\">\n",
       "      <th></th>\n",
       "      <th>NAME</th>\n",
       "      <th>dtnmcoc</th>\n",
       "      <th>state</th>\n",
       "      <th>tehnmcoc</th>\n",
       "      <th>geometry</th>\n",
       "      <th>similarity</th>\n",
       "    </tr>\n",
       "  </thead>\n",
       "  <tbody>\n",
       "    <tr>\n",
       "      <th>0</th>\n",
       "      <td>village point boundary</td>\n",
       "      <td>lahul &amp; spiti</td>\n",
       "      <td>himachal pradesh</td>\n",
       "      <td>None</td>\n",
       "      <td>POLYGON ((76.73598 33.18017, 76.73492 33.18101...</td>\n",
       "      <td>0.762626</td>\n",
       "    </tr>\n",
       "    <tr>\n",
       "      <th>1</th>\n",
       "      <td>dhar chhoglu</td>\n",
       "      <td>chamba</td>\n",
       "      <td>himachal pradesh</td>\n",
       "      <td>pangi</td>\n",
       "      <td>POLYGON ((76.55004 33.19772, 76.55082 33.19775...</td>\n",
       "      <td>0.785714</td>\n",
       "    </tr>\n",
       "    <tr>\n",
       "      <th>2</th>\n",
       "      <td>dhar shinkal</td>\n",
       "      <td>chamba</td>\n",
       "      <td>himachal pradesh</td>\n",
       "      <td>pangi</td>\n",
       "      <td>POLYGON ((76.52521 33.19414, 76.52596 33.19418...</td>\n",
       "      <td>0.813492</td>\n",
       "    </tr>\n",
       "    <tr>\n",
       "      <th>3</th>\n",
       "      <td>sural bhatori</td>\n",
       "      <td>chamba</td>\n",
       "      <td>himachal pradesh</td>\n",
       "      <td>pangi</td>\n",
       "      <td>POLYGON ((76.46151 33.17813, 76.46635 33.17894...</td>\n",
       "      <td>0.757835</td>\n",
       "    </tr>\n",
       "    <tr>\n",
       "      <th>4</th>\n",
       "      <td>rusmas</td>\n",
       "      <td>chamba</td>\n",
       "      <td>himachal pradesh</td>\n",
       "      <td>pangi</td>\n",
       "      <td>POLYGON ((76.39866 33.17477, 76.39969 33.17541...</td>\n",
       "      <td>0.777778</td>\n",
       "    </tr>\n",
       "    <tr>\n",
       "      <th>5</th>\n",
       "      <td>dhar topiyun</td>\n",
       "      <td>chamba</td>\n",
       "      <td>himachal pradesh</td>\n",
       "      <td>pangi</td>\n",
       "      <td>POLYGON ((76.71984 33.18102, 76.72248 33.17966...</td>\n",
       "      <td>0.785714</td>\n",
       "    </tr>\n",
       "    <tr>\n",
       "      <th>6</th>\n",
       "      <td>tai</td>\n",
       "      <td>chamba</td>\n",
       "      <td>himachal pradesh</td>\n",
       "      <td>pangi</td>\n",
       "      <td>POLYGON ((76.43819 33.17915, 76.44485 33.17832...</td>\n",
       "      <td>0.791667</td>\n",
       "    </tr>\n",
       "    <tr>\n",
       "      <th>7</th>\n",
       "      <td>chaloli</td>\n",
       "      <td>chamba</td>\n",
       "      <td>himachal pradesh</td>\n",
       "      <td>pangi</td>\n",
       "      <td>POLYGON ((76.37752 33.16003, 76.38194 33.16366...</td>\n",
       "      <td>0.849206</td>\n",
       "    </tr>\n",
       "    <tr>\n",
       "      <th>8</th>\n",
       "      <td>kuthah</td>\n",
       "      <td>chamba</td>\n",
       "      <td>himachal pradesh</td>\n",
       "      <td>pangi</td>\n",
       "      <td>POLYGON ((76.37041 33.15255, 76.37295 33.15312...</td>\n",
       "      <td>0.819444</td>\n",
       "    </tr>\n",
       "    <tr>\n",
       "      <th>9</th>\n",
       "      <td>luj</td>\n",
       "      <td>chamba</td>\n",
       "      <td>himachal pradesh</td>\n",
       "      <td>pangi</td>\n",
       "      <td>POLYGON ((76.37041 33.15255, 76.37119 33.1482,...</td>\n",
       "      <td>0.688889</td>\n",
       "    </tr>\n",
       "  </tbody>\n",
       "</table>\n",
       "</div>"
      ],
      "text/plain": [
       "                     NAME        dtnmcoc             state tehnmcoc  \\\n",
       "0  village point boundary  lahul & spiti  himachal pradesh     None   \n",
       "1            dhar chhoglu         chamba  himachal pradesh    pangi   \n",
       "2            dhar shinkal         chamba  himachal pradesh    pangi   \n",
       "3           sural bhatori         chamba  himachal pradesh    pangi   \n",
       "4                  rusmas         chamba  himachal pradesh    pangi   \n",
       "5            dhar topiyun         chamba  himachal pradesh    pangi   \n",
       "6                     tai         chamba  himachal pradesh    pangi   \n",
       "7                 chaloli         chamba  himachal pradesh    pangi   \n",
       "8                  kuthah         chamba  himachal pradesh    pangi   \n",
       "9                     luj         chamba  himachal pradesh    pangi   \n",
       "\n",
       "                                            geometry  similarity  \n",
       "0  POLYGON ((76.73598 33.18017, 76.73492 33.18101...    0.762626  \n",
       "1  POLYGON ((76.55004 33.19772, 76.55082 33.19775...    0.785714  \n",
       "2  POLYGON ((76.52521 33.19414, 76.52596 33.19418...    0.813492  \n",
       "3  POLYGON ((76.46151 33.17813, 76.46635 33.17894...    0.757835  \n",
       "4  POLYGON ((76.39866 33.17477, 76.39969 33.17541...    0.777778  \n",
       "5  POLYGON ((76.71984 33.18102, 76.72248 33.17966...    0.785714  \n",
       "6  POLYGON ((76.43819 33.17915, 76.44485 33.17832...    0.791667  \n",
       "7  POLYGON ((76.37752 33.16003, 76.38194 33.16366...    0.849206  \n",
       "8  POLYGON ((76.37041 33.15255, 76.37295 33.15312...    0.819444  \n",
       "9  POLYGON ((76.37041 33.15255, 76.37119 33.1482,...    0.688889  "
      ]
     },
     "execution_count": 49,
     "metadata": {},
     "output_type": "execute_result"
    }
   ],
   "source": [
    "df_SOI_shape.head(10)"
   ]
  },
  {
   "cell_type": "code",
   "execution_count": 50,
   "metadata": {},
   "outputs": [],
   "source": [
    "df_SOI_shape_filtered = df_SOI_shape[df_SOI_shape['similarity'] > 0.95]"
   ]
  },
  {
   "cell_type": "code",
   "execution_count": 55,
   "metadata": {},
   "outputs": [
    {
     "data": {
      "text/html": [
       "<div>\n",
       "<style scoped>\n",
       "    .dataframe tbody tr th:only-of-type {\n",
       "        vertical-align: middle;\n",
       "    }\n",
       "\n",
       "    .dataframe tbody tr th {\n",
       "        vertical-align: top;\n",
       "    }\n",
       "\n",
       "    .dataframe thead th {\n",
       "        text-align: right;\n",
       "    }\n",
       "</style>\n",
       "<table border=\"1\" class=\"dataframe\">\n",
       "  <thead>\n",
       "    <tr style=\"text-align: right;\">\n",
       "      <th></th>\n",
       "      <th>Year</th>\n",
       "      <th>State Name</th>\n",
       "      <th>District Name</th>\n",
       "      <th>Zone No</th>\n",
       "      <th>Tehsil Name</th>\n",
       "      <th>Tehsil Code</th>\n",
       "      <th>Village Name</th>\n",
       "    </tr>\n",
       "  </thead>\n",
       "  <tbody>\n",
       "    <tr>\n",
       "      <th>1487</th>\n",
       "      <td>2014-2017</td>\n",
       "      <td>himachal pradesh</td>\n",
       "      <td>jwali/kangra</td>\n",
       "      <td>ii</td>\n",
       "      <td>kuther</td>\n",
       "      <td>16</td>\n",
       "      <td>kuther</td>\n",
       "    </tr>\n",
       "  </tbody>\n",
       "</table>\n",
       "</div>"
      ],
      "text/plain": [
       "           Year        State Name District Name Zone No Tehsil Name  \\\n",
       "1487  2014-2017  himachal pradesh  jwali/kangra      ii      kuther   \n",
       "\n",
       "     Tehsil Code Village Name  \n",
       "1487          16       kuther  "
      ]
     },
     "execution_count": 55,
     "metadata": {},
     "output_type": "execute_result"
    }
   ],
   "source": [
    "df_village_list[df_village_list['Village Name'] == 'kuther']"
   ]
  },
  {
   "cell_type": "code",
   "execution_count": 61,
   "metadata": {},
   "outputs": [
    {
     "data": {
      "text/html": [
       "<div>\n",
       "<style scoped>\n",
       "    .dataframe tbody tr th:only-of-type {\n",
       "        vertical-align: middle;\n",
       "    }\n",
       "\n",
       "    .dataframe tbody tr th {\n",
       "        vertical-align: top;\n",
       "    }\n",
       "\n",
       "    .dataframe thead th {\n",
       "        text-align: right;\n",
       "    }\n",
       "</style>\n",
       "<table border=\"1\" class=\"dataframe\">\n",
       "  <thead>\n",
       "    <tr style=\"text-align: right;\">\n",
       "      <th></th>\n",
       "      <th>Year</th>\n",
       "      <th>State Name</th>\n",
       "      <th>District Name</th>\n",
       "      <th>Zone No</th>\n",
       "      <th>Tehsil Name</th>\n",
       "      <th>Tehsil Code</th>\n",
       "      <th>Village Name</th>\n",
       "    </tr>\n",
       "  </thead>\n",
       "  <tbody>\n",
       "    <tr>\n",
       "      <th>893</th>\n",
       "      <td>2011-2014</td>\n",
       "      <td>orissa</td>\n",
       "      <td>rayagada</td>\n",
       "      <td>2</td>\n",
       "      <td>kashipur</td>\n",
       "      <td>21</td>\n",
       "      <td>kashipur</td>\n",
       "    </tr>\n",
       "  </tbody>\n",
       "</table>\n",
       "</div>"
      ],
      "text/plain": [
       "          Year State Name District Name Zone No Tehsil Name Tehsil Code  \\\n",
       "893  2011-2014     orissa      rayagada       2    kashipur          21   \n",
       "\n",
       "    Village Name  \n",
       "893     kashipur  "
      ]
     },
     "execution_count": 61,
     "metadata": {},
     "output_type": "execute_result"
    }
   ],
   "source": [
    "df_village_list[df_village_list['Village Name'] == 'kashipur']"
   ]
  },
  {
   "cell_type": "code",
   "execution_count": 58,
   "metadata": {},
   "outputs": [
    {
     "data": {
      "text/html": [
       "<div>\n",
       "<style scoped>\n",
       "    .dataframe tbody tr th:only-of-type {\n",
       "        vertical-align: middle;\n",
       "    }\n",
       "\n",
       "    .dataframe tbody tr th {\n",
       "        vertical-align: top;\n",
       "    }\n",
       "\n",
       "    .dataframe thead th {\n",
       "        text-align: right;\n",
       "    }\n",
       "</style>\n",
       "<table border=\"1\" class=\"dataframe\">\n",
       "  <thead>\n",
       "    <tr style=\"text-align: right;\">\n",
       "      <th></th>\n",
       "      <th>NAME</th>\n",
       "      <th>dtnmcoc</th>\n",
       "      <th>state</th>\n",
       "      <th>tehnmcoc</th>\n",
       "      <th>geometry</th>\n",
       "      <th>similarity</th>\n",
       "    </tr>\n",
       "  </thead>\n",
       "  <tbody>\n",
       "    <tr>\n",
       "      <th>328649</th>\n",
       "      <td>balasar</td>\n",
       "      <td>nagaur</td>\n",
       "      <td>rajasthan</td>\n",
       "      <td>nagaur</td>\n",
       "      <td>POLYGON ((73.62862 27.32284, 73.63861 27.32345...</td>\n",
       "      <td>1.000000</td>\n",
       "    </tr>\n",
       "    <tr>\n",
       "      <th>527441</th>\n",
       "      <td>jalalpur</td>\n",
       "      <td>hardoi</td>\n",
       "      <td>uttarpradesh</td>\n",
       "      <td>hardoi</td>\n",
       "      <td>POLYGON ((80.24526 27.52287, 80.24443 27.5194,...</td>\n",
       "      <td>1.000000</td>\n",
       "    </tr>\n",
       "    <tr>\n",
       "      <th>240862</th>\n",
       "      <td>jainpur</td>\n",
       "      <td>jamtara</td>\n",
       "      <td>jharkhand</td>\n",
       "      <td>k vidyasagar</td>\n",
       "      <td>POLYGON ((86.73543 24.03868, 86.73524 24.03825...</td>\n",
       "      <td>0.952381</td>\n",
       "    </tr>\n",
       "    <tr>\n",
       "      <th>336035</th>\n",
       "      <td>kashipur</td>\n",
       "      <td>sawai madhopur</td>\n",
       "      <td>rajasthan</td>\n",
       "      <td>gangapur</td>\n",
       "      <td>POLYGON ((76.75386 26.56393, 76.76088 26.56423...</td>\n",
       "      <td>1.000000</td>\n",
       "    </tr>\n",
       "    <tr>\n",
       "      <th>446655</th>\n",
       "      <td>devhara</td>\n",
       "      <td>shahdol</td>\n",
       "      <td>madhya pradesh</td>\n",
       "      <td>anuppur</td>\n",
       "      <td>POLYGON ((81.58911 23.16918, 81.59261 23.17042...</td>\n",
       "      <td>0.952381</td>\n",
       "    </tr>\n",
       "  </tbody>\n",
       "</table>\n",
       "</div>"
      ],
      "text/plain": [
       "            NAME         dtnmcoc           state      tehnmcoc  \\\n",
       "328649   balasar          nagaur       rajasthan        nagaur   \n",
       "527441  jalalpur          hardoi    uttarpradesh        hardoi   \n",
       "240862   jainpur         jamtara       jharkhand  k vidyasagar   \n",
       "336035  kashipur  sawai madhopur       rajasthan      gangapur   \n",
       "446655   devhara         shahdol  madhya pradesh       anuppur   \n",
       "\n",
       "                                                 geometry  similarity  \n",
       "328649  POLYGON ((73.62862 27.32284, 73.63861 27.32345...    1.000000  \n",
       "527441  POLYGON ((80.24526 27.52287, 80.24443 27.5194,...    1.000000  \n",
       "240862  POLYGON ((86.73543 24.03868, 86.73524 24.03825...    0.952381  \n",
       "336035  POLYGON ((76.75386 26.56393, 76.76088 26.56423...    1.000000  \n",
       "446655  POLYGON ((81.58911 23.16918, 81.59261 23.17042...    0.952381  "
      ]
     },
     "execution_count": 58,
     "metadata": {},
     "output_type": "execute_result"
    }
   ],
   "source": [
    "df_SOI_shape_filtered.sample(5)"
   ]
  },
  {
   "cell_type": "code",
   "execution_count": null,
   "metadata": {},
   "outputs": [],
   "source": [
    "df_SOI_shape_filtered = df_SOI_shape_filtered.drop(columns=['similarity'])"
   ]
  },
  {
   "cell_type": "code",
   "execution_count": 64,
   "metadata": {},
   "outputs": [],
   "source": [
    "def calculate_jaro_similarity(village_name1, village_name2):\n",
    "    if pd.isnull(village_name1) or pd.isnull(village_name2):\n",
    "        return 0 \n",
    "    return jaro_similarity(village_name1, village_name2)"
   ]
  },
  {
   "cell_type": "code",
   "execution_count": 66,
   "metadata": {},
   "outputs": [],
   "source": [
    "df_SOI_shape['similarity'] = df_SOI_shape.apply(\n",
    "    lambda row: max(\n",
    "        [\n",
    "            calculate_jaro_similarity(row['NAME'], village)\n",
    "            for village in df_village_list[\n",
    "                (df_village_list['State Name'].notnull()) & \n",
    "                (df_village_list['State Name'].str.lower() == row['state'].lower())\n",
    "            ]['Village Name']\n",
    "        ]\n",
    "    ) if (pd.notnull(row['state']) and not df_village_list[\n",
    "                (df_village_list['State Name'].notnull()) & \n",
    "                (df_village_list['State Name'].str.lower() == row['state'].lower())\n",
    "            ]['Village Name'].empty) else 0, \n",
    "    axis=1\n",
    ")"
   ]
  },
  {
   "cell_type": "code",
   "execution_count": 69,
   "metadata": {},
   "outputs": [
    {
     "data": {
      "text/plain": [
       "(6993, 6)"
      ]
     },
     "execution_count": 69,
     "metadata": {},
     "output_type": "execute_result"
    }
   ],
   "source": [
    "df_SOI_shape_filtered.shape"
   ]
  },
  {
   "cell_type": "code",
   "execution_count": 67,
   "metadata": {},
   "outputs": [],
   "source": [
    "df_SOI_shape_filtered = df_SOI_shape[df_SOI_shape['similarity'] > 0.95]"
   ]
  },
  {
   "cell_type": "code",
   "execution_count": null,
   "metadata": {},
   "outputs": [],
   "source": [
    "df_SOI_shape_filtered = df_SOI_shape_filtered.drop(columns=['similarity'])"
   ]
  }
 ],
 "metadata": {
  "kernelspec": {
   "display_name": "Python 3",
   "language": "python",
   "name": "python3"
  },
  "language_info": {
   "codemirror_mode": {
    "name": "ipython",
    "version": 3
   },
   "file_extension": ".py",
   "mimetype": "text/x-python",
   "name": "python",
   "nbconvert_exporter": "python",
   "pygments_lexer": "ipython3",
   "version": "3.12.4"
  }
 },
 "nbformat": 4,
 "nbformat_minor": 2
}
