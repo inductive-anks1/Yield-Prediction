{
 "cells": [
  {
   "cell_type": "code",
   "execution_count": 1,
   "metadata": {},
   "outputs": [],
   "source": [
    "import pandas as pd\n",
    "import numpy as np\n",
    "import geopandas as gpd\n"
   ]
  },
  {
   "cell_type": "code",
   "execution_count": 2,
   "metadata": {},
   "outputs": [],
   "source": [
    "df_SOI_village = gpd.read_file('/home/inductive_anks/Backup Files/CS and AI/Internship/Data/All-Inidia-SOI-Village-Shape-File/All-India-Villages-SOI.shp')"
   ]
  },
  {
   "cell_type": "code",
   "execution_count": 3,
   "metadata": {},
   "outputs": [],
   "source": [
    "df_subdist_shape = gpd.read_file('/home/inductive_anks/Backup Files/CS and AI/Internship/Data/All-India-Subdistrict-Shape-File/SUBDISTRICT_BOUNDARY.shp')"
   ]
  },
  {
   "cell_type": "code",
   "execution_count": 4,
   "metadata": {},
   "outputs": [
    {
     "data": {
      "text/html": [
       "<div>\n",
       "<style scoped>\n",
       "    .dataframe tbody tr th:only-of-type {\n",
       "        vertical-align: middle;\n",
       "    }\n",
       "\n",
       "    .dataframe tbody tr th {\n",
       "        vertical-align: top;\n",
       "    }\n",
       "\n",
       "    .dataframe thead th {\n",
       "        text-align: right;\n",
       "    }\n",
       "</style>\n",
       "<table border=\"1\" class=\"dataframe\">\n",
       "  <thead>\n",
       "    <tr style=\"text-align: right;\">\n",
       "      <th></th>\n",
       "      <th>NAME</th>\n",
       "      <th>dtnmcoc</th>\n",
       "      <th>state</th>\n",
       "      <th>tehnmcoc</th>\n",
       "      <th>geometry</th>\n",
       "    </tr>\n",
       "  </thead>\n",
       "  <tbody>\n",
       "    <tr>\n",
       "      <th>599737</th>\n",
       "      <td>thenthamaraikulam</td>\n",
       "      <td>kanniyakumari</td>\n",
       "      <td>tamil nadu</td>\n",
       "      <td>agastheeswaram</td>\n",
       "      <td>POLYGON ((77.50307 8.11443, 77.50314 8.11415, ...</td>\n",
       "    </tr>\n",
       "    <tr>\n",
       "      <th>599738</th>\n",
       "      <td>puthalam</td>\n",
       "      <td>kanniyakumari</td>\n",
       "      <td>tamil nadu</td>\n",
       "      <td>agastheeswaram</td>\n",
       "      <td>POLYGON ((77.45023 8.11175, 77.45247 8.11075, ...</td>\n",
       "    </tr>\n",
       "    <tr>\n",
       "      <th>599739</th>\n",
       "      <td>agasteeswaram</td>\n",
       "      <td>kanniyakumari</td>\n",
       "      <td>tamil nadu</td>\n",
       "      <td>agastheeswaram</td>\n",
       "      <td>POLYGON ((77.51122 8.10797, 77.5154 8.10685, 7...</td>\n",
       "    </tr>\n",
       "    <tr>\n",
       "      <th>599740</th>\n",
       "      <td>kanniyakumari</td>\n",
       "      <td>kanniyakumari</td>\n",
       "      <td>tamil nadu</td>\n",
       "      <td>agastheeswaram</td>\n",
       "      <td>POLYGON ((77.54385 8.10316, 77.54398 8.10381, ...</td>\n",
       "    </tr>\n",
       "    <tr>\n",
       "      <th>599741</th>\n",
       "      <td>thengamputhoor</td>\n",
       "      <td>kanniyakumari</td>\n",
       "      <td>tamil nadu</td>\n",
       "      <td>agastheeswaram</td>\n",
       "      <td>POLYGON ((77.46212 8.08817, 77.46205 8.08842, ...</td>\n",
       "    </tr>\n",
       "  </tbody>\n",
       "</table>\n",
       "</div>"
      ],
      "text/plain": [
       "                     NAME        dtnmcoc       state        tehnmcoc  \\\n",
       "599737  thenthamaraikulam  kanniyakumari  tamil nadu  agastheeswaram   \n",
       "599738           puthalam  kanniyakumari  tamil nadu  agastheeswaram   \n",
       "599739      agasteeswaram  kanniyakumari  tamil nadu  agastheeswaram   \n",
       "599740      kanniyakumari  kanniyakumari  tamil nadu  agastheeswaram   \n",
       "599741     thengamputhoor  kanniyakumari  tamil nadu  agastheeswaram   \n",
       "\n",
       "                                                 geometry  \n",
       "599737  POLYGON ((77.50307 8.11443, 77.50314 8.11415, ...  \n",
       "599738  POLYGON ((77.45023 8.11175, 77.45247 8.11075, ...  \n",
       "599739  POLYGON ((77.51122 8.10797, 77.5154 8.10685, 7...  \n",
       "599740  POLYGON ((77.54385 8.10316, 77.54398 8.10381, ...  \n",
       "599741  POLYGON ((77.46212 8.08817, 77.46205 8.08842, ...  "
      ]
     },
     "execution_count": 4,
     "metadata": {},
     "output_type": "execute_result"
    }
   ],
   "source": [
    "df_SOI_village.tail()"
   ]
  },
  {
   "cell_type": "code",
   "execution_count": 5,
   "metadata": {},
   "outputs": [],
   "source": [
    "\n",
    "df_SOI_village = df_SOI_village.rename(columns={'NAME': 'SOI_Village', 'dtnmcoc': 'Distric Name SOI', 'state': 'State Name SOI', 'tehnmcoc': 'Tehsil Name SOI'})"
   ]
  },
  {
   "cell_type": "code",
   "execution_count": 6,
   "metadata": {},
   "outputs": [
    {
     "data": {
      "text/html": [
       "<div>\n",
       "<style scoped>\n",
       "    .dataframe tbody tr th:only-of-type {\n",
       "        vertical-align: middle;\n",
       "    }\n",
       "\n",
       "    .dataframe tbody tr th {\n",
       "        vertical-align: top;\n",
       "    }\n",
       "\n",
       "    .dataframe thead th {\n",
       "        text-align: right;\n",
       "    }\n",
       "</style>\n",
       "<table border=\"1\" class=\"dataframe\">\n",
       "  <thead>\n",
       "    <tr style=\"text-align: right;\">\n",
       "      <th></th>\n",
       "      <th>SOI_Village</th>\n",
       "      <th>Distric Name SOI</th>\n",
       "      <th>State Name SOI</th>\n",
       "      <th>Tehsil Name SOI</th>\n",
       "      <th>geometry</th>\n",
       "    </tr>\n",
       "  </thead>\n",
       "  <tbody>\n",
       "    <tr>\n",
       "      <th>0</th>\n",
       "      <td>village point boundary</td>\n",
       "      <td>lahul &amp; spiti</td>\n",
       "      <td>himachal pradesh</td>\n",
       "      <td>None</td>\n",
       "      <td>POLYGON ((76.73598 33.18017, 76.73492 33.18101...</td>\n",
       "    </tr>\n",
       "    <tr>\n",
       "      <th>1</th>\n",
       "      <td>dhar chhoglu</td>\n",
       "      <td>chamba</td>\n",
       "      <td>himachal pradesh</td>\n",
       "      <td>pangi</td>\n",
       "      <td>POLYGON ((76.55004 33.19772, 76.55082 33.19775...</td>\n",
       "    </tr>\n",
       "    <tr>\n",
       "      <th>2</th>\n",
       "      <td>dhar shinkal</td>\n",
       "      <td>chamba</td>\n",
       "      <td>himachal pradesh</td>\n",
       "      <td>pangi</td>\n",
       "      <td>POLYGON ((76.52521 33.19414, 76.52596 33.19418...</td>\n",
       "    </tr>\n",
       "    <tr>\n",
       "      <th>3</th>\n",
       "      <td>sural bhatori</td>\n",
       "      <td>chamba</td>\n",
       "      <td>himachal pradesh</td>\n",
       "      <td>pangi</td>\n",
       "      <td>POLYGON ((76.46151 33.17813, 76.46635 33.17894...</td>\n",
       "    </tr>\n",
       "    <tr>\n",
       "      <th>4</th>\n",
       "      <td>rusmas</td>\n",
       "      <td>chamba</td>\n",
       "      <td>himachal pradesh</td>\n",
       "      <td>pangi</td>\n",
       "      <td>POLYGON ((76.39866 33.17477, 76.39969 33.17541...</td>\n",
       "    </tr>\n",
       "  </tbody>\n",
       "</table>\n",
       "</div>"
      ],
      "text/plain": [
       "              SOI_Village Distric Name SOI    State Name SOI Tehsil Name SOI  \\\n",
       "0  village point boundary    lahul & spiti  himachal pradesh            None   \n",
       "1            dhar chhoglu           chamba  himachal pradesh           pangi   \n",
       "2            dhar shinkal           chamba  himachal pradesh           pangi   \n",
       "3           sural bhatori           chamba  himachal pradesh           pangi   \n",
       "4                  rusmas           chamba  himachal pradesh           pangi   \n",
       "\n",
       "                                            geometry  \n",
       "0  POLYGON ((76.73598 33.18017, 76.73492 33.18101...  \n",
       "1  POLYGON ((76.55004 33.19772, 76.55082 33.19775...  \n",
       "2  POLYGON ((76.52521 33.19414, 76.52596 33.19418...  \n",
       "3  POLYGON ((76.46151 33.17813, 76.46635 33.17894...  \n",
       "4  POLYGON ((76.39866 33.17477, 76.39969 33.17541...  "
      ]
     },
     "execution_count": 6,
     "metadata": {},
     "output_type": "execute_result"
    }
   ],
   "source": [
    "df_SOI_village.head()"
   ]
  },
  {
   "cell_type": "code",
   "execution_count": 7,
   "metadata": {},
   "outputs": [],
   "source": [
    "df_SOI_village_raj = df_SOI_village[df_SOI_village['State Name SOI'] == 'rajasthan']"
   ]
  },
  {
   "cell_type": "code",
   "execution_count": 8,
   "metadata": {},
   "outputs": [
    {
     "data": {
      "text/plain": [
       "(41604, 5)"
      ]
     },
     "execution_count": 8,
     "metadata": {},
     "output_type": "execute_result"
    }
   ],
   "source": [
    "df_SOI_village_raj.shape"
   ]
  },
  {
   "cell_type": "code",
   "execution_count": 9,
   "metadata": {},
   "outputs": [
    {
     "data": {
      "text/html": [
       "<div>\n",
       "<style scoped>\n",
       "    .dataframe tbody tr th:only-of-type {\n",
       "        vertical-align: middle;\n",
       "    }\n",
       "\n",
       "    .dataframe tbody tr th {\n",
       "        vertical-align: top;\n",
       "    }\n",
       "\n",
       "    .dataframe thead th {\n",
       "        text-align: right;\n",
       "    }\n",
       "</style>\n",
       "<table border=\"1\" class=\"dataframe\">\n",
       "  <thead>\n",
       "    <tr style=\"text-align: right;\">\n",
       "      <th></th>\n",
       "      <th>District</th>\n",
       "      <th>STATE</th>\n",
       "      <th>TEHSIL</th>\n",
       "      <th>Shape_Leng</th>\n",
       "      <th>Shape_Area</th>\n",
       "      <th>geometry</th>\n",
       "    </tr>\n",
       "  </thead>\n",
       "  <tbody>\n",
       "    <tr>\n",
       "      <th>0</th>\n",
       "      <td>BIL&gt;SPUR</td>\n",
       "      <td>HIMACHAL PRADESH</td>\n",
       "      <td>BHARARI</td>\n",
       "      <td>50253.228763</td>\n",
       "      <td>9.000306e+07</td>\n",
       "      <td>POLYGON ((3690806.89 4831388.917, 3690871.421 ...</td>\n",
       "    </tr>\n",
       "    <tr>\n",
       "      <th>1</th>\n",
       "      <td>BIL&gt;SPUR</td>\n",
       "      <td>HIMACHAL PRADESH</td>\n",
       "      <td>BIL&gt;SPUR</td>\n",
       "      <td>93446.685818</td>\n",
       "      <td>1.703525e+08</td>\n",
       "      <td>POLYGON ((3699861.726 4812292.061, 3699965.144...</td>\n",
       "    </tr>\n",
       "    <tr>\n",
       "      <th>2</th>\n",
       "      <td>BIL&gt;SPUR</td>\n",
       "      <td>HIMACHAL PRADESH</td>\n",
       "      <td>GHURMW|N</td>\n",
       "      <td>105834.665205</td>\n",
       "      <td>1.906542e+08</td>\n",
       "      <td>POLYGON ((3692609.535 4827764.245, 3692614.853...</td>\n",
       "    </tr>\n",
       "    <tr>\n",
       "      <th>3</th>\n",
       "      <td>BIL&gt;SPUR</td>\n",
       "      <td>HIMACHAL PRADESH</td>\n",
       "      <td>JHAND@TA</td>\n",
       "      <td>112831.475031</td>\n",
       "      <td>3.205376e+08</td>\n",
       "      <td>POLYGON ((3667564.424 4819909.775, 3667603.174...</td>\n",
       "    </tr>\n",
       "    <tr>\n",
       "      <th>4</th>\n",
       "      <td>BIL&gt;SPUR</td>\n",
       "      <td>HIMACHAL PRADESH</td>\n",
       "      <td>NAMHOL</td>\n",
       "      <td>61752.616994</td>\n",
       "      <td>1.034979e+08</td>\n",
       "      <td>POLYGON ((3701617.644 4803943.439, 3701666.832...</td>\n",
       "    </tr>\n",
       "  </tbody>\n",
       "</table>\n",
       "</div>"
      ],
      "text/plain": [
       "   District             STATE    TEHSIL     Shape_Leng    Shape_Area  \\\n",
       "0  BIL>SPUR  HIMACHAL PRADESH   BHARARI   50253.228763  9.000306e+07   \n",
       "1  BIL>SPUR  HIMACHAL PRADESH  BIL>SPUR   93446.685818  1.703525e+08   \n",
       "2  BIL>SPUR  HIMACHAL PRADESH  GHURMW|N  105834.665205  1.906542e+08   \n",
       "3  BIL>SPUR  HIMACHAL PRADESH  JHAND@TA  112831.475031  3.205376e+08   \n",
       "4  BIL>SPUR  HIMACHAL PRADESH    NAMHOL   61752.616994  1.034979e+08   \n",
       "\n",
       "                                            geometry  \n",
       "0  POLYGON ((3690806.89 4831388.917, 3690871.421 ...  \n",
       "1  POLYGON ((3699861.726 4812292.061, 3699965.144...  \n",
       "2  POLYGON ((3692609.535 4827764.245, 3692614.853...  \n",
       "3  POLYGON ((3667564.424 4819909.775, 3667603.174...  \n",
       "4  POLYGON ((3701617.644 4803943.439, 3701666.832...  "
      ]
     },
     "execution_count": 9,
     "metadata": {},
     "output_type": "execute_result"
    }
   ],
   "source": [
    "df_subdist_shape.head()"
   ]
  },
  {
   "cell_type": "markdown",
   "metadata": {},
   "source": [
    "## Filtering for Rajasthan"
   ]
  },
  {
   "cell_type": "code",
   "execution_count": 10,
   "metadata": {},
   "outputs": [],
   "source": [
    "df_SOI_village = df_SOI_village.to_crs(epsg=4326)\n",
    "df_subdist_shape = df_subdist_shape.to_crs(epsg=4326)\n",
    "\n",
    "\n",
    "joined_df = gpd.sjoin(df_SOI_village, df_subdist_shape, how='left', predicate='within')"
   ]
  },
  {
   "cell_type": "code",
   "execution_count": 11,
   "metadata": {},
   "outputs": [
    {
     "data": {
      "text/html": [
       "<div>\n",
       "<style scoped>\n",
       "    .dataframe tbody tr th:only-of-type {\n",
       "        vertical-align: middle;\n",
       "    }\n",
       "\n",
       "    .dataframe tbody tr th {\n",
       "        vertical-align: top;\n",
       "    }\n",
       "\n",
       "    .dataframe thead th {\n",
       "        text-align: right;\n",
       "    }\n",
       "</style>\n",
       "<table border=\"1\" class=\"dataframe\">\n",
       "  <thead>\n",
       "    <tr style=\"text-align: right;\">\n",
       "      <th></th>\n",
       "      <th>SOI_Village</th>\n",
       "      <th>Distric Name SOI</th>\n",
       "      <th>State Name SOI</th>\n",
       "      <th>Tehsil Name SOI</th>\n",
       "      <th>geometry</th>\n",
       "      <th>index_right</th>\n",
       "      <th>District</th>\n",
       "      <th>STATE</th>\n",
       "      <th>TEHSIL</th>\n",
       "      <th>Shape_Leng</th>\n",
       "      <th>Shape_Area</th>\n",
       "    </tr>\n",
       "  </thead>\n",
       "  <tbody>\n",
       "    <tr>\n",
       "      <th>0</th>\n",
       "      <td>village point boundary</td>\n",
       "      <td>lahul &amp; spiti</td>\n",
       "      <td>himachal pradesh</td>\n",
       "      <td>None</td>\n",
       "      <td>POLYGON ((76.73598 33.18017, 76.73492 33.18101...</td>\n",
       "      <td>NaN</td>\n",
       "      <td>NaN</td>\n",
       "      <td>NaN</td>\n",
       "      <td>NaN</td>\n",
       "      <td>NaN</td>\n",
       "      <td>NaN</td>\n",
       "    </tr>\n",
       "    <tr>\n",
       "      <th>1</th>\n",
       "      <td>dhar chhoglu</td>\n",
       "      <td>chamba</td>\n",
       "      <td>himachal pradesh</td>\n",
       "      <td>pangi</td>\n",
       "      <td>POLYGON ((76.55004 33.19772, 76.55082 33.19775...</td>\n",
       "      <td>NaN</td>\n",
       "      <td>NaN</td>\n",
       "      <td>NaN</td>\n",
       "      <td>NaN</td>\n",
       "      <td>NaN</td>\n",
       "      <td>NaN</td>\n",
       "    </tr>\n",
       "    <tr>\n",
       "      <th>2</th>\n",
       "      <td>dhar shinkal</td>\n",
       "      <td>chamba</td>\n",
       "      <td>himachal pradesh</td>\n",
       "      <td>pangi</td>\n",
       "      <td>POLYGON ((76.52521 33.19414, 76.52596 33.19418...</td>\n",
       "      <td>11.0</td>\n",
       "      <td>CHAMBA</td>\n",
       "      <td>HIMACHAL PRADESH</td>\n",
       "      <td>P&gt;NGI</td>\n",
       "      <td>188893.088214</td>\n",
       "      <td>1.490172e+09</td>\n",
       "    </tr>\n",
       "    <tr>\n",
       "      <th>3</th>\n",
       "      <td>sural bhatori</td>\n",
       "      <td>chamba</td>\n",
       "      <td>himachal pradesh</td>\n",
       "      <td>pangi</td>\n",
       "      <td>POLYGON ((76.46151 33.17813, 76.46635 33.17894...</td>\n",
       "      <td>11.0</td>\n",
       "      <td>CHAMBA</td>\n",
       "      <td>HIMACHAL PRADESH</td>\n",
       "      <td>P&gt;NGI</td>\n",
       "      <td>188893.088214</td>\n",
       "      <td>1.490172e+09</td>\n",
       "    </tr>\n",
       "    <tr>\n",
       "      <th>4</th>\n",
       "      <td>rusmas</td>\n",
       "      <td>chamba</td>\n",
       "      <td>himachal pradesh</td>\n",
       "      <td>pangi</td>\n",
       "      <td>POLYGON ((76.39866 33.17477, 76.39969 33.17541...</td>\n",
       "      <td>NaN</td>\n",
       "      <td>NaN</td>\n",
       "      <td>NaN</td>\n",
       "      <td>NaN</td>\n",
       "      <td>NaN</td>\n",
       "      <td>NaN</td>\n",
       "    </tr>\n",
       "  </tbody>\n",
       "</table>\n",
       "</div>"
      ],
      "text/plain": [
       "              SOI_Village Distric Name SOI    State Name SOI Tehsil Name SOI  \\\n",
       "0  village point boundary    lahul & spiti  himachal pradesh            None   \n",
       "1            dhar chhoglu           chamba  himachal pradesh           pangi   \n",
       "2            dhar shinkal           chamba  himachal pradesh           pangi   \n",
       "3           sural bhatori           chamba  himachal pradesh           pangi   \n",
       "4                  rusmas           chamba  himachal pradesh           pangi   \n",
       "\n",
       "                                            geometry  index_right District  \\\n",
       "0  POLYGON ((76.73598 33.18017, 76.73492 33.18101...          NaN      NaN   \n",
       "1  POLYGON ((76.55004 33.19772, 76.55082 33.19775...          NaN      NaN   \n",
       "2  POLYGON ((76.52521 33.19414, 76.52596 33.19418...         11.0   CHAMBA   \n",
       "3  POLYGON ((76.46151 33.17813, 76.46635 33.17894...         11.0   CHAMBA   \n",
       "4  POLYGON ((76.39866 33.17477, 76.39969 33.17541...          NaN      NaN   \n",
       "\n",
       "              STATE TEHSIL     Shape_Leng    Shape_Area  \n",
       "0               NaN    NaN            NaN           NaN  \n",
       "1               NaN    NaN            NaN           NaN  \n",
       "2  HIMACHAL PRADESH  P>NGI  188893.088214  1.490172e+09  \n",
       "3  HIMACHAL PRADESH  P>NGI  188893.088214  1.490172e+09  \n",
       "4               NaN    NaN            NaN           NaN  "
      ]
     },
     "execution_count": 11,
     "metadata": {},
     "output_type": "execute_result"
    }
   ],
   "source": [
    "joined_df.head()"
   ]
  },
  {
   "cell_type": "code",
   "execution_count": 12,
   "metadata": {},
   "outputs": [
    {
     "name": "stderr",
     "output_type": "stream",
     "text": [
      "/tmp/ipykernel_5363/2323422221.py:1: FutureWarning: DataFrame.applymap has been deprecated. Use DataFrame.map instead.\n",
      "  joined_df = joined_df.applymap(lambda x: x.lower() if isinstance(x, str) else x)\n"
     ]
    }
   ],
   "source": [
    "joined_df = joined_df.applymap(lambda x: x.lower() if isinstance(x, str) else x)"
   ]
  },
  {
   "cell_type": "code",
   "execution_count": 13,
   "metadata": {},
   "outputs": [
    {
     "data": {
      "text/html": [
       "<div>\n",
       "<style scoped>\n",
       "    .dataframe tbody tr th:only-of-type {\n",
       "        vertical-align: middle;\n",
       "    }\n",
       "\n",
       "    .dataframe tbody tr th {\n",
       "        vertical-align: top;\n",
       "    }\n",
       "\n",
       "    .dataframe thead th {\n",
       "        text-align: right;\n",
       "    }\n",
       "</style>\n",
       "<table border=\"1\" class=\"dataframe\">\n",
       "  <thead>\n",
       "    <tr style=\"text-align: right;\">\n",
       "      <th></th>\n",
       "      <th>SOI_Village</th>\n",
       "      <th>Distric Name SOI</th>\n",
       "      <th>State Name SOI</th>\n",
       "      <th>Tehsil Name SOI</th>\n",
       "      <th>geometry</th>\n",
       "      <th>index_right</th>\n",
       "      <th>District</th>\n",
       "      <th>STATE</th>\n",
       "      <th>TEHSIL</th>\n",
       "      <th>Shape_Leng</th>\n",
       "      <th>Shape_Area</th>\n",
       "    </tr>\n",
       "  </thead>\n",
       "  <tbody>\n",
       "    <tr>\n",
       "      <th>0</th>\n",
       "      <td>village point boundary</td>\n",
       "      <td>lahul &amp; spiti</td>\n",
       "      <td>himachal pradesh</td>\n",
       "      <td>None</td>\n",
       "      <td>POLYGON ((76.73598 33.18017, 76.73492 33.18101...</td>\n",
       "      <td>NaN</td>\n",
       "      <td>NaN</td>\n",
       "      <td>NaN</td>\n",
       "      <td>NaN</td>\n",
       "      <td>NaN</td>\n",
       "      <td>NaN</td>\n",
       "    </tr>\n",
       "    <tr>\n",
       "      <th>1</th>\n",
       "      <td>dhar chhoglu</td>\n",
       "      <td>chamba</td>\n",
       "      <td>himachal pradesh</td>\n",
       "      <td>pangi</td>\n",
       "      <td>POLYGON ((76.55004 33.19772, 76.55082 33.19775...</td>\n",
       "      <td>NaN</td>\n",
       "      <td>NaN</td>\n",
       "      <td>NaN</td>\n",
       "      <td>NaN</td>\n",
       "      <td>NaN</td>\n",
       "      <td>NaN</td>\n",
       "    </tr>\n",
       "    <tr>\n",
       "      <th>2</th>\n",
       "      <td>dhar shinkal</td>\n",
       "      <td>chamba</td>\n",
       "      <td>himachal pradesh</td>\n",
       "      <td>pangi</td>\n",
       "      <td>POLYGON ((76.52521 33.19414, 76.52596 33.19418...</td>\n",
       "      <td>11.0</td>\n",
       "      <td>chamba</td>\n",
       "      <td>himachal pradesh</td>\n",
       "      <td>p&gt;ngi</td>\n",
       "      <td>188893.088214</td>\n",
       "      <td>1.490172e+09</td>\n",
       "    </tr>\n",
       "    <tr>\n",
       "      <th>3</th>\n",
       "      <td>sural bhatori</td>\n",
       "      <td>chamba</td>\n",
       "      <td>himachal pradesh</td>\n",
       "      <td>pangi</td>\n",
       "      <td>POLYGON ((76.46151 33.17813, 76.46635 33.17894...</td>\n",
       "      <td>11.0</td>\n",
       "      <td>chamba</td>\n",
       "      <td>himachal pradesh</td>\n",
       "      <td>p&gt;ngi</td>\n",
       "      <td>188893.088214</td>\n",
       "      <td>1.490172e+09</td>\n",
       "    </tr>\n",
       "    <tr>\n",
       "      <th>4</th>\n",
       "      <td>rusmas</td>\n",
       "      <td>chamba</td>\n",
       "      <td>himachal pradesh</td>\n",
       "      <td>pangi</td>\n",
       "      <td>POLYGON ((76.39866 33.17477, 76.39969 33.17541...</td>\n",
       "      <td>NaN</td>\n",
       "      <td>NaN</td>\n",
       "      <td>NaN</td>\n",
       "      <td>NaN</td>\n",
       "      <td>NaN</td>\n",
       "      <td>NaN</td>\n",
       "    </tr>\n",
       "  </tbody>\n",
       "</table>\n",
       "</div>"
      ],
      "text/plain": [
       "              SOI_Village Distric Name SOI    State Name SOI Tehsil Name SOI  \\\n",
       "0  village point boundary    lahul & spiti  himachal pradesh            None   \n",
       "1            dhar chhoglu           chamba  himachal pradesh           pangi   \n",
       "2            dhar shinkal           chamba  himachal pradesh           pangi   \n",
       "3           sural bhatori           chamba  himachal pradesh           pangi   \n",
       "4                  rusmas           chamba  himachal pradesh           pangi   \n",
       "\n",
       "                                            geometry  index_right District  \\\n",
       "0  POLYGON ((76.73598 33.18017, 76.73492 33.18101...          NaN      NaN   \n",
       "1  POLYGON ((76.55004 33.19772, 76.55082 33.19775...          NaN      NaN   \n",
       "2  POLYGON ((76.52521 33.19414, 76.52596 33.19418...         11.0   chamba   \n",
       "3  POLYGON ((76.46151 33.17813, 76.46635 33.17894...         11.0   chamba   \n",
       "4  POLYGON ((76.39866 33.17477, 76.39969 33.17541...          NaN      NaN   \n",
       "\n",
       "              STATE TEHSIL     Shape_Leng    Shape_Area  \n",
       "0               NaN    NaN            NaN           NaN  \n",
       "1               NaN    NaN            NaN           NaN  \n",
       "2  himachal pradesh  p>ngi  188893.088214  1.490172e+09  \n",
       "3  himachal pradesh  p>ngi  188893.088214  1.490172e+09  \n",
       "4               NaN    NaN            NaN           NaN  "
      ]
     },
     "execution_count": 13,
     "metadata": {},
     "output_type": "execute_result"
    }
   ],
   "source": [
    "joined_df.head()"
   ]
  },
  {
   "cell_type": "code",
   "execution_count": 14,
   "metadata": {},
   "outputs": [],
   "source": [
    "villages_within_tehsil = joined_df.dropna(subset=['index_right'])\n",
    "\n",
    "villages_not_within_tehsil = joined_df[joined_df['index_right'].isna()]"
   ]
  },
  {
   "cell_type": "code",
   "execution_count": 15,
   "metadata": {},
   "outputs": [
    {
     "data": {
      "text/html": [
       "<div>\n",
       "<style scoped>\n",
       "    .dataframe tbody tr th:only-of-type {\n",
       "        vertical-align: middle;\n",
       "    }\n",
       "\n",
       "    .dataframe tbody tr th {\n",
       "        vertical-align: top;\n",
       "    }\n",
       "\n",
       "    .dataframe thead th {\n",
       "        text-align: right;\n",
       "    }\n",
       "</style>\n",
       "<table border=\"1\" class=\"dataframe\">\n",
       "  <thead>\n",
       "    <tr style=\"text-align: right;\">\n",
       "      <th></th>\n",
       "      <th>SOI_Village</th>\n",
       "      <th>Distric Name SOI</th>\n",
       "      <th>State Name SOI</th>\n",
       "      <th>Tehsil Name SOI</th>\n",
       "      <th>geometry</th>\n",
       "      <th>index_right</th>\n",
       "      <th>District</th>\n",
       "      <th>STATE</th>\n",
       "      <th>TEHSIL</th>\n",
       "      <th>Shape_Leng</th>\n",
       "      <th>Shape_Area</th>\n",
       "    </tr>\n",
       "  </thead>\n",
       "  <tbody>\n",
       "    <tr>\n",
       "      <th>2</th>\n",
       "      <td>dhar shinkal</td>\n",
       "      <td>chamba</td>\n",
       "      <td>himachal pradesh</td>\n",
       "      <td>pangi</td>\n",
       "      <td>POLYGON ((76.52521 33.19414, 76.52596 33.19418...</td>\n",
       "      <td>11.0</td>\n",
       "      <td>chamba</td>\n",
       "      <td>himachal pradesh</td>\n",
       "      <td>p&gt;ngi</td>\n",
       "      <td>188893.088214</td>\n",
       "      <td>1.490172e+09</td>\n",
       "    </tr>\n",
       "    <tr>\n",
       "      <th>3</th>\n",
       "      <td>sural bhatori</td>\n",
       "      <td>chamba</td>\n",
       "      <td>himachal pradesh</td>\n",
       "      <td>pangi</td>\n",
       "      <td>POLYGON ((76.46151 33.17813, 76.46635 33.17894...</td>\n",
       "      <td>11.0</td>\n",
       "      <td>chamba</td>\n",
       "      <td>himachal pradesh</td>\n",
       "      <td>p&gt;ngi</td>\n",
       "      <td>188893.088214</td>\n",
       "      <td>1.490172e+09</td>\n",
       "    </tr>\n",
       "    <tr>\n",
       "      <th>6</th>\n",
       "      <td>tai</td>\n",
       "      <td>chamba</td>\n",
       "      <td>himachal pradesh</td>\n",
       "      <td>pangi</td>\n",
       "      <td>POLYGON ((76.43819 33.17915, 76.44485 33.17832...</td>\n",
       "      <td>11.0</td>\n",
       "      <td>chamba</td>\n",
       "      <td>himachal pradesh</td>\n",
       "      <td>p&gt;ngi</td>\n",
       "      <td>188893.088214</td>\n",
       "      <td>1.490172e+09</td>\n",
       "    </tr>\n",
       "    <tr>\n",
       "      <th>7</th>\n",
       "      <td>chaloli</td>\n",
       "      <td>chamba</td>\n",
       "      <td>himachal pradesh</td>\n",
       "      <td>pangi</td>\n",
       "      <td>POLYGON ((76.37752 33.16003, 76.38194 33.16366...</td>\n",
       "      <td>11.0</td>\n",
       "      <td>chamba</td>\n",
       "      <td>himachal pradesh</td>\n",
       "      <td>p&gt;ngi</td>\n",
       "      <td>188893.088214</td>\n",
       "      <td>1.490172e+09</td>\n",
       "    </tr>\n",
       "    <tr>\n",
       "      <th>8</th>\n",
       "      <td>kuthah</td>\n",
       "      <td>chamba</td>\n",
       "      <td>himachal pradesh</td>\n",
       "      <td>pangi</td>\n",
       "      <td>POLYGON ((76.37041 33.15255, 76.37295 33.15312...</td>\n",
       "      <td>11.0</td>\n",
       "      <td>chamba</td>\n",
       "      <td>himachal pradesh</td>\n",
       "      <td>p&gt;ngi</td>\n",
       "      <td>188893.088214</td>\n",
       "      <td>1.490172e+09</td>\n",
       "    </tr>\n",
       "  </tbody>\n",
       "</table>\n",
       "</div>"
      ],
      "text/plain": [
       "     SOI_Village Distric Name SOI    State Name SOI Tehsil Name SOI  \\\n",
       "2   dhar shinkal           chamba  himachal pradesh           pangi   \n",
       "3  sural bhatori           chamba  himachal pradesh           pangi   \n",
       "6            tai           chamba  himachal pradesh           pangi   \n",
       "7        chaloli           chamba  himachal pradesh           pangi   \n",
       "8         kuthah           chamba  himachal pradesh           pangi   \n",
       "\n",
       "                                            geometry  index_right District  \\\n",
       "2  POLYGON ((76.52521 33.19414, 76.52596 33.19418...         11.0   chamba   \n",
       "3  POLYGON ((76.46151 33.17813, 76.46635 33.17894...         11.0   chamba   \n",
       "6  POLYGON ((76.43819 33.17915, 76.44485 33.17832...         11.0   chamba   \n",
       "7  POLYGON ((76.37752 33.16003, 76.38194 33.16366...         11.0   chamba   \n",
       "8  POLYGON ((76.37041 33.15255, 76.37295 33.15312...         11.0   chamba   \n",
       "\n",
       "              STATE TEHSIL     Shape_Leng    Shape_Area  \n",
       "2  himachal pradesh  p>ngi  188893.088214  1.490172e+09  \n",
       "3  himachal pradesh  p>ngi  188893.088214  1.490172e+09  \n",
       "6  himachal pradesh  p>ngi  188893.088214  1.490172e+09  \n",
       "7  himachal pradesh  p>ngi  188893.088214  1.490172e+09  \n",
       "8  himachal pradesh  p>ngi  188893.088214  1.490172e+09  "
      ]
     },
     "execution_count": 15,
     "metadata": {},
     "output_type": "execute_result"
    }
   ],
   "source": [
    "villages_within_tehsil.head()"
   ]
  },
  {
   "cell_type": "code",
   "execution_count": 16,
   "metadata": {},
   "outputs": [
    {
     "data": {
      "text/plain": [
       "State Name SOI\n",
       "uttarpradesh        77554\n",
       "orissa              43422\n",
       "madhya pradesh      42015\n",
       "bihar               37967\n",
       "west bengal         34724\n",
       "maharashtra         32900\n",
       "rajasthan           28986\n",
       "jharkhand           24072\n",
       "karnataka           22062\n",
       "assam               17092\n",
       "uttranchal          13647\n",
       "chhattisgarh        13389\n",
       "andhra pradesh      11230\n",
       "gujarat             10917\n",
       "tamil nadu          10118\n",
       "punjab               8756\n",
       "himachal pradesh     7825\n",
       "haryana              4670\n",
       "kerala                546\n",
       "baleshwar               1\n",
       "Name: count, dtype: int64"
      ]
     },
     "execution_count": 16,
     "metadata": {},
     "output_type": "execute_result"
    }
   ],
   "source": [
    "villages_within_tehsil['State Name SOI'].value_counts()"
   ]
  },
  {
   "cell_type": "code",
   "execution_count": 17,
   "metadata": {},
   "outputs": [],
   "source": [
    "centroid_file = gpd.read_file('/home/inductive_anks/Machine Learning/Yield-Prediction/Internship/Data/Centroid_File/coc_2008_2020_v1.shp')"
   ]
  },
  {
   "cell_type": "code",
   "execution_count": 18,
   "metadata": {},
   "outputs": [
    {
     "data": {
      "text/html": [
       "<div>\n",
       "<style scoped>\n",
       "    .dataframe tbody tr th:only-of-type {\n",
       "        vertical-align: middle;\n",
       "    }\n",
       "\n",
       "    .dataframe tbody tr th {\n",
       "        vertical-align: top;\n",
       "    }\n",
       "\n",
       "    .dataframe thead th {\n",
       "        text-align: right;\n",
       "    }\n",
       "</style>\n",
       "<table border=\"1\" class=\"dataframe\">\n",
       "  <thead>\n",
       "    <tr style=\"text-align: right;\">\n",
       "      <th></th>\n",
       "      <th>state</th>\n",
       "      <th>year</th>\n",
       "      <th>zone</th>\n",
       "      <th>dtnmcoc</th>\n",
       "      <th>slnococ</th>\n",
       "      <th>tehnmcoc</th>\n",
       "      <th>vilnmcoc</th>\n",
       "      <th>sdnm_11</th>\n",
       "      <th>geometry</th>\n",
       "    </tr>\n",
       "  </thead>\n",
       "  <tbody>\n",
       "    <tr>\n",
       "      <th>0</th>\n",
       "      <td>Bihar</td>\n",
       "      <td>2008-11</td>\n",
       "      <td>1</td>\n",
       "      <td>Samastipur</td>\n",
       "      <td>1</td>\n",
       "      <td>Samastipur</td>\n",
       "      <td>Fatehpur</td>\n",
       "      <td>Samastipur</td>\n",
       "      <td>POINT (85.74868 25.8446)</td>\n",
       "    </tr>\n",
       "    <tr>\n",
       "      <th>1</th>\n",
       "      <td>Bihar</td>\n",
       "      <td>2008-11</td>\n",
       "      <td>1</td>\n",
       "      <td>Samastipur</td>\n",
       "      <td>2</td>\n",
       "      <td>Samastipur</td>\n",
       "      <td>Muktapur</td>\n",
       "      <td>Samastipur</td>\n",
       "      <td>POINT (85.75294 25.8497)</td>\n",
       "    </tr>\n",
       "    <tr>\n",
       "      <th>2</th>\n",
       "      <td>Bihar</td>\n",
       "      <td>2008-11</td>\n",
       "      <td>1</td>\n",
       "      <td>Samastipur</td>\n",
       "      <td>3</td>\n",
       "      <td>Dalsingsarai</td>\n",
       "      <td>Banghara</td>\n",
       "      <td>Dalsinghsarai</td>\n",
       "      <td>POINT (85.81624 25.66342)</td>\n",
       "    </tr>\n",
       "    <tr>\n",
       "      <th>3</th>\n",
       "      <td>Bihar</td>\n",
       "      <td>2008-11</td>\n",
       "      <td>1</td>\n",
       "      <td>Madhubani</td>\n",
       "      <td>4</td>\n",
       "      <td>Madhubani</td>\n",
       "      <td>Saurath</td>\n",
       "      <td>Madhubani</td>\n",
       "      <td>POINT (86.05196 26.3594)</td>\n",
       "    </tr>\n",
       "    <tr>\n",
       "      <th>4</th>\n",
       "      <td>Bihar</td>\n",
       "      <td>2008-11</td>\n",
       "      <td>1</td>\n",
       "      <td>Madhubani</td>\n",
       "      <td>4</td>\n",
       "      <td>Madhubani</td>\n",
       "      <td>Saurath</td>\n",
       "      <td>Madhubani</td>\n",
       "      <td>POINT (86.06495 26.38378)</td>\n",
       "    </tr>\n",
       "  </tbody>\n",
       "</table>\n",
       "</div>"
      ],
      "text/plain": [
       "   state     year zone     dtnmcoc slnococ      tehnmcoc  vilnmcoc  \\\n",
       "0  Bihar  2008-11    1  Samastipur       1    Samastipur  Fatehpur   \n",
       "1  Bihar  2008-11    1  Samastipur       2    Samastipur  Muktapur   \n",
       "2  Bihar  2008-11    1  Samastipur       3  Dalsingsarai  Banghara   \n",
       "3  Bihar  2008-11    1   Madhubani       4     Madhubani   Saurath   \n",
       "4  Bihar  2008-11    1   Madhubani       4     Madhubani   Saurath   \n",
       "\n",
       "         sdnm_11                   geometry  \n",
       "0     Samastipur   POINT (85.74868 25.8446)  \n",
       "1     Samastipur   POINT (85.75294 25.8497)  \n",
       "2  Dalsinghsarai  POINT (85.81624 25.66342)  \n",
       "3      Madhubani   POINT (86.05196 26.3594)  \n",
       "4      Madhubani  POINT (86.06495 26.38378)  "
      ]
     },
     "execution_count": 18,
     "metadata": {},
     "output_type": "execute_result"
    }
   ],
   "source": [
    "centroid_file.head()"
   ]
  },
  {
   "cell_type": "code",
   "execution_count": 19,
   "metadata": {},
   "outputs": [
    {
     "name": "stderr",
     "output_type": "stream",
     "text": [
      "/tmp/ipykernel_5363/3480053442.py:1: FutureWarning: DataFrame.applymap has been deprecated. Use DataFrame.map instead.\n",
      "  centroid_file = centroid_file.applymap(lambda x: x.lower() if isinstance(x, str) else x)\n"
     ]
    }
   ],
   "source": [
    "centroid_file = centroid_file.applymap(lambda x: x.lower() if isinstance(x, str) else x)"
   ]
  },
  {
   "cell_type": "code",
   "execution_count": 20,
   "metadata": {},
   "outputs": [
    {
     "data": {
      "text/html": [
       "<div>\n",
       "<style scoped>\n",
       "    .dataframe tbody tr th:only-of-type {\n",
       "        vertical-align: middle;\n",
       "    }\n",
       "\n",
       "    .dataframe tbody tr th {\n",
       "        vertical-align: top;\n",
       "    }\n",
       "\n",
       "    .dataframe thead th {\n",
       "        text-align: right;\n",
       "    }\n",
       "</style>\n",
       "<table border=\"1\" class=\"dataframe\">\n",
       "  <thead>\n",
       "    <tr style=\"text-align: right;\">\n",
       "      <th></th>\n",
       "      <th>state</th>\n",
       "      <th>year</th>\n",
       "      <th>zone</th>\n",
       "      <th>dtnmcoc</th>\n",
       "      <th>slnococ</th>\n",
       "      <th>tehnmcoc</th>\n",
       "      <th>vilnmcoc</th>\n",
       "      <th>sdnm_11</th>\n",
       "      <th>geometry</th>\n",
       "    </tr>\n",
       "  </thead>\n",
       "  <tbody>\n",
       "    <tr>\n",
       "      <th>0</th>\n",
       "      <td>bihar</td>\n",
       "      <td>2008-11</td>\n",
       "      <td>1</td>\n",
       "      <td>samastipur</td>\n",
       "      <td>1</td>\n",
       "      <td>samastipur</td>\n",
       "      <td>fatehpur</td>\n",
       "      <td>samastipur</td>\n",
       "      <td>POINT (85.74868 25.8446)</td>\n",
       "    </tr>\n",
       "    <tr>\n",
       "      <th>1</th>\n",
       "      <td>bihar</td>\n",
       "      <td>2008-11</td>\n",
       "      <td>1</td>\n",
       "      <td>samastipur</td>\n",
       "      <td>2</td>\n",
       "      <td>samastipur</td>\n",
       "      <td>muktapur</td>\n",
       "      <td>samastipur</td>\n",
       "      <td>POINT (85.75294 25.8497)</td>\n",
       "    </tr>\n",
       "    <tr>\n",
       "      <th>2</th>\n",
       "      <td>bihar</td>\n",
       "      <td>2008-11</td>\n",
       "      <td>1</td>\n",
       "      <td>samastipur</td>\n",
       "      <td>3</td>\n",
       "      <td>dalsingsarai</td>\n",
       "      <td>banghara</td>\n",
       "      <td>dalsinghsarai</td>\n",
       "      <td>POINT (85.81624 25.66342)</td>\n",
       "    </tr>\n",
       "    <tr>\n",
       "      <th>3</th>\n",
       "      <td>bihar</td>\n",
       "      <td>2008-11</td>\n",
       "      <td>1</td>\n",
       "      <td>madhubani</td>\n",
       "      <td>4</td>\n",
       "      <td>madhubani</td>\n",
       "      <td>saurath</td>\n",
       "      <td>madhubani</td>\n",
       "      <td>POINT (86.05196 26.3594)</td>\n",
       "    </tr>\n",
       "    <tr>\n",
       "      <th>4</th>\n",
       "      <td>bihar</td>\n",
       "      <td>2008-11</td>\n",
       "      <td>1</td>\n",
       "      <td>madhubani</td>\n",
       "      <td>4</td>\n",
       "      <td>madhubani</td>\n",
       "      <td>saurath</td>\n",
       "      <td>madhubani</td>\n",
       "      <td>POINT (86.06495 26.38378)</td>\n",
       "    </tr>\n",
       "  </tbody>\n",
       "</table>\n",
       "</div>"
      ],
      "text/plain": [
       "   state     year zone     dtnmcoc slnococ      tehnmcoc  vilnmcoc  \\\n",
       "0  bihar  2008-11    1  samastipur       1    samastipur  fatehpur   \n",
       "1  bihar  2008-11    1  samastipur       2    samastipur  muktapur   \n",
       "2  bihar  2008-11    1  samastipur       3  dalsingsarai  banghara   \n",
       "3  bihar  2008-11    1   madhubani       4     madhubani   saurath   \n",
       "4  bihar  2008-11    1   madhubani       4     madhubani   saurath   \n",
       "\n",
       "         sdnm_11                   geometry  \n",
       "0     samastipur   POINT (85.74868 25.8446)  \n",
       "1     samastipur   POINT (85.75294 25.8497)  \n",
       "2  dalsinghsarai  POINT (85.81624 25.66342)  \n",
       "3      madhubani   POINT (86.05196 26.3594)  \n",
       "4      madhubani  POINT (86.06495 26.38378)  "
      ]
     },
     "execution_count": 20,
     "metadata": {},
     "output_type": "execute_result"
    }
   ],
   "source": [
    "centroid_file.head()"
   ]
  },
  {
   "cell_type": "code",
   "execution_count": 21,
   "metadata": {},
   "outputs": [],
   "source": [
    "villages_within_tehsil_raj = villages_within_tehsil[villages_within_tehsil['State Name SOI'] == 'rajasthan']"
   ]
  },
  {
   "cell_type": "code",
   "execution_count": 22,
   "metadata": {},
   "outputs": [],
   "source": [
    "joined_df_raj = joined_df[joined_df['State Name SOI'] == 'rajasthan']"
   ]
  },
  {
   "cell_type": "code",
   "execution_count": 23,
   "metadata": {},
   "outputs": [],
   "source": [
    "centroid_file_raj = centroid_file[centroid_file['state'] == 'rajasthan']"
   ]
  },
  {
   "cell_type": "code",
   "execution_count": 24,
   "metadata": {},
   "outputs": [
    {
     "data": {
      "text/plain": [
       "(41604, 11)"
      ]
     },
     "execution_count": 24,
     "metadata": {},
     "output_type": "execute_result"
    }
   ],
   "source": [
    "joined_df_raj.shape"
   ]
  },
  {
   "cell_type": "code",
   "execution_count": 25,
   "metadata": {},
   "outputs": [
    {
     "data": {
      "text/plain": [
       "(28986, 11)"
      ]
     },
     "execution_count": 25,
     "metadata": {},
     "output_type": "execute_result"
    }
   ],
   "source": [
    "villages_within_tehsil_raj.shape"
   ]
  },
  {
   "cell_type": "code",
   "execution_count": 26,
   "metadata": {},
   "outputs": [
    {
     "data": {
      "text/plain": [
       "(263, 9)"
      ]
     },
     "execution_count": 26,
     "metadata": {},
     "output_type": "execute_result"
    }
   ],
   "source": [
    "centroid_file_raj.shape"
   ]
  },
  {
   "cell_type": "code",
   "execution_count": 27,
   "metadata": {},
   "outputs": [],
   "source": [
    "gdf_within = gpd.sjoin(centroid_file_raj, df_SOI_village_raj, how=\"inner\", predicate=\"within\")\n"
   ]
  },
  {
   "cell_type": "code",
   "execution_count": 28,
   "metadata": {},
   "outputs": [
    {
     "data": {
      "text/plain": [
       "(261, 14)"
      ]
     },
     "execution_count": 28,
     "metadata": {},
     "output_type": "execute_result"
    }
   ],
   "source": [
    "gdf_within.shape"
   ]
  },
  {
   "cell_type": "code",
   "execution_count": 29,
   "metadata": {},
   "outputs": [
    {
     "data": {
      "text/html": [
       "<div>\n",
       "<style scoped>\n",
       "    .dataframe tbody tr th:only-of-type {\n",
       "        vertical-align: middle;\n",
       "    }\n",
       "\n",
       "    .dataframe tbody tr th {\n",
       "        vertical-align: top;\n",
       "    }\n",
       "\n",
       "    .dataframe thead th {\n",
       "        text-align: right;\n",
       "    }\n",
       "</style>\n",
       "<table border=\"1\" class=\"dataframe\">\n",
       "  <thead>\n",
       "    <tr style=\"text-align: right;\">\n",
       "      <th></th>\n",
       "      <th>state</th>\n",
       "      <th>year</th>\n",
       "      <th>zone</th>\n",
       "      <th>dtnmcoc</th>\n",
       "      <th>slnococ</th>\n",
       "      <th>tehnmcoc</th>\n",
       "      <th>vilnmcoc</th>\n",
       "      <th>sdnm_11</th>\n",
       "      <th>geometry</th>\n",
       "      <th>index_right</th>\n",
       "      <th>SOI_Village</th>\n",
       "      <th>Distric Name SOI</th>\n",
       "      <th>State Name SOI</th>\n",
       "      <th>Tehsil Name SOI</th>\n",
       "    </tr>\n",
       "  </thead>\n",
       "  <tbody>\n",
       "    <tr>\n",
       "      <th>2602</th>\n",
       "      <td>rajasthan</td>\n",
       "      <td>2008-11</td>\n",
       "      <td>1</td>\n",
       "      <td>barmer</td>\n",
       "      <td>1</td>\n",
       "      <td>barmer</td>\n",
       "      <td>shivkar</td>\n",
       "      <td>barmer</td>\n",
       "      <td>POINT (71.49015 25.68663)</td>\n",
       "      <td>342267</td>\n",
       "      <td>shivkar</td>\n",
       "      <td>barmer</td>\n",
       "      <td>rajasthan</td>\n",
       "      <td>barmer</td>\n",
       "    </tr>\n",
       "    <tr>\n",
       "      <th>2603</th>\n",
       "      <td>rajasthan</td>\n",
       "      <td>2008-11</td>\n",
       "      <td>1</td>\n",
       "      <td>barmer</td>\n",
       "      <td>2</td>\n",
       "      <td>pachpadra</td>\n",
       "      <td>asotra</td>\n",
       "      <td>pachpadra</td>\n",
       "      <td>POINT (72.28559 25.74646)</td>\n",
       "      <td>341834</td>\n",
       "      <td>asotara</td>\n",
       "      <td>barmer</td>\n",
       "      <td>rajasthan</td>\n",
       "      <td>pachpadra</td>\n",
       "    </tr>\n",
       "  </tbody>\n",
       "</table>\n",
       "</div>"
      ],
      "text/plain": [
       "          state     year zone dtnmcoc slnococ   tehnmcoc vilnmcoc    sdnm_11  \\\n",
       "2602  rajasthan  2008-11    1  barmer       1     barmer  shivkar     barmer   \n",
       "2603  rajasthan  2008-11    1  barmer       2  pachpadra   asotra  pachpadra   \n",
       "\n",
       "                       geometry  index_right SOI_Village Distric Name SOI  \\\n",
       "2602  POINT (71.49015 25.68663)       342267     shivkar           barmer   \n",
       "2603  POINT (72.28559 25.74646)       341834     asotara           barmer   \n",
       "\n",
       "     State Name SOI Tehsil Name SOI  \n",
       "2602      rajasthan          barmer  \n",
       "2603      rajasthan       pachpadra  "
      ]
     },
     "execution_count": 29,
     "metadata": {},
     "output_type": "execute_result"
    }
   ],
   "source": [
    "gdf_within.head(2)"
   ]
  },
  {
   "cell_type": "code",
   "execution_count": 30,
   "metadata": {},
   "outputs": [
    {
     "data": {
      "text/html": [
       "<div>\n",
       "<style scoped>\n",
       "    .dataframe tbody tr th:only-of-type {\n",
       "        vertical-align: middle;\n",
       "    }\n",
       "\n",
       "    .dataframe tbody tr th {\n",
       "        vertical-align: top;\n",
       "    }\n",
       "\n",
       "    .dataframe thead th {\n",
       "        text-align: right;\n",
       "    }\n",
       "</style>\n",
       "<table border=\"1\" class=\"dataframe\">\n",
       "  <thead>\n",
       "    <tr style=\"text-align: right;\">\n",
       "      <th></th>\n",
       "      <th>SOI_Village</th>\n",
       "      <th>Distric Name SOI</th>\n",
       "      <th>State Name SOI</th>\n",
       "      <th>Tehsil Name SOI</th>\n",
       "      <th>geometry</th>\n",
       "      <th>index_right</th>\n",
       "      <th>District</th>\n",
       "      <th>STATE</th>\n",
       "      <th>TEHSIL</th>\n",
       "      <th>Shape_Leng</th>\n",
       "      <th>Shape_Area</th>\n",
       "    </tr>\n",
       "  </thead>\n",
       "  <tbody>\n",
       "    <tr>\n",
       "      <th>317167</th>\n",
       "      <td>4a</td>\n",
       "      <td>ganganagar</td>\n",
       "      <td>rajasthan</td>\n",
       "      <td>ganganagar</td>\n",
       "      <td>POLYGON ((73.94984 30.17331, 73.95593 30.17792...</td>\n",
       "      <td>2221.0</td>\n",
       "      <td>gang&gt;nagar</td>\n",
       "      <td>rajasthan</td>\n",
       "      <td>gang&gt;nagar</td>\n",
       "      <td>218494.607559</td>\n",
       "      <td>9.533389e+08</td>\n",
       "    </tr>\n",
       "    <tr>\n",
       "      <th>317168</th>\n",
       "      <td>3a</td>\n",
       "      <td>ganganagar</td>\n",
       "      <td>rajasthan</td>\n",
       "      <td>ganganagar</td>\n",
       "      <td>POLYGON ((73.94984 30.17331, 73.95063 30.17151...</td>\n",
       "      <td>2221.0</td>\n",
       "      <td>gang&gt;nagar</td>\n",
       "      <td>rajasthan</td>\n",
       "      <td>gang&gt;nagar</td>\n",
       "      <td>218494.607559</td>\n",
       "      <td>9.533389e+08</td>\n",
       "    </tr>\n",
       "    <tr>\n",
       "      <th>317170</th>\n",
       "      <td>2   b</td>\n",
       "      <td>ganganagar</td>\n",
       "      <td>rajasthan</td>\n",
       "      <td>ganganagar</td>\n",
       "      <td>POLYGON ((73.9321 30.14988, 73.93232 30.15061,...</td>\n",
       "      <td>2221.0</td>\n",
       "      <td>gang&gt;nagar</td>\n",
       "      <td>rajasthan</td>\n",
       "      <td>gang&gt;nagar</td>\n",
       "      <td>218494.607559</td>\n",
       "      <td>9.533389e+08</td>\n",
       "    </tr>\n",
       "  </tbody>\n",
       "</table>\n",
       "</div>"
      ],
      "text/plain": [
       "       SOI_Village Distric Name SOI State Name SOI Tehsil Name SOI  \\\n",
       "317167          4a       ganganagar      rajasthan      ganganagar   \n",
       "317168          3a       ganganagar      rajasthan      ganganagar   \n",
       "317170       2   b       ganganagar      rajasthan      ganganagar   \n",
       "\n",
       "                                                 geometry  index_right  \\\n",
       "317167  POLYGON ((73.94984 30.17331, 73.95593 30.17792...       2221.0   \n",
       "317168  POLYGON ((73.94984 30.17331, 73.95063 30.17151...       2221.0   \n",
       "317170  POLYGON ((73.9321 30.14988, 73.93232 30.15061,...       2221.0   \n",
       "\n",
       "          District      STATE      TEHSIL     Shape_Leng    Shape_Area  \n",
       "317167  gang>nagar  rajasthan  gang>nagar  218494.607559  9.533389e+08  \n",
       "317168  gang>nagar  rajasthan  gang>nagar  218494.607559  9.533389e+08  \n",
       "317170  gang>nagar  rajasthan  gang>nagar  218494.607559  9.533389e+08  "
      ]
     },
     "execution_count": 30,
     "metadata": {},
     "output_type": "execute_result"
    }
   ],
   "source": [
    "villages_within_tehsil_raj.head(3)"
   ]
  },
  {
   "cell_type": "code",
   "execution_count": 36,
   "metadata": {},
   "outputs": [
    {
     "data": {
      "text/plain": [
       "(28986, 12)"
      ]
     },
     "execution_count": 36,
     "metadata": {},
     "output_type": "execute_result"
    }
   ],
   "source": [
    "villages_within_tehsil_raj.shape"
   ]
  },
  {
   "cell_type": "code",
   "execution_count": 37,
   "metadata": {},
   "outputs": [
    {
     "name": "stderr",
     "output_type": "stream",
     "text": [
      "/home/inductive_anks/.local/lib/python3.12/site-packages/geopandas/geodataframe.py:1819: SettingWithCopyWarning: \n",
      "A value is trying to be set on a copy of a slice from a DataFrame.\n",
      "Try using .loc[row_indexer,col_indexer] = value instead\n",
      "\n",
      "See the caveats in the documentation: https://pandas.pydata.org/pandas-docs/stable/user_guide/indexing.html#returning-a-view-versus-a-copy\n",
      "  super().__setitem__(key, value)\n"
     ]
    }
   ],
   "source": [
    "gdf_within['combined_key'] = gdf_within['SOI_Village'] + '_' + gdf_within['Distric Name SOI']\n",
    "villages_within_tehsil_raj['combined_key'] = villages_within_tehsil_raj['SOI_Village'] + '_' + villages_within_tehsil_raj['Distric Name SOI']\n",
    "\n",
    "matching_villages = villages_within_tehsil_raj[villages_within_tehsil_raj['combined_key'].isin(gdf_within['combined_key'])]\n"
   ]
  },
  {
   "cell_type": "code",
   "execution_count": 44,
   "metadata": {},
   "outputs": [],
   "source": [
    "non_matching_villages = gdf_within[~gdf_within['combined_key'].isin(villages_within_tehsil_raj['combined_key'])]"
   ]
  },
  {
   "cell_type": "code",
   "execution_count": 45,
   "metadata": {},
   "outputs": [
    {
     "data": {
      "text/plain": [
       "(80, 15)"
      ]
     },
     "execution_count": 45,
     "metadata": {},
     "output_type": "execute_result"
    }
   ],
   "source": [
    "non_matching_villages.shape"
   ]
  },
  {
   "cell_type": "code",
   "execution_count": 38,
   "metadata": {},
   "outputs": [
    {
     "data": {
      "text/plain": [
       "(193, 12)"
      ]
     },
     "execution_count": 38,
     "metadata": {},
     "output_type": "execute_result"
    }
   ],
   "source": [
    "matching_villages.shape"
   ]
  },
  {
   "cell_type": "code",
   "execution_count": 40,
   "metadata": {},
   "outputs": [
    {
     "data": {
      "text/html": [
       "<div>\n",
       "<style scoped>\n",
       "    .dataframe tbody tr th:only-of-type {\n",
       "        vertical-align: middle;\n",
       "    }\n",
       "\n",
       "    .dataframe tbody tr th {\n",
       "        vertical-align: top;\n",
       "    }\n",
       "\n",
       "    .dataframe thead th {\n",
       "        text-align: right;\n",
       "    }\n",
       "</style>\n",
       "<table border=\"1\" class=\"dataframe\">\n",
       "  <thead>\n",
       "    <tr style=\"text-align: right;\">\n",
       "      <th></th>\n",
       "      <th>SOI_Village</th>\n",
       "      <th>Distric Name SOI</th>\n",
       "      <th>State Name SOI</th>\n",
       "      <th>Tehsil Name SOI</th>\n",
       "      <th>geometry</th>\n",
       "      <th>index_right</th>\n",
       "      <th>District</th>\n",
       "      <th>STATE</th>\n",
       "      <th>TEHSIL</th>\n",
       "      <th>Shape_Leng</th>\n",
       "      <th>Shape_Area</th>\n",
       "      <th>combined_key</th>\n",
       "    </tr>\n",
       "  </thead>\n",
       "  <tbody>\n",
       "    <tr>\n",
       "      <th>317455</th>\n",
       "      <td>6   lnp</td>\n",
       "      <td>ganganagar</td>\n",
       "      <td>rajasthan</td>\n",
       "      <td>ganganagar</td>\n",
       "      <td>POLYGON ((73.94756 29.91772, 73.94797 29.91767...</td>\n",
       "      <td>2221.0</td>\n",
       "      <td>gang&gt;nagar</td>\n",
       "      <td>rajasthan</td>\n",
       "      <td>gang&gt;nagar</td>\n",
       "      <td>218494.607559</td>\n",
       "      <td>9.533389e+08</td>\n",
       "      <td>6   lnp_ganganagar</td>\n",
       "    </tr>\n",
       "    <tr>\n",
       "      <th>317992</th>\n",
       "      <td>26  lnp</td>\n",
       "      <td>ganganagar</td>\n",
       "      <td>rajasthan</td>\n",
       "      <td>ganganagar</td>\n",
       "      <td>POLYGON ((73.91582 29.76965, 73.91586 29.76975...</td>\n",
       "      <td>2221.0</td>\n",
       "      <td>gang&gt;nagar</td>\n",
       "      <td>rajasthan</td>\n",
       "      <td>gang&gt;nagar</td>\n",
       "      <td>218494.607559</td>\n",
       "      <td>9.533389e+08</td>\n",
       "      <td>26  lnp_ganganagar</td>\n",
       "    </tr>\n",
       "  </tbody>\n",
       "</table>\n",
       "</div>"
      ],
      "text/plain": [
       "       SOI_Village Distric Name SOI State Name SOI Tehsil Name SOI  \\\n",
       "317455     6   lnp       ganganagar      rajasthan      ganganagar   \n",
       "317992     26  lnp       ganganagar      rajasthan      ganganagar   \n",
       "\n",
       "                                                 geometry  index_right  \\\n",
       "317455  POLYGON ((73.94756 29.91772, 73.94797 29.91767...       2221.0   \n",
       "317992  POLYGON ((73.91582 29.76965, 73.91586 29.76975...       2221.0   \n",
       "\n",
       "          District      STATE      TEHSIL     Shape_Leng    Shape_Area  \\\n",
       "317455  gang>nagar  rajasthan  gang>nagar  218494.607559  9.533389e+08   \n",
       "317992  gang>nagar  rajasthan  gang>nagar  218494.607559  9.533389e+08   \n",
       "\n",
       "              combined_key  \n",
       "317455  6   lnp_ganganagar  \n",
       "317992  26  lnp_ganganagar  "
      ]
     },
     "execution_count": 40,
     "metadata": {},
     "output_type": "execute_result"
    }
   ],
   "source": [
    "matching_villages.head(2)"
   ]
  },
  {
   "cell_type": "code",
   "execution_count": 46,
   "metadata": {},
   "outputs": [
    {
     "data": {
      "text/html": [
       "<div>\n",
       "<style scoped>\n",
       "    .dataframe tbody tr th:only-of-type {\n",
       "        vertical-align: middle;\n",
       "    }\n",
       "\n",
       "    .dataframe tbody tr th {\n",
       "        vertical-align: top;\n",
       "    }\n",
       "\n",
       "    .dataframe thead th {\n",
       "        text-align: right;\n",
       "    }\n",
       "</style>\n",
       "<table border=\"1\" class=\"dataframe\">\n",
       "  <thead>\n",
       "    <tr style=\"text-align: right;\">\n",
       "      <th></th>\n",
       "      <th>state</th>\n",
       "      <th>year</th>\n",
       "      <th>zone</th>\n",
       "      <th>dtnmcoc</th>\n",
       "      <th>slnococ</th>\n",
       "      <th>tehnmcoc</th>\n",
       "      <th>vilnmcoc</th>\n",
       "      <th>sdnm_11</th>\n",
       "      <th>geometry</th>\n",
       "      <th>index_right</th>\n",
       "      <th>SOI_Village</th>\n",
       "      <th>Distric Name SOI</th>\n",
       "      <th>State Name SOI</th>\n",
       "      <th>Tehsil Name SOI</th>\n",
       "      <th>combined_key</th>\n",
       "    </tr>\n",
       "  </thead>\n",
       "  <tbody>\n",
       "    <tr>\n",
       "      <th>2603</th>\n",
       "      <td>rajasthan</td>\n",
       "      <td>2008-11</td>\n",
       "      <td>1</td>\n",
       "      <td>barmer</td>\n",
       "      <td>2</td>\n",
       "      <td>pachpadra</td>\n",
       "      <td>asotra</td>\n",
       "      <td>pachpadra</td>\n",
       "      <td>POINT (72.28559 25.74646)</td>\n",
       "      <td>341834</td>\n",
       "      <td>asotara</td>\n",
       "      <td>barmer</td>\n",
       "      <td>rajasthan</td>\n",
       "      <td>pachpadra</td>\n",
       "      <td>asotara_barmer</td>\n",
       "    </tr>\n",
       "    <tr>\n",
       "      <th>2604</th>\n",
       "      <td>rajasthan</td>\n",
       "      <td>2008-11</td>\n",
       "      <td>1</td>\n",
       "      <td>barmer</td>\n",
       "      <td>3</td>\n",
       "      <td>pachpadra</td>\n",
       "      <td>asara</td>\n",
       "      <td>pachpadra</td>\n",
       "      <td>POINT (72.21618 25.72853)</td>\n",
       "      <td>341930</td>\n",
       "      <td>asara</td>\n",
       "      <td>barmer</td>\n",
       "      <td>rajasthan</td>\n",
       "      <td>pachpadra</td>\n",
       "      <td>asara_barmer</td>\n",
       "    </tr>\n",
       "    <tr>\n",
       "      <th>2605</th>\n",
       "      <td>rajasthan</td>\n",
       "      <td>2008-11</td>\n",
       "      <td>1</td>\n",
       "      <td>jodhpur</td>\n",
       "      <td>4</td>\n",
       "      <td>osian</td>\n",
       "      <td>ummed nager</td>\n",
       "      <td>osian</td>\n",
       "      <td>POINT (73.03006 26.54252)</td>\n",
       "      <td>335802</td>\n",
       "      <td>ummednagar</td>\n",
       "      <td>jodhpur</td>\n",
       "      <td>rajasthan</td>\n",
       "      <td>osian</td>\n",
       "      <td>ummednagar_jodhpur</td>\n",
       "    </tr>\n",
       "    <tr>\n",
       "      <th>2608</th>\n",
       "      <td>rajasthan</td>\n",
       "      <td>2008-11</td>\n",
       "      <td>1</td>\n",
       "      <td>churu</td>\n",
       "      <td>7</td>\n",
       "      <td>ratangarh</td>\n",
       "      <td>parihara</td>\n",
       "      <td>ratangarh</td>\n",
       "      <td>POINT (74.55982 27.91885)</td>\n",
       "      <td>324606</td>\n",
       "      <td>parihara</td>\n",
       "      <td>churu</td>\n",
       "      <td>rajasthan</td>\n",
       "      <td>ratangarh</td>\n",
       "      <td>parihara_churu</td>\n",
       "    </tr>\n",
       "  </tbody>\n",
       "</table>\n",
       "</div>"
      ],
      "text/plain": [
       "          state     year zone  dtnmcoc slnococ   tehnmcoc     vilnmcoc  \\\n",
       "2603  rajasthan  2008-11    1   barmer       2  pachpadra       asotra   \n",
       "2604  rajasthan  2008-11    1   barmer       3  pachpadra        asara   \n",
       "2605  rajasthan  2008-11    1  jodhpur       4      osian  ummed nager   \n",
       "2608  rajasthan  2008-11    1    churu       7  ratangarh     parihara   \n",
       "\n",
       "        sdnm_11                   geometry  index_right SOI_Village  \\\n",
       "2603  pachpadra  POINT (72.28559 25.74646)       341834     asotara   \n",
       "2604  pachpadra  POINT (72.21618 25.72853)       341930       asara   \n",
       "2605      osian  POINT (73.03006 26.54252)       335802  ummednagar   \n",
       "2608  ratangarh  POINT (74.55982 27.91885)       324606    parihara   \n",
       "\n",
       "     Distric Name SOI State Name SOI Tehsil Name SOI        combined_key  \n",
       "2603           barmer      rajasthan       pachpadra      asotara_barmer  \n",
       "2604           barmer      rajasthan       pachpadra        asara_barmer  \n",
       "2605          jodhpur      rajasthan           osian  ummednagar_jodhpur  \n",
       "2608            churu      rajasthan       ratangarh      parihara_churu  "
      ]
     },
     "execution_count": 46,
     "metadata": {},
     "output_type": "execute_result"
    }
   ],
   "source": [
    "non_matching_villages.head(4)"
   ]
  },
  {
   "cell_type": "markdown",
   "metadata": {},
   "source": [
    "# Adding an Indicator variable in Centroid File."
   ]
  },
  {
   "cell_type": "code",
   "execution_count": null,
   "metadata": {},
   "outputs": [],
   "source": []
  }
 ],
 "metadata": {
  "kernelspec": {
   "display_name": "Python 3",
   "language": "python",
   "name": "python3"
  },
  "language_info": {
   "codemirror_mode": {
    "name": "ipython",
    "version": 3
   },
   "file_extension": ".py",
   "mimetype": "text/x-python",
   "name": "python",
   "nbconvert_exporter": "python",
   "pygments_lexer": "ipython3",
   "version": "3.12.4"
  }
 },
 "nbformat": 4,
 "nbformat_minor": 2
}
